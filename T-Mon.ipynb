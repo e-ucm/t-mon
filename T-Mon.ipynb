{
 "cells": [
  {
   "cell_type": "markdown",
   "metadata": {},
   "source": [
    "# T-Mon: Traces Monitor in xAPI-SG"
   ]
  },
  {
   "cell_type": "markdown",
   "metadata": {},
   "source": [
    "### T-Mon is a set of Jupyter Notebooks to process, analyze and present visualizations of data following the Experience API for Serious Games Profile (xAPI-SG)\n",
    "\n",
    "The following code:\n",
    "- expects as input a **JSON file with a list of xAPI-SG statements**\n",
    "- **analyzes the xAPI-SG statements** and fills an adaptation of the **default set of visualizations**\n",
    "https://github.com/e-ucm/rage-analytics/wiki/Default-visualizations-teacher\n",
    "\n",
    "For more information, see **T-Mon GitHub page: https://github.com/e-ucm/t-mon**\n",
    "\n",
    "\n",
    "\n",
    "**xAPI-SG main reference:**\n",
    "*Applying standards to systematize learning analytics in serious games.\n",
    "Ángel Serrano-Laguna, Iván Martínez-Ortiz, Jason Haag, Damon Regan, Andy Johnson, Baltasar Fernández-Manjón\n",
    "Computer Standards & Interfaces 50 (2017) 116–123, http://dx.doi.org/10.1016/j.csi.2016.09.014*\n",
    "\n",
    "Further info on GitHub wiki page: https://github.com/e-ucm/rage-analytics/wiki/xAPI-SG-Profile"
   ]
  },
  {
   "cell_type": "code",
   "execution_count": 1,
   "metadata": {
    "pycharm": {
     "name": "#%%\n"
    }
   },
   "outputs": [
    {
     "ename": "ModuleNotFoundError",
     "evalue": "No module named 'ipywidgets'",
     "output_type": "error",
     "traceback": [
      "\u001b[0;31m---------------------------------------------------------------------------\u001b[0m",
      "\u001b[0;31mModuleNotFoundError\u001b[0m                       Traceback (most recent call last)",
      "\u001b[1;32m/workspaces/t-mon/T-Mon.ipynb Cell 3\u001b[0m line \u001b[0;36m1\n\u001b[1;32m     <a href='vscode-notebook-cell://codespaces%2Bsuper-duper-acorn-7rqx9jwg7rhr9rx/workspaces/t-mon/T-Mon.ipynb#W2sdnNjb2RlLXJlbW90ZQ%3D%3D?line=9'>10</a>\u001b[0m \u001b[39mfrom\u001b[39;00m \u001b[39mcollections\u001b[39;00m \u001b[39mimport\u001b[39;00m Counter\n\u001b[1;32m     <a href='vscode-notebook-cell://codespaces%2Bsuper-duper-acorn-7rqx9jwg7rhr9rx/workspaces/t-mon/T-Mon.ipynb#W2sdnNjb2RlLXJlbW90ZQ%3D%3D?line=10'>11</a>\u001b[0m \u001b[39mimport\u001b[39;00m \u001b[39mpandas\u001b[39;00m \u001b[39mas\u001b[39;00m \u001b[39mpd\u001b[39;00m\n\u001b[0;32m---> <a href='vscode-notebook-cell://codespaces%2Bsuper-duper-acorn-7rqx9jwg7rhr9rx/workspaces/t-mon/T-Mon.ipynb#W2sdnNjb2RlLXJlbW90ZQ%3D%3D?line=11'>12</a>\u001b[0m \u001b[39mfrom\u001b[39;00m \u001b[39mipywidgets\u001b[39;00m \u001b[39mimport\u001b[39;00m interact, interactive, fixed, HBox, Layout,VBox\n\u001b[1;32m     <a href='vscode-notebook-cell://codespaces%2Bsuper-duper-acorn-7rqx9jwg7rhr9rx/workspaces/t-mon/T-Mon.ipynb#W2sdnNjb2RlLXJlbW90ZQ%3D%3D?line=12'>13</a>\u001b[0m \u001b[39mimport\u001b[39;00m \u001b[39mipywidgets\u001b[39;00m \u001b[39mas\u001b[39;00m \u001b[39mwidgets\u001b[39;00m\n\u001b[1;32m     <a href='vscode-notebook-cell://codespaces%2Bsuper-duper-acorn-7rqx9jwg7rhr9rx/workspaces/t-mon/T-Mon.ipynb#W2sdnNjb2RlLXJlbW90ZQ%3D%3D?line=13'>14</a>\u001b[0m \u001b[39mfrom\u001b[39;00m \u001b[39mIPython\u001b[39;00m\u001b[39m.\u001b[39;00m\u001b[39mdisplay\u001b[39;00m \u001b[39mimport\u001b[39;00m display, clear_output\n",
      "\u001b[0;31mModuleNotFoundError\u001b[0m: No module named 'ipywidgets'"
     ]
    }
   ],
   "source": [
    "local = False # Set to True if working with a local-hoster Jupyter server, False if working with a web-hosted Jupyter server\n",
    "storage = 'file'\n",
    "import json\n",
    "import numpy as np\n",
    "from datetime import datetime, timedelta\n",
    "import copy\n",
    "import math\n",
    "import matplotlib.dates as mdates\n",
    "import matplotlib.pyplot as plt\n",
    "from collections import Counter\n",
    "import pandas as pd\n",
    "from ipywidgets import interact, interactive, fixed, HBox, Layout,VBox\n",
    "import ipywidgets as widgets\n",
    "from IPython.display import display, clear_output\n",
    "import pprint\n",
    "plt.style.use('default')"
   ]
  },
  {
   "cell_type": "markdown",
   "metadata": {},
   "source": [
    "***Display all* function** is constructing an app to display all vis"
   ]
  },
  {
   "cell_type": "code",
   "execution_count": null,
   "metadata": {
    "pycharm": {
     "name": "#%%\n"
    }
   },
   "outputs": [],
   "source": [
    "players_info = {} # dict with players info\n",
    "global timeformats\n",
    "timeformats=['%Y-%m-%dT%H:%M:%SZ','%Y-%m-%dT%H:%M:%S.%fZ'] #array of time format\n",
    "\n",
    "%run fileBrowserAndUploadButtonToLoadProcessStatements.ipynb\n",
    "%run vis/helpersFunctions/clearFigMatplotlib.ipynb\n",
    "%run globalsSelectors.ipynb\n",
    "\n",
    "header=widgets.HTML(\"<h1>T-MON</h1> <h2>Select JSON xAPI-SG file to process and see visualisations</h2>\")\n",
    "footer=widgets.HTML(\"<h4>T-MON, by eUCM research team</h4>\")\n",
    "if storage == 'simva' :\n",
    "    app=VBox([header,simvaWidget.widget(),footer])\n",
    "    display(app)\n",
    "else:\n",
    "    if local:\n",
    "        app=VBox([header,fileBrowser.widget(),footer])\n",
    "        display(app)\n",
    "    else:\n",
    "        app=VBox([header,uploadButtonApp,footer])\n",
    "        display(app)\n",
    "        with outTabs:\n",
    "            display_checkboxes()\n",
    "            clear_output(wait=True)\n",
    "        displayvis(None)"
   ]
  }
 ],
 "metadata": {
  "kernelspec": {
   "display_name": "Python 3",
   "language": "python",
   "name": "python3"
  },
  "language_info": {
   "codemirror_mode": {
    "name": "ipython",
    "version": 3
   },
   "file_extension": ".py",
   "mimetype": "text/x-python",
   "name": "python",
   "nbconvert_exporter": "python",
   "pygments_lexer": "ipython3",
   "version": "3.10.8"
  }
 },
 "nbformat": 4,
 "nbformat_minor": 4
}
