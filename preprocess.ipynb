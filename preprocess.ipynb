{
 "cells": [
  {
   "cell_type": "code",
   "execution_count": 57,
   "outputs": [],
   "source": [
    "import json\n",
    "from typing import Dict, Any\n",
    "import numpy as np\n",
    "from datetime import datetime"
   ],
   "metadata": {
    "collapsed": false,
    "pycharm": {
     "name": "#%%\n",
     "is_executing": false
    }
   }
  },
  {
   "cell_type": "code",
   "execution_count": 58,
   "outputs": [],
   "source": [
    "# file with xAPI-SG statements      \n",
    "location=\"./\" # file location\n",
    "file_name=\"conectado_xapi\" # file name\n",
    "\n",
    "start_time = datetime.now() \n",
    "\n",
    "with open(location+file_name+\".json\", 'r', encoding='UTF-8') as f:\n",
    "    file_dict = json.load(f, encoding='UTF-8')\n",
    "    statement_dict=[]\n",
    "    for hit in statements_dict[\"hits\"][\"hits\"] : \n",
    "        if \"_source\" in hit.keys():\n",
    "            if \"statement\" in hit[\"_source\"].keys():\n",
    "                #print(hit[\"_source\"][\"statement\"])\n",
    "                statement_dict.append(hit[\"_source\"][\"statement\"])\n",
    "\n",
    "with open(location+file_name+\"-statement.json\", 'w', encoding='UTF-8') as file:\n",
    "    file.write(json.dumps(statement_dict))\n",
    "end_time = datetime.now()"
   ],
   "metadata": {
    "collapsed": false,
    "pycharm": {
     "name": "#%%\n",
     "is_executing": false
    }
   }
  },
  {
   "cell_type": "code",
   "execution_count": null,
   "outputs": [],
   "source": [
    "\n"
   ],
   "metadata": {
    "collapsed": false,
    "pycharm": {
     "name": "#%%\n"
    }
   }
  }
 ],
 "metadata": {
  "kernelspec": {
   "display_name": "Python 3",
   "language": "python",
   "name": "python3"
  },
  "language_info": {
   "codemirror_mode": {
    "name": "ipython",
    "version": 2
   },
   "file_extension": ".py",
   "mimetype": "text/x-python",
   "name": "python",
   "nbconvert_exporter": "python",
   "pygments_lexer": "ipython2",
   "version": "2.7.6"
  },
  "pycharm": {
   "stem_cell": {
    "cell_type": "raw",
    "source": [],
    "metadata": {
     "collapsed": false
    }
   }
  }
 },
 "nbformat": 4,
 "nbformat_minor": 0
}