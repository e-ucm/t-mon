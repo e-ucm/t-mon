{
 "cells": [
  {
   "cell_type": "code",
   "execution_count": null,
   "metadata": {},
   "outputs": [
    {
     "name": "stderr",
     "output_type": "stream",
     "text": [
      "DEBUG:urllib3.connectionpool:Starting new HTTP connection (1): 127.0.0.1:5000\n",
      "DEBUG:urllib3.connectionpool:Starting new HTTPS connection (1): sso.simva-beta.e-ucm.es:443\n",
      "DEBUG:urllib3.connectionpool:http://127.0.0.1:5000 \"GET /_alive_1ea8b74e-3b5c-4207-a1d4-b4b93d29c2ed HTTP/11\" 500 298\n",
      "DEBUG:urllib3.connectionpool:Starting new HTTP connection (1): 127.0.0.1:5000\n",
      "DEBUG:urllib3.connectionpool:http://127.0.0.1:5000 \"GET /_alive_1ea8b74e-3b5c-4207-a1d4-b4b93d29c2ed HTTP/11\" 500 298\n",
      "DEBUG:urllib3.connectionpool:Starting new HTTP connection (1): 127.0.0.1:5000\n",
      "DEBUG:urllib3.connectionpool:http://127.0.0.1:5000 \"GET /_alive_1ea8b74e-3b5c-4207-a1d4-b4b93d29c2ed HTTP/11\" 500 298\n",
      "DEBUG:urllib3.connectionpool:Starting new HTTP connection (1): 127.0.0.1:5000\n",
      "DEBUG:urllib3.connectionpool:http://127.0.0.1:5000 \"GET /_alive_1ea8b74e-3b5c-4207-a1d4-b4b93d29c2ed HTTP/11\" 500 298\n"
     ]
    },
    {
     "name": "stdout",
     "output_type": "stream",
     "text": [
      "---------------------------------------------------------------------------\n",
      "NotFound                                  Traceback (most recent call last)\n",
      "NotFound: 404 Not Found: The requested URL was not found on the server. If you entered the URL manually please check your spelling and try again.\n",
      "\n",
      "---------------------------------------------------------------------------\n",
      "NotFound                                  Traceback (most recent call last)\n",
      "NotFound: 404 Not Found: The requested URL was not found on the server. If you entered the URL manually please check your spelling and try again.\n",
      "\n",
      "---------------------------------------------------------------------------\n",
      "NotFound                                  Traceback (most recent call last)\n",
      "NotFound: 404 Not Found: The requested URL was not found on the server. If you entered the URL manually please check your spelling and try again.\n",
      "\n",
      "---------------------------------------------------------------------------\n",
      "NotFound                                  Traceback (most recent call last)\n",
      "NotFound: 404 Not Found: The requested URL was not found on the server. If you entered the URL manually please check your spelling and try again.\n",
      "\n"
     ]
    },
    {
     "name": "stderr",
     "output_type": "stream",
     "text": [
      "DEBUG:urllib3.connectionpool:Starting new HTTP connection (1): 127.0.0.1:5000\n",
      "DEBUG:urllib3.connectionpool:http://127.0.0.1:5000 \"GET /_alive_1ea8b74e-3b5c-4207-a1d4-b4b93d29c2ed HTTP/11\" 500 298\n"
     ]
    },
    {
     "name": "stdout",
     "output_type": "stream",
     "text": [
      "---------------------------------------------------------------------------\n",
      "NotFound                                  Traceback (most recent call last)\n",
      "NotFound: 404 Not Found: The requested URL was not found on the server. If you entered the URL manually please check your spelling and try again.\n",
      "\n"
     ]
    },
    {
     "name": "stderr",
     "output_type": "stream",
     "text": [
      "DEBUG:urllib3.connectionpool:Starting new HTTP connection (1): 127.0.0.1:5000\n",
      "DEBUG:urllib3.connectionpool:http://127.0.0.1:5000 \"GET /_alive_1ea8b74e-3b5c-4207-a1d4-b4b93d29c2ed HTTP/11\" 500 298\n"
     ]
    },
    {
     "name": "stdout",
     "output_type": "stream",
     "text": [
      "---------------------------------------------------------------------------\n",
      "NotFound                                  Traceback (most recent call last)\n",
      "NotFound: 404 Not Found: The requested URL was not found on the server. If you entered the URL manually please check your spelling and try again.\n",
      "\n"
     ]
    },
    {
     "name": "stderr",
     "output_type": "stream",
     "text": [
      "DEBUG:urllib3.connectionpool:Starting new HTTP connection (1): 127.0.0.1:5000\n",
      "DEBUG:urllib3.connectionpool:http://127.0.0.1:5000 \"GET /_alive_1ea8b74e-3b5c-4207-a1d4-b4b93d29c2ed HTTP/11\" 500 298\n"
     ]
    },
    {
     "name": "stdout",
     "output_type": "stream",
     "text": [
      "---------------------------------------------------------------------------\n",
      "NotFound                                  Traceback (most recent call last)\n",
      "NotFound: 404 Not Found: The requested URL was not found on the server. If you entered the URL manually please check your spelling and try again.\n",
      "\n"
     ]
    },
    {
     "name": "stderr",
     "output_type": "stream",
     "text": [
      "DEBUG:urllib3.connectionpool:Starting new HTTP connection (1): 127.0.0.1:5000\n",
      "DEBUG:urllib3.connectionpool:http://127.0.0.1:5000 \"GET /_alive_1ea8b74e-3b5c-4207-a1d4-b4b93d29c2ed HTTP/11\" 500 298\n"
     ]
    },
    {
     "name": "stdout",
     "output_type": "stream",
     "text": [
      "---------------------------------------------------------------------------\n",
      "NotFound                                  Traceback (most recent call last)\n",
      "NotFound: 404 Not Found: The requested URL was not found on the server. If you entered the URL manually please check your spelling and try again.\n",
      "\n"
     ]
    },
    {
     "name": "stderr",
     "output_type": "stream",
     "text": [
      "DEBUG:urllib3.connectionpool:Starting new HTTP connection (1): 127.0.0.1:5000\n",
      "DEBUG:urllib3.connectionpool:http://127.0.0.1:5000 \"GET /_alive_1ea8b74e-3b5c-4207-a1d4-b4b93d29c2ed HTTP/11\" 500 298\n"
     ]
    },
    {
     "name": "stdout",
     "output_type": "stream",
     "text": [
      "---------------------------------------------------------------------------\n",
      "NotFound                                  Traceback (most recent call last)\n",
      "NotFound: 404 Not Found: The requested URL was not found on the server. If you entered the URL manually please check your spelling and try again.\n",
      "\n"
     ]
    },
    {
     "name": "stderr",
     "output_type": "stream",
     "text": [
      "DEBUG:urllib3.connectionpool:Starting new HTTPS connection (1): sso.simva-beta.e-ucm.es:443\n",
      "DEBUG:urllib3.connectionpool:Starting new HTTP connection (1): 127.0.0.1:5000\n",
      "DEBUG:urllib3.connectionpool:http://127.0.0.1:5000 \"GET /_alive_1ea8b74e-3b5c-4207-a1d4-b4b93d29c2ed HTTP/11\" 500 298\n"
     ]
    },
    {
     "name": "stdout",
     "output_type": "stream",
     "text": [
      "---------------------------------------------------------------------------\n",
      "NotFound                                  Traceback (most recent call last)\n",
      "NotFound: 404 Not Found: The requested URL was not found on the server. If you entered the URL manually please check your spelling and try again.\n",
      "\n"
     ]
    },
    {
     "name": "stderr",
     "output_type": "stream",
     "text": [
      "DEBUG:urllib3.connectionpool:Starting new HTTP connection (1): 127.0.0.1:5000\n",
      "DEBUG:urllib3.connectionpool:http://127.0.0.1:5000 \"GET /_alive_1ea8b74e-3b5c-4207-a1d4-b4b93d29c2ed HTTP/11\" 500 298\n"
     ]
    },
    {
     "name": "stdout",
     "output_type": "stream",
     "text": [
      "---------------------------------------------------------------------------\n",
      "NotFound                                  Traceback (most recent call last)\n",
      "NotFound: 404 Not Found: The requested URL was not found on the server. If you entered the URL manually please check your spelling and try again.\n",
      "\n"
     ]
    },
    {
     "name": "stderr",
     "output_type": "stream",
     "text": [
      "DEBUG:urllib3.connectionpool:Starting new HTTP connection (1): 127.0.0.1:5000\n",
      "DEBUG:urllib3.connectionpool:http://127.0.0.1:5000 \"GET /_alive_1ea8b74e-3b5c-4207-a1d4-b4b93d29c2ed HTTP/11\" 500 298\n"
     ]
    },
    {
     "name": "stdout",
     "output_type": "stream",
     "text": [
      "---------------------------------------------------------------------------\n",
      "NotFound                                  Traceback (most recent call last)\n",
      "NotFound: 404 Not Found: The requested URL was not found on the server. If you entered the URL manually please check your spelling and try again.\n",
      "\n"
     ]
    },
    {
     "name": "stderr",
     "output_type": "stream",
     "text": [
      "DEBUG:urllib3.connectionpool:Starting new HTTP connection (1): 127.0.0.1:5000\n",
      "DEBUG:urllib3.connectionpool:http://127.0.0.1:5000 \"GET /_alive_1ea8b74e-3b5c-4207-a1d4-b4b93d29c2ed HTTP/11\" 500 298\n"
     ]
    },
    {
     "name": "stdout",
     "output_type": "stream",
     "text": [
      "---------------------------------------------------------------------------\n",
      "NotFound                                  Traceback (most recent call last)\n",
      "NotFound: 404 Not Found: The requested URL was not found on the server. If you entered the URL manually please check your spelling and try again.\n",
      "\n"
     ]
    },
    {
     "name": "stderr",
     "output_type": "stream",
     "text": [
      "DEBUG:urllib3.connectionpool:Starting new HTTPS connection (1): sso.simva-beta.e-ucm.es:443\n",
      "DEBUG:urllib3.connectionpool:Starting new HTTP connection (1): 127.0.0.1:5000\n",
      "DEBUG:urllib3.connectionpool:http://127.0.0.1:5000 \"GET /_alive_1ea8b74e-3b5c-4207-a1d4-b4b93d29c2ed HTTP/11\" 500 298\n"
     ]
    },
    {
     "name": "stdout",
     "output_type": "stream",
     "text": [
      "---------------------------------------------------------------------------\n",
      "NotFound                                  Traceback (most recent call last)\n",
      "NotFound: 404 Not Found: The requested URL was not found on the server. If you entered the URL manually please check your spelling and try again.\n",
      "\n"
     ]
    },
    {
     "name": "stderr",
     "output_type": "stream",
     "text": [
      "DEBUG:urllib3.connectionpool:Starting new HTTP connection (1): 127.0.0.1:5000\n",
      "DEBUG:urllib3.connectionpool:http://127.0.0.1:5000 \"GET /_alive_1ea8b74e-3b5c-4207-a1d4-b4b93d29c2ed HTTP/11\" 500 298\n"
     ]
    },
    {
     "name": "stdout",
     "output_type": "stream",
     "text": [
      "---------------------------------------------------------------------------\n",
      "NotFound                                  Traceback (most recent call last)\n",
      "NotFound: 404 Not Found: The requested URL was not found on the server. If you entered the URL manually please check your spelling and try again.\n",
      "\n"
     ]
    },
    {
     "ename": "Exception",
     "evalue": "---------------------------------------------------------------------------\nNotFound                                  Traceback (most recent call last)\nNotFound: 404 Not Found: The requested URL was not found on the server. If you entered the URL manually please check your spelling and try again.\n",
     "output_type": "error",
     "traceback": [
      "\u001b[1;31m---------------------------------------------------------------------------\u001b[0m",
      "\u001b[1;31mException\u001b[0m                                 Traceback (most recent call last)",
      "Cell \u001b[1;32mIn[1], line 69\u001b[0m\n\u001b[0;32m     66\u001b[0m     \u001b[38;5;28;01mreturn\u001b[39;00m redirect(url_for(\u001b[38;5;124m'\u001b[39m\u001b[38;5;124mhome\u001b[39m\u001b[38;5;124m'\u001b[39m))  \u001b[38;5;66;03m# Replace 'home' with your home route\u001b[39;00m\n\u001b[0;32m     68\u001b[0m \u001b[38;5;28;01mif\u001b[39;00m \u001b[38;5;18m__name__\u001b[39m \u001b[38;5;241m==\u001b[39m \u001b[38;5;124m'\u001b[39m\u001b[38;5;124m__main__\u001b[39m\u001b[38;5;124m'\u001b[39m:\n\u001b[1;32m---> 69\u001b[0m     \u001b[43mapp\u001b[49m\u001b[38;5;241;43m.\u001b[39;49m\u001b[43mrun_server\u001b[49m\u001b[43m(\u001b[49m\u001b[43mdebug\u001b[49m\u001b[38;5;241;43m=\u001b[39;49m\u001b[38;5;28;43;01mTrue\u001b[39;49;00m\u001b[43m,\u001b[49m\u001b[43m \u001b[49m\u001b[43mport\u001b[49m\u001b[38;5;241;43m=\u001b[39;49m\u001b[38;5;241;43m5000\u001b[39;49m\u001b[43m)\u001b[49m\n",
      "File \u001b[1;32mc:\\github\\.venv\\Lib\\site-packages\\dash\\dash.py:2277\u001b[0m, in \u001b[0;36mDash.run_server\u001b[1;34m(self, *args, **kwargs)\u001b[0m\n\u001b[0;32m   2271\u001b[0m \u001b[38;5;28;01mdef\u001b[39;00m \u001b[38;5;21mrun_server\u001b[39m(\u001b[38;5;28mself\u001b[39m, \u001b[38;5;241m*\u001b[39margs, \u001b[38;5;241m*\u001b[39m\u001b[38;5;241m*\u001b[39mkwargs):\n\u001b[0;32m   2272\u001b[0m \u001b[38;5;250m    \u001b[39m\u001b[38;5;124;03m\"\"\"`run_server` is a deprecated alias of `run` and may be removed in a\u001b[39;00m\n\u001b[0;32m   2273\u001b[0m \u001b[38;5;124;03m    future version. We recommend using `app.run` instead.\u001b[39;00m\n\u001b[0;32m   2274\u001b[0m \n\u001b[0;32m   2275\u001b[0m \u001b[38;5;124;03m    See `app.run` for usage information.\u001b[39;00m\n\u001b[0;32m   2276\u001b[0m \u001b[38;5;124;03m    \"\"\"\u001b[39;00m\n\u001b[1;32m-> 2277\u001b[0m     \u001b[38;5;28;43mself\u001b[39;49m\u001b[38;5;241;43m.\u001b[39;49m\u001b[43mrun\u001b[49m\u001b[43m(\u001b[49m\u001b[38;5;241;43m*\u001b[39;49m\u001b[43margs\u001b[49m\u001b[43m,\u001b[49m\u001b[43m \u001b[49m\u001b[38;5;241;43m*\u001b[39;49m\u001b[38;5;241;43m*\u001b[39;49m\u001b[43mkwargs\u001b[49m\u001b[43m)\u001b[49m\n",
      "File \u001b[1;32mc:\\github\\.venv\\Lib\\site-packages\\dash\\dash.py:2168\u001b[0m, in \u001b[0;36mDash.run\u001b[1;34m(self, host, port, proxy, debug, jupyter_mode, jupyter_width, jupyter_height, jupyter_server_url, dev_tools_ui, dev_tools_props_check, dev_tools_serve_dev_bundles, dev_tools_hot_reload, dev_tools_hot_reload_interval, dev_tools_hot_reload_watch_interval, dev_tools_hot_reload_max_retry, dev_tools_silence_routes_logging, dev_tools_prune_errors, **flask_run_options)\u001b[0m\n\u001b[0;32m   2165\u001b[0m             extra_files\u001b[38;5;241m.\u001b[39mappend(path)\n\u001b[0;32m   2167\u001b[0m \u001b[38;5;28;01mif\u001b[39;00m jupyter_dash\u001b[38;5;241m.\u001b[39mactive:\n\u001b[1;32m-> 2168\u001b[0m     \u001b[43mjupyter_dash\u001b[49m\u001b[38;5;241;43m.\u001b[39;49m\u001b[43mrun_app\u001b[49m\u001b[43m(\u001b[49m\n\u001b[0;32m   2169\u001b[0m \u001b[43m        \u001b[49m\u001b[38;5;28;43mself\u001b[39;49m\u001b[43m,\u001b[49m\n\u001b[0;32m   2170\u001b[0m \u001b[43m        \u001b[49m\u001b[43mmode\u001b[49m\u001b[38;5;241;43m=\u001b[39;49m\u001b[43mjupyter_mode\u001b[49m\u001b[43m,\u001b[49m\n\u001b[0;32m   2171\u001b[0m \u001b[43m        \u001b[49m\u001b[43mwidth\u001b[49m\u001b[38;5;241;43m=\u001b[39;49m\u001b[43mjupyter_width\u001b[49m\u001b[43m,\u001b[49m\n\u001b[0;32m   2172\u001b[0m \u001b[43m        \u001b[49m\u001b[43mheight\u001b[49m\u001b[38;5;241;43m=\u001b[39;49m\u001b[43mjupyter_height\u001b[49m\u001b[43m,\u001b[49m\n\u001b[0;32m   2173\u001b[0m \u001b[43m        \u001b[49m\u001b[43mhost\u001b[49m\u001b[38;5;241;43m=\u001b[39;49m\u001b[43mhost\u001b[49m\u001b[43m,\u001b[49m\n\u001b[0;32m   2174\u001b[0m \u001b[43m        \u001b[49m\u001b[43mport\u001b[49m\u001b[38;5;241;43m=\u001b[39;49m\u001b[43mport\u001b[49m\u001b[43m,\u001b[49m\n\u001b[0;32m   2175\u001b[0m \u001b[43m        \u001b[49m\u001b[43mserver_url\u001b[49m\u001b[38;5;241;43m=\u001b[39;49m\u001b[43mjupyter_server_url\u001b[49m\u001b[43m,\u001b[49m\n\u001b[0;32m   2176\u001b[0m \u001b[43m    \u001b[49m\u001b[43m)\u001b[49m\n\u001b[0;32m   2177\u001b[0m \u001b[38;5;28;01melse\u001b[39;00m:\n\u001b[0;32m   2178\u001b[0m     \u001b[38;5;28mself\u001b[39m\u001b[38;5;241m.\u001b[39mserver\u001b[38;5;241m.\u001b[39mrun(host\u001b[38;5;241m=\u001b[39mhost, port\u001b[38;5;241m=\u001b[39mport, debug\u001b[38;5;241m=\u001b[39mdebug, \u001b[38;5;241m*\u001b[39m\u001b[38;5;241m*\u001b[39mflask_run_options)\n",
      "File \u001b[1;32mc:\\github\\.venv\\Lib\\site-packages\\dash\\_jupyter.py:404\u001b[0m, in \u001b[0;36mJupyterDash.run_app\u001b[1;34m(self, app, mode, width, height, host, port, server_url)\u001b[0m\n\u001b[0;32m    402\u001b[0m     display(HTML(msg))\n\u001b[0;32m    403\u001b[0m \u001b[38;5;28;01melse\u001b[39;00m:\n\u001b[1;32m--> 404\u001b[0m     \u001b[38;5;28;01mraise\u001b[39;00m final_error\n",
      "File \u001b[1;32mc:\\github\\.venv\\Lib\\site-packages\\dash\\_jupyter.py:391\u001b[0m, in \u001b[0;36mJupyterDash.run_app\u001b[1;34m(self, app, mode, width, height, host, port, server_url)\u001b[0m\n\u001b[0;32m    388\u001b[0m         \u001b[38;5;28;01mraise\u001b[39;00m err\n\u001b[0;32m    390\u001b[0m \u001b[38;5;28;01mtry\u001b[39;00m:\n\u001b[1;32m--> 391\u001b[0m     \u001b[43mwait_for_app\u001b[49m\u001b[43m(\u001b[49m\u001b[43m)\u001b[49m\n\u001b[0;32m    393\u001b[0m     \u001b[38;5;28;01mif\u001b[39;00m \u001b[38;5;28mself\u001b[39m\u001b[38;5;241m.\u001b[39min_colab:\n\u001b[0;32m    394\u001b[0m         JupyterDash\u001b[38;5;241m.\u001b[39m_display_in_colab(dashboard_url, port, mode, width, height)\n",
      "File \u001b[1;32mc:\\github\\.venv\\Lib\\site-packages\\retrying.py:56\u001b[0m, in \u001b[0;36mretry.<locals>.wrap.<locals>.wrapped_f\u001b[1;34m(*args, **kw)\u001b[0m\n\u001b[0;32m     54\u001b[0m \u001b[38;5;129m@six\u001b[39m\u001b[38;5;241m.\u001b[39mwraps(f)\n\u001b[0;32m     55\u001b[0m \u001b[38;5;28;01mdef\u001b[39;00m \u001b[38;5;21mwrapped_f\u001b[39m(\u001b[38;5;241m*\u001b[39margs, \u001b[38;5;241m*\u001b[39m\u001b[38;5;241m*\u001b[39mkw):\n\u001b[1;32m---> 56\u001b[0m     \u001b[38;5;28;01mreturn\u001b[39;00m \u001b[43mRetrying\u001b[49m\u001b[43m(\u001b[49m\u001b[38;5;241;43m*\u001b[39;49m\u001b[43mdargs\u001b[49m\u001b[43m,\u001b[49m\u001b[43m \u001b[49m\u001b[38;5;241;43m*\u001b[39;49m\u001b[38;5;241;43m*\u001b[39;49m\u001b[43mdkw\u001b[49m\u001b[43m)\u001b[49m\u001b[38;5;241;43m.\u001b[39;49m\u001b[43mcall\u001b[49m\u001b[43m(\u001b[49m\u001b[43mf\u001b[49m\u001b[43m,\u001b[49m\u001b[43m \u001b[49m\u001b[38;5;241;43m*\u001b[39;49m\u001b[43margs\u001b[49m\u001b[43m,\u001b[49m\u001b[43m \u001b[49m\u001b[38;5;241;43m*\u001b[39;49m\u001b[38;5;241;43m*\u001b[39;49m\u001b[43mkw\u001b[49m\u001b[43m)\u001b[49m\n",
      "File \u001b[1;32mc:\\github\\.venv\\Lib\\site-packages\\retrying.py:266\u001b[0m, in \u001b[0;36mRetrying.call\u001b[1;34m(self, fn, *args, **kwargs)\u001b[0m\n\u001b[0;32m    263\u001b[0m \u001b[38;5;28;01mif\u001b[39;00m \u001b[38;5;28mself\u001b[39m\u001b[38;5;241m.\u001b[39mstop(attempt_number, delay_since_first_attempt_ms):\n\u001b[0;32m    264\u001b[0m     \u001b[38;5;28;01mif\u001b[39;00m \u001b[38;5;129;01mnot\u001b[39;00m \u001b[38;5;28mself\u001b[39m\u001b[38;5;241m.\u001b[39m_wrap_exception \u001b[38;5;129;01mand\u001b[39;00m attempt\u001b[38;5;241m.\u001b[39mhas_exception:\n\u001b[0;32m    265\u001b[0m         \u001b[38;5;66;03m# get() on an attempt with an exception should cause it to be raised, but raise just in case\u001b[39;00m\n\u001b[1;32m--> 266\u001b[0m         \u001b[38;5;28;01mraise\u001b[39;00m \u001b[43mattempt\u001b[49m\u001b[38;5;241;43m.\u001b[39;49m\u001b[43mget\u001b[49m\u001b[43m(\u001b[49m\u001b[43m)\u001b[49m\n\u001b[0;32m    267\u001b[0m     \u001b[38;5;28;01melse\u001b[39;00m:\n\u001b[0;32m    268\u001b[0m         \u001b[38;5;28;01mraise\u001b[39;00m RetryError(attempt)\n",
      "File \u001b[1;32mc:\\github\\.venv\\Lib\\site-packages\\retrying.py:301\u001b[0m, in \u001b[0;36mAttempt.get\u001b[1;34m(self, wrap_exception)\u001b[0m\n\u001b[0;32m    299\u001b[0m         \u001b[38;5;28;01mraise\u001b[39;00m RetryError(\u001b[38;5;28mself\u001b[39m)\n\u001b[0;32m    300\u001b[0m     \u001b[38;5;28;01melse\u001b[39;00m:\n\u001b[1;32m--> 301\u001b[0m         \u001b[43msix\u001b[49m\u001b[38;5;241;43m.\u001b[39;49m\u001b[43mreraise\u001b[49m\u001b[43m(\u001b[49m\u001b[38;5;28;43mself\u001b[39;49m\u001b[38;5;241;43m.\u001b[39;49m\u001b[43mvalue\u001b[49m\u001b[43m[\u001b[49m\u001b[38;5;241;43m0\u001b[39;49m\u001b[43m]\u001b[49m\u001b[43m,\u001b[49m\u001b[43m \u001b[49m\u001b[38;5;28;43mself\u001b[39;49m\u001b[38;5;241;43m.\u001b[39;49m\u001b[43mvalue\u001b[49m\u001b[43m[\u001b[49m\u001b[38;5;241;43m1\u001b[39;49m\u001b[43m]\u001b[49m\u001b[43m,\u001b[49m\u001b[43m \u001b[49m\u001b[38;5;28;43mself\u001b[39;49m\u001b[38;5;241;43m.\u001b[39;49m\u001b[43mvalue\u001b[49m\u001b[43m[\u001b[49m\u001b[38;5;241;43m2\u001b[39;49m\u001b[43m]\u001b[49m\u001b[43m)\u001b[49m\n\u001b[0;32m    302\u001b[0m \u001b[38;5;28;01melse\u001b[39;00m:\n\u001b[0;32m    303\u001b[0m     \u001b[38;5;28;01mreturn\u001b[39;00m \u001b[38;5;28mself\u001b[39m\u001b[38;5;241m.\u001b[39mvalue\n",
      "File \u001b[1;32mc:\\github\\.venv\\Lib\\site-packages\\six.py:719\u001b[0m, in \u001b[0;36mreraise\u001b[1;34m(tp, value, tb)\u001b[0m\n\u001b[0;32m    717\u001b[0m     \u001b[38;5;28;01mif\u001b[39;00m value\u001b[38;5;241m.\u001b[39m__traceback__ \u001b[38;5;129;01mis\u001b[39;00m \u001b[38;5;129;01mnot\u001b[39;00m tb:\n\u001b[0;32m    718\u001b[0m         \u001b[38;5;28;01mraise\u001b[39;00m value\u001b[38;5;241m.\u001b[39mwith_traceback(tb)\n\u001b[1;32m--> 719\u001b[0m     \u001b[38;5;28;01mraise\u001b[39;00m value\n\u001b[0;32m    720\u001b[0m \u001b[38;5;28;01mfinally\u001b[39;00m:\n\u001b[0;32m    721\u001b[0m     value \u001b[38;5;241m=\u001b[39m \u001b[38;5;28;01mNone\u001b[39;00m\n",
      "File \u001b[1;32mc:\\github\\.venv\\Lib\\site-packages\\retrying.py:251\u001b[0m, in \u001b[0;36mRetrying.call\u001b[1;34m(self, fn, *args, **kwargs)\u001b[0m\n\u001b[0;32m    248\u001b[0m     \u001b[38;5;28mself\u001b[39m\u001b[38;5;241m.\u001b[39m_before_attempts(attempt_number)\n\u001b[0;32m    250\u001b[0m \u001b[38;5;28;01mtry\u001b[39;00m:\n\u001b[1;32m--> 251\u001b[0m     attempt \u001b[38;5;241m=\u001b[39m Attempt(\u001b[43mfn\u001b[49m\u001b[43m(\u001b[49m\u001b[38;5;241;43m*\u001b[39;49m\u001b[43margs\u001b[49m\u001b[43m,\u001b[49m\u001b[43m \u001b[49m\u001b[38;5;241;43m*\u001b[39;49m\u001b[38;5;241;43m*\u001b[39;49m\u001b[43mkwargs\u001b[49m\u001b[43m)\u001b[49m, attempt_number, \u001b[38;5;28;01mFalse\u001b[39;00m)\n\u001b[0;32m    252\u001b[0m \u001b[38;5;28;01mexcept\u001b[39;00m:\n\u001b[0;32m    253\u001b[0m     tb \u001b[38;5;241m=\u001b[39m sys\u001b[38;5;241m.\u001b[39mexc_info()\n",
      "File \u001b[1;32mc:\\github\\.venv\\Lib\\site-packages\\dash\\_jupyter.py:378\u001b[0m, in \u001b[0;36mJupyterDash.run_app.<locals>.wait_for_app\u001b[1;34m()\u001b[0m\n\u001b[0;32m    376\u001b[0m res \u001b[38;5;241m=\u001b[39m req\u001b[38;5;241m.\u001b[39mcontent\u001b[38;5;241m.\u001b[39mdecode()\n\u001b[0;32m    377\u001b[0m \u001b[38;5;28;01mif\u001b[39;00m req\u001b[38;5;241m.\u001b[39mstatus_code \u001b[38;5;241m!=\u001b[39m \u001b[38;5;241m200\u001b[39m:\n\u001b[1;32m--> 378\u001b[0m     \u001b[38;5;28;01mraise\u001b[39;00m \u001b[38;5;167;01mException\u001b[39;00m(res)\n\u001b[0;32m    380\u001b[0m \u001b[38;5;28;01mif\u001b[39;00m res \u001b[38;5;241m!=\u001b[39m \u001b[38;5;124m\"\u001b[39m\u001b[38;5;124mAlive\u001b[39m\u001b[38;5;124m\"\u001b[39m:\n\u001b[0;32m    381\u001b[0m     url \u001b[38;5;241m=\u001b[39m \u001b[38;5;124mf\u001b[39m\u001b[38;5;124m\"\u001b[39m\u001b[38;5;124mhttp://\u001b[39m\u001b[38;5;132;01m{\u001b[39;00mhost\u001b[38;5;132;01m}\u001b[39;00m\u001b[38;5;124m:\u001b[39m\u001b[38;5;132;01m{\u001b[39;00mport\u001b[38;5;132;01m}\u001b[39;00m\u001b[38;5;124m\"\u001b[39m\n",
      "\u001b[1;31mException\u001b[0m: ---------------------------------------------------------------------------\nNotFound                                  Traceback (most recent call last)\nNotFound: 404 Not Found: The requested URL was not found on the server. If you entered the URL manually please check your spelling and try again.\n"
     ]
    },
    {
     "name": "stderr",
     "output_type": "stream",
     "text": [
      "DEBUG:urllib3.connectionpool:Starting new HTTPS connection (1): sso.simva-beta.e-ucm.es:443\n",
      "DEBUG:urllib3.connectionpool:https://sso.simva-beta.e-ucm.es:443 \"GET /realms/simva/.well-known/openid-configuration HTTP/11\" 200 6484\n",
      "DEBUG:urllib3.connectionpool:https://sso.simva-beta.e-ucm.es:443 \"GET /realms/simva/.well-known/openid-configuration HTTP/11\" 200 6484\n",
      "DEBUG:urllib3.connectionpool:https://sso.simva-beta.e-ucm.es:443 \"GET /realms/simva/.well-known/openid-configuration HTTP/11\" 200 6484\n",
      "DEBUG:urllib3.connectionpool:https://sso.simva-beta.e-ucm.es:443 \"GET /realms/simva/.well-known/openid-configuration HTTP/11\" 200 6484\n"
     ]
    },
    {
     "name": "stdout",
     "output_type": "stream",
     "text": [
      "Accessing route /\n",
      "Accessing route /\n"
     ]
    },
    {
     "name": "stderr",
     "output_type": "stream",
     "text": [
      "DEBUG:keycloakAuth:Received logout request. Redirect URI: http://127.0.0.1:5000/, Issuer URL: https://sso.simva-beta.e-ucm.es/realms/simva\n",
      "DEBUG:keycloakAuth:{'access_token': 'eyJhbGciOiJSUzI1NiIsInR5cCIgOiAiSldUIiwia2lkIiA6ICJUaTNVdFZNRG5nS1JhVVY0c0s4eXFwUTAwUW9iVnExMlN6QjdpVWMyZEdVIn0.eyJleHAiOjE3MjEyMTkwNDYsImlhdCI6MTcyMTIxODc0NiwiYXV0aF90aW1lIjoxNzIxMjE4NDA0LCJqdGkiOiIxMzhjMWM5OC0xYzI1LTRlYWEtYWYxMS02YTkwNTQ3Y2I1YjUiLCJpc3MiOiJodHRwczovL3Nzby5zaW12YS1iZXRhLmUtdWNtLmVzL3JlYWxtcy9zaW12YSIsImF1ZCI6ImFjY291bnQiLCJzdWIiOiI0NTliZDlhYy0wZjMxLTRhYTYtODJlNy0yYjdiMzQ4YWZjM2UiLCJ0eXAiOiJCZWFyZXIiLCJhenAiOiJqdXB5dGVyIiwic2lkIjoiNzNkNWJmMTctNjUyOC00ODQ4LWJmMDAtNjRjNTZhZDQ0YWI1IiwiYWxsb3dlZC1vcmlnaW5zIjpbImh0dHA6Ly9sb2NhbGhvc3Q6NTAwMCJdLCJyZWFsbV9hY2Nlc3MiOnsicm9sZXMiOlsibm9yb2xlIiwidGVhY2hlciIsImRlZmF1bHQtcm9sZXMtc2ltdmEiLCJzdHVkZW50Iiwib2ZmbGluZV9hY2Nlc3MiLCJ1bWFfYXV0aG9yaXphdGlvbiIsInRlYWNoaW5nLWFzc2lzdGFudCJdfSwicmVzb3VyY2VfYWNjZXNzIjp7ImFjY291bnQiOnsicm9sZXMiOlsibWFuYWdlLWFjY291bnQiLCJtYW5hZ2UtYWNjb3VudC1saW5rcyIsInZpZXctcHJvZmlsZSJdfX0sInNjb3BlIjoib3BlbmlkIHBvbGljeV9yb2xlX2F0dHJpYnV0ZSBwcm9maWxlIGVtYWlsIiwiZW1haWxfdmVyaWZpZWQiOmZhbHNlLCJuYW1lIjoidGVzdCB0ZXN0IiwicHJlZmVycmVkX3VzZXJuYW1lIjoidGVzdHNpbXZhIiwiZ2l2ZW5fbmFtZSI6InRlc3QiLCJmYW1pbHlfbmFtZSI6InRlc3QiLCJlbWFpbCI6InRlc3RzaW12YUB0ZXN0LnRlc3QiLCJwb2xpY3kiOiJzaW12YS1hZHY0LXVzZXIifQ.YnSdO2Yuf5p_q7H-x1afhefDUnF5tzrQuED07Vqh0aY1S6nH6jomSWjmMgfAXpGwU-HwWEKXpGUbWYvtNKQ2EWLTnMHWQVIou1MC_iETnkrYUCShs9hBaZcXJjpMBYl0Bp2FE6ttVRrWPWGFBYiQBPFkfrM6E9OXO405_-fRT9XPcKrJBizTMNMIZMpeppm37gTklme2QPt7PLjOzMCi8_HFgM5bDAHcb7yHNL1rYLoEmASxjofd6aSielCUDxOhUWs738iPdVwbuEX8-cHxB4QTE5Tea-GO_OyA_Xy1ioFLkx51eDKtE8iUDlnAb4-yJEIUht02mUr_LMY7KbUpgg', 'expires_at': 1721219046, 'expires_in': 300, 'id_token': 'eyJhbGciOiJSUzI1NiIsInR5cCIgOiAiSldUIiwia2lkIiA6ICJUaTNVdFZNRG5nS1JhVVY0c0s4eXFwUTAwUW9iVnExMlN6QjdpVWMyZEdVIn0.eyJleHAiOjE3MjEyMTkwNDYsImlhdCI6MTcyMTIxODc0NiwiYXV0aF90aW1lIjoxNzIxMjE4NDA0LCJqdGkiOiI0MmNmZTM0Yy1iMjNkLTRkNWEtOTBmZS1iMTU2YTEwMzhkNmYiLCJpc3MiOiJodHRwczovL3Nzby5zaW12YS1iZXRhLmUtdWNtLmVzL3JlYWxtcy9zaW12YSIsImF1ZCI6Imp1cHl0ZXIiLCJzdWIiOiI0NTliZDlhYy0wZjMxLTRhYTYtODJlNy0yYjdiMzQ4YWZjM2UiLCJ0eXAiOiJJRCIsImF6cCI6Imp1cHl0ZXIiLCJzaWQiOiI3M2Q1YmYxNy02NTI4LTQ4NDgtYmYwMC02NGM1NmFkNDRhYjUiLCJhdF9oYXNoIjoiR0VrWkJGSld4aE1hTk81NmJLZ25TUSIsImVtYWlsX3ZlcmlmaWVkIjpmYWxzZSwibmFtZSI6InRlc3QgdGVzdCIsInByZWZlcnJlZF91c2VybmFtZSI6InRlc3RzaW12YSIsImdpdmVuX25hbWUiOiJ0ZXN0IiwiZmFtaWx5X25hbWUiOiJ0ZXN0IiwiZW1haWwiOiJ0ZXN0c2ltdmFAdGVzdC50ZXN0IiwicG9saWN5Ijoic2ltdmEtYWR2NC11c2VyIn0.v42FqLWcCKPSUn8glcGRE0M_HEDR79At5cLP_7yTcAkySw63zRjwlHiVaRbEMzyTLePebKd-Sz1Suw8kIvPgaVV7tUtsMWM3IAXLG1497gs3-E4i_niAUmUq_SIE83vlBSecbJExo-eA89jFyxTk4cCxhiydzg5XuZwieoRUEVkdyr-LFP0vjuPpVUywXqKiubeBRpNF4YpADJGDfAI8yuojpozHwWgjclIobmLtP6zWlmwCvcXjYtAvuYD9TL8nTEzwQSWedcaARmEsDMDHMm9ptQys5GcjZWvkCNmy8NQkUIqgppX8bHMZmBPzYB5FNGHzQ4Fd1X0_TtD8uYSH7w', 'not-before-policy': 0, 'refresh_expires_in': 1800, 'refresh_token': 'eyJhbGciOiJIUzUxMiIsInR5cCIgOiAiSldUIiwia2lkIiA6ICJlMzMxMDY0Yy05ZjJlLTQzMGItYmVlZC01N2RmOTU1ZDEzOTcifQ.eyJleHAiOjE3MjEyMjA1NDYsImlhdCI6MTcyMTIxODc0NiwianRpIjoiYWVmZTg0NTYtOTQ5OS00MzAwLTliOWMtNTVhMjgxYzA1NmUxIiwiaXNzIjoiaHR0cHM6Ly9zc28uc2ltdmEtYmV0YS5lLXVjbS5lcy9yZWFsbXMvc2ltdmEiLCJhdWQiOiJodHRwczovL3Nzby5zaW12YS1iZXRhLmUtdWNtLmVzL3JlYWxtcy9zaW12YSIsInN1YiI6IjQ1OWJkOWFjLTBmMzEtNGFhNi04MmU3LTJiN2IzNDhhZmMzZSIsInR5cCI6IlJlZnJlc2giLCJhenAiOiJqdXB5dGVyIiwic2lkIjoiNzNkNWJmMTctNjUyOC00ODQ4LWJmMDAtNjRjNTZhZDQ0YWI1Iiwic2NvcGUiOiJvcGVuaWQgd2ViLW9yaWdpbnMgcm9sZXMgcG9saWN5X3JvbGVfYXR0cmlidXRlIHByb2ZpbGUgYmFzaWMgZW1haWwifQ.46t07GMyjsEYQ4AcrUIdJtrLbFocjK8sm1tJK0L7_0JGshUK7ttRaw0F6QVh-EyW1qMIMNHhGBWEaWQ2FkDcbQ', 'scope': 'openid policy_role_attribute profile email', 'session_state': '73d5bf17-6528-4848-bf00-64c56ad44ab5', 'token_type': 'Bearer'}\n",
      "DEBUG:keycloakAuth:User logged in. Id token: eyJhbGciOiJSUzI1NiIsInR5cCIgOiAiSldUIiwia2lkIiA6ICJUaTNVdFZNRG5nS1JhVVY0c0s4eXFwUTAwUW9iVnExMlN6QjdpVWMyZEdVIn0.eyJleHAiOjE3MjEyMTkwNDYsImlhdCI6MTcyMTIxODc0NiwiYXV0aF90aW1lIjoxNzIxMjE4NDA0LCJqdGkiOiI0MmNmZTM0Yy1iMjNkLTRkNWEtOTBmZS1iMTU2YTEwMzhkNmYiLCJpc3MiOiJodHRwczovL3Nzby5zaW12YS1iZXRhLmUtdWNtLmVzL3JlYWxtcy9zaW12YSIsImF1ZCI6Imp1cHl0ZXIiLCJzdWIiOiI0NTliZDlhYy0wZjMxLTRhYTYtODJlNy0yYjdiMzQ4YWZjM2UiLCJ0eXAiOiJJRCIsImF6cCI6Imp1cHl0ZXIiLCJzaWQiOiI3M2Q1YmYxNy02NTI4LTQ4NDgtYmYwMC02NGM1NmFkNDRhYjUiLCJhdF9oYXNoIjoiR0VrWkJGSld4aE1hTk81NmJLZ25TUSIsImVtYWlsX3ZlcmlmaWVkIjpmYWxzZSwibmFtZSI6InRlc3QgdGVzdCIsInByZWZlcnJlZF91c2VybmFtZSI6InRlc3RzaW12YSIsImdpdmVuX25hbWUiOiJ0ZXN0IiwiZmFtaWx5X25hbWUiOiJ0ZXN0IiwiZW1haWwiOiJ0ZXN0c2ltdmFAdGVzdC50ZXN0IiwicG9saWN5Ijoic2ltdmEtYWR2NC11c2VyIn0.v42FqLWcCKPSUn8glcGRE0M_HEDR79At5cLP_7yTcAkySw63zRjwlHiVaRbEMzyTLePebKd-Sz1Suw8kIvPgaVV7tUtsMWM3IAXLG1497gs3-E4i_niAUmUq_SIE83vlBSecbJExo-eA89jFyxTk4cCxhiydzg5XuZwieoRUEVkdyr-LFP0vjuPpVUywXqKiubeBRpNF4YpADJGDfAI8yuojpozHwWgjclIobmLtP6zWlmwCvcXjYtAvuYD9TL8nTEzwQSWedcaARmEsDMDHMm9ptQys5GcjZWvkCNmy8NQkUIqgppX8bHMZmBPzYB5FNGHzQ4Fd1X0_TtD8uYSH7w\n",
      "DEBUG:keycloakAuth:Local logout successful.\n",
      "DEBUG:keycloakAuth:Session cleared.\n",
      "DEBUG:keycloakAuth:Keycloak logout URL: https://sso.simva-beta.e-ucm.es/realms/simva/protocol/openid-connect/logout?id_token_hint=eyJhbGciOiJSUzI1NiIsInR5cCIgOiAiSldUIiwia2lkIiA6ICJUaTNVdFZNRG5nS1JhVVY0c0s4eXFwUTAwUW9iVnExMlN6QjdpVWMyZEdVIn0.eyJleHAiOjE3MjEyMTkwNDYsImlhdCI6MTcyMTIxODc0NiwiYXV0aF90aW1lIjoxNzIxMjE4NDA0LCJqdGkiOiI0MmNmZTM0Yy1iMjNkLTRkNWEtOTBmZS1iMTU2YTEwMzhkNmYiLCJpc3MiOiJodHRwczovL3Nzby5zaW12YS1iZXRhLmUtdWNtLmVzL3JlYWxtcy9zaW12YSIsImF1ZCI6Imp1cHl0ZXIiLCJzdWIiOiI0NTliZDlhYy0wZjMxLTRhYTYtODJlNy0yYjdiMzQ4YWZjM2UiLCJ0eXAiOiJJRCIsImF6cCI6Imp1cHl0ZXIiLCJzaWQiOiI3M2Q1YmYxNy02NTI4LTQ4NDgtYmYwMC02NGM1NmFkNDRhYjUiLCJhdF9oYXNoIjoiR0VrWkJGSld4aE1hTk81NmJLZ25TUSIsImVtYWlsX3ZlcmlmaWVkIjpmYWxzZSwibmFtZSI6InRlc3QgdGVzdCIsInByZWZlcnJlZF91c2VybmFtZSI6InRlc3RzaW12YSIsImdpdmVuX25hbWUiOiJ0ZXN0IiwiZmFtaWx5X25hbWUiOiJ0ZXN0IiwiZW1haWwiOiJ0ZXN0c2ltdmFAdGVzdC50ZXN0IiwicG9saWN5Ijoic2ltdmEtYWR2NC11c2VyIn0.v42FqLWcCKPSUn8glcGRE0M_HEDR79At5cLP_7yTcAkySw63zRjwlHiVaRbEMzyTLePebKd-Sz1Suw8kIvPgaVV7tUtsMWM3IAXLG1497gs3-E4i_niAUmUq_SIE83vlBSecbJExo-eA89jFyxTk4cCxhiydzg5XuZwieoRUEVkdyr-LFP0vjuPpVUywXqKiubeBRpNF4YpADJGDfAI8yuojpozHwWgjclIobmLtP6zWlmwCvcXjYtAvuYD9TL8nTEzwQSWedcaARmEsDMDHMm9ptQys5GcjZWvkCNmy8NQkUIqgppX8bHMZmBPzYB5FNGHzQ4Fd1X0_TtD8uYSH7w&post_logout_redirect_uri=http://127.0.0.1:5000/\n"
     ]
    },
    {
     "name": "stdout",
     "output_type": "stream",
     "text": [
      "Accessing route /logoutkeycloak\n",
      "Accessing route /\n"
     ]
    }
   ],
   "source": [
    "from flask import Flask, redirect, url_for, session\n",
    "from flask_oidc import OpenIDConnect\n",
    "import dash\n",
    "from dash import dcc, html\n",
    "from dash.dependencies import Input, Output\n",
    "\n",
    "# Import Flask server from keycloak-auth.py\n",
    "from keycloakAuth import flaskServer, oidc\n",
    "\n",
    "# Initialize Dash app with Flask server\n",
    "app = dash.Dash(__name__, server=flaskServer, url_base_pathname='/dashboard/')\n",
    "\n",
    "# Layout of the dashboard\n",
    "app.layout = html.Div(id=\"main\", children=[\n",
    "    html.H1('Secure Dashboard'),\n",
    "    html.Div(id='connection-status'),\n",
    "    html.Div(id='content'), \n",
    "    html.Button(id='login-logout-button', n_clicks=0),\n",
    "    html.Div(id='login-logout')\n",
    "])\n",
    "\n",
    "# Dash callback to handle login button click\n",
    "@app.callback(\n",
    "    Output('login-logout-button', 'children'),\n",
    "    [Input('main', 'children')]\n",
    ")\n",
    "def login_logout_button(main):\n",
    "    if oidc.user_loggedin:\n",
    "        return \"Logout\"\n",
    "    else:\n",
    "        return \"Login\"\n",
    "        \n",
    "# Dash callback to handle login button click\n",
    "@app.callback(\n",
    "    Output('login-logout', 'children'),\n",
    "    [Input('login-logout-button', 'n_clicks')]\n",
    ")\n",
    "def login_logout_button_click(n_clicks):\n",
    "    if n_clicks > 0:\n",
    "        return dcc.Location(pathname='/', id='login-logout-link')\n",
    "\n",
    "# Dash callback to update connection status\n",
    "@app.callback(\n",
    "    Output('connection-status', 'children'),\n",
    "    [Input('main', 'children')]\n",
    ")\n",
    "def update_connection_status(input_value):\n",
    "    if oidc.user_loggedin:\n",
    "        user_info = session.get('oidc_auth_profile', {})\n",
    "        preferred_username = user_info.get('preferred_username')\n",
    "        return f'Logged in as {preferred_username}'\n",
    "    else:\n",
    "        return 'Not logged in'\n",
    "\n",
    "# Example of a protected route (not yet implemented)\n",
    "@app.server.route('/dashboard/')\n",
    "def render_dashboard():\n",
    "    return app.index()\n",
    "\n",
    "# Example of a logout button (not yet implemented)\n",
    "@app.server.route('/logout')\n",
    "def logout():\n",
    "    return redirect(url_for('home'))  # Replace 'home' with your home route\n",
    "\n",
    "if __name__ == '__main__':\n",
    "    app.run_server(debug=True, port=5000)\n"
   ]
  },
  {
   "cell_type": "code",
   "execution_count": null,
   "metadata": {},
   "outputs": [],
   "source": []
  }
 ],
 "metadata": {
  "kernelspec": {
   "display_name": ".venv",
   "language": "python",
   "name": "python3"
  },
  "language_info": {
   "codemirror_mode": {
    "name": "ipython",
    "version": 3
   },
   "file_extension": ".py",
   "mimetype": "text/x-python",
   "name": "python",
   "nbconvert_exporter": "python",
   "pygments_lexer": "ipython3",
   "version": "3.12.2"
  }
 },
 "nbformat": 4,
 "nbformat_minor": 2
}
