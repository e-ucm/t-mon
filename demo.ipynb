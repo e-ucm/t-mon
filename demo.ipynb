{
 "cells": [
  {
   "cell_type": "code",
   "execution_count": null,
   "metadata": {},
   "outputs": [],
   "source": [
    "# cargamos un fichero con trazas, usando código de t-mon\n",
    "\n",
    "%run ProcessxAPISGStatement.py\n",
    "%run fileBrowserAndUploadButtonToLoadProcessStatements.py\n",
    "global players_info, df\n",
    "out, err=[],[]\n",
    "df={}\n",
    "players_info={}\n",
    "load_players_info_from_file(\"xapi-sg-sample-data.json\", players_info, out, err)"
   ]
  },
  {
   "cell_type": "code",
   "execution_count": null,
   "metadata": {},
   "outputs": [],
   "source": [
    "# cargamos pandas, plotly\n",
    "\n",
    "import pandas as pd\n",
    "import numpy as np\n",
    "import plotly.graph_objs as go\n",
    "from plotly.subplots import make_subplots\n",
    "from plotly.offline import init_notebook_mode, iplot\n",
    "init_notebook_mode(connected=True)"
   ]
  },
  {
   "cell_type": "code",
   "execution_count": null,
   "metadata": {},
   "outputs": [],
   "source": [
    "# montemos un dataframe\n",
    "df = pd.DataFrame.from_dict(players_info, 'index')\n",
    "df.loc['John Smith']"
   ]
  },
  {
   "cell_type": "code",
   "execution_count": null,
   "metadata": {},
   "outputs": [],
   "source": [
    "# algo de información básica\n",
    "print(f\"total de {len(df)} actores\")"
   ]
  },
  {
   "cell_type": "markdown",
   "metadata": {},
   "source": [
    "### Intentemos ver puntuación en cada completable..."
   ]
  },
  {
   "cell_type": "code",
   "execution_count": null,
   "metadata": {},
   "outputs": [],
   "source": [
    "# montamos un dataframe para valores de este gráfico en concreto\n",
    "cvalues = []\n",
    "for id, row in df[['completables_scores']].iterrows():\n",
    "    for k, v in row['completables_scores'].items():\n",
    "        cvalues.append({'id': id, 'completable': k, 'score': v})\n",
    "cvalues = pd.DataFrame.from_records(cvalues)"
   ]
  },
  {
   "cell_type": "code",
   "execution_count": null,
   "metadata": {},
   "outputs": [],
   "source": [
    "# mostramos\n",
    "data = []\n",
    "for c in cvalues['completable'].unique():\n",
    "    bar_data = cvalues[cvalues['completable'] == c]\n",
    "    data.append(go.Bar(x=bar_data['id'], y=bar_data['score'], name=c))    \n",
    "fig = go.Figure(\n",
    "    layout_title_text=\"Puntuación en completables\",\n",
    "    data=data\n",
    ")\n",
    "fig.update_xaxes(categoryorder=\"total descending\")\n",
    "fig.update_layout(barmode='stack')\n",
    "fig.show()"
   ]
  },
  {
   "cell_type": "markdown",
   "metadata": {},
   "source": [
    "### Y ahora, veamos progreso en el tiempo, con y sin alinear al inicio del experimento"
   ]
  },
  {
   "cell_type": "code",
   "execution_count": null,
   "metadata": {},
   "outputs": [],
   "source": [
    "# montamos un dataframe para valores de este gráfico en concreto\n",
    "tvalues = []\n",
    "for id, row in df[['completables_progress']].iterrows():\n",
    "    for v in row['completables_progress']['MyFirstGame']:\n",
    "        tvalues.append({'id': id, 'completable': 'MyFirstGame', 'progress': v[0], 'time': np.datetime64(v[1])})\n",
    "tvalues = pd.DataFrame.from_records(tvalues)\n",
    "tvalues"
   ]
  },
  {
   "cell_type": "code",
   "execution_count": null,
   "metadata": {},
   "outputs": [],
   "source": [
    "# mostramos\n",
    "data = []\n",
    "for id in tvalues['id'].unique():\n",
    "    bar_data = tvalues[tvalues['id'] == id]\n",
    "    data.append(go.Scatter(x=bar_data['time'], y=bar_data['progress'], name=id, hovertext=f\"<b>{id}</b>\", mode=\"lines+markers\"))    \n",
    "fig = go.Figure(\n",
    "    layout_title_text=\"Progreso en 1er completable\",\n",
    "    data=data\n",
    ")\n",
    "fig.update_xaxes(categoryorder=\"total descending\")\n",
    "fig.show()"
   ]
  },
  {
   "cell_type": "code",
   "execution_count": null,
   "metadata": {},
   "outputs": [],
   "source": [
    "# y ahora, alineando por 1er evento\n",
    "data = []\n",
    "for id in tvalues['id'].unique():\n",
    "    bar_data = tvalues[tvalues['id'] == id].copy()\n",
    "    first = bar_data.time.min()\n",
    "    bar_data.time = pd.to_timedelta(bar_data.time - first) + pd.to_datetime('1970/01/01')\n",
    "    data.append(go.Scatter(x=bar_data['time'], y=bar_data['progress'], name=id, hovertext=f\"<b>{id}</b>\", mode=\"lines+markers\"))    \n",
    "fig = go.Figure(\n",
    "    layout_title_text=\"Progreso en 1er completable, desde inicio de sesión\",\n",
    "    data=data\n",
    ")\n",
    "fig.update_xaxes(categoryorder=\"total descending\")\n",
    "fig.show()"
   ]
  }
 ],
 "metadata": {
  "kernelspec": {
   "display_name": "Python 3",
   "language": "python",
   "name": "python3"
  },
  "language_info": {
   "codemirror_mode": {
    "name": "ipython",
    "version": 3
   },
   "file_extension": ".py",
   "mimetype": "text/x-python",
   "name": "python",
   "nbconvert_exporter": "python",
   "pygments_lexer": "ipython3",
   "version": "3.12.4"
  }
 },
 "nbformat": 4,
 "nbformat_minor": 2
}
