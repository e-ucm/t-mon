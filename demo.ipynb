{
 "cells": [
  {
   "cell_type": "code",
   "execution_count": 6,
   "metadata": {},
   "outputs": [
    {
     "name": "stdout",
     "output_type": "stream",
     "text": [
      "Info log (2 lines):\n",
      " ... 1st line is valid JSON; interpreting as one-statement-per-line (84 statement(s))\n",
      "... processed 84/84 statement(s) in 0:00:00.002255. Displaying visualizations ...\n"
     ]
    }
   ],
   "source": [
    "# cargamos un fichero con trazas, usando código de t-mon\n",
    "\n",
    "%run ProcessxAPISGStatement.py\n",
    "%run fileBrowserAndUploadButtonToLoadProcessStatements.py\n",
    "global players_info\n",
    "players_info= load_players_info_from_file(\"xapi-sg-sample-data.json\")\n",
    "players_info"
   ]
  },
  {
   "cell_type": "code",
   "execution_count": 2,
   "metadata": {},
   "outputs": [
    {
     "data": {
      "text/html": [
       "        <script type=\"text/javascript\">\n",
       "        window.PlotlyConfig = {MathJaxConfig: 'local'};\n",
       "        if (window.MathJax && window.MathJax.Hub && window.MathJax.Hub.Config) {window.MathJax.Hub.Config({SVG: {font: \"STIX-Web\"}});}\n",
       "        if (typeof require !== 'undefined') {\n",
       "        require.undef(\"plotly\");\n",
       "        requirejs.config({\n",
       "            paths: {\n",
       "                'plotly': ['https://cdn.plot.ly/plotly-2.32.0.min']\n",
       "            }\n",
       "        });\n",
       "        require(['plotly'], function(Plotly) {\n",
       "            window._Plotly = Plotly;\n",
       "        });\n",
       "        }\n",
       "        </script>\n",
       "        "
      ]
     },
     "metadata": {},
     "output_type": "display_data"
    }
   ],
   "source": [
    "# cargamos pandas, plotly\n",
    "\n",
    "import pandas as pd\n",
    "import numpy as np\n",
    "import plotly.graph_objs as go\n",
    "from plotly.subplots import make_subplots\n",
    "from plotly.offline import init_notebook_mode, iplot\n",
    "init_notebook_mode(connected=True)"
   ]
  },
  {
   "cell_type": "code",
   "execution_count": 4,
   "metadata": {},
   "outputs": [
    {
     "ename": "TypeError",
     "evalue": "object of type 'NoneType' has no len()",
     "output_type": "error",
     "traceback": [
      "\u001b[1;31m---------------------------------------------------------------------------\u001b[0m",
      "\u001b[1;31mTypeError\u001b[0m                                 Traceback (most recent call last)",
      "\u001b[1;32m~\\AppData\\Local\\Temp\\ipykernel_27168\\2959794928.py\u001b[0m in \u001b[0;36m?\u001b[1;34m()\u001b[0m\n\u001b[0;32m      1\u001b[0m \u001b[1;31m# montemos un dataframe\u001b[0m\u001b[1;33m\u001b[0m\u001b[1;33m\u001b[0m\u001b[0m\n\u001b[1;32m----> 2\u001b[1;33m \u001b[0mdf\u001b[0m \u001b[1;33m=\u001b[0m \u001b[0mpd\u001b[0m\u001b[1;33m.\u001b[0m\u001b[0mDataFrame\u001b[0m\u001b[1;33m.\u001b[0m\u001b[0mfrom_dict\u001b[0m\u001b[1;33m(\u001b[0m\u001b[0mplayers_info\u001b[0m\u001b[1;33m,\u001b[0m \u001b[1;34m'index'\u001b[0m\u001b[1;33m)\u001b[0m\u001b[1;33m\u001b[0m\u001b[1;33m\u001b[0m\u001b[0m\n\u001b[0m\u001b[0;32m      3\u001b[0m \u001b[0mdf\u001b[0m\u001b[1;33m.\u001b[0m\u001b[0mloc\u001b[0m\u001b[1;33m[\u001b[0m\u001b[1;34m'John Smith'\u001b[0m\u001b[1;33m]\u001b[0m\u001b[1;33m\u001b[0m\u001b[1;33m\u001b[0m\u001b[0m\n",
      "\u001b[1;32mc:\\github\\.venv\\Lib\\site-packages\\pandas\\core\\frame.py\u001b[0m in \u001b[0;36m?\u001b[1;34m(cls, data, orient, dtype, columns)\u001b[0m\n\u001b[0;32m   1894\u001b[0m         \"\"\"\n\u001b[0;32m   1895\u001b[0m         \u001b[0mindex\u001b[0m \u001b[1;33m=\u001b[0m \u001b[1;32mNone\u001b[0m\u001b[1;33m\u001b[0m\u001b[1;33m\u001b[0m\u001b[0m\n\u001b[0;32m   1896\u001b[0m         \u001b[0morient\u001b[0m \u001b[1;33m=\u001b[0m \u001b[0morient\u001b[0m\u001b[1;33m.\u001b[0m\u001b[0mlower\u001b[0m\u001b[1;33m(\u001b[0m\u001b[1;33m)\u001b[0m  \u001b[1;31m# type: ignore[assignment]\u001b[0m\u001b[1;33m\u001b[0m\u001b[1;33m\u001b[0m\u001b[0m\n\u001b[0;32m   1897\u001b[0m         \u001b[1;32mif\u001b[0m \u001b[0morient\u001b[0m \u001b[1;33m==\u001b[0m \u001b[1;34m\"index\"\u001b[0m\u001b[1;33m:\u001b[0m\u001b[1;33m\u001b[0m\u001b[1;33m\u001b[0m\u001b[0m\n\u001b[1;32m-> 1898\u001b[1;33m             \u001b[1;32mif\u001b[0m \u001b[0mlen\u001b[0m\u001b[1;33m(\u001b[0m\u001b[0mdata\u001b[0m\u001b[1;33m)\u001b[0m \u001b[1;33m>\u001b[0m \u001b[1;36m0\u001b[0m\u001b[1;33m:\u001b[0m\u001b[1;33m\u001b[0m\u001b[1;33m\u001b[0m\u001b[0m\n\u001b[0m\u001b[0;32m   1899\u001b[0m                 \u001b[1;31m# TODO speed up Series case\u001b[0m\u001b[1;33m\u001b[0m\u001b[1;33m\u001b[0m\u001b[0m\n\u001b[0;32m   1900\u001b[0m                 \u001b[1;32mif\u001b[0m \u001b[0misinstance\u001b[0m\u001b[1;33m(\u001b[0m\u001b[0mnext\u001b[0m\u001b[1;33m(\u001b[0m\u001b[0miter\u001b[0m\u001b[1;33m(\u001b[0m\u001b[0mdata\u001b[0m\u001b[1;33m.\u001b[0m\u001b[0mvalues\u001b[0m\u001b[1;33m(\u001b[0m\u001b[1;33m)\u001b[0m\u001b[1;33m)\u001b[0m\u001b[1;33m)\u001b[0m\u001b[1;33m,\u001b[0m \u001b[1;33m(\u001b[0m\u001b[0mSeries\u001b[0m\u001b[1;33m,\u001b[0m \u001b[0mdict\u001b[0m\u001b[1;33m)\u001b[0m\u001b[1;33m)\u001b[0m\u001b[1;33m:\u001b[0m\u001b[1;33m\u001b[0m\u001b[1;33m\u001b[0m\u001b[0m\n\u001b[0;32m   1901\u001b[0m                     \u001b[0mdata\u001b[0m \u001b[1;33m=\u001b[0m \u001b[0m_from_nested_dict\u001b[0m\u001b[1;33m(\u001b[0m\u001b[0mdata\u001b[0m\u001b[1;33m)\u001b[0m\u001b[1;33m\u001b[0m\u001b[1;33m\u001b[0m\u001b[0m\n",
      "\u001b[1;31mTypeError\u001b[0m: object of type 'NoneType' has no len()"
     ]
    }
   ],
   "source": [
    "# montemos un dataframe\n",
    "df = pd.DataFrame.from_dict(players_info, 'index')\n",
    "df.loc['John Smith']"
   ]
  },
  {
   "cell_type": "code",
   "execution_count": null,
   "metadata": {},
   "outputs": [
    {
     "name": "stdout",
     "output_type": "stream",
     "text": [
      "total de 5 actores\n"
     ]
    }
   ],
   "source": [
    "# algo de información básica\n",
    "print(f\"total de {len(df)} actores\")"
   ]
  },
  {
   "cell_type": "markdown",
   "metadata": {},
   "source": [
    "### Intentemos ver puntuación en cada completable..."
   ]
  },
  {
   "cell_type": "code",
   "execution_count": null,
   "metadata": {},
   "outputs": [],
   "source": [
    "# montamos un dataframe para valores de este gráfico en concreto\n",
    "cvalues = []\n",
    "for id, row in df[['completables_scores']].iterrows():\n",
    "    for k, v in row['completables_scores'].items():\n",
    "        cvalues.append({'id': id, 'completable': k, 'score': v})\n",
    "cvalues = pd.DataFrame.from_records(cvalues)"
   ]
  },
  {
   "cell_type": "code",
   "execution_count": null,
   "metadata": {},
   "outputs": [
    {
     "data": {
      "application/vnd.plotly.v1+json": {
       "config": {
        "plotlyServerURL": "https://plot.ly"
       },
       "data": [
        {
         "name": "World1-1",
         "type": "bar",
         "x": [
          "John Smith",
          "Sarah Connor",
          "Juan Gomez"
         ],
         "y": [
          50,
          17,
          22
         ]
        },
        {
         "name": "MyFirstGame",
         "type": "bar",
         "x": [
          "John Smith",
          "Sarah Connor",
          "James Dean",
          "Mary Kate",
          "Juan Gomez"
         ],
         "y": [
          50,
          33,
          95,
          72,
          43
         ]
        },
        {
         "name": "World1-2",
         "type": "bar",
         "x": [
          "James Dean",
          "Mary Kate",
          "Juan Gomez"
         ],
         "y": [
          95,
          72,
          60
         ]
        }
       ],
       "layout": {
        "barmode": "stack",
        "template": {
         "data": {
          "bar": [
           {
            "error_x": {
             "color": "#2a3f5f"
            },
            "error_y": {
             "color": "#2a3f5f"
            },
            "marker": {
             "line": {
              "color": "#E5ECF6",
              "width": 0.5
             },
             "pattern": {
              "fillmode": "overlay",
              "size": 10,
              "solidity": 0.2
             }
            },
            "type": "bar"
           }
          ],
          "barpolar": [
           {
            "marker": {
             "line": {
              "color": "#E5ECF6",
              "width": 0.5
             },
             "pattern": {
              "fillmode": "overlay",
              "size": 10,
              "solidity": 0.2
             }
            },
            "type": "barpolar"
           }
          ],
          "carpet": [
           {
            "aaxis": {
             "endlinecolor": "#2a3f5f",
             "gridcolor": "white",
             "linecolor": "white",
             "minorgridcolor": "white",
             "startlinecolor": "#2a3f5f"
            },
            "baxis": {
             "endlinecolor": "#2a3f5f",
             "gridcolor": "white",
             "linecolor": "white",
             "minorgridcolor": "white",
             "startlinecolor": "#2a3f5f"
            },
            "type": "carpet"
           }
          ],
          "choropleth": [
           {
            "colorbar": {
             "outlinewidth": 0,
             "ticks": ""
            },
            "type": "choropleth"
           }
          ],
          "contour": [
           {
            "colorbar": {
             "outlinewidth": 0,
             "ticks": ""
            },
            "colorscale": [
             [
              0,
              "#0d0887"
             ],
             [
              0.1111111111111111,
              "#46039f"
             ],
             [
              0.2222222222222222,
              "#7201a8"
             ],
             [
              0.3333333333333333,
              "#9c179e"
             ],
             [
              0.4444444444444444,
              "#bd3786"
             ],
             [
              0.5555555555555556,
              "#d8576b"
             ],
             [
              0.6666666666666666,
              "#ed7953"
             ],
             [
              0.7777777777777778,
              "#fb9f3a"
             ],
             [
              0.8888888888888888,
              "#fdca26"
             ],
             [
              1,
              "#f0f921"
             ]
            ],
            "type": "contour"
           }
          ],
          "contourcarpet": [
           {
            "colorbar": {
             "outlinewidth": 0,
             "ticks": ""
            },
            "type": "contourcarpet"
           }
          ],
          "heatmap": [
           {
            "colorbar": {
             "outlinewidth": 0,
             "ticks": ""
            },
            "colorscale": [
             [
              0,
              "#0d0887"
             ],
             [
              0.1111111111111111,
              "#46039f"
             ],
             [
              0.2222222222222222,
              "#7201a8"
             ],
             [
              0.3333333333333333,
              "#9c179e"
             ],
             [
              0.4444444444444444,
              "#bd3786"
             ],
             [
              0.5555555555555556,
              "#d8576b"
             ],
             [
              0.6666666666666666,
              "#ed7953"
             ],
             [
              0.7777777777777778,
              "#fb9f3a"
             ],
             [
              0.8888888888888888,
              "#fdca26"
             ],
             [
              1,
              "#f0f921"
             ]
            ],
            "type": "heatmap"
           }
          ],
          "heatmapgl": [
           {
            "colorbar": {
             "outlinewidth": 0,
             "ticks": ""
            },
            "colorscale": [
             [
              0,
              "#0d0887"
             ],
             [
              0.1111111111111111,
              "#46039f"
             ],
             [
              0.2222222222222222,
              "#7201a8"
             ],
             [
              0.3333333333333333,
              "#9c179e"
             ],
             [
              0.4444444444444444,
              "#bd3786"
             ],
             [
              0.5555555555555556,
              "#d8576b"
             ],
             [
              0.6666666666666666,
              "#ed7953"
             ],
             [
              0.7777777777777778,
              "#fb9f3a"
             ],
             [
              0.8888888888888888,
              "#fdca26"
             ],
             [
              1,
              "#f0f921"
             ]
            ],
            "type": "heatmapgl"
           }
          ],
          "histogram": [
           {
            "marker": {
             "pattern": {
              "fillmode": "overlay",
              "size": 10,
              "solidity": 0.2
             }
            },
            "type": "histogram"
           }
          ],
          "histogram2d": [
           {
            "colorbar": {
             "outlinewidth": 0,
             "ticks": ""
            },
            "colorscale": [
             [
              0,
              "#0d0887"
             ],
             [
              0.1111111111111111,
              "#46039f"
             ],
             [
              0.2222222222222222,
              "#7201a8"
             ],
             [
              0.3333333333333333,
              "#9c179e"
             ],
             [
              0.4444444444444444,
              "#bd3786"
             ],
             [
              0.5555555555555556,
              "#d8576b"
             ],
             [
              0.6666666666666666,
              "#ed7953"
             ],
             [
              0.7777777777777778,
              "#fb9f3a"
             ],
             [
              0.8888888888888888,
              "#fdca26"
             ],
             [
              1,
              "#f0f921"
             ]
            ],
            "type": "histogram2d"
           }
          ],
          "histogram2dcontour": [
           {
            "colorbar": {
             "outlinewidth": 0,
             "ticks": ""
            },
            "colorscale": [
             [
              0,
              "#0d0887"
             ],
             [
              0.1111111111111111,
              "#46039f"
             ],
             [
              0.2222222222222222,
              "#7201a8"
             ],
             [
              0.3333333333333333,
              "#9c179e"
             ],
             [
              0.4444444444444444,
              "#bd3786"
             ],
             [
              0.5555555555555556,
              "#d8576b"
             ],
             [
              0.6666666666666666,
              "#ed7953"
             ],
             [
              0.7777777777777778,
              "#fb9f3a"
             ],
             [
              0.8888888888888888,
              "#fdca26"
             ],
             [
              1,
              "#f0f921"
             ]
            ],
            "type": "histogram2dcontour"
           }
          ],
          "mesh3d": [
           {
            "colorbar": {
             "outlinewidth": 0,
             "ticks": ""
            },
            "type": "mesh3d"
           }
          ],
          "parcoords": [
           {
            "line": {
             "colorbar": {
              "outlinewidth": 0,
              "ticks": ""
             }
            },
            "type": "parcoords"
           }
          ],
          "pie": [
           {
            "automargin": true,
            "type": "pie"
           }
          ],
          "scatter": [
           {
            "fillpattern": {
             "fillmode": "overlay",
             "size": 10,
             "solidity": 0.2
            },
            "type": "scatter"
           }
          ],
          "scatter3d": [
           {
            "line": {
             "colorbar": {
              "outlinewidth": 0,
              "ticks": ""
             }
            },
            "marker": {
             "colorbar": {
              "outlinewidth": 0,
              "ticks": ""
             }
            },
            "type": "scatter3d"
           }
          ],
          "scattercarpet": [
           {
            "marker": {
             "colorbar": {
              "outlinewidth": 0,
              "ticks": ""
             }
            },
            "type": "scattercarpet"
           }
          ],
          "scattergeo": [
           {
            "marker": {
             "colorbar": {
              "outlinewidth": 0,
              "ticks": ""
             }
            },
            "type": "scattergeo"
           }
          ],
          "scattergl": [
           {
            "marker": {
             "colorbar": {
              "outlinewidth": 0,
              "ticks": ""
             }
            },
            "type": "scattergl"
           }
          ],
          "scattermapbox": [
           {
            "marker": {
             "colorbar": {
              "outlinewidth": 0,
              "ticks": ""
             }
            },
            "type": "scattermapbox"
           }
          ],
          "scatterpolar": [
           {
            "marker": {
             "colorbar": {
              "outlinewidth": 0,
              "ticks": ""
             }
            },
            "type": "scatterpolar"
           }
          ],
          "scatterpolargl": [
           {
            "marker": {
             "colorbar": {
              "outlinewidth": 0,
              "ticks": ""
             }
            },
            "type": "scatterpolargl"
           }
          ],
          "scatterternary": [
           {
            "marker": {
             "colorbar": {
              "outlinewidth": 0,
              "ticks": ""
             }
            },
            "type": "scatterternary"
           }
          ],
          "surface": [
           {
            "colorbar": {
             "outlinewidth": 0,
             "ticks": ""
            },
            "colorscale": [
             [
              0,
              "#0d0887"
             ],
             [
              0.1111111111111111,
              "#46039f"
             ],
             [
              0.2222222222222222,
              "#7201a8"
             ],
             [
              0.3333333333333333,
              "#9c179e"
             ],
             [
              0.4444444444444444,
              "#bd3786"
             ],
             [
              0.5555555555555556,
              "#d8576b"
             ],
             [
              0.6666666666666666,
              "#ed7953"
             ],
             [
              0.7777777777777778,
              "#fb9f3a"
             ],
             [
              0.8888888888888888,
              "#fdca26"
             ],
             [
              1,
              "#f0f921"
             ]
            ],
            "type": "surface"
           }
          ],
          "table": [
           {
            "cells": {
             "fill": {
              "color": "#EBF0F8"
             },
             "line": {
              "color": "white"
             }
            },
            "header": {
             "fill": {
              "color": "#C8D4E3"
             },
             "line": {
              "color": "white"
             }
            },
            "type": "table"
           }
          ]
         },
         "layout": {
          "annotationdefaults": {
           "arrowcolor": "#2a3f5f",
           "arrowhead": 0,
           "arrowwidth": 1
          },
          "autotypenumbers": "strict",
          "coloraxis": {
           "colorbar": {
            "outlinewidth": 0,
            "ticks": ""
           }
          },
          "colorscale": {
           "diverging": [
            [
             0,
             "#8e0152"
            ],
            [
             0.1,
             "#c51b7d"
            ],
            [
             0.2,
             "#de77ae"
            ],
            [
             0.3,
             "#f1b6da"
            ],
            [
             0.4,
             "#fde0ef"
            ],
            [
             0.5,
             "#f7f7f7"
            ],
            [
             0.6,
             "#e6f5d0"
            ],
            [
             0.7,
             "#b8e186"
            ],
            [
             0.8,
             "#7fbc41"
            ],
            [
             0.9,
             "#4d9221"
            ],
            [
             1,
             "#276419"
            ]
           ],
           "sequential": [
            [
             0,
             "#0d0887"
            ],
            [
             0.1111111111111111,
             "#46039f"
            ],
            [
             0.2222222222222222,
             "#7201a8"
            ],
            [
             0.3333333333333333,
             "#9c179e"
            ],
            [
             0.4444444444444444,
             "#bd3786"
            ],
            [
             0.5555555555555556,
             "#d8576b"
            ],
            [
             0.6666666666666666,
             "#ed7953"
            ],
            [
             0.7777777777777778,
             "#fb9f3a"
            ],
            [
             0.8888888888888888,
             "#fdca26"
            ],
            [
             1,
             "#f0f921"
            ]
           ],
           "sequentialminus": [
            [
             0,
             "#0d0887"
            ],
            [
             0.1111111111111111,
             "#46039f"
            ],
            [
             0.2222222222222222,
             "#7201a8"
            ],
            [
             0.3333333333333333,
             "#9c179e"
            ],
            [
             0.4444444444444444,
             "#bd3786"
            ],
            [
             0.5555555555555556,
             "#d8576b"
            ],
            [
             0.6666666666666666,
             "#ed7953"
            ],
            [
             0.7777777777777778,
             "#fb9f3a"
            ],
            [
             0.8888888888888888,
             "#fdca26"
            ],
            [
             1,
             "#f0f921"
            ]
           ]
          },
          "colorway": [
           "#636efa",
           "#EF553B",
           "#00cc96",
           "#ab63fa",
           "#FFA15A",
           "#19d3f3",
           "#FF6692",
           "#B6E880",
           "#FF97FF",
           "#FECB52"
          ],
          "font": {
           "color": "#2a3f5f"
          },
          "geo": {
           "bgcolor": "white",
           "lakecolor": "white",
           "landcolor": "#E5ECF6",
           "showlakes": true,
           "showland": true,
           "subunitcolor": "white"
          },
          "hoverlabel": {
           "align": "left"
          },
          "hovermode": "closest",
          "mapbox": {
           "style": "light"
          },
          "paper_bgcolor": "white",
          "plot_bgcolor": "#E5ECF6",
          "polar": {
           "angularaxis": {
            "gridcolor": "white",
            "linecolor": "white",
            "ticks": ""
           },
           "bgcolor": "#E5ECF6",
           "radialaxis": {
            "gridcolor": "white",
            "linecolor": "white",
            "ticks": ""
           }
          },
          "scene": {
           "xaxis": {
            "backgroundcolor": "#E5ECF6",
            "gridcolor": "white",
            "gridwidth": 2,
            "linecolor": "white",
            "showbackground": true,
            "ticks": "",
            "zerolinecolor": "white"
           },
           "yaxis": {
            "backgroundcolor": "#E5ECF6",
            "gridcolor": "white",
            "gridwidth": 2,
            "linecolor": "white",
            "showbackground": true,
            "ticks": "",
            "zerolinecolor": "white"
           },
           "zaxis": {
            "backgroundcolor": "#E5ECF6",
            "gridcolor": "white",
            "gridwidth": 2,
            "linecolor": "white",
            "showbackground": true,
            "ticks": "",
            "zerolinecolor": "white"
           }
          },
          "shapedefaults": {
           "line": {
            "color": "#2a3f5f"
           }
          },
          "ternary": {
           "aaxis": {
            "gridcolor": "white",
            "linecolor": "white",
            "ticks": ""
           },
           "baxis": {
            "gridcolor": "white",
            "linecolor": "white",
            "ticks": ""
           },
           "bgcolor": "#E5ECF6",
           "caxis": {
            "gridcolor": "white",
            "linecolor": "white",
            "ticks": ""
           }
          },
          "title": {
           "x": 0.05
          },
          "xaxis": {
           "automargin": true,
           "gridcolor": "white",
           "linecolor": "white",
           "ticks": "",
           "title": {
            "standoff": 15
           },
           "zerolinecolor": "white",
           "zerolinewidth": 2
          },
          "yaxis": {
           "automargin": true,
           "gridcolor": "white",
           "linecolor": "white",
           "ticks": "",
           "title": {
            "standoff": 15
           },
           "zerolinecolor": "white",
           "zerolinewidth": 2
          }
         }
        },
        "title": {
         "text": "Puntuación en completables"
        },
        "xaxis": {
         "categoryorder": "total descending"
        }
       }
      },
      "text/html": [
       "<div>                            <div id=\"0b88abdb-d9f6-410f-b7e5-07961e5da716\" class=\"plotly-graph-div\" style=\"height:525px; width:100%;\"></div>            <script type=\"text/javascript\">                require([\"plotly\"], function(Plotly) {                    window.PLOTLYENV=window.PLOTLYENV || {};                                    if (document.getElementById(\"0b88abdb-d9f6-410f-b7e5-07961e5da716\")) {                    Plotly.newPlot(                        \"0b88abdb-d9f6-410f-b7e5-07961e5da716\",                        [{\"name\":\"World1-1\",\"x\":[\"John Smith\",\"Sarah Connor\",\"Juan Gomez\"],\"y\":[50,17,22],\"type\":\"bar\"},{\"name\":\"MyFirstGame\",\"x\":[\"John Smith\",\"Sarah Connor\",\"James Dean\",\"Mary Kate\",\"Juan Gomez\"],\"y\":[50,33,95,72,43],\"type\":\"bar\"},{\"name\":\"World1-2\",\"x\":[\"James Dean\",\"Mary Kate\",\"Juan Gomez\"],\"y\":[95,72,60],\"type\":\"bar\"}],                        {\"template\":{\"data\":{\"histogram2dcontour\":[{\"type\":\"histogram2dcontour\",\"colorbar\":{\"outlinewidth\":0,\"ticks\":\"\"},\"colorscale\":[[0.0,\"#0d0887\"],[0.1111111111111111,\"#46039f\"],[0.2222222222222222,\"#7201a8\"],[0.3333333333333333,\"#9c179e\"],[0.4444444444444444,\"#bd3786\"],[0.5555555555555556,\"#d8576b\"],[0.6666666666666666,\"#ed7953\"],[0.7777777777777778,\"#fb9f3a\"],[0.8888888888888888,\"#fdca26\"],[1.0,\"#f0f921\"]]}],\"choropleth\":[{\"type\":\"choropleth\",\"colorbar\":{\"outlinewidth\":0,\"ticks\":\"\"}}],\"histogram2d\":[{\"type\":\"histogram2d\",\"colorbar\":{\"outlinewidth\":0,\"ticks\":\"\"},\"colorscale\":[[0.0,\"#0d0887\"],[0.1111111111111111,\"#46039f\"],[0.2222222222222222,\"#7201a8\"],[0.3333333333333333,\"#9c179e\"],[0.4444444444444444,\"#bd3786\"],[0.5555555555555556,\"#d8576b\"],[0.6666666666666666,\"#ed7953\"],[0.7777777777777778,\"#fb9f3a\"],[0.8888888888888888,\"#fdca26\"],[1.0,\"#f0f921\"]]}],\"heatmap\":[{\"type\":\"heatmap\",\"colorbar\":{\"outlinewidth\":0,\"ticks\":\"\"},\"colorscale\":[[0.0,\"#0d0887\"],[0.1111111111111111,\"#46039f\"],[0.2222222222222222,\"#7201a8\"],[0.3333333333333333,\"#9c179e\"],[0.4444444444444444,\"#bd3786\"],[0.5555555555555556,\"#d8576b\"],[0.6666666666666666,\"#ed7953\"],[0.7777777777777778,\"#fb9f3a\"],[0.8888888888888888,\"#fdca26\"],[1.0,\"#f0f921\"]]}],\"heatmapgl\":[{\"type\":\"heatmapgl\",\"colorbar\":{\"outlinewidth\":0,\"ticks\":\"\"},\"colorscale\":[[0.0,\"#0d0887\"],[0.1111111111111111,\"#46039f\"],[0.2222222222222222,\"#7201a8\"],[0.3333333333333333,\"#9c179e\"],[0.4444444444444444,\"#bd3786\"],[0.5555555555555556,\"#d8576b\"],[0.6666666666666666,\"#ed7953\"],[0.7777777777777778,\"#fb9f3a\"],[0.8888888888888888,\"#fdca26\"],[1.0,\"#f0f921\"]]}],\"contourcarpet\":[{\"type\":\"contourcarpet\",\"colorbar\":{\"outlinewidth\":0,\"ticks\":\"\"}}],\"contour\":[{\"type\":\"contour\",\"colorbar\":{\"outlinewidth\":0,\"ticks\":\"\"},\"colorscale\":[[0.0,\"#0d0887\"],[0.1111111111111111,\"#46039f\"],[0.2222222222222222,\"#7201a8\"],[0.3333333333333333,\"#9c179e\"],[0.4444444444444444,\"#bd3786\"],[0.5555555555555556,\"#d8576b\"],[0.6666666666666666,\"#ed7953\"],[0.7777777777777778,\"#fb9f3a\"],[0.8888888888888888,\"#fdca26\"],[1.0,\"#f0f921\"]]}],\"surface\":[{\"type\":\"surface\",\"colorbar\":{\"outlinewidth\":0,\"ticks\":\"\"},\"colorscale\":[[0.0,\"#0d0887\"],[0.1111111111111111,\"#46039f\"],[0.2222222222222222,\"#7201a8\"],[0.3333333333333333,\"#9c179e\"],[0.4444444444444444,\"#bd3786\"],[0.5555555555555556,\"#d8576b\"],[0.6666666666666666,\"#ed7953\"],[0.7777777777777778,\"#fb9f3a\"],[0.8888888888888888,\"#fdca26\"],[1.0,\"#f0f921\"]]}],\"mesh3d\":[{\"type\":\"mesh3d\",\"colorbar\":{\"outlinewidth\":0,\"ticks\":\"\"}}],\"scatter\":[{\"fillpattern\":{\"fillmode\":\"overlay\",\"size\":10,\"solidity\":0.2},\"type\":\"scatter\"}],\"parcoords\":[{\"type\":\"parcoords\",\"line\":{\"colorbar\":{\"outlinewidth\":0,\"ticks\":\"\"}}}],\"scatterpolargl\":[{\"type\":\"scatterpolargl\",\"marker\":{\"colorbar\":{\"outlinewidth\":0,\"ticks\":\"\"}}}],\"bar\":[{\"error_x\":{\"color\":\"#2a3f5f\"},\"error_y\":{\"color\":\"#2a3f5f\"},\"marker\":{\"line\":{\"color\":\"#E5ECF6\",\"width\":0.5},\"pattern\":{\"fillmode\":\"overlay\",\"size\":10,\"solidity\":0.2}},\"type\":\"bar\"}],\"scattergeo\":[{\"type\":\"scattergeo\",\"marker\":{\"colorbar\":{\"outlinewidth\":0,\"ticks\":\"\"}}}],\"scatterpolar\":[{\"type\":\"scatterpolar\",\"marker\":{\"colorbar\":{\"outlinewidth\":0,\"ticks\":\"\"}}}],\"histogram\":[{\"marker\":{\"pattern\":{\"fillmode\":\"overlay\",\"size\":10,\"solidity\":0.2}},\"type\":\"histogram\"}],\"scattergl\":[{\"type\":\"scattergl\",\"marker\":{\"colorbar\":{\"outlinewidth\":0,\"ticks\":\"\"}}}],\"scatter3d\":[{\"type\":\"scatter3d\",\"line\":{\"colorbar\":{\"outlinewidth\":0,\"ticks\":\"\"}},\"marker\":{\"colorbar\":{\"outlinewidth\":0,\"ticks\":\"\"}}}],\"scattermapbox\":[{\"type\":\"scattermapbox\",\"marker\":{\"colorbar\":{\"outlinewidth\":0,\"ticks\":\"\"}}}],\"scatterternary\":[{\"type\":\"scatterternary\",\"marker\":{\"colorbar\":{\"outlinewidth\":0,\"ticks\":\"\"}}}],\"scattercarpet\":[{\"type\":\"scattercarpet\",\"marker\":{\"colorbar\":{\"outlinewidth\":0,\"ticks\":\"\"}}}],\"carpet\":[{\"aaxis\":{\"endlinecolor\":\"#2a3f5f\",\"gridcolor\":\"white\",\"linecolor\":\"white\",\"minorgridcolor\":\"white\",\"startlinecolor\":\"#2a3f5f\"},\"baxis\":{\"endlinecolor\":\"#2a3f5f\",\"gridcolor\":\"white\",\"linecolor\":\"white\",\"minorgridcolor\":\"white\",\"startlinecolor\":\"#2a3f5f\"},\"type\":\"carpet\"}],\"table\":[{\"cells\":{\"fill\":{\"color\":\"#EBF0F8\"},\"line\":{\"color\":\"white\"}},\"header\":{\"fill\":{\"color\":\"#C8D4E3\"},\"line\":{\"color\":\"white\"}},\"type\":\"table\"}],\"barpolar\":[{\"marker\":{\"line\":{\"color\":\"#E5ECF6\",\"width\":0.5},\"pattern\":{\"fillmode\":\"overlay\",\"size\":10,\"solidity\":0.2}},\"type\":\"barpolar\"}],\"pie\":[{\"automargin\":true,\"type\":\"pie\"}]},\"layout\":{\"autotypenumbers\":\"strict\",\"colorway\":[\"#636efa\",\"#EF553B\",\"#00cc96\",\"#ab63fa\",\"#FFA15A\",\"#19d3f3\",\"#FF6692\",\"#B6E880\",\"#FF97FF\",\"#FECB52\"],\"font\":{\"color\":\"#2a3f5f\"},\"hovermode\":\"closest\",\"hoverlabel\":{\"align\":\"left\"},\"paper_bgcolor\":\"white\",\"plot_bgcolor\":\"#E5ECF6\",\"polar\":{\"bgcolor\":\"#E5ECF6\",\"angularaxis\":{\"gridcolor\":\"white\",\"linecolor\":\"white\",\"ticks\":\"\"},\"radialaxis\":{\"gridcolor\":\"white\",\"linecolor\":\"white\",\"ticks\":\"\"}},\"ternary\":{\"bgcolor\":\"#E5ECF6\",\"aaxis\":{\"gridcolor\":\"white\",\"linecolor\":\"white\",\"ticks\":\"\"},\"baxis\":{\"gridcolor\":\"white\",\"linecolor\":\"white\",\"ticks\":\"\"},\"caxis\":{\"gridcolor\":\"white\",\"linecolor\":\"white\",\"ticks\":\"\"}},\"coloraxis\":{\"colorbar\":{\"outlinewidth\":0,\"ticks\":\"\"}},\"colorscale\":{\"sequential\":[[0.0,\"#0d0887\"],[0.1111111111111111,\"#46039f\"],[0.2222222222222222,\"#7201a8\"],[0.3333333333333333,\"#9c179e\"],[0.4444444444444444,\"#bd3786\"],[0.5555555555555556,\"#d8576b\"],[0.6666666666666666,\"#ed7953\"],[0.7777777777777778,\"#fb9f3a\"],[0.8888888888888888,\"#fdca26\"],[1.0,\"#f0f921\"]],\"sequentialminus\":[[0.0,\"#0d0887\"],[0.1111111111111111,\"#46039f\"],[0.2222222222222222,\"#7201a8\"],[0.3333333333333333,\"#9c179e\"],[0.4444444444444444,\"#bd3786\"],[0.5555555555555556,\"#d8576b\"],[0.6666666666666666,\"#ed7953\"],[0.7777777777777778,\"#fb9f3a\"],[0.8888888888888888,\"#fdca26\"],[1.0,\"#f0f921\"]],\"diverging\":[[0,\"#8e0152\"],[0.1,\"#c51b7d\"],[0.2,\"#de77ae\"],[0.3,\"#f1b6da\"],[0.4,\"#fde0ef\"],[0.5,\"#f7f7f7\"],[0.6,\"#e6f5d0\"],[0.7,\"#b8e186\"],[0.8,\"#7fbc41\"],[0.9,\"#4d9221\"],[1,\"#276419\"]]},\"xaxis\":{\"gridcolor\":\"white\",\"linecolor\":\"white\",\"ticks\":\"\",\"title\":{\"standoff\":15},\"zerolinecolor\":\"white\",\"automargin\":true,\"zerolinewidth\":2},\"yaxis\":{\"gridcolor\":\"white\",\"linecolor\":\"white\",\"ticks\":\"\",\"title\":{\"standoff\":15},\"zerolinecolor\":\"white\",\"automargin\":true,\"zerolinewidth\":2},\"scene\":{\"xaxis\":{\"backgroundcolor\":\"#E5ECF6\",\"gridcolor\":\"white\",\"linecolor\":\"white\",\"showbackground\":true,\"ticks\":\"\",\"zerolinecolor\":\"white\",\"gridwidth\":2},\"yaxis\":{\"backgroundcolor\":\"#E5ECF6\",\"gridcolor\":\"white\",\"linecolor\":\"white\",\"showbackground\":true,\"ticks\":\"\",\"zerolinecolor\":\"white\",\"gridwidth\":2},\"zaxis\":{\"backgroundcolor\":\"#E5ECF6\",\"gridcolor\":\"white\",\"linecolor\":\"white\",\"showbackground\":true,\"ticks\":\"\",\"zerolinecolor\":\"white\",\"gridwidth\":2}},\"shapedefaults\":{\"line\":{\"color\":\"#2a3f5f\"}},\"annotationdefaults\":{\"arrowcolor\":\"#2a3f5f\",\"arrowhead\":0,\"arrowwidth\":1},\"geo\":{\"bgcolor\":\"white\",\"landcolor\":\"#E5ECF6\",\"subunitcolor\":\"white\",\"showland\":true,\"showlakes\":true,\"lakecolor\":\"white\"},\"title\":{\"x\":0.05},\"mapbox\":{\"style\":\"light\"}}},\"title\":{\"text\":\"Puntuaci\\u00f3n en completables\"},\"xaxis\":{\"categoryorder\":\"total descending\"},\"barmode\":\"stack\"},                        {\"responsive\": true}                    ).then(function(){\n",
       "                            \n",
       "var gd = document.getElementById('0b88abdb-d9f6-410f-b7e5-07961e5da716');\n",
       "var x = new MutationObserver(function (mutations, observer) {{\n",
       "        var display = window.getComputedStyle(gd).display;\n",
       "        if (!display || display === 'none') {{\n",
       "            console.log([gd, 'removed!']);\n",
       "            Plotly.purge(gd);\n",
       "            observer.disconnect();\n",
       "        }}\n",
       "}});\n",
       "\n",
       "// Listen for the removal of the full notebook cells\n",
       "var notebookContainer = gd.closest('#notebook-container');\n",
       "if (notebookContainer) {{\n",
       "    x.observe(notebookContainer, {childList: true});\n",
       "}}\n",
       "\n",
       "// Listen for the clearing of the current output cell\n",
       "var outputEl = gd.closest('.output');\n",
       "if (outputEl) {{\n",
       "    x.observe(outputEl, {childList: true});\n",
       "}}\n",
       "\n",
       "                        })                };                });            </script>        </div>"
      ]
     },
     "metadata": {},
     "output_type": "display_data"
    }
   ],
   "source": [
    "# mostramos\n",
    "data = []\n",
    "for c in cvalues['completable'].unique():\n",
    "    bar_data = cvalues[cvalues['completable'] == c]\n",
    "    data.append(go.Bar(x=bar_data['id'], y=bar_data['score'], name=c))    \n",
    "fig = go.Figure(\n",
    "    layout_title_text=\"Puntuación en completables\",\n",
    "    data=data\n",
    ")\n",
    "fig.update_xaxes(categoryorder=\"total descending\")\n",
    "fig.update_layout(barmode='stack')\n",
    "fig.show()"
   ]
  },
  {
   "cell_type": "markdown",
   "metadata": {},
   "source": [
    "### Y ahora, veamos progreso en el tiempo, con y sin alinear al inicio del experimento"
   ]
  },
  {
   "cell_type": "code",
   "execution_count": null,
   "metadata": {},
   "outputs": [
    {
     "data": {
      "text/html": [
       "<div>\n",
       "<style scoped>\n",
       "    .dataframe tbody tr th:only-of-type {\n",
       "        vertical-align: middle;\n",
       "    }\n",
       "\n",
       "    .dataframe tbody tr th {\n",
       "        vertical-align: top;\n",
       "    }\n",
       "\n",
       "    .dataframe thead th {\n",
       "        text-align: right;\n",
       "    }\n",
       "</style>\n",
       "<table border=\"1\" class=\"dataframe\">\n",
       "  <thead>\n",
       "    <tr style=\"text-align: right;\">\n",
       "      <th></th>\n",
       "      <th>id</th>\n",
       "      <th>completable</th>\n",
       "      <th>progress</th>\n",
       "      <th>time</th>\n",
       "    </tr>\n",
       "  </thead>\n",
       "  <tbody>\n",
       "    <tr>\n",
       "      <th>0</th>\n",
       "      <td>John Smith</td>\n",
       "      <td>MyFirstGame</td>\n",
       "      <td>0.15</td>\n",
       "      <td>2016-05-24 15:05:49</td>\n",
       "    </tr>\n",
       "    <tr>\n",
       "      <th>1</th>\n",
       "      <td>John Smith</td>\n",
       "      <td>MyFirstGame</td>\n",
       "      <td>0.50</td>\n",
       "      <td>2016-05-24 15:15:49</td>\n",
       "    </tr>\n",
       "    <tr>\n",
       "      <th>2</th>\n",
       "      <td>John Smith</td>\n",
       "      <td>MyFirstGame</td>\n",
       "      <td>0.70</td>\n",
       "      <td>2016-05-24 15:25:49</td>\n",
       "    </tr>\n",
       "    <tr>\n",
       "      <th>3</th>\n",
       "      <td>John Smith</td>\n",
       "      <td>MyFirstGame</td>\n",
       "      <td>0.90</td>\n",
       "      <td>2016-05-24 15:35:49</td>\n",
       "    </tr>\n",
       "    <tr>\n",
       "      <th>4</th>\n",
       "      <td>Sarah Connor</td>\n",
       "      <td>MyFirstGame</td>\n",
       "      <td>0.10</td>\n",
       "      <td>2016-05-24 15:05:49</td>\n",
       "    </tr>\n",
       "    <tr>\n",
       "      <th>5</th>\n",
       "      <td>Sarah Connor</td>\n",
       "      <td>MyFirstGame</td>\n",
       "      <td>0.35</td>\n",
       "      <td>2016-05-24 15:15:49</td>\n",
       "    </tr>\n",
       "    <tr>\n",
       "      <th>6</th>\n",
       "      <td>Sarah Connor</td>\n",
       "      <td>MyFirstGame</td>\n",
       "      <td>0.55</td>\n",
       "      <td>2016-05-24 15:25:49</td>\n",
       "    </tr>\n",
       "    <tr>\n",
       "      <th>7</th>\n",
       "      <td>Sarah Connor</td>\n",
       "      <td>MyFirstGame</td>\n",
       "      <td>0.75</td>\n",
       "      <td>2016-05-24 15:35:49</td>\n",
       "    </tr>\n",
       "    <tr>\n",
       "      <th>8</th>\n",
       "      <td>James Dean</td>\n",
       "      <td>MyFirstGame</td>\n",
       "      <td>0.45</td>\n",
       "      <td>2016-05-24 15:05:49</td>\n",
       "    </tr>\n",
       "    <tr>\n",
       "      <th>9</th>\n",
       "      <td>James Dean</td>\n",
       "      <td>MyFirstGame</td>\n",
       "      <td>0.80</td>\n",
       "      <td>2016-05-24 15:15:49</td>\n",
       "    </tr>\n",
       "    <tr>\n",
       "      <th>10</th>\n",
       "      <td>James Dean</td>\n",
       "      <td>MyFirstGame</td>\n",
       "      <td>0.99</td>\n",
       "      <td>2016-05-24 15:35:49</td>\n",
       "    </tr>\n",
       "    <tr>\n",
       "      <th>11</th>\n",
       "      <td>Mary Kate</td>\n",
       "      <td>MyFirstGame</td>\n",
       "      <td>0.25</td>\n",
       "      <td>2016-05-24 15:36:49</td>\n",
       "    </tr>\n",
       "    <tr>\n",
       "      <th>12</th>\n",
       "      <td>Mary Kate</td>\n",
       "      <td>MyFirstGame</td>\n",
       "      <td>0.35</td>\n",
       "      <td>2016-05-24 15:38:49</td>\n",
       "    </tr>\n",
       "    <tr>\n",
       "      <th>13</th>\n",
       "      <td>Mary Kate</td>\n",
       "      <td>MyFirstGame</td>\n",
       "      <td>0.65</td>\n",
       "      <td>2016-05-24 15:45:49</td>\n",
       "    </tr>\n",
       "    <tr>\n",
       "      <th>14</th>\n",
       "      <td>Mary Kate</td>\n",
       "      <td>MyFirstGame</td>\n",
       "      <td>0.75</td>\n",
       "      <td>2016-05-24 15:47:49</td>\n",
       "    </tr>\n",
       "    <tr>\n",
       "      <th>15</th>\n",
       "      <td>Juan Gomez</td>\n",
       "      <td>MyFirstGame</td>\n",
       "      <td>0.30</td>\n",
       "      <td>2016-05-24 15:17:49</td>\n",
       "    </tr>\n",
       "    <tr>\n",
       "      <th>16</th>\n",
       "      <td>Juan Gomez</td>\n",
       "      <td>MyFirstGame</td>\n",
       "      <td>0.50</td>\n",
       "      <td>2016-05-24 15:25:49</td>\n",
       "    </tr>\n",
       "    <tr>\n",
       "      <th>17</th>\n",
       "      <td>Juan Gomez</td>\n",
       "      <td>MyFirstGame</td>\n",
       "      <td>0.75</td>\n",
       "      <td>2016-05-24 15:33:49</td>\n",
       "    </tr>\n",
       "    <tr>\n",
       "      <th>18</th>\n",
       "      <td>Juan Gomez</td>\n",
       "      <td>MyFirstGame</td>\n",
       "      <td>0.95</td>\n",
       "      <td>2016-05-24 15:40:49</td>\n",
       "    </tr>\n",
       "  </tbody>\n",
       "</table>\n",
       "</div>"
      ],
      "text/plain": [
       "              id  completable  progress                time\n",
       "0     John Smith  MyFirstGame      0.15 2016-05-24 15:05:49\n",
       "1     John Smith  MyFirstGame      0.50 2016-05-24 15:15:49\n",
       "2     John Smith  MyFirstGame      0.70 2016-05-24 15:25:49\n",
       "3     John Smith  MyFirstGame      0.90 2016-05-24 15:35:49\n",
       "4   Sarah Connor  MyFirstGame      0.10 2016-05-24 15:05:49\n",
       "5   Sarah Connor  MyFirstGame      0.35 2016-05-24 15:15:49\n",
       "6   Sarah Connor  MyFirstGame      0.55 2016-05-24 15:25:49\n",
       "7   Sarah Connor  MyFirstGame      0.75 2016-05-24 15:35:49\n",
       "8     James Dean  MyFirstGame      0.45 2016-05-24 15:05:49\n",
       "9     James Dean  MyFirstGame      0.80 2016-05-24 15:15:49\n",
       "10    James Dean  MyFirstGame      0.99 2016-05-24 15:35:49\n",
       "11     Mary Kate  MyFirstGame      0.25 2016-05-24 15:36:49\n",
       "12     Mary Kate  MyFirstGame      0.35 2016-05-24 15:38:49\n",
       "13     Mary Kate  MyFirstGame      0.65 2016-05-24 15:45:49\n",
       "14     Mary Kate  MyFirstGame      0.75 2016-05-24 15:47:49\n",
       "15    Juan Gomez  MyFirstGame      0.30 2016-05-24 15:17:49\n",
       "16    Juan Gomez  MyFirstGame      0.50 2016-05-24 15:25:49\n",
       "17    Juan Gomez  MyFirstGame      0.75 2016-05-24 15:33:49\n",
       "18    Juan Gomez  MyFirstGame      0.95 2016-05-24 15:40:49"
      ]
     },
     "execution_count": 16,
     "metadata": {},
     "output_type": "execute_result"
    }
   ],
   "source": [
    "# montamos un dataframe para valores de este gráfico en concreto\n",
    "tvalues = []\n",
    "for id, row in df[['completables_progress']].iterrows():\n",
    "    for v in row['completables_progress']['MyFirstGame']:\n",
    "        tvalues.append({'id': id, 'completable': 'MyFirstGame', 'progress': v[0], 'time': np.datetime64(v[1])})\n",
    "tvalues = pd.DataFrame.from_records(tvalues)\n",
    "tvalues"
   ]
  },
  {
   "cell_type": "code",
   "execution_count": null,
   "metadata": {},
   "outputs": [
    {
     "data": {
      "application/vnd.plotly.v1+json": {
       "config": {
        "plotlyServerURL": "https://plot.ly"
       },
       "data": [
        {
         "hovertext": "<b>John Smith</b>",
         "mode": "lines+markers",
         "name": "John Smith",
         "type": "scatter",
         "x": [
          "2016-05-24T15:05:49",
          "2016-05-24T15:15:49",
          "2016-05-24T15:25:49",
          "2016-05-24T15:35:49"
         ],
         "y": [
          0.15,
          0.5,
          0.7,
          0.9
         ]
        },
        {
         "hovertext": "<b>Sarah Connor</b>",
         "mode": "lines+markers",
         "name": "Sarah Connor",
         "type": "scatter",
         "x": [
          "2016-05-24T15:05:49",
          "2016-05-24T15:15:49",
          "2016-05-24T15:25:49",
          "2016-05-24T15:35:49"
         ],
         "y": [
          0.1,
          0.35,
          0.55,
          0.75
         ]
        },
        {
         "hovertext": "<b>James Dean</b>",
         "mode": "lines+markers",
         "name": "James Dean",
         "type": "scatter",
         "x": [
          "2016-05-24T15:05:49",
          "2016-05-24T15:15:49",
          "2016-05-24T15:35:49"
         ],
         "y": [
          0.45,
          0.8,
          0.99
         ]
        },
        {
         "hovertext": "<b>Mary Kate</b>",
         "mode": "lines+markers",
         "name": "Mary Kate",
         "type": "scatter",
         "x": [
          "2016-05-24T15:36:49",
          "2016-05-24T15:38:49",
          "2016-05-24T15:45:49",
          "2016-05-24T15:47:49"
         ],
         "y": [
          0.25,
          0.35,
          0.65,
          0.75
         ]
        },
        {
         "hovertext": "<b>Juan Gomez</b>",
         "mode": "lines+markers",
         "name": "Juan Gomez",
         "type": "scatter",
         "x": [
          "2016-05-24T15:17:49",
          "2016-05-24T15:25:49",
          "2016-05-24T15:33:49",
          "2016-05-24T15:40:49"
         ],
         "y": [
          0.3,
          0.5,
          0.75,
          0.95
         ]
        }
       ],
       "layout": {
        "template": {
         "data": {
          "bar": [
           {
            "error_x": {
             "color": "#2a3f5f"
            },
            "error_y": {
             "color": "#2a3f5f"
            },
            "marker": {
             "line": {
              "color": "#E5ECF6",
              "width": 0.5
             },
             "pattern": {
              "fillmode": "overlay",
              "size": 10,
              "solidity": 0.2
             }
            },
            "type": "bar"
           }
          ],
          "barpolar": [
           {
            "marker": {
             "line": {
              "color": "#E5ECF6",
              "width": 0.5
             },
             "pattern": {
              "fillmode": "overlay",
              "size": 10,
              "solidity": 0.2
             }
            },
            "type": "barpolar"
           }
          ],
          "carpet": [
           {
            "aaxis": {
             "endlinecolor": "#2a3f5f",
             "gridcolor": "white",
             "linecolor": "white",
             "minorgridcolor": "white",
             "startlinecolor": "#2a3f5f"
            },
            "baxis": {
             "endlinecolor": "#2a3f5f",
             "gridcolor": "white",
             "linecolor": "white",
             "minorgridcolor": "white",
             "startlinecolor": "#2a3f5f"
            },
            "type": "carpet"
           }
          ],
          "choropleth": [
           {
            "colorbar": {
             "outlinewidth": 0,
             "ticks": ""
            },
            "type": "choropleth"
           }
          ],
          "contour": [
           {
            "colorbar": {
             "outlinewidth": 0,
             "ticks": ""
            },
            "colorscale": [
             [
              0,
              "#0d0887"
             ],
             [
              0.1111111111111111,
              "#46039f"
             ],
             [
              0.2222222222222222,
              "#7201a8"
             ],
             [
              0.3333333333333333,
              "#9c179e"
             ],
             [
              0.4444444444444444,
              "#bd3786"
             ],
             [
              0.5555555555555556,
              "#d8576b"
             ],
             [
              0.6666666666666666,
              "#ed7953"
             ],
             [
              0.7777777777777778,
              "#fb9f3a"
             ],
             [
              0.8888888888888888,
              "#fdca26"
             ],
             [
              1,
              "#f0f921"
             ]
            ],
            "type": "contour"
           }
          ],
          "contourcarpet": [
           {
            "colorbar": {
             "outlinewidth": 0,
             "ticks": ""
            },
            "type": "contourcarpet"
           }
          ],
          "heatmap": [
           {
            "colorbar": {
             "outlinewidth": 0,
             "ticks": ""
            },
            "colorscale": [
             [
              0,
              "#0d0887"
             ],
             [
              0.1111111111111111,
              "#46039f"
             ],
             [
              0.2222222222222222,
              "#7201a8"
             ],
             [
              0.3333333333333333,
              "#9c179e"
             ],
             [
              0.4444444444444444,
              "#bd3786"
             ],
             [
              0.5555555555555556,
              "#d8576b"
             ],
             [
              0.6666666666666666,
              "#ed7953"
             ],
             [
              0.7777777777777778,
              "#fb9f3a"
             ],
             [
              0.8888888888888888,
              "#fdca26"
             ],
             [
              1,
              "#f0f921"
             ]
            ],
            "type": "heatmap"
           }
          ],
          "heatmapgl": [
           {
            "colorbar": {
             "outlinewidth": 0,
             "ticks": ""
            },
            "colorscale": [
             [
              0,
              "#0d0887"
             ],
             [
              0.1111111111111111,
              "#46039f"
             ],
             [
              0.2222222222222222,
              "#7201a8"
             ],
             [
              0.3333333333333333,
              "#9c179e"
             ],
             [
              0.4444444444444444,
              "#bd3786"
             ],
             [
              0.5555555555555556,
              "#d8576b"
             ],
             [
              0.6666666666666666,
              "#ed7953"
             ],
             [
              0.7777777777777778,
              "#fb9f3a"
             ],
             [
              0.8888888888888888,
              "#fdca26"
             ],
             [
              1,
              "#f0f921"
             ]
            ],
            "type": "heatmapgl"
           }
          ],
          "histogram": [
           {
            "marker": {
             "pattern": {
              "fillmode": "overlay",
              "size": 10,
              "solidity": 0.2
             }
            },
            "type": "histogram"
           }
          ],
          "histogram2d": [
           {
            "colorbar": {
             "outlinewidth": 0,
             "ticks": ""
            },
            "colorscale": [
             [
              0,
              "#0d0887"
             ],
             [
              0.1111111111111111,
              "#46039f"
             ],
             [
              0.2222222222222222,
              "#7201a8"
             ],
             [
              0.3333333333333333,
              "#9c179e"
             ],
             [
              0.4444444444444444,
              "#bd3786"
             ],
             [
              0.5555555555555556,
              "#d8576b"
             ],
             [
              0.6666666666666666,
              "#ed7953"
             ],
             [
              0.7777777777777778,
              "#fb9f3a"
             ],
             [
              0.8888888888888888,
              "#fdca26"
             ],
             [
              1,
              "#f0f921"
             ]
            ],
            "type": "histogram2d"
           }
          ],
          "histogram2dcontour": [
           {
            "colorbar": {
             "outlinewidth": 0,
             "ticks": ""
            },
            "colorscale": [
             [
              0,
              "#0d0887"
             ],
             [
              0.1111111111111111,
              "#46039f"
             ],
             [
              0.2222222222222222,
              "#7201a8"
             ],
             [
              0.3333333333333333,
              "#9c179e"
             ],
             [
              0.4444444444444444,
              "#bd3786"
             ],
             [
              0.5555555555555556,
              "#d8576b"
             ],
             [
              0.6666666666666666,
              "#ed7953"
             ],
             [
              0.7777777777777778,
              "#fb9f3a"
             ],
             [
              0.8888888888888888,
              "#fdca26"
             ],
             [
              1,
              "#f0f921"
             ]
            ],
            "type": "histogram2dcontour"
           }
          ],
          "mesh3d": [
           {
            "colorbar": {
             "outlinewidth": 0,
             "ticks": ""
            },
            "type": "mesh3d"
           }
          ],
          "parcoords": [
           {
            "line": {
             "colorbar": {
              "outlinewidth": 0,
              "ticks": ""
             }
            },
            "type": "parcoords"
           }
          ],
          "pie": [
           {
            "automargin": true,
            "type": "pie"
           }
          ],
          "scatter": [
           {
            "fillpattern": {
             "fillmode": "overlay",
             "size": 10,
             "solidity": 0.2
            },
            "type": "scatter"
           }
          ],
          "scatter3d": [
           {
            "line": {
             "colorbar": {
              "outlinewidth": 0,
              "ticks": ""
             }
            },
            "marker": {
             "colorbar": {
              "outlinewidth": 0,
              "ticks": ""
             }
            },
            "type": "scatter3d"
           }
          ],
          "scattercarpet": [
           {
            "marker": {
             "colorbar": {
              "outlinewidth": 0,
              "ticks": ""
             }
            },
            "type": "scattercarpet"
           }
          ],
          "scattergeo": [
           {
            "marker": {
             "colorbar": {
              "outlinewidth": 0,
              "ticks": ""
             }
            },
            "type": "scattergeo"
           }
          ],
          "scattergl": [
           {
            "marker": {
             "colorbar": {
              "outlinewidth": 0,
              "ticks": ""
             }
            },
            "type": "scattergl"
           }
          ],
          "scattermapbox": [
           {
            "marker": {
             "colorbar": {
              "outlinewidth": 0,
              "ticks": ""
             }
            },
            "type": "scattermapbox"
           }
          ],
          "scatterpolar": [
           {
            "marker": {
             "colorbar": {
              "outlinewidth": 0,
              "ticks": ""
             }
            },
            "type": "scatterpolar"
           }
          ],
          "scatterpolargl": [
           {
            "marker": {
             "colorbar": {
              "outlinewidth": 0,
              "ticks": ""
             }
            },
            "type": "scatterpolargl"
           }
          ],
          "scatterternary": [
           {
            "marker": {
             "colorbar": {
              "outlinewidth": 0,
              "ticks": ""
             }
            },
            "type": "scatterternary"
           }
          ],
          "surface": [
           {
            "colorbar": {
             "outlinewidth": 0,
             "ticks": ""
            },
            "colorscale": [
             [
              0,
              "#0d0887"
             ],
             [
              0.1111111111111111,
              "#46039f"
             ],
             [
              0.2222222222222222,
              "#7201a8"
             ],
             [
              0.3333333333333333,
              "#9c179e"
             ],
             [
              0.4444444444444444,
              "#bd3786"
             ],
             [
              0.5555555555555556,
              "#d8576b"
             ],
             [
              0.6666666666666666,
              "#ed7953"
             ],
             [
              0.7777777777777778,
              "#fb9f3a"
             ],
             [
              0.8888888888888888,
              "#fdca26"
             ],
             [
              1,
              "#f0f921"
             ]
            ],
            "type": "surface"
           }
          ],
          "table": [
           {
            "cells": {
             "fill": {
              "color": "#EBF0F8"
             },
             "line": {
              "color": "white"
             }
            },
            "header": {
             "fill": {
              "color": "#C8D4E3"
             },
             "line": {
              "color": "white"
             }
            },
            "type": "table"
           }
          ]
         },
         "layout": {
          "annotationdefaults": {
           "arrowcolor": "#2a3f5f",
           "arrowhead": 0,
           "arrowwidth": 1
          },
          "autotypenumbers": "strict",
          "coloraxis": {
           "colorbar": {
            "outlinewidth": 0,
            "ticks": ""
           }
          },
          "colorscale": {
           "diverging": [
            [
             0,
             "#8e0152"
            ],
            [
             0.1,
             "#c51b7d"
            ],
            [
             0.2,
             "#de77ae"
            ],
            [
             0.3,
             "#f1b6da"
            ],
            [
             0.4,
             "#fde0ef"
            ],
            [
             0.5,
             "#f7f7f7"
            ],
            [
             0.6,
             "#e6f5d0"
            ],
            [
             0.7,
             "#b8e186"
            ],
            [
             0.8,
             "#7fbc41"
            ],
            [
             0.9,
             "#4d9221"
            ],
            [
             1,
             "#276419"
            ]
           ],
           "sequential": [
            [
             0,
             "#0d0887"
            ],
            [
             0.1111111111111111,
             "#46039f"
            ],
            [
             0.2222222222222222,
             "#7201a8"
            ],
            [
             0.3333333333333333,
             "#9c179e"
            ],
            [
             0.4444444444444444,
             "#bd3786"
            ],
            [
             0.5555555555555556,
             "#d8576b"
            ],
            [
             0.6666666666666666,
             "#ed7953"
            ],
            [
             0.7777777777777778,
             "#fb9f3a"
            ],
            [
             0.8888888888888888,
             "#fdca26"
            ],
            [
             1,
             "#f0f921"
            ]
           ],
           "sequentialminus": [
            [
             0,
             "#0d0887"
            ],
            [
             0.1111111111111111,
             "#46039f"
            ],
            [
             0.2222222222222222,
             "#7201a8"
            ],
            [
             0.3333333333333333,
             "#9c179e"
            ],
            [
             0.4444444444444444,
             "#bd3786"
            ],
            [
             0.5555555555555556,
             "#d8576b"
            ],
            [
             0.6666666666666666,
             "#ed7953"
            ],
            [
             0.7777777777777778,
             "#fb9f3a"
            ],
            [
             0.8888888888888888,
             "#fdca26"
            ],
            [
             1,
             "#f0f921"
            ]
           ]
          },
          "colorway": [
           "#636efa",
           "#EF553B",
           "#00cc96",
           "#ab63fa",
           "#FFA15A",
           "#19d3f3",
           "#FF6692",
           "#B6E880",
           "#FF97FF",
           "#FECB52"
          ],
          "font": {
           "color": "#2a3f5f"
          },
          "geo": {
           "bgcolor": "white",
           "lakecolor": "white",
           "landcolor": "#E5ECF6",
           "showlakes": true,
           "showland": true,
           "subunitcolor": "white"
          },
          "hoverlabel": {
           "align": "left"
          },
          "hovermode": "closest",
          "mapbox": {
           "style": "light"
          },
          "paper_bgcolor": "white",
          "plot_bgcolor": "#E5ECF6",
          "polar": {
           "angularaxis": {
            "gridcolor": "white",
            "linecolor": "white",
            "ticks": ""
           },
           "bgcolor": "#E5ECF6",
           "radialaxis": {
            "gridcolor": "white",
            "linecolor": "white",
            "ticks": ""
           }
          },
          "scene": {
           "xaxis": {
            "backgroundcolor": "#E5ECF6",
            "gridcolor": "white",
            "gridwidth": 2,
            "linecolor": "white",
            "showbackground": true,
            "ticks": "",
            "zerolinecolor": "white"
           },
           "yaxis": {
            "backgroundcolor": "#E5ECF6",
            "gridcolor": "white",
            "gridwidth": 2,
            "linecolor": "white",
            "showbackground": true,
            "ticks": "",
            "zerolinecolor": "white"
           },
           "zaxis": {
            "backgroundcolor": "#E5ECF6",
            "gridcolor": "white",
            "gridwidth": 2,
            "linecolor": "white",
            "showbackground": true,
            "ticks": "",
            "zerolinecolor": "white"
           }
          },
          "shapedefaults": {
           "line": {
            "color": "#2a3f5f"
           }
          },
          "ternary": {
           "aaxis": {
            "gridcolor": "white",
            "linecolor": "white",
            "ticks": ""
           },
           "baxis": {
            "gridcolor": "white",
            "linecolor": "white",
            "ticks": ""
           },
           "bgcolor": "#E5ECF6",
           "caxis": {
            "gridcolor": "white",
            "linecolor": "white",
            "ticks": ""
           }
          },
          "title": {
           "x": 0.05
          },
          "xaxis": {
           "automargin": true,
           "gridcolor": "white",
           "linecolor": "white",
           "ticks": "",
           "title": {
            "standoff": 15
           },
           "zerolinecolor": "white",
           "zerolinewidth": 2
          },
          "yaxis": {
           "automargin": true,
           "gridcolor": "white",
           "linecolor": "white",
           "ticks": "",
           "title": {
            "standoff": 15
           },
           "zerolinecolor": "white",
           "zerolinewidth": 2
          }
         }
        },
        "title": {
         "text": "Progreso en 1er completable"
        },
        "xaxis": {
         "categoryorder": "total descending"
        }
       }
      },
      "text/html": [
       "<div>                            <div id=\"2db2bb1a-7b7f-4266-9f56-675f117b0db2\" class=\"plotly-graph-div\" style=\"height:525px; width:100%;\"></div>            <script type=\"text/javascript\">                require([\"plotly\"], function(Plotly) {                    window.PLOTLYENV=window.PLOTLYENV || {};                                    if (document.getElementById(\"2db2bb1a-7b7f-4266-9f56-675f117b0db2\")) {                    Plotly.newPlot(                        \"2db2bb1a-7b7f-4266-9f56-675f117b0db2\",                        [{\"hovertext\":\"\\u003cb\\u003eJohn Smith\\u003c\\u002fb\\u003e\",\"mode\":\"lines+markers\",\"name\":\"John Smith\",\"x\":[\"2016-05-24T15:05:49\",\"2016-05-24T15:15:49\",\"2016-05-24T15:25:49\",\"2016-05-24T15:35:49\"],\"y\":[0.15,0.5,0.7,0.9],\"type\":\"scatter\"},{\"hovertext\":\"\\u003cb\\u003eSarah Connor\\u003c\\u002fb\\u003e\",\"mode\":\"lines+markers\",\"name\":\"Sarah Connor\",\"x\":[\"2016-05-24T15:05:49\",\"2016-05-24T15:15:49\",\"2016-05-24T15:25:49\",\"2016-05-24T15:35:49\"],\"y\":[0.1,0.35,0.55,0.75],\"type\":\"scatter\"},{\"hovertext\":\"\\u003cb\\u003eJames Dean\\u003c\\u002fb\\u003e\",\"mode\":\"lines+markers\",\"name\":\"James Dean\",\"x\":[\"2016-05-24T15:05:49\",\"2016-05-24T15:15:49\",\"2016-05-24T15:35:49\"],\"y\":[0.45,0.8,0.99],\"type\":\"scatter\"},{\"hovertext\":\"\\u003cb\\u003eMary Kate\\u003c\\u002fb\\u003e\",\"mode\":\"lines+markers\",\"name\":\"Mary Kate\",\"x\":[\"2016-05-24T15:36:49\",\"2016-05-24T15:38:49\",\"2016-05-24T15:45:49\",\"2016-05-24T15:47:49\"],\"y\":[0.25,0.35,0.65,0.75],\"type\":\"scatter\"},{\"hovertext\":\"\\u003cb\\u003eJuan Gomez\\u003c\\u002fb\\u003e\",\"mode\":\"lines+markers\",\"name\":\"Juan Gomez\",\"x\":[\"2016-05-24T15:17:49\",\"2016-05-24T15:25:49\",\"2016-05-24T15:33:49\",\"2016-05-24T15:40:49\"],\"y\":[0.3,0.5,0.75,0.95],\"type\":\"scatter\"}],                        {\"template\":{\"data\":{\"histogram2dcontour\":[{\"type\":\"histogram2dcontour\",\"colorbar\":{\"outlinewidth\":0,\"ticks\":\"\"},\"colorscale\":[[0.0,\"#0d0887\"],[0.1111111111111111,\"#46039f\"],[0.2222222222222222,\"#7201a8\"],[0.3333333333333333,\"#9c179e\"],[0.4444444444444444,\"#bd3786\"],[0.5555555555555556,\"#d8576b\"],[0.6666666666666666,\"#ed7953\"],[0.7777777777777778,\"#fb9f3a\"],[0.8888888888888888,\"#fdca26\"],[1.0,\"#f0f921\"]]}],\"choropleth\":[{\"type\":\"choropleth\",\"colorbar\":{\"outlinewidth\":0,\"ticks\":\"\"}}],\"histogram2d\":[{\"type\":\"histogram2d\",\"colorbar\":{\"outlinewidth\":0,\"ticks\":\"\"},\"colorscale\":[[0.0,\"#0d0887\"],[0.1111111111111111,\"#46039f\"],[0.2222222222222222,\"#7201a8\"],[0.3333333333333333,\"#9c179e\"],[0.4444444444444444,\"#bd3786\"],[0.5555555555555556,\"#d8576b\"],[0.6666666666666666,\"#ed7953\"],[0.7777777777777778,\"#fb9f3a\"],[0.8888888888888888,\"#fdca26\"],[1.0,\"#f0f921\"]]}],\"heatmap\":[{\"type\":\"heatmap\",\"colorbar\":{\"outlinewidth\":0,\"ticks\":\"\"},\"colorscale\":[[0.0,\"#0d0887\"],[0.1111111111111111,\"#46039f\"],[0.2222222222222222,\"#7201a8\"],[0.3333333333333333,\"#9c179e\"],[0.4444444444444444,\"#bd3786\"],[0.5555555555555556,\"#d8576b\"],[0.6666666666666666,\"#ed7953\"],[0.7777777777777778,\"#fb9f3a\"],[0.8888888888888888,\"#fdca26\"],[1.0,\"#f0f921\"]]}],\"heatmapgl\":[{\"type\":\"heatmapgl\",\"colorbar\":{\"outlinewidth\":0,\"ticks\":\"\"},\"colorscale\":[[0.0,\"#0d0887\"],[0.1111111111111111,\"#46039f\"],[0.2222222222222222,\"#7201a8\"],[0.3333333333333333,\"#9c179e\"],[0.4444444444444444,\"#bd3786\"],[0.5555555555555556,\"#d8576b\"],[0.6666666666666666,\"#ed7953\"],[0.7777777777777778,\"#fb9f3a\"],[0.8888888888888888,\"#fdca26\"],[1.0,\"#f0f921\"]]}],\"contourcarpet\":[{\"type\":\"contourcarpet\",\"colorbar\":{\"outlinewidth\":0,\"ticks\":\"\"}}],\"contour\":[{\"type\":\"contour\",\"colorbar\":{\"outlinewidth\":0,\"ticks\":\"\"},\"colorscale\":[[0.0,\"#0d0887\"],[0.1111111111111111,\"#46039f\"],[0.2222222222222222,\"#7201a8\"],[0.3333333333333333,\"#9c179e\"],[0.4444444444444444,\"#bd3786\"],[0.5555555555555556,\"#d8576b\"],[0.6666666666666666,\"#ed7953\"],[0.7777777777777778,\"#fb9f3a\"],[0.8888888888888888,\"#fdca26\"],[1.0,\"#f0f921\"]]}],\"surface\":[{\"type\":\"surface\",\"colorbar\":{\"outlinewidth\":0,\"ticks\":\"\"},\"colorscale\":[[0.0,\"#0d0887\"],[0.1111111111111111,\"#46039f\"],[0.2222222222222222,\"#7201a8\"],[0.3333333333333333,\"#9c179e\"],[0.4444444444444444,\"#bd3786\"],[0.5555555555555556,\"#d8576b\"],[0.6666666666666666,\"#ed7953\"],[0.7777777777777778,\"#fb9f3a\"],[0.8888888888888888,\"#fdca26\"],[1.0,\"#f0f921\"]]}],\"mesh3d\":[{\"type\":\"mesh3d\",\"colorbar\":{\"outlinewidth\":0,\"ticks\":\"\"}}],\"scatter\":[{\"fillpattern\":{\"fillmode\":\"overlay\",\"size\":10,\"solidity\":0.2},\"type\":\"scatter\"}],\"parcoords\":[{\"type\":\"parcoords\",\"line\":{\"colorbar\":{\"outlinewidth\":0,\"ticks\":\"\"}}}],\"scatterpolargl\":[{\"type\":\"scatterpolargl\",\"marker\":{\"colorbar\":{\"outlinewidth\":0,\"ticks\":\"\"}}}],\"bar\":[{\"error_x\":{\"color\":\"#2a3f5f\"},\"error_y\":{\"color\":\"#2a3f5f\"},\"marker\":{\"line\":{\"color\":\"#E5ECF6\",\"width\":0.5},\"pattern\":{\"fillmode\":\"overlay\",\"size\":10,\"solidity\":0.2}},\"type\":\"bar\"}],\"scattergeo\":[{\"type\":\"scattergeo\",\"marker\":{\"colorbar\":{\"outlinewidth\":0,\"ticks\":\"\"}}}],\"scatterpolar\":[{\"type\":\"scatterpolar\",\"marker\":{\"colorbar\":{\"outlinewidth\":0,\"ticks\":\"\"}}}],\"histogram\":[{\"marker\":{\"pattern\":{\"fillmode\":\"overlay\",\"size\":10,\"solidity\":0.2}},\"type\":\"histogram\"}],\"scattergl\":[{\"type\":\"scattergl\",\"marker\":{\"colorbar\":{\"outlinewidth\":0,\"ticks\":\"\"}}}],\"scatter3d\":[{\"type\":\"scatter3d\",\"line\":{\"colorbar\":{\"outlinewidth\":0,\"ticks\":\"\"}},\"marker\":{\"colorbar\":{\"outlinewidth\":0,\"ticks\":\"\"}}}],\"scattermapbox\":[{\"type\":\"scattermapbox\",\"marker\":{\"colorbar\":{\"outlinewidth\":0,\"ticks\":\"\"}}}],\"scatterternary\":[{\"type\":\"scatterternary\",\"marker\":{\"colorbar\":{\"outlinewidth\":0,\"ticks\":\"\"}}}],\"scattercarpet\":[{\"type\":\"scattercarpet\",\"marker\":{\"colorbar\":{\"outlinewidth\":0,\"ticks\":\"\"}}}],\"carpet\":[{\"aaxis\":{\"endlinecolor\":\"#2a3f5f\",\"gridcolor\":\"white\",\"linecolor\":\"white\",\"minorgridcolor\":\"white\",\"startlinecolor\":\"#2a3f5f\"},\"baxis\":{\"endlinecolor\":\"#2a3f5f\",\"gridcolor\":\"white\",\"linecolor\":\"white\",\"minorgridcolor\":\"white\",\"startlinecolor\":\"#2a3f5f\"},\"type\":\"carpet\"}],\"table\":[{\"cells\":{\"fill\":{\"color\":\"#EBF0F8\"},\"line\":{\"color\":\"white\"}},\"header\":{\"fill\":{\"color\":\"#C8D4E3\"},\"line\":{\"color\":\"white\"}},\"type\":\"table\"}],\"barpolar\":[{\"marker\":{\"line\":{\"color\":\"#E5ECF6\",\"width\":0.5},\"pattern\":{\"fillmode\":\"overlay\",\"size\":10,\"solidity\":0.2}},\"type\":\"barpolar\"}],\"pie\":[{\"automargin\":true,\"type\":\"pie\"}]},\"layout\":{\"autotypenumbers\":\"strict\",\"colorway\":[\"#636efa\",\"#EF553B\",\"#00cc96\",\"#ab63fa\",\"#FFA15A\",\"#19d3f3\",\"#FF6692\",\"#B6E880\",\"#FF97FF\",\"#FECB52\"],\"font\":{\"color\":\"#2a3f5f\"},\"hovermode\":\"closest\",\"hoverlabel\":{\"align\":\"left\"},\"paper_bgcolor\":\"white\",\"plot_bgcolor\":\"#E5ECF6\",\"polar\":{\"bgcolor\":\"#E5ECF6\",\"angularaxis\":{\"gridcolor\":\"white\",\"linecolor\":\"white\",\"ticks\":\"\"},\"radialaxis\":{\"gridcolor\":\"white\",\"linecolor\":\"white\",\"ticks\":\"\"}},\"ternary\":{\"bgcolor\":\"#E5ECF6\",\"aaxis\":{\"gridcolor\":\"white\",\"linecolor\":\"white\",\"ticks\":\"\"},\"baxis\":{\"gridcolor\":\"white\",\"linecolor\":\"white\",\"ticks\":\"\"},\"caxis\":{\"gridcolor\":\"white\",\"linecolor\":\"white\",\"ticks\":\"\"}},\"coloraxis\":{\"colorbar\":{\"outlinewidth\":0,\"ticks\":\"\"}},\"colorscale\":{\"sequential\":[[0.0,\"#0d0887\"],[0.1111111111111111,\"#46039f\"],[0.2222222222222222,\"#7201a8\"],[0.3333333333333333,\"#9c179e\"],[0.4444444444444444,\"#bd3786\"],[0.5555555555555556,\"#d8576b\"],[0.6666666666666666,\"#ed7953\"],[0.7777777777777778,\"#fb9f3a\"],[0.8888888888888888,\"#fdca26\"],[1.0,\"#f0f921\"]],\"sequentialminus\":[[0.0,\"#0d0887\"],[0.1111111111111111,\"#46039f\"],[0.2222222222222222,\"#7201a8\"],[0.3333333333333333,\"#9c179e\"],[0.4444444444444444,\"#bd3786\"],[0.5555555555555556,\"#d8576b\"],[0.6666666666666666,\"#ed7953\"],[0.7777777777777778,\"#fb9f3a\"],[0.8888888888888888,\"#fdca26\"],[1.0,\"#f0f921\"]],\"diverging\":[[0,\"#8e0152\"],[0.1,\"#c51b7d\"],[0.2,\"#de77ae\"],[0.3,\"#f1b6da\"],[0.4,\"#fde0ef\"],[0.5,\"#f7f7f7\"],[0.6,\"#e6f5d0\"],[0.7,\"#b8e186\"],[0.8,\"#7fbc41\"],[0.9,\"#4d9221\"],[1,\"#276419\"]]},\"xaxis\":{\"gridcolor\":\"white\",\"linecolor\":\"white\",\"ticks\":\"\",\"title\":{\"standoff\":15},\"zerolinecolor\":\"white\",\"automargin\":true,\"zerolinewidth\":2},\"yaxis\":{\"gridcolor\":\"white\",\"linecolor\":\"white\",\"ticks\":\"\",\"title\":{\"standoff\":15},\"zerolinecolor\":\"white\",\"automargin\":true,\"zerolinewidth\":2},\"scene\":{\"xaxis\":{\"backgroundcolor\":\"#E5ECF6\",\"gridcolor\":\"white\",\"linecolor\":\"white\",\"showbackground\":true,\"ticks\":\"\",\"zerolinecolor\":\"white\",\"gridwidth\":2},\"yaxis\":{\"backgroundcolor\":\"#E5ECF6\",\"gridcolor\":\"white\",\"linecolor\":\"white\",\"showbackground\":true,\"ticks\":\"\",\"zerolinecolor\":\"white\",\"gridwidth\":2},\"zaxis\":{\"backgroundcolor\":\"#E5ECF6\",\"gridcolor\":\"white\",\"linecolor\":\"white\",\"showbackground\":true,\"ticks\":\"\",\"zerolinecolor\":\"white\",\"gridwidth\":2}},\"shapedefaults\":{\"line\":{\"color\":\"#2a3f5f\"}},\"annotationdefaults\":{\"arrowcolor\":\"#2a3f5f\",\"arrowhead\":0,\"arrowwidth\":1},\"geo\":{\"bgcolor\":\"white\",\"landcolor\":\"#E5ECF6\",\"subunitcolor\":\"white\",\"showland\":true,\"showlakes\":true,\"lakecolor\":\"white\"},\"title\":{\"x\":0.05},\"mapbox\":{\"style\":\"light\"}}},\"title\":{\"text\":\"Progreso en 1er completable\"},\"xaxis\":{\"categoryorder\":\"total descending\"}},                        {\"responsive\": true}                    ).then(function(){\n",
       "                            \n",
       "var gd = document.getElementById('2db2bb1a-7b7f-4266-9f56-675f117b0db2');\n",
       "var x = new MutationObserver(function (mutations, observer) {{\n",
       "        var display = window.getComputedStyle(gd).display;\n",
       "        if (!display || display === 'none') {{\n",
       "            console.log([gd, 'removed!']);\n",
       "            Plotly.purge(gd);\n",
       "            observer.disconnect();\n",
       "        }}\n",
       "}});\n",
       "\n",
       "// Listen for the removal of the full notebook cells\n",
       "var notebookContainer = gd.closest('#notebook-container');\n",
       "if (notebookContainer) {{\n",
       "    x.observe(notebookContainer, {childList: true});\n",
       "}}\n",
       "\n",
       "// Listen for the clearing of the current output cell\n",
       "var outputEl = gd.closest('.output');\n",
       "if (outputEl) {{\n",
       "    x.observe(outputEl, {childList: true});\n",
       "}}\n",
       "\n",
       "                        })                };                });            </script>        </div>"
      ]
     },
     "metadata": {},
     "output_type": "display_data"
    }
   ],
   "source": [
    "# mostramos\n",
    "data = []\n",
    "for id in tvalues['id'].unique():\n",
    "    bar_data = tvalues[tvalues['id'] == id]\n",
    "    data.append(go.Scatter(x=bar_data['time'], y=bar_data['progress'], name=id, hovertext=f\"<b>{id}</b>\", mode=\"lines+markers\"))    \n",
    "fig = go.Figure(\n",
    "    layout_title_text=\"Progreso en 1er completable\",\n",
    "    data=data\n",
    ")\n",
    "fig.update_xaxes(categoryorder=\"total descending\")\n",
    "fig.show()"
   ]
  },
  {
   "cell_type": "code",
   "execution_count": null,
   "metadata": {},
   "outputs": [
    {
     "data": {
      "application/vnd.plotly.v1+json": {
       "config": {
        "plotlyServerURL": "https://plot.ly"
       },
       "data": [
        {
         "hovertext": "<b>John Smith</b>",
         "mode": "lines+markers",
         "name": "John Smith",
         "type": "scatter",
         "x": [
          "1970-01-01T00:00:00",
          "1970-01-01T00:10:00",
          "1970-01-01T00:20:00",
          "1970-01-01T00:30:00"
         ],
         "y": [
          0.15,
          0.5,
          0.7,
          0.9
         ]
        },
        {
         "hovertext": "<b>Sarah Connor</b>",
         "mode": "lines+markers",
         "name": "Sarah Connor",
         "type": "scatter",
         "x": [
          "1970-01-01T00:00:00",
          "1970-01-01T00:10:00",
          "1970-01-01T00:20:00",
          "1970-01-01T00:30:00"
         ],
         "y": [
          0.1,
          0.35,
          0.55,
          0.75
         ]
        },
        {
         "hovertext": "<b>James Dean</b>",
         "mode": "lines+markers",
         "name": "James Dean",
         "type": "scatter",
         "x": [
          "1970-01-01T00:00:00",
          "1970-01-01T00:10:00",
          "1970-01-01T00:30:00"
         ],
         "y": [
          0.45,
          0.8,
          0.99
         ]
        },
        {
         "hovertext": "<b>Mary Kate</b>",
         "mode": "lines+markers",
         "name": "Mary Kate",
         "type": "scatter",
         "x": [
          "1970-01-01T00:00:00",
          "1970-01-01T00:02:00",
          "1970-01-01T00:09:00",
          "1970-01-01T00:11:00"
         ],
         "y": [
          0.25,
          0.35,
          0.65,
          0.75
         ]
        },
        {
         "hovertext": "<b>Juan Gomez</b>",
         "mode": "lines+markers",
         "name": "Juan Gomez",
         "type": "scatter",
         "x": [
          "1970-01-01T00:00:00",
          "1970-01-01T00:08:00",
          "1970-01-01T00:16:00",
          "1970-01-01T00:23:00"
         ],
         "y": [
          0.3,
          0.5,
          0.75,
          0.95
         ]
        }
       ],
       "layout": {
        "template": {
         "data": {
          "bar": [
           {
            "error_x": {
             "color": "#2a3f5f"
            },
            "error_y": {
             "color": "#2a3f5f"
            },
            "marker": {
             "line": {
              "color": "#E5ECF6",
              "width": 0.5
             },
             "pattern": {
              "fillmode": "overlay",
              "size": 10,
              "solidity": 0.2
             }
            },
            "type": "bar"
           }
          ],
          "barpolar": [
           {
            "marker": {
             "line": {
              "color": "#E5ECF6",
              "width": 0.5
             },
             "pattern": {
              "fillmode": "overlay",
              "size": 10,
              "solidity": 0.2
             }
            },
            "type": "barpolar"
           }
          ],
          "carpet": [
           {
            "aaxis": {
             "endlinecolor": "#2a3f5f",
             "gridcolor": "white",
             "linecolor": "white",
             "minorgridcolor": "white",
             "startlinecolor": "#2a3f5f"
            },
            "baxis": {
             "endlinecolor": "#2a3f5f",
             "gridcolor": "white",
             "linecolor": "white",
             "minorgridcolor": "white",
             "startlinecolor": "#2a3f5f"
            },
            "type": "carpet"
           }
          ],
          "choropleth": [
           {
            "colorbar": {
             "outlinewidth": 0,
             "ticks": ""
            },
            "type": "choropleth"
           }
          ],
          "contour": [
           {
            "colorbar": {
             "outlinewidth": 0,
             "ticks": ""
            },
            "colorscale": [
             [
              0,
              "#0d0887"
             ],
             [
              0.1111111111111111,
              "#46039f"
             ],
             [
              0.2222222222222222,
              "#7201a8"
             ],
             [
              0.3333333333333333,
              "#9c179e"
             ],
             [
              0.4444444444444444,
              "#bd3786"
             ],
             [
              0.5555555555555556,
              "#d8576b"
             ],
             [
              0.6666666666666666,
              "#ed7953"
             ],
             [
              0.7777777777777778,
              "#fb9f3a"
             ],
             [
              0.8888888888888888,
              "#fdca26"
             ],
             [
              1,
              "#f0f921"
             ]
            ],
            "type": "contour"
           }
          ],
          "contourcarpet": [
           {
            "colorbar": {
             "outlinewidth": 0,
             "ticks": ""
            },
            "type": "contourcarpet"
           }
          ],
          "heatmap": [
           {
            "colorbar": {
             "outlinewidth": 0,
             "ticks": ""
            },
            "colorscale": [
             [
              0,
              "#0d0887"
             ],
             [
              0.1111111111111111,
              "#46039f"
             ],
             [
              0.2222222222222222,
              "#7201a8"
             ],
             [
              0.3333333333333333,
              "#9c179e"
             ],
             [
              0.4444444444444444,
              "#bd3786"
             ],
             [
              0.5555555555555556,
              "#d8576b"
             ],
             [
              0.6666666666666666,
              "#ed7953"
             ],
             [
              0.7777777777777778,
              "#fb9f3a"
             ],
             [
              0.8888888888888888,
              "#fdca26"
             ],
             [
              1,
              "#f0f921"
             ]
            ],
            "type": "heatmap"
           }
          ],
          "heatmapgl": [
           {
            "colorbar": {
             "outlinewidth": 0,
             "ticks": ""
            },
            "colorscale": [
             [
              0,
              "#0d0887"
             ],
             [
              0.1111111111111111,
              "#46039f"
             ],
             [
              0.2222222222222222,
              "#7201a8"
             ],
             [
              0.3333333333333333,
              "#9c179e"
             ],
             [
              0.4444444444444444,
              "#bd3786"
             ],
             [
              0.5555555555555556,
              "#d8576b"
             ],
             [
              0.6666666666666666,
              "#ed7953"
             ],
             [
              0.7777777777777778,
              "#fb9f3a"
             ],
             [
              0.8888888888888888,
              "#fdca26"
             ],
             [
              1,
              "#f0f921"
             ]
            ],
            "type": "heatmapgl"
           }
          ],
          "histogram": [
           {
            "marker": {
             "pattern": {
              "fillmode": "overlay",
              "size": 10,
              "solidity": 0.2
             }
            },
            "type": "histogram"
           }
          ],
          "histogram2d": [
           {
            "colorbar": {
             "outlinewidth": 0,
             "ticks": ""
            },
            "colorscale": [
             [
              0,
              "#0d0887"
             ],
             [
              0.1111111111111111,
              "#46039f"
             ],
             [
              0.2222222222222222,
              "#7201a8"
             ],
             [
              0.3333333333333333,
              "#9c179e"
             ],
             [
              0.4444444444444444,
              "#bd3786"
             ],
             [
              0.5555555555555556,
              "#d8576b"
             ],
             [
              0.6666666666666666,
              "#ed7953"
             ],
             [
              0.7777777777777778,
              "#fb9f3a"
             ],
             [
              0.8888888888888888,
              "#fdca26"
             ],
             [
              1,
              "#f0f921"
             ]
            ],
            "type": "histogram2d"
           }
          ],
          "histogram2dcontour": [
           {
            "colorbar": {
             "outlinewidth": 0,
             "ticks": ""
            },
            "colorscale": [
             [
              0,
              "#0d0887"
             ],
             [
              0.1111111111111111,
              "#46039f"
             ],
             [
              0.2222222222222222,
              "#7201a8"
             ],
             [
              0.3333333333333333,
              "#9c179e"
             ],
             [
              0.4444444444444444,
              "#bd3786"
             ],
             [
              0.5555555555555556,
              "#d8576b"
             ],
             [
              0.6666666666666666,
              "#ed7953"
             ],
             [
              0.7777777777777778,
              "#fb9f3a"
             ],
             [
              0.8888888888888888,
              "#fdca26"
             ],
             [
              1,
              "#f0f921"
             ]
            ],
            "type": "histogram2dcontour"
           }
          ],
          "mesh3d": [
           {
            "colorbar": {
             "outlinewidth": 0,
             "ticks": ""
            },
            "type": "mesh3d"
           }
          ],
          "parcoords": [
           {
            "line": {
             "colorbar": {
              "outlinewidth": 0,
              "ticks": ""
             }
            },
            "type": "parcoords"
           }
          ],
          "pie": [
           {
            "automargin": true,
            "type": "pie"
           }
          ],
          "scatter": [
           {
            "fillpattern": {
             "fillmode": "overlay",
             "size": 10,
             "solidity": 0.2
            },
            "type": "scatter"
           }
          ],
          "scatter3d": [
           {
            "line": {
             "colorbar": {
              "outlinewidth": 0,
              "ticks": ""
             }
            },
            "marker": {
             "colorbar": {
              "outlinewidth": 0,
              "ticks": ""
             }
            },
            "type": "scatter3d"
           }
          ],
          "scattercarpet": [
           {
            "marker": {
             "colorbar": {
              "outlinewidth": 0,
              "ticks": ""
             }
            },
            "type": "scattercarpet"
           }
          ],
          "scattergeo": [
           {
            "marker": {
             "colorbar": {
              "outlinewidth": 0,
              "ticks": ""
             }
            },
            "type": "scattergeo"
           }
          ],
          "scattergl": [
           {
            "marker": {
             "colorbar": {
              "outlinewidth": 0,
              "ticks": ""
             }
            },
            "type": "scattergl"
           }
          ],
          "scattermapbox": [
           {
            "marker": {
             "colorbar": {
              "outlinewidth": 0,
              "ticks": ""
             }
            },
            "type": "scattermapbox"
           }
          ],
          "scatterpolar": [
           {
            "marker": {
             "colorbar": {
              "outlinewidth": 0,
              "ticks": ""
             }
            },
            "type": "scatterpolar"
           }
          ],
          "scatterpolargl": [
           {
            "marker": {
             "colorbar": {
              "outlinewidth": 0,
              "ticks": ""
             }
            },
            "type": "scatterpolargl"
           }
          ],
          "scatterternary": [
           {
            "marker": {
             "colorbar": {
              "outlinewidth": 0,
              "ticks": ""
             }
            },
            "type": "scatterternary"
           }
          ],
          "surface": [
           {
            "colorbar": {
             "outlinewidth": 0,
             "ticks": ""
            },
            "colorscale": [
             [
              0,
              "#0d0887"
             ],
             [
              0.1111111111111111,
              "#46039f"
             ],
             [
              0.2222222222222222,
              "#7201a8"
             ],
             [
              0.3333333333333333,
              "#9c179e"
             ],
             [
              0.4444444444444444,
              "#bd3786"
             ],
             [
              0.5555555555555556,
              "#d8576b"
             ],
             [
              0.6666666666666666,
              "#ed7953"
             ],
             [
              0.7777777777777778,
              "#fb9f3a"
             ],
             [
              0.8888888888888888,
              "#fdca26"
             ],
             [
              1,
              "#f0f921"
             ]
            ],
            "type": "surface"
           }
          ],
          "table": [
           {
            "cells": {
             "fill": {
              "color": "#EBF0F8"
             },
             "line": {
              "color": "white"
             }
            },
            "header": {
             "fill": {
              "color": "#C8D4E3"
             },
             "line": {
              "color": "white"
             }
            },
            "type": "table"
           }
          ]
         },
         "layout": {
          "annotationdefaults": {
           "arrowcolor": "#2a3f5f",
           "arrowhead": 0,
           "arrowwidth": 1
          },
          "autotypenumbers": "strict",
          "coloraxis": {
           "colorbar": {
            "outlinewidth": 0,
            "ticks": ""
           }
          },
          "colorscale": {
           "diverging": [
            [
             0,
             "#8e0152"
            ],
            [
             0.1,
             "#c51b7d"
            ],
            [
             0.2,
             "#de77ae"
            ],
            [
             0.3,
             "#f1b6da"
            ],
            [
             0.4,
             "#fde0ef"
            ],
            [
             0.5,
             "#f7f7f7"
            ],
            [
             0.6,
             "#e6f5d0"
            ],
            [
             0.7,
             "#b8e186"
            ],
            [
             0.8,
             "#7fbc41"
            ],
            [
             0.9,
             "#4d9221"
            ],
            [
             1,
             "#276419"
            ]
           ],
           "sequential": [
            [
             0,
             "#0d0887"
            ],
            [
             0.1111111111111111,
             "#46039f"
            ],
            [
             0.2222222222222222,
             "#7201a8"
            ],
            [
             0.3333333333333333,
             "#9c179e"
            ],
            [
             0.4444444444444444,
             "#bd3786"
            ],
            [
             0.5555555555555556,
             "#d8576b"
            ],
            [
             0.6666666666666666,
             "#ed7953"
            ],
            [
             0.7777777777777778,
             "#fb9f3a"
            ],
            [
             0.8888888888888888,
             "#fdca26"
            ],
            [
             1,
             "#f0f921"
            ]
           ],
           "sequentialminus": [
            [
             0,
             "#0d0887"
            ],
            [
             0.1111111111111111,
             "#46039f"
            ],
            [
             0.2222222222222222,
             "#7201a8"
            ],
            [
             0.3333333333333333,
             "#9c179e"
            ],
            [
             0.4444444444444444,
             "#bd3786"
            ],
            [
             0.5555555555555556,
             "#d8576b"
            ],
            [
             0.6666666666666666,
             "#ed7953"
            ],
            [
             0.7777777777777778,
             "#fb9f3a"
            ],
            [
             0.8888888888888888,
             "#fdca26"
            ],
            [
             1,
             "#f0f921"
            ]
           ]
          },
          "colorway": [
           "#636efa",
           "#EF553B",
           "#00cc96",
           "#ab63fa",
           "#FFA15A",
           "#19d3f3",
           "#FF6692",
           "#B6E880",
           "#FF97FF",
           "#FECB52"
          ],
          "font": {
           "color": "#2a3f5f"
          },
          "geo": {
           "bgcolor": "white",
           "lakecolor": "white",
           "landcolor": "#E5ECF6",
           "showlakes": true,
           "showland": true,
           "subunitcolor": "white"
          },
          "hoverlabel": {
           "align": "left"
          },
          "hovermode": "closest",
          "mapbox": {
           "style": "light"
          },
          "paper_bgcolor": "white",
          "plot_bgcolor": "#E5ECF6",
          "polar": {
           "angularaxis": {
            "gridcolor": "white",
            "linecolor": "white",
            "ticks": ""
           },
           "bgcolor": "#E5ECF6",
           "radialaxis": {
            "gridcolor": "white",
            "linecolor": "white",
            "ticks": ""
           }
          },
          "scene": {
           "xaxis": {
            "backgroundcolor": "#E5ECF6",
            "gridcolor": "white",
            "gridwidth": 2,
            "linecolor": "white",
            "showbackground": true,
            "ticks": "",
            "zerolinecolor": "white"
           },
           "yaxis": {
            "backgroundcolor": "#E5ECF6",
            "gridcolor": "white",
            "gridwidth": 2,
            "linecolor": "white",
            "showbackground": true,
            "ticks": "",
            "zerolinecolor": "white"
           },
           "zaxis": {
            "backgroundcolor": "#E5ECF6",
            "gridcolor": "white",
            "gridwidth": 2,
            "linecolor": "white",
            "showbackground": true,
            "ticks": "",
            "zerolinecolor": "white"
           }
          },
          "shapedefaults": {
           "line": {
            "color": "#2a3f5f"
           }
          },
          "ternary": {
           "aaxis": {
            "gridcolor": "white",
            "linecolor": "white",
            "ticks": ""
           },
           "baxis": {
            "gridcolor": "white",
            "linecolor": "white",
            "ticks": ""
           },
           "bgcolor": "#E5ECF6",
           "caxis": {
            "gridcolor": "white",
            "linecolor": "white",
            "ticks": ""
           }
          },
          "title": {
           "x": 0.05
          },
          "xaxis": {
           "automargin": true,
           "gridcolor": "white",
           "linecolor": "white",
           "ticks": "",
           "title": {
            "standoff": 15
           },
           "zerolinecolor": "white",
           "zerolinewidth": 2
          },
          "yaxis": {
           "automargin": true,
           "gridcolor": "white",
           "linecolor": "white",
           "ticks": "",
           "title": {
            "standoff": 15
           },
           "zerolinecolor": "white",
           "zerolinewidth": 2
          }
         }
        },
        "title": {
         "text": "Progreso en 1er completable, desde inicio de sesión"
        },
        "xaxis": {
         "categoryorder": "total descending"
        }
       }
      },
      "text/html": [
       "<div>                            <div id=\"c5f35838-8782-4710-8b80-081c84ee49ae\" class=\"plotly-graph-div\" style=\"height:525px; width:100%;\"></div>            <script type=\"text/javascript\">                require([\"plotly\"], function(Plotly) {                    window.PLOTLYENV=window.PLOTLYENV || {};                                    if (document.getElementById(\"c5f35838-8782-4710-8b80-081c84ee49ae\")) {                    Plotly.newPlot(                        \"c5f35838-8782-4710-8b80-081c84ee49ae\",                        [{\"hovertext\":\"\\u003cb\\u003eJohn Smith\\u003c\\u002fb\\u003e\",\"mode\":\"lines+markers\",\"name\":\"John Smith\",\"x\":[\"1970-01-01T00:00:00\",\"1970-01-01T00:10:00\",\"1970-01-01T00:20:00\",\"1970-01-01T00:30:00\"],\"y\":[0.15,0.5,0.7,0.9],\"type\":\"scatter\"},{\"hovertext\":\"\\u003cb\\u003eSarah Connor\\u003c\\u002fb\\u003e\",\"mode\":\"lines+markers\",\"name\":\"Sarah Connor\",\"x\":[\"1970-01-01T00:00:00\",\"1970-01-01T00:10:00\",\"1970-01-01T00:20:00\",\"1970-01-01T00:30:00\"],\"y\":[0.1,0.35,0.55,0.75],\"type\":\"scatter\"},{\"hovertext\":\"\\u003cb\\u003eJames Dean\\u003c\\u002fb\\u003e\",\"mode\":\"lines+markers\",\"name\":\"James Dean\",\"x\":[\"1970-01-01T00:00:00\",\"1970-01-01T00:10:00\",\"1970-01-01T00:30:00\"],\"y\":[0.45,0.8,0.99],\"type\":\"scatter\"},{\"hovertext\":\"\\u003cb\\u003eMary Kate\\u003c\\u002fb\\u003e\",\"mode\":\"lines+markers\",\"name\":\"Mary Kate\",\"x\":[\"1970-01-01T00:00:00\",\"1970-01-01T00:02:00\",\"1970-01-01T00:09:00\",\"1970-01-01T00:11:00\"],\"y\":[0.25,0.35,0.65,0.75],\"type\":\"scatter\"},{\"hovertext\":\"\\u003cb\\u003eJuan Gomez\\u003c\\u002fb\\u003e\",\"mode\":\"lines+markers\",\"name\":\"Juan Gomez\",\"x\":[\"1970-01-01T00:00:00\",\"1970-01-01T00:08:00\",\"1970-01-01T00:16:00\",\"1970-01-01T00:23:00\"],\"y\":[0.3,0.5,0.75,0.95],\"type\":\"scatter\"}],                        {\"template\":{\"data\":{\"histogram2dcontour\":[{\"type\":\"histogram2dcontour\",\"colorbar\":{\"outlinewidth\":0,\"ticks\":\"\"},\"colorscale\":[[0.0,\"#0d0887\"],[0.1111111111111111,\"#46039f\"],[0.2222222222222222,\"#7201a8\"],[0.3333333333333333,\"#9c179e\"],[0.4444444444444444,\"#bd3786\"],[0.5555555555555556,\"#d8576b\"],[0.6666666666666666,\"#ed7953\"],[0.7777777777777778,\"#fb9f3a\"],[0.8888888888888888,\"#fdca26\"],[1.0,\"#f0f921\"]]}],\"choropleth\":[{\"type\":\"choropleth\",\"colorbar\":{\"outlinewidth\":0,\"ticks\":\"\"}}],\"histogram2d\":[{\"type\":\"histogram2d\",\"colorbar\":{\"outlinewidth\":0,\"ticks\":\"\"},\"colorscale\":[[0.0,\"#0d0887\"],[0.1111111111111111,\"#46039f\"],[0.2222222222222222,\"#7201a8\"],[0.3333333333333333,\"#9c179e\"],[0.4444444444444444,\"#bd3786\"],[0.5555555555555556,\"#d8576b\"],[0.6666666666666666,\"#ed7953\"],[0.7777777777777778,\"#fb9f3a\"],[0.8888888888888888,\"#fdca26\"],[1.0,\"#f0f921\"]]}],\"heatmap\":[{\"type\":\"heatmap\",\"colorbar\":{\"outlinewidth\":0,\"ticks\":\"\"},\"colorscale\":[[0.0,\"#0d0887\"],[0.1111111111111111,\"#46039f\"],[0.2222222222222222,\"#7201a8\"],[0.3333333333333333,\"#9c179e\"],[0.4444444444444444,\"#bd3786\"],[0.5555555555555556,\"#d8576b\"],[0.6666666666666666,\"#ed7953\"],[0.7777777777777778,\"#fb9f3a\"],[0.8888888888888888,\"#fdca26\"],[1.0,\"#f0f921\"]]}],\"heatmapgl\":[{\"type\":\"heatmapgl\",\"colorbar\":{\"outlinewidth\":0,\"ticks\":\"\"},\"colorscale\":[[0.0,\"#0d0887\"],[0.1111111111111111,\"#46039f\"],[0.2222222222222222,\"#7201a8\"],[0.3333333333333333,\"#9c179e\"],[0.4444444444444444,\"#bd3786\"],[0.5555555555555556,\"#d8576b\"],[0.6666666666666666,\"#ed7953\"],[0.7777777777777778,\"#fb9f3a\"],[0.8888888888888888,\"#fdca26\"],[1.0,\"#f0f921\"]]}],\"contourcarpet\":[{\"type\":\"contourcarpet\",\"colorbar\":{\"outlinewidth\":0,\"ticks\":\"\"}}],\"contour\":[{\"type\":\"contour\",\"colorbar\":{\"outlinewidth\":0,\"ticks\":\"\"},\"colorscale\":[[0.0,\"#0d0887\"],[0.1111111111111111,\"#46039f\"],[0.2222222222222222,\"#7201a8\"],[0.3333333333333333,\"#9c179e\"],[0.4444444444444444,\"#bd3786\"],[0.5555555555555556,\"#d8576b\"],[0.6666666666666666,\"#ed7953\"],[0.7777777777777778,\"#fb9f3a\"],[0.8888888888888888,\"#fdca26\"],[1.0,\"#f0f921\"]]}],\"surface\":[{\"type\":\"surface\",\"colorbar\":{\"outlinewidth\":0,\"ticks\":\"\"},\"colorscale\":[[0.0,\"#0d0887\"],[0.1111111111111111,\"#46039f\"],[0.2222222222222222,\"#7201a8\"],[0.3333333333333333,\"#9c179e\"],[0.4444444444444444,\"#bd3786\"],[0.5555555555555556,\"#d8576b\"],[0.6666666666666666,\"#ed7953\"],[0.7777777777777778,\"#fb9f3a\"],[0.8888888888888888,\"#fdca26\"],[1.0,\"#f0f921\"]]}],\"mesh3d\":[{\"type\":\"mesh3d\",\"colorbar\":{\"outlinewidth\":0,\"ticks\":\"\"}}],\"scatter\":[{\"fillpattern\":{\"fillmode\":\"overlay\",\"size\":10,\"solidity\":0.2},\"type\":\"scatter\"}],\"parcoords\":[{\"type\":\"parcoords\",\"line\":{\"colorbar\":{\"outlinewidth\":0,\"ticks\":\"\"}}}],\"scatterpolargl\":[{\"type\":\"scatterpolargl\",\"marker\":{\"colorbar\":{\"outlinewidth\":0,\"ticks\":\"\"}}}],\"bar\":[{\"error_x\":{\"color\":\"#2a3f5f\"},\"error_y\":{\"color\":\"#2a3f5f\"},\"marker\":{\"line\":{\"color\":\"#E5ECF6\",\"width\":0.5},\"pattern\":{\"fillmode\":\"overlay\",\"size\":10,\"solidity\":0.2}},\"type\":\"bar\"}],\"scattergeo\":[{\"type\":\"scattergeo\",\"marker\":{\"colorbar\":{\"outlinewidth\":0,\"ticks\":\"\"}}}],\"scatterpolar\":[{\"type\":\"scatterpolar\",\"marker\":{\"colorbar\":{\"outlinewidth\":0,\"ticks\":\"\"}}}],\"histogram\":[{\"marker\":{\"pattern\":{\"fillmode\":\"overlay\",\"size\":10,\"solidity\":0.2}},\"type\":\"histogram\"}],\"scattergl\":[{\"type\":\"scattergl\",\"marker\":{\"colorbar\":{\"outlinewidth\":0,\"ticks\":\"\"}}}],\"scatter3d\":[{\"type\":\"scatter3d\",\"line\":{\"colorbar\":{\"outlinewidth\":0,\"ticks\":\"\"}},\"marker\":{\"colorbar\":{\"outlinewidth\":0,\"ticks\":\"\"}}}],\"scattermapbox\":[{\"type\":\"scattermapbox\",\"marker\":{\"colorbar\":{\"outlinewidth\":0,\"ticks\":\"\"}}}],\"scatterternary\":[{\"type\":\"scatterternary\",\"marker\":{\"colorbar\":{\"outlinewidth\":0,\"ticks\":\"\"}}}],\"scattercarpet\":[{\"type\":\"scattercarpet\",\"marker\":{\"colorbar\":{\"outlinewidth\":0,\"ticks\":\"\"}}}],\"carpet\":[{\"aaxis\":{\"endlinecolor\":\"#2a3f5f\",\"gridcolor\":\"white\",\"linecolor\":\"white\",\"minorgridcolor\":\"white\",\"startlinecolor\":\"#2a3f5f\"},\"baxis\":{\"endlinecolor\":\"#2a3f5f\",\"gridcolor\":\"white\",\"linecolor\":\"white\",\"minorgridcolor\":\"white\",\"startlinecolor\":\"#2a3f5f\"},\"type\":\"carpet\"}],\"table\":[{\"cells\":{\"fill\":{\"color\":\"#EBF0F8\"},\"line\":{\"color\":\"white\"}},\"header\":{\"fill\":{\"color\":\"#C8D4E3\"},\"line\":{\"color\":\"white\"}},\"type\":\"table\"}],\"barpolar\":[{\"marker\":{\"line\":{\"color\":\"#E5ECF6\",\"width\":0.5},\"pattern\":{\"fillmode\":\"overlay\",\"size\":10,\"solidity\":0.2}},\"type\":\"barpolar\"}],\"pie\":[{\"automargin\":true,\"type\":\"pie\"}]},\"layout\":{\"autotypenumbers\":\"strict\",\"colorway\":[\"#636efa\",\"#EF553B\",\"#00cc96\",\"#ab63fa\",\"#FFA15A\",\"#19d3f3\",\"#FF6692\",\"#B6E880\",\"#FF97FF\",\"#FECB52\"],\"font\":{\"color\":\"#2a3f5f\"},\"hovermode\":\"closest\",\"hoverlabel\":{\"align\":\"left\"},\"paper_bgcolor\":\"white\",\"plot_bgcolor\":\"#E5ECF6\",\"polar\":{\"bgcolor\":\"#E5ECF6\",\"angularaxis\":{\"gridcolor\":\"white\",\"linecolor\":\"white\",\"ticks\":\"\"},\"radialaxis\":{\"gridcolor\":\"white\",\"linecolor\":\"white\",\"ticks\":\"\"}},\"ternary\":{\"bgcolor\":\"#E5ECF6\",\"aaxis\":{\"gridcolor\":\"white\",\"linecolor\":\"white\",\"ticks\":\"\"},\"baxis\":{\"gridcolor\":\"white\",\"linecolor\":\"white\",\"ticks\":\"\"},\"caxis\":{\"gridcolor\":\"white\",\"linecolor\":\"white\",\"ticks\":\"\"}},\"coloraxis\":{\"colorbar\":{\"outlinewidth\":0,\"ticks\":\"\"}},\"colorscale\":{\"sequential\":[[0.0,\"#0d0887\"],[0.1111111111111111,\"#46039f\"],[0.2222222222222222,\"#7201a8\"],[0.3333333333333333,\"#9c179e\"],[0.4444444444444444,\"#bd3786\"],[0.5555555555555556,\"#d8576b\"],[0.6666666666666666,\"#ed7953\"],[0.7777777777777778,\"#fb9f3a\"],[0.8888888888888888,\"#fdca26\"],[1.0,\"#f0f921\"]],\"sequentialminus\":[[0.0,\"#0d0887\"],[0.1111111111111111,\"#46039f\"],[0.2222222222222222,\"#7201a8\"],[0.3333333333333333,\"#9c179e\"],[0.4444444444444444,\"#bd3786\"],[0.5555555555555556,\"#d8576b\"],[0.6666666666666666,\"#ed7953\"],[0.7777777777777778,\"#fb9f3a\"],[0.8888888888888888,\"#fdca26\"],[1.0,\"#f0f921\"]],\"diverging\":[[0,\"#8e0152\"],[0.1,\"#c51b7d\"],[0.2,\"#de77ae\"],[0.3,\"#f1b6da\"],[0.4,\"#fde0ef\"],[0.5,\"#f7f7f7\"],[0.6,\"#e6f5d0\"],[0.7,\"#b8e186\"],[0.8,\"#7fbc41\"],[0.9,\"#4d9221\"],[1,\"#276419\"]]},\"xaxis\":{\"gridcolor\":\"white\",\"linecolor\":\"white\",\"ticks\":\"\",\"title\":{\"standoff\":15},\"zerolinecolor\":\"white\",\"automargin\":true,\"zerolinewidth\":2},\"yaxis\":{\"gridcolor\":\"white\",\"linecolor\":\"white\",\"ticks\":\"\",\"title\":{\"standoff\":15},\"zerolinecolor\":\"white\",\"automargin\":true,\"zerolinewidth\":2},\"scene\":{\"xaxis\":{\"backgroundcolor\":\"#E5ECF6\",\"gridcolor\":\"white\",\"linecolor\":\"white\",\"showbackground\":true,\"ticks\":\"\",\"zerolinecolor\":\"white\",\"gridwidth\":2},\"yaxis\":{\"backgroundcolor\":\"#E5ECF6\",\"gridcolor\":\"white\",\"linecolor\":\"white\",\"showbackground\":true,\"ticks\":\"\",\"zerolinecolor\":\"white\",\"gridwidth\":2},\"zaxis\":{\"backgroundcolor\":\"#E5ECF6\",\"gridcolor\":\"white\",\"linecolor\":\"white\",\"showbackground\":true,\"ticks\":\"\",\"zerolinecolor\":\"white\",\"gridwidth\":2}},\"shapedefaults\":{\"line\":{\"color\":\"#2a3f5f\"}},\"annotationdefaults\":{\"arrowcolor\":\"#2a3f5f\",\"arrowhead\":0,\"arrowwidth\":1},\"geo\":{\"bgcolor\":\"white\",\"landcolor\":\"#E5ECF6\",\"subunitcolor\":\"white\",\"showland\":true,\"showlakes\":true,\"lakecolor\":\"white\"},\"title\":{\"x\":0.05},\"mapbox\":{\"style\":\"light\"}}},\"title\":{\"text\":\"Progreso en 1er completable, desde inicio de sesi\\u00f3n\"},\"xaxis\":{\"categoryorder\":\"total descending\"}},                        {\"responsive\": true}                    ).then(function(){\n",
       "                            \n",
       "var gd = document.getElementById('c5f35838-8782-4710-8b80-081c84ee49ae');\n",
       "var x = new MutationObserver(function (mutations, observer) {{\n",
       "        var display = window.getComputedStyle(gd).display;\n",
       "        if (!display || display === 'none') {{\n",
       "            console.log([gd, 'removed!']);\n",
       "            Plotly.purge(gd);\n",
       "            observer.disconnect();\n",
       "        }}\n",
       "}});\n",
       "\n",
       "// Listen for the removal of the full notebook cells\n",
       "var notebookContainer = gd.closest('#notebook-container');\n",
       "if (notebookContainer) {{\n",
       "    x.observe(notebookContainer, {childList: true});\n",
       "}}\n",
       "\n",
       "// Listen for the clearing of the current output cell\n",
       "var outputEl = gd.closest('.output');\n",
       "if (outputEl) {{\n",
       "    x.observe(outputEl, {childList: true});\n",
       "}}\n",
       "\n",
       "                        })                };                });            </script>        </div>"
      ]
     },
     "metadata": {},
     "output_type": "display_data"
    }
   ],
   "source": [
    "# y ahora, alineando por 1er evento\n",
    "data = []\n",
    "for id in tvalues['id'].unique():\n",
    "    bar_data = tvalues[tvalues['id'] == id].copy()\n",
    "    first = bar_data.time.min()\n",
    "    bar_data.time = pd.to_timedelta(bar_data.time - first) + pd.to_datetime('1970/01/01')\n",
    "    data.append(go.Scatter(x=bar_data['time'], y=bar_data['progress'], name=id, hovertext=f\"<b>{id}</b>\", mode=\"lines+markers\"))    \n",
    "fig = go.Figure(\n",
    "    layout_title_text=\"Progreso en 1er completable, desde inicio de sesión\",\n",
    "    data=data\n",
    ")\n",
    "fig.update_xaxes(categoryorder=\"total descending\")\n",
    "fig.show()"
   ]
  },
  {
   "cell_type": "code",
   "execution_count": null,
   "metadata": {},
   "outputs": [
    {
     "data": {
      "text/html": [
       "\n",
       "        <iframe\n",
       "            width=\"100%\"\n",
       "            height=\"650\"\n",
       "            src=\"http://127.0.0.1:8051/\"\n",
       "            frameborder=\"0\"\n",
       "            allowfullscreen\n",
       "            \n",
       "        ></iframe>\n",
       "        "
      ],
      "text/plain": [
       "<IPython.lib.display.IFrame at 0x22cf0e40830>"
      ]
     },
     "metadata": {},
     "output_type": "display_data"
    },
    {
     "name": "stdout",
     "output_type": "stream",
     "text": [
      "---------------------------------------------------------------------------\n",
      "TypeError                                 Traceback (most recent call last)\n",
      "Cell In[32], line 55, in update_output(\n",
      "    list_of_contents=['data:application/json;base64,eyJhY3RvciI6eyJuYW1...sInRpbWVzdGFtcCI6IjIwMTYtMDUtMjRUMTM6MDU6MTJaIn0K'],\n",
      "    list_of_names=['xapi-sg-sample-data.json'],\n",
      "    list_of_dates=[1715587109.421]\n",
      ")\n",
      "     48 @callback(Output('output-data-upload', 'children'),\n",
      "     49               Input('upload-data', 'contents'),\n",
      "     50               State('upload-data', 'filename'),\n",
      "     51               State('upload-data', 'last_modified'))\n",
      "     52 def update_output(list_of_contents, list_of_names, list_of_dates):\n",
      "     53     if list_of_contents is not None:\n",
      "     54         return [\n",
      "---> 55             fileBrowserAndUploadButtonToLoadProcessStatements.load_players_info_from_content(c, n, d) for c, n, d in\n",
      "        c = np.str_('World1-2')\n",
      "        list_of_contents = ['data:application/json;base64,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']\n",
      "        list_of_names = ['xapi-sg-sample-data.json']\n",
      "        list_of_dates = [1715587109.421]\n",
      "     56                 zip(list_of_contents, list_of_names, list_of_dates)\n",
      "     57         ]\n",
      "\n",
      "TypeError: load_players_info_from_content() takes 2 positional arguments but 3 were given\n",
      "\n"
     ]
    }
   ],
   "source": [
    "from dash import Dash, html, dash_table, dcc, callback, Output, Input, State\n",
    "import plotly.subplots as subplots\n",
    "import fileBrowserAndUploadButtonToLoadProcessStatements\n",
    "\n",
    "global players_info\n",
    "# Initialize the app\n",
    "app = Dash(__name__)\n",
    "\n",
    "# App layout\n",
    "app.layout = html.Div([\n",
    "    html.H1(children='T-Mon'),\n",
    "    html.Hr(),\n",
    "    html.H2(children='Select JSON xAPI-SG file to process and see visualisations'),\n",
    "    dcc.Upload(\n",
    "        id='upload-data',\n",
    "        children=html.Div([\n",
    "            'Drag and Drop or ',\n",
    "            html.A('Select Files')\n",
    "        ]),\n",
    "        style={\n",
    "            'width': '100%',\n",
    "            'height': '60px',\n",
    "            'lineHeight': '60px',\n",
    "            'borderWidth': '1px',\n",
    "            'borderStyle': 'dashed',\n",
    "            'borderRadius': '5px',\n",
    "            'textAlign': 'center',\n",
    "            'margin': '10px'\n",
    "        },\n",
    "        # Allow multiple files to be uploaded\n",
    "        multiple=True\n",
    "    ),\n",
    "    html.Div(id='output-data-upload'),\n",
    "    html.Div(id='output-eror', style={'whiteSpace': 'pre-line'}),\n",
    "    html.Hr(),\n",
    "    dcc.Tabs(id=\"t-mon-tabs\", value='progress', children=[\n",
    "        dcc.Tab(label='Progress', value='progress_tab'),\n",
    "        dcc.Tab(label='Videos', value='video_tab'),\n",
    "        dcc.Tab(label='Completable', value='completable_tab'),\n",
    "        dcc.Tab(label='Alternatives', value='alternative_tab'),\n",
    "        dcc.Tab(label='Interactions', value='interaction_tab'),\n",
    "        dcc.Tab(label='Accessible', value='interaction_tab'),\n",
    "        dcc.Tab(label='Menu', value='menu_tab'),\n",
    "    ]),\n",
    "    html.H4(children='T-MON, by eUCM research team')\n",
    "])\n",
    "\n",
    "@callback(Output('output-data-upload', 'children'),\n",
    "              Input('upload-data', 'contents'),\n",
    "              State('upload-data', 'filename'),\n",
    "              State('upload-data', 'last_modified'))\n",
    "def update_output(list_of_contents, list_of_names, list_of_dates):\n",
    "    if list_of_contents is not None:\n",
    "        return [\n",
    "            fileBrowserAndUploadButtonToLoadProcessStatements.load_players_info_from_content(c, n, d) for c, n, d in\n",
    "                zip(list_of_contents, list_of_names, list_of_dates)\n",
    "        ]\n",
    "    \n",
    "if __name__ == '__main__':\n",
    "    app.run(debug=True, port=8051)"
   ]
  }
 ],
 "metadata": {
  "kernelspec": {
   "display_name": "Python 3",
   "language": "python",
   "name": "python3"
  },
  "language_info": {
   "codemirror_mode": {
    "name": "ipython",
    "version": 3
   },
   "file_extension": ".py",
   "mimetype": "text/x-python",
   "name": "python",
   "nbconvert_exporter": "python",
   "pygments_lexer": "ipython3",
   "version": "3.12.2"
  }
 },
 "nbformat": 4,
 "nbformat_minor": 2
}
