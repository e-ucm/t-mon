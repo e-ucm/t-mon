{
 "cells": [
  {
   "cell_type": "code",
   "execution_count": null,
   "metadata": {},
   "outputs": [],
   "source": [
    "# cargamos un fichero con trazas, usando código de t-mon\n",
    "from fileBrowserAndUploadButtonToLoadProcessStatements import load_players_info_from_file\n",
    "out, err, xapiData =[],[], []\n",
    "df=load_players_info_from_file(\"xapi-sg-sample-data-array.json\", xapiData, out, err)\n",
    "print(out, err)\n",
    "#xapiData"
   ]
  },
  {
   "cell_type": "code",
   "execution_count": null,
   "metadata": {},
   "outputs": [],
   "source": [
    "# cargamos pandas, plotly\n",
    "import pandas as pd\n",
    "import numpy as np\n",
    "import plotly.graph_objs as go\n",
    "from plotly.subplots import make_subplots\n",
    "from plotly.offline import init_notebook_mode, iplot\n",
    "init_notebook_mode(connected=True)"
   ]
  },
  {
   "cell_type": "code",
   "execution_count": null,
   "metadata": {},
   "outputs": [],
   "source": [
    "df = pd.json_normalize(xapiData)\n",
    "df"
   ]
  },
  {
   "cell_type": "code",
   "execution_count": null,
   "metadata": {},
   "outputs": [],
   "source": [
    "df = pd.json_normalize(xapiData)\n",
    "\n",
    "# algo de información básica\n",
    "print(f\"total of {len(df)} lines and {len(df['actor.name'].unique())} actors\")"
   ]
  },
  {
   "cell_type": "code",
   "execution_count": null,
   "metadata": {},
   "outputs": [],
   "source": [
    "import plotly.express as px\n",
    "progress_verbs=[\"http://adlnet.gov/expapi/verbs/initialized\", \"http://adlnet.gov/expapi/verbs/progressed\", \"http://adlnet.gov/expapi/verbs/completed\"]\n",
    "progress_data=df.loc[df['verb.id'].isin(progress_verbs)].copy()\n",
    "progress_data\n",
    "# Define a function to update the progress for specific verbs\n",
    "def update_progress(row):\n",
    "    if row['verb.id'] == \"http://adlnet.gov/expapi/verbs/initialized\":\n",
    "        return 0\n",
    "    elif row['verb.id'] == \"http://adlnet.gov/expapi/verbs/completed\":\n",
    "        return 1\n",
    "    else:\n",
    "        return row['result.extensions.https://w3id.org/xapi/seriousgames/extensions/progress']\n",
    "progress_data['result.extensions.https://w3id.org/xapi/seriousgames/extensions/progress'] = progress_data.apply(update_progress, axis=1)\n",
    "\n",
    "actors=progress_data['actor.name'].unique()\n",
    "\n",
    "object_id_levels=progress_data['object.id'].unique()\n",
    "\n",
    "for game in object_id_levels:\n",
    "    bar_game_data=progress_data.loc[progress_data['object.id'] == game].copy()\n",
    "    data = []\n",
    "    data_init = []\n",
    "    for actor in bar_game_data['actor.name'].unique():\n",
    "       bar_data=bar_game_data.loc[bar_game_data['actor.name'] == actor].copy()\n",
    "       data.append(go.Scatter(x=bar_data['timestamp'], y=bar_data['result.extensions.https://w3id.org/xapi/seriousgames/extensions/progress'], name=actor, hovertext=f\"<b>{actor}</b>\", mode=\"lines+markers\"))\n",
    "       first =bar_data.timestamp.min()\n",
    "       bar_data.timestamp = pd.to_timedelta(pd.to_datetime(bar_data['timestamp']) - pd.to_datetime(first)) + pd.to_datetime('1970/01/01')\n",
    "       data_init.append(go.Scatter(x=bar_data['timestamp'], y=bar_data['result.extensions.https://w3id.org/xapi/seriousgames/extensions/progress'], name=actor, hovertext=f\"<b>{actor}</b>\", mode=\"lines+markers\"))\n",
    "    #\n",
    "    fig = go.Figure(\n",
    "        layout_title_text='Progress during game level ' + str(game),\n",
    "        data=data\n",
    "    )\n",
    "    fig.update_xaxes(categoryorder=\"total descending\")\n",
    "    fig.show()\n",
    "    fig2 = go.Figure(\n",
    "        layout_title_text='Progress (same origin) during game level ' + str(game),\n",
    "        data=data_init\n",
    "    )\n",
    "    fig2.update_xaxes(categoryorder=\"total descending\")\n",
    "    fig2.show()"
   ]
  },
  {
   "cell_type": "markdown",
   "metadata": {},
   "source": [
    "##Progress Data"
   ]
  },
  {
   "cell_type": "code",
   "execution_count": null,
   "metadata": {},
   "outputs": [],
   "source": [
    "progress_game=progress_data.loc[~progress_data['object.id'].str.contains('Levels', case=False)]\n",
    "# Filter for \"started\" and \"completed\"\n",
    "progress_game_started = progress_game[progress_game['verb.id'].str.contains('initialized')]\n",
    "progress_game_completed = progress_game[progress_game['verb.id'].str.contains('completed')]\n",
    "\n",
    "# Merge to find actors who started and completed the same object\n",
    "progress_game_merged = pd.merge(progress_game_started, progress_game_completed, on=['actor.name'], suffixes=('_started', '_completed'))\n",
    "\n",
    "# Get the count of unique actors who started and completed the same object\n",
    "actor_started_completed = progress_game_merged['actor.name'].unique()\n",
    "\n",
    "# Find actors who have not completed the same object they started\n",
    "progress_game_only_started = progress_game_started[~progress_game_started['actor.name'].isin(progress_game_completed['actor.name'])]\n",
    "\n",
    "# Get the count of unique actors who only started an object\n",
    "actor_only_started = progress_game_only_started['actor.name'].unique()\n",
    "\n",
    "print(f\"Number of actors who started and completed the same object: {len(actor_started_completed)}\")\n",
    "print(f\"Number of actors who only started: {len(actor_only_started)}\")\n",
    "\n",
    "# Create data for pie chart\n",
    "data = {\n",
    "    'Category': ['Started and Completed', 'Only Started'],\n",
    "    'Count': [len(actor_started_completed), len(actor_only_started)],\n",
    "    'Actors': [', '.join(actor_started_completed), ', '.join(actor_only_started)]\n",
    "}\n",
    "\n",
    "df_pie = pd.DataFrame(data)\n",
    "\n",
    "# Create pie chart with Plotly\n",
    "fig = px.pie(df_pie, values='Count', names='Category', title='Actors by Activity Status', \n",
    "             hover_data=['Actors'], labels={'Actors': 'Actors'})\n",
    "\n",
    "# Show the plot\n",
    "fig.show()"
   ]
  },
  {
   "cell_type": "code",
   "execution_count": null,
   "metadata": {},
   "outputs": [],
   "source": [
    "only_cutscenes = df[df['object.definition.type'].str.contains('cutscene', case=False)]\n",
    "\n",
    "df_skipped = only_cutscenes[only_cutscenes['verb.id'].str.contains('skipped')]\n",
    "df_accessed = only_cutscenes[only_cutscenes['verb.id'].str.contains('accessed')]\n",
    "print(\"Skipped \" + str(len(df_skipped)))\n",
    "print(\"Access \" + str(len(df_accessed)))\n",
    "# Merge to find actors who start and skipped the same object\n",
    "df_access_skipped = pd.merge(df_skipped, df_accessed, on=['object.id','actor.name'], how= 'outer', suffixes=('_skipped', '_accessed'))\n",
    "df_access_skipped\n",
    "\n",
    "# Group by 'object' and 'actor' to get the count\n",
    "df_grouped = df_access_skipped[['object.id',  'actor.name', 'verb.id_skipped', 'verb.id_accessed']].groupby(['object.id', 'actor.name']).count().reset_index()\n",
    "df_grouped['count_seen_but_skipped']=df_grouped['verb.id_skipped']\n",
    "df_grouped['count_seen']=df_grouped['verb.id_accessed']-df_grouped['verb.id_skipped']\n",
    "\n",
    "# Create a stacked bar chart with Plotly\n",
    "fig = px.bar(df_grouped, x='object.id', y=['count_seen', 'count_seen_but_skipped'], \n",
    "             color_discrete_sequence=['#1f77b4', '#ff7f0e'],\n",
    "             hover_name='actor.name', \n",
    "             labels={'count_seen_but_skipped': 'Access Count', 'count_seen': 'Seen Count', 'actor.name':'Actor'})\n",
    "### Show the plot\n",
    "fig.show()"
   ]
  },
  {
   "cell_type": "markdown",
   "metadata": {},
   "source": [
    "### Intentemos ver puntuación en cada completable..."
   ]
  },
  {
   "cell_type": "code",
   "execution_count": null,
   "metadata": {},
   "outputs": [],
   "source": [
    "df_completable= df[df['verb.id'].str.contains('completed')]\n",
    "df_completable\n",
    "\n",
    "score_columns = [col for col in df_completable.columns if 'score' in col]\n",
    "if len(score_columns) > 0:\n",
    "    print(score_columns[0])\n",
    "    df_completable[score_columns[0]]\n",
    "\n",
    "data = []\n",
    "for c in df_completable['actor.name'].unique():\n",
    "    bar_data = df_completable[df_completable['actor.name'] == c]\n",
    "    data.append(go.Bar(x=bar_data['object.id'], y=bar_data[score_columns[0]], name=c))\n",
    "\n",
    "fig = go.Figure(\n",
    "    layout_title_text=\"Score by completable\",\n",
    "    data=data\n",
    ")\n",
    "fig.update_xaxes(categoryorder=\"total descending\")\n",
    "fig.update_layout(barmode='group')\n",
    "### Show the plot\n",
    "fig.show()"
   ]
  },
  {
   "cell_type": "code",
   "execution_count": null,
   "metadata": {},
   "outputs": [],
   "source": [
    "data = []\n",
    "for c in df_completable['object.id'].unique():\n",
    "    bar_data = df_completable[df_completable['object.id'] == c]\n",
    "    data.append(go.Bar(x=bar_data['actor.name'], y=bar_data[score_columns[0]], name=c))\n",
    "    \n",
    "fig = go.Figure(\n",
    "    layout_title_text=\"Score by completable\",\n",
    "    data=data\n",
    ")\n",
    "fig.update_xaxes(categoryorder=\"total descending\")\n",
    "fig.update_layout(barmode='group')\n",
    "### Show the plot\n",
    "fig.show()"
   ]
  }
 ],
 "metadata": {
  "kernelspec": {
   "display_name": "Python 3",
   "language": "python",
   "name": "python3"
  },
  "language_info": {
   "codemirror_mode": {
    "name": "ipython",
    "version": 3
   },
   "file_extension": ".py",
   "mimetype": "text/x-python",
   "name": "python",
   "nbconvert_exporter": "python",
   "pygments_lexer": "ipython3",
   "version": "3.12.2"
  }
 },
 "nbformat": 4,
 "nbformat_minor": 2
}
