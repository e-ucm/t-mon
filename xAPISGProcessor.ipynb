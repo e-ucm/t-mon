{
 "cells": [
  {
   "cell_type": "markdown",
   "metadata": {},
   "source": [
    "# xAPI-SG Processor"
   ]
  },
  {
   "cell_type": "markdown",
   "metadata": {},
   "source": [
    "### Processor of traces following the Experience API for Serious Games Profile (xAPI-SG)\n",
    "\n",
    "**xAPI-SG main reference:**  \n",
    "*Applying standards to systematize learning analytics in serious games.\n",
    "Ángel Serrano-Laguna, Iván Martínez-Ortiz, Jason Haag, Damon Regan, Andy Johnson, Baltasar Fernández-Manjón \n",
    "Computer Standards & Interfaces 50 (2017) 116–123, http://dx.doi.org/10.1016/j.csi.2016.09.014*\n",
    "\n",
    "Further info on GitHub wiki page: https://github.com/e-ucm/rage-analytics/wiki/xAPI-SG-Profile "
   ]
  },
  {
   "cell_type": "markdown",
   "metadata": {},
   "source": [
    "The following code:\n",
    "- expects as input a JSON file with a list of xAPI-SG statements\n",
    "- analyzes the xAPI-SG statements and fills an adaptation of the default ser of visualizations\n",
    "https://github.com/e-ucm/rage-analytics/wiki/Default-visualizations-teacher "
   ]
  },
  {
   "cell_type": "code",
   "execution_count": 4,
   "metadata": {
    "pycharm": {
     "is_executing": false
    }
   },
   "outputs": [],
   "source": [
    "import json\n",
    "from typing import Dict, Any\n",
    "import numpy as np\n",
    "from datetime import datetime\n",
    "import copy\n",
    "import matplotlib.dates as mdates\n",
    "import matplotlib.pyplot as plt\n",
    "from collections import Counter"
   ]
  },
  {
   "cell_type": "code",
   "execution_count": 5,
   "metadata": {
    "pycharm": {
     "is_executing": false
    }
   },
   "outputs": [],
   "source": [
    "%run ProcessxAPISGStatement.ipynb # notebook to process an xAPI-SG statement"
   ]
  },
  {
   "cell_type": "code",
   "execution_count": 6,
   "metadata": {
    "pycharm": {
     "is_executing": false
    }
   },
   "outputs": [
    {
     "name": "stdout",
     "text": [
      "{'James Dean': {'alternatives': {'CapitalOfFlorida': [('Miami', 'False'),\n",
      "                                                      ('Tallahassee', 'True')],\n",
      "                                 'CapitalOfSpain': [('Madrid', 'True')]},\n",
      "                'completables_progress': {'MyFirstGame': 0.99, 'World1-2': 0.5},\n",
      "                'completables_scores': {'MyFirstGame': 95, 'World1-2': 95},\n",
      "                'completables_times': {'MyFirstGame': ('2016-05-24T15:13:47Z',\n",
      "                                                       '2016-05-24T15:37:13Z'),\n",
      "                                       'World1-2': ('2016-05-24T15:03:47Z',\n",
      "                                                    '2016-05-24T15:37:13Z')},\n",
      "                'game_completed': True,\n",
      "                'game_progress_per_time': [[0.45,\n",
      "                                            datetime.datetime(2016, 5, 24, 15, 5, 49)],\n",
      "                                           [0.8,\n",
      "                                            datetime.datetime(2016, 5, 24, 15, 15, 49)],\n",
      "                                           [0.99,\n",
      "                                            datetime.datetime(2016, 5, 24, 15, 35, 49)]],\n",
      "                'game_started': True,\n",
      "                'videos_seen': ['IntroVideo', 'VideoTutorial', 'VideoDemo'],\n",
      "                'videos_skipped': []},\n",
      " 'John Smith': {'alternatives': {'CapitalOfFlorida': [('Miami', 'False'),\n",
      "                                                      ('Orlando', 'False'),\n",
      "                                                      ('Tampa', 'False'),\n",
      "                                                      ('Tallahassee', 'True')],\n",
      "                                 'CapitalOfSpain': [('Lisbon', 'False'),\n",
      "                                                    ('Madrid', 'True')]},\n",
      "                'completables_progress': {'MyFirstGame': 0.9, 'World1-1': 0.5},\n",
      "                'completables_scores': {'MyFirstGame': 50, 'World1-1': 50},\n",
      "                'completables_times': {'MyFirstGame': ('2016-05-24T15:03:47Z',\n",
      "                                                       '2016-05-24T15:45:13Z'),\n",
      "                                       'World1-1': ('2016-05-24T15:03:47Z',\n",
      "                                                    '2016-05-24T15:40:13Z')},\n",
      "                'game_completed': True,\n",
      "                'game_progress_per_time': [[0.15,\n",
      "                                            datetime.datetime(2016, 5, 24, 15, 5, 49)],\n",
      "                                           [0.5,\n",
      "                                            datetime.datetime(2016, 5, 24, 15, 15, 49)],\n",
      "                                           [0.7,\n",
      "                                            datetime.datetime(2016, 5, 24, 15, 25, 49)],\n",
      "                                           [0.9,\n",
      "                                            datetime.datetime(2016, 5, 24, 15, 35, 49)]],\n",
      "                'game_started': True,\n",
      "                'videos_seen': ['IntroVideo', 'VideoTutorial'],\n",
      "                'videos_skipped': ['IntroVideo']},\n",
      " 'Juan Gomez': {'alternatives': {'CapitalOfFlorida': [('Miami', 'False'),\n",
      "                                                      ('Tallahassee', 'True')],\n",
      "                                 'CapitalOfSpain': [('Madrid', 'True')]},\n",
      "                'completables_progress': {'MyFirstGame': 0.95, 'World1-1': 0.5},\n",
      "                'completables_scores': {'MyFirstGame': 43,\n",
      "                                        'World1-1': 22,\n",
      "                                        'World1-2': 60},\n",
      "                'completables_times': {'MyFirstGame': ('2016-05-24T15:13:47Z',\n",
      "                                                       '2016-05-24T15:45:13Z'),\n",
      "                                       'World1-1': ('2016-05-24T15:15:47Z',\n",
      "                                                    '2016-05-24T15:55:13Z'),\n",
      "                                       'World1-2': ('2016-05-24T15:25:47Z',\n",
      "                                                    '2016-05-24T15:55:13Z')},\n",
      "                'game_completed': True,\n",
      "                'game_progress_per_time': [[0.3,\n",
      "                                            datetime.datetime(2016, 5, 24, 15, 17, 49)],\n",
      "                                           [0.5,\n",
      "                                            datetime.datetime(2016, 5, 24, 15, 25, 49)],\n",
      "                                           [0.75,\n",
      "                                            datetime.datetime(2016, 5, 24, 15, 33, 49)],\n",
      "                                           [0.95,\n",
      "                                            datetime.datetime(2016, 5, 24, 15, 40, 49)]],\n",
      "                'game_started': True,\n",
      "                'videos_seen': ['IntroVideo', 'VideoTutorial'],\n",
      "                'videos_skipped': []},\n",
      " 'Mary Kate': {'alternatives': {'CapitalOfFlorida': [('Miami', 'False'),\n",
      "                                                     ('Jacksonville', 'False')],\n",
      "                                'CapitalOfSpain': [('Lisbon', 'False')]},\n",
      "               'completables_progress': {'MyFirstGame': 0.75, 'World1-2': 0.5},\n",
      "               'completables_scores': {'MyFirstGame': 72, 'World1-2': 72},\n",
      "               'completables_times': {'MyFirstGame': ('2016-05-24T15:25:47Z',\n",
      "                                                      '2016-05-24T15:59:13Z'),\n",
      "                                      'World1-2': ('2016-05-24T15:05:47Z',\n",
      "                                                   '2016-05-24T15:48:13Z')},\n",
      "               'game_completed': True,\n",
      "               'game_progress_per_time': [[0.25,\n",
      "                                           datetime.datetime(2016, 5, 24, 15, 36, 49)],\n",
      "                                          [0.35,\n",
      "                                           datetime.datetime(2016, 5, 24, 15, 38, 49)],\n",
      "                                          [0.65,\n",
      "                                           datetime.datetime(2016, 5, 24, 15, 45, 49)],\n",
      "                                          [0.75,\n",
      "                                           datetime.datetime(2016, 5, 24, 15, 47, 49)]],\n",
      "               'game_started': True,\n",
      "               'videos_seen': ['IntroVideo'],\n",
      "               'videos_skipped': ['IntroVideo']},\n",
      " 'Sarah Connor': {'alternatives': {'CapitalOfFlorida': [('Miami', 'False'),\n",
      "                                                        ('Orlando', 'False'),\n",
      "                                                        ('Tampa', 'False'),\n",
      "                                                        ('Jacksonville',\n",
      "                                                         'False')],\n",
      "                                   'CapitalOfSpain': [('Lisbon', 'False'),\n",
      "                                                      ('Mallorca', 'False')]},\n",
      "                  'completables_progress': {'MyFirstGame': 0.75,\n",
      "                                            'World1-1': 0.1},\n",
      "                  'completables_scores': {'MyFirstGame': 33, 'World1-1': 17},\n",
      "                  'completables_times': {'MyFirstGame': ('2016-05-24T15:05:47Z',\n",
      "                                                         '2016-05-24T15:55:13Z'),\n",
      "                                         'World1-1': ('2016-05-24T15:05:47Z',\n",
      "                                                      '2016-05-24T15:48:13Z')},\n",
      "                  'game_completed': True,\n",
      "                  'game_progress_per_time': [[0.1,\n",
      "                                              datetime.datetime(2016, 5, 24, 15, 5, 49)],\n",
      "                                             [0.35,\n",
      "                                              datetime.datetime(2016, 5, 24, 15, 15, 49)],\n",
      "                                             [0.55,\n",
      "                                              datetime.datetime(2016, 5, 24, 15, 25, 49)],\n",
      "                                             [0.75,\n",
      "                                              datetime.datetime(2016, 5, 24, 15, 35, 49)]],\n",
      "                  'game_started': True,\n",
      "                  'videos_seen': ['IntroVideo', 'VideoTutorial'],\n",
      "                  'videos_skipped': ['IntroVideo']}}\n"
     ],
     "output_type": "stream"
    }
   ],
   "source": [
    "# file with xAPI-SG statements      \n",
    "location=\"./\" # file location\n",
    "file_name=\"xapi-sg-sample-data.json\" # file name\n",
    "\n",
    "players_info: Dict[Any, Any] = {} # dict with players info\n",
    "start_time = datetime.now() \n",
    "\n",
    "## FILE MUST CONTAIN LIST OF XAPI-SG PROFILE TRACES\n",
    "## (traces separated by commas and enclosed by []) \n",
    "with open(location+file_name, 'r') as f:\n",
    "    statements_dict = json.load(f)\n",
    "    for s in statements_dict:\n",
    "        process_xapisg_statement(s, players_info)\n",
    "    \n",
    "end_time = datetime.now()\n",
    "\n",
    "import pprint\n",
    "pprint.pprint(players_info)"
   ]
  },
  {
   "cell_type": "markdown",
   "metadata": {},
   "source": [
    "**Pie chart with number of games started and completed**"
   ]
  },
  {
   "cell_type": "code",
   "execution_count": 9,
   "metadata": {
    "pycharm": {
     "is_executing": false
    }
   },
   "outputs": [
    {
     "data": {
      "text/plain": "<Figure size 432x288 with 1 Axes>",
      "image/png": "[encoded data removed]"
     },
     "metadata": {},
     "output_type": "display_data"
    }
   ],
   "source": [
    "%run vis/xAPISG-GamesStartedCompleted.ipynb\n",
    "vis_games_started_completed(players_info)"
   ]
  },
  {
   "cell_type": "markdown",
   "metadata": {},
   "source": [
    "**Bar chart with number of times each video was seen and skipped**"
   ]
  },
  {
   "cell_type": "code",
   "execution_count": 10,
   "metadata": {
    "pycharm": {
     "is_executing": false
    }
   },
   "outputs": [
    {
     "data": {
      "text/plain": "<Figure size 432x288 with 1 Axes>",
      "image/png": "[encoded data removed]"
     },
     "metadata": {
      "needs_background": "light"
     },
     "output_type": "display_data"
    }
   ],
   "source": [
    "%run vis/xAPISG-VideosSeenSkipped.ipynb\n",
    "vis_videos_seen_skipped(players_info)"
   ]
  },
  {
   "cell_type": "markdown",
   "metadata": {},
   "source": [
    "**Line chart with progress of players per time**"
   ]
  },
  {
   "cell_type": "code",
   "execution_count": null,
   "metadata": {
    "pycharm": {
     "is_executing": false
    }
   },
   "outputs": [],
   "source": [
    "%run vis/xAPISG-PlayersProgress.ipynb\n",
    "vis_players_progress(players_info)"
   ]
  },
  {
   "cell_type": "markdown",
   "metadata": {},
   "source": [
    "**Bar chart with scores of players in each completable**"
   ]
  },
  {
   "cell_type": "code",
   "execution_count": null,
   "metadata": {
    "pycharm": {
     "is_executing": false
    }
   },
   "outputs": [],
   "source": [
    "%run vis/xAPISG-CompletablesScores.ipynb\n",
    "vis_completables_scores(players_info)"
   ]
  },
  {
   "cell_type": "markdown",
   "metadata": {},
   "source": [
    "**Bar chart with progress of players in each completable**"
   ]
  },
  {
   "cell_type": "code",
   "execution_count": null,
   "metadata": {
    "pycharm": {
     "is_executing": false
    }
   },
   "outputs": [],
   "source": [
    "%run vis/xAPISG-CompletablesProgress.ipynb\n",
    "vis_completables_progress(players_info)"
   ]
  },
  {
   "cell_type": "markdown",
   "metadata": {},
   "source": [
    "**Bar chart with max and min completion time in each completable**"
   ]
  },
  {
   "cell_type": "code",
   "execution_count": null,
   "metadata": {
    "pycharm": {
     "is_executing": false
    }
   },
   "outputs": [],
   "source": [
    "%run vis/xAPISG-CompletablesTimes.ipynb\n",
    "vis_completables_times(players_info)"
   ]
  },
  {
   "cell_type": "markdown",
   "metadata": {},
   "source": [
    "**Bar chart with number of correct and incorrect answers per player**"
   ]
  },
  {
   "cell_type": "code",
   "execution_count": null,
   "metadata": {
    "pycharm": {
     "is_executing": false
    }
   },
   "outputs": [],
   "source": [
    "%run vis/xAPISG-CorrectIncorrectPlayer.ipynb\n",
    "vis_correct_incorrect_player(players_info)"
   ]
  },
  {
   "cell_type": "markdown",
   "metadata": {},
   "source": [
    "**Bar chart with number of correct and incorrect answers per question (alternative)**"
   ]
  },
  {
   "cell_type": "code",
   "execution_count": null,
   "metadata": {
    "pycharm": {
     "is_executing": false
    }
   },
   "outputs": [],
   "source": [
    "%run vis/xAPISG-CorrectIncorrectQuestion.ipynb\n",
    "vis_correct_incorrect_question(players_info)"
   ]
  },
  {
   "cell_type": "markdown",
   "metadata": {},
   "source": [
    "**Bar chart per question, with number of times each alternative has been selected**"
   ]
  },
  {
   "cell_type": "code",
   "execution_count": null,
   "metadata": {
    "pycharm": {
     "name": "#%%\n",
     "is_executing": false
    }
   },
   "outputs": [],
   "source": [
    "%run vis/xAPISG-AlternativesSelectedQuestion.ipynb\n",
    "vis_alternatives_selected_question(players_info)\n",
    "\n"
   ]
  }
 ],
 "metadata": {
  "kernelspec": {
   "display_name": "Python 3",
   "language": "python",
   "name": "python3"
  },
  "language_info": {
   "codemirror_mode": {
    "name": "ipython",
    "version": 3
   },
   "file_extension": ".py",
   "mimetype": "text/x-python",
   "name": "python",
   "nbconvert_exporter": "python",
   "pygments_lexer": "ipython3",
   "version": "3.7.6"
  },
  "pycharm": {
   "stem_cell": {
    "cell_type": "raw",
    "source": [],
    "metadata": {
     "collapsed": false
    }
   }
  }
 },
 "nbformat": 4,
 "nbformat_minor": 4
}