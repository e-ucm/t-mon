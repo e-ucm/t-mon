{
 "cells": [
  {
   "cell_type": "markdown",
   "metadata": {},
   "source": [
    "***vis_correct_incorrect_question* function**:\n",
    "* Input: players_info dictionary\n",
    "* Displays bar chart showing the total number of correct and incorrect alternatives selected by players in each multiple-choice question"
   ]
  },
  {
   "cell_type": "code",
   "execution_count": 1,
   "metadata": {
    "pycharm": {
     "is_executing": false
    }
   },
   "outputs": [],
   "source": [
    "def vis_correct_incorrect_question (players_info):\n",
    "    # find full list of alternatives\n",
    "    alternatives_list = set()\n",
    "    for player in players_info.keys():\n",
    "        alternatives_list = alternatives_list.union(players_info[player][\"alternatives\"].keys())\n",
    "    alternatives_list = list(alternatives_list)\n",
    "\n",
    "    # alternatives correct and incorrect responses\n",
    "    true_per_alternative = []\n",
    "    false_per_alternative = []\n",
    "    for alt in alternatives_list:\n",
    "        alt_true = 0\n",
    "        alt_false = 0\n",
    "        for player in players_info.keys():\n",
    "             if alt in players_info[player][\"alternatives\"].keys():\n",
    "                _, results = zip(*players_info[player][\"alternatives\"][alt])\n",
    "                alt_true += results.count(\"True\")\n",
    "                alt_false += results.count(\"False\")\n",
    "        true_per_alternative.append(alt_true)\n",
    "        false_per_alternative.append(alt_false)\n",
    "        \n",
    "    # Bar chart showing the total number of correct and incorrect alternatives \n",
    "    # selected by players in each multiple-choice question\n",
    "\n",
    "    N = len(alternatives_list)\n",
    "    ind = np.arange(N)\n",
    "\n",
    "    width = 0.35\n",
    "\n",
    "    p1 = plt.bar(ind, false_per_alternative, width, color='r')\n",
    "    p2 = plt.bar(ind, true_per_alternative, width, color='g', bottom=false_per_alternative)\n",
    "    plt.xlabel(\"Alternative\")\n",
    "    plt.ylabel(\"Number of questions\")\n",
    "    plt.xticks(ind, alternatives_list)\n",
    "    if len(p1)>0 or len(p2)>0:\n",
    "        plt.legend((p1[0], p2[0]), ('Incorrect', 'Correct'))\n",
    "    plt.title(\"Correct and incorrect responses per alternative\")\n",
    "    plt.show()"
   ]
  },
  {
   "cell_type": "code",
   "execution_count": null,
   "outputs": [],
   "source": [
    "\n"
   ],
   "metadata": {
    "collapsed": false,
    "pycharm": {
     "name": "#%%\n"
    }
   }
  }
 ],
 "metadata": {
  "kernelspec": {
   "display_name": "Python 3",
   "language": "python",
   "name": "python3"
  },
  "language_info": {
   "codemirror_mode": {
    "name": "ipython",
    "version": 3
   },
   "file_extension": ".py",
   "mimetype": "text/x-python",
   "name": "python",
   "nbconvert_exporter": "python",
   "pygments_lexer": "ipython3",
   "version": "3.7.6"
  },
  "pycharm": {
   "stem_cell": {
    "cell_type": "raw",
    "source": [],
    "metadata": {
     "collapsed": false
    }
   }
  }
 },
 "nbformat": 4,
 "nbformat_minor": 4
}