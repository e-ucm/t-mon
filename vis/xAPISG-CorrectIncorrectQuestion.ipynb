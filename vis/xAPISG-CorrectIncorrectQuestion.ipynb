{
 "cells": [
  {
   "cell_type": "code",
   "execution_count": null,
   "outputs": [],
   "source": [
    "%run vis/xAPISG-noDataToFillVisualization.ipynb # notebook to create the visualisation with a message NoDataToFill"
   ],
   "metadata": {
    "collapsed": false,
    "pycharm": {
     "name": "#%%\n"
    }
   }
  },
  {
   "cell_type": "markdown",
   "metadata": {
    "pycharm": {
     "name": "#%% md\n"
    }
   },
   "source": [
    "***vis_correct_incorrect_question* function**:\n",
    "* Input: players_info dictionary\n",
    "* Displays bar chart showing the total number of correct and incorrect alternatives selected by players in each multiple-choice question"
   ]
  },
  {
   "cell_type": "code",
   "execution_count": null,
   "outputs": [],
   "source": [
    "def vis_correct_incorrect_question (players_info):\n",
    "    # find full list of alternatives\n",
    "    alternatives_list = set()\n",
    "    for player in players_info.keys():\n",
    "        alternatives_list = alternatives_list.union(players_info[player][\"alternatives\"].keys())\n",
    "    alternatives_list = list(alternatives_list)\n",
    "\n",
    "    # alternatives correct and incorrect responses\n",
    "    true_per_alternative = []\n",
    "    false_per_alternative = []\n",
    "    alt_max=0\n",
    "    for alt in alternatives_list:\n",
    "        alt_true = 0\n",
    "        alt_false = 0\n",
    "        for player in players_info.keys():\n",
    "             if alt in players_info[player][\"alternatives\"].keys():\n",
    "                _, results = zip(*players_info[player][\"alternatives\"][alt])\n",
    "                alt_true += results.count(\"True\") +results.count(True) \n",
    "                alt_false += results.count(\"False\") +results.count(False)\n",
    "                if alt_true+alt_false>alt_max:\n",
    "                    alt_max=alt_true+alt_false\n",
    "        true_per_alternative.append(alt_true)\n",
    "        false_per_alternative.append(alt_false)\n",
    "    \n",
    "    alt_max+=0.5\n",
    "    # Bar chart showing the total number of correct and incorrect alternatives \n",
    "    # selected by players in each multiple-choice question\n",
    "    N = len(alternatives_list)\n",
    "    ind = np.arange(N)\n",
    "    width = 0.35\n",
    "    \n",
    "    if N>0:\n",
    "        if all_list_nbrep_empty(false_per_alternative):\n",
    "            p = plt.bar(ind, true_per_alternative, width, color='g', label=\"Correct\")\n",
    "        else:\n",
    "            p1 = plt.bar(ind, false_per_alternative, width, color='r', label=\"Incorrect\")\n",
    "            p2 = plt.bar(ind, true_per_alternative, width, color='g', label=\"Correct\",bottom=false_per_alternative)\n",
    "        plt.legend(loc='center left', bbox_to_anchor=(1, 0.5))\n",
    "        plt.xticks(ind, alternatives_list, rotation=90)\n",
    "        plt.yticks(np.arange(0, alt_max, 1))\n",
    "        plt.ylim(0,alt_max)\n",
    "    else:\n",
    "        noDataToFillVis(10)\n",
    "    plt.xlabel(\"Alternative\")\n",
    "    plt.ylabel(\"Number of questions\")\n",
    "    plt.title(\"Correct and incorrect responses per alternative\")\n",
    "    plt.show()\n",
    "        "
   ],
   "metadata": {
    "collapsed": false,
    "pycharm": {
     "name": "#%%\n"
    }
   }
  },
  {
   "cell_type": "code",
   "execution_count": 1,
   "metadata": {},
   "outputs": [],
   "source": [
    "***all_list_nbrep_empty* function** to see if one of the value of the list is 0\n",
    "Input:\n",
    "* list : the list to analyse\n",
    " \n",
    "Output: \n",
    "* return : boolean > True if any value is equal to 0, false otherwise"
   ]
  },
  {
   "cell_type": "markdown",
   "source": [
    "***all_list_nbrep_empty* function** to see if one of the value of the list is 0\n",
    "Input:\n",
    "* list : the list to analyse\n",
    " \n",
    "Output: \n",
    "* return : boolean > True if any value is equal to 0, false otherwise"
   ],
   "metadata": {
    "collapsed": false
   }
  },
  {
   "cell_type": "code",
   "execution_count": null,
   "outputs": [],
   "source": [
    "def all_list_nbrep_empty(list):\n",
    "    for nbrep in list:\n",
    "        if nbrep!=0:\n",
    "            return False\n",
    "    return True"
   ]
  }
 ],
 "metadata": {
  "kernelspec": {
   "display_name": "Python 3",
   "language": "python",
   "name": "python3"
  },
  "language_info": {
   "codemirror_mode": {
    "name": "ipython",
    "version": 3
   },
   "file_extension": ".py",
   "mimetype": "text/x-python",
   "name": "python",
   "nbconvert_exporter": "python",
   "pygments_lexer": "ipython3",
   "version": "3.7.6"
  },
  "pycharm": {
   "stem_cell": {
    "cell_type": "raw",
    "source": [],
    "metadata": {
     "collapsed": false
    }
   }
  }
 },
 "nbformat": 4,
 "nbformat_minor": 4
}