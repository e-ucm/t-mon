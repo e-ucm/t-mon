{
 "cells": [
  {
   "cell_type": "code",
   "execution_count": null,
   "metadata": {
    "collapsed": false,
    "pycharm": {
     "name": "#%%\n"
    }
   },
   "outputs": [],
   "source": [
    "%run vis/xAPISG-noDataToFillVisualization.ipynb # notebook to create the visualisation with a message NoDataToFill\n",
    "%run vis/helpersFunctions/barCharts.ipynb\n",
    "%run vis/helpersFunctions/OrderGraphValuesAndSelectDataByXaxis.ipynb"
   ]
  },
  {
   "cell_type": "markdown",
   "metadata": {
    "collapsed": false
   },
   "source": [
    "Selectors :\n",
    "   * xaxisCompletableScore : dropdown value indicating the number of bar per chart (Alls, 5, 25, 50, 10 first, 10 last)\n",
    "   * orderCompletableScore : dropdown value indicating how to order xlabel : alphabetically or by y value (hight to low or low to hight)"
   ]
  },
  {
   "cell_type": "code",
   "execution_count": null,
   "metadata": {
    "collapsed": false,
    "pycharm": {
     "name": "#%%\n"
    }
   },
   "outputs": [],
   "source": [
    "#constructing a dropdown to select how many data we want to see in visualisations for x axis\n",
    "xaxisCompletableScore=widgets.Dropdown(options=[('All data',0),('5 per visualisation',5),('25 per visualisation',25),('50 per visualisation',50),('10 first',-1),('10 last',-2)],\n",
    "          description='x axis',\n",
    "          disabled=False)\n",
    "#constructing a dropdown to order for alphabetic keys or for values\n",
    "orderCompletableScore=widgets.Dropdown(options=[('alphabetic',0),('value from highest to lowest',1),('value from lowest to highest',-1)],\n",
    "          description='Order',\n",
    "          disabled=False)"
   ]
  },
  {
   "cell_type": "markdown",
   "metadata": {
    "pycharm": {
     "name": "#%% md\n"
    }
   },
   "source": [
    "***vis_completables_scores* function**:\n",
    "* Output : the widgets selector and the outputCompletableScore in a list to be display in a VBox\n",
    "* outputCompletableScore : a bar chart showing the score achieved by players in the different completables"
   ]
  },
  {
   "cell_type": "code",
   "execution_count": 2,
   "metadata": {
    "collapsed": false,
    "pycharm": {
     "is_executing": false,
     "name": "#%%\n"
    }
   },
   "outputs": [],
   "source": [
    "outputCompletableScore=widgets.Output()\n",
    "def vis_completables_scores():\n",
    "    def display_completable_score(change):\n",
    "        with outputCompletableScore:\n",
    "            clear_output(wait=False)\n",
    "            getAllScorePerCompletable()\n",
    "            clear_output(wait=True)\n",
    "    xaxisCompletableScore.observe(display_completable_score,'value')\n",
    "    orderCompletableScore.observe(display_completable_score,'value')\n",
    "    display_completable_score(None)\n",
    "    return [xaxisCompletableScore, orderCompletableScore, outputCompletableScoreUpdate, outputCompletableScore]"
   ]
  },
  {
   "cell_type": "markdown",
   "metadata": {
    "collapsed": false,
    "pycharm": {
     "name": "#%% md\n"
    }
   },
   "source": [
    "***getAllsScorePerCompletable* function**:\n",
    "\n",
    "Output : Displays bar chart showing the score achieved by players in the different completables"
   ]
  },
  {
   "cell_type": "code",
   "execution_count": null,
   "metadata": {
    "collapsed": false,
    "pycharm": {
     "name": "#%%\n"
    }
   },
   "outputs": [],
   "source": [
    "def getAllScorePerCompletable():\n",
    "    #get all players selected\n",
    "    playersSelected=checkboxesPlayersSelected.get_selected_options()\n",
    "    completableSelected=getSublistSelectedFromUnionListSelected(completable_score_list,\n",
    "                                                                checkboxesCompletableSelected.get_selected_options())\n",
    "    if len(completableSelected)>0 and len(playersSelected)>0:\n",
    "        if xaxisCompletableScore.value in [0,-1,-2]:\n",
    "            nbgraph=1\n",
    "        else:\n",
    "            div=len(completableSelected)/xaxisCompletableScore.value\n",
    "            nbgraph=math.ceil(div)\n",
    "        accordionCompletableScore=widgets.Accordion(children=[widgets.Output() for i in range(nbgraph)],\n",
    "                                         selected_index=None)\n",
    "        if nbgraph>1:\n",
    "            for i in range(nbgraph):\n",
    "                accordionCompletableScore.set_title(i, str(i+1)+\"/\"+str(nbgraph))\n",
    "        display(accordionCompletableScore)\n",
    "        def on_selected_index_completable_score_change(change):\n",
    "            n=change['new']\n",
    "            if n!=None:\n",
    "                #close and clear previous fig of completable score\n",
    "                for fig in figCompletableScore:\n",
    "                    plt.close(fig=fig)\n",
    "                figCompletableScore.clear()\n",
    "                #get all players selected\n",
    "                playersSelected=checkboxesPlayersSelected.get_selected_options()\n",
    "                completableSelected=getSublistSelectedFromUnionListSelected(completable_score_list,\n",
    "                                                                            checkboxesCompletableSelected.get_selected_options())\n",
    "                players_scores = {}\n",
    "                for player in playersSelected:\n",
    "                    if players_info[player][\"completables_scores\"] != []:\n",
    "                        for c in completableSelected:\n",
    "                            if not c in players_scores.keys():\n",
    "                                players_scores[c]={}\n",
    "                            if c in players_info[player][\"completables_scores\"].keys():\n",
    "                                try:\n",
    "                                    players_scores[c][player] = players_info[player][\"completables_scores\"][c] # was int\n",
    "                                except:\n",
    "                                    players_scores[c][player] = 0\n",
    "                                    for value in players_info[player][\"completables_scores\"][c].values():\n",
    "                                        players_scores[c][player]+=value\n",
    "                            else:\n",
    "                                players_scores[c][player] = 0\n",
    "                #order alls values\n",
    "                ordered_scores = orderDictByDictValues(players_scores,orderCompletableScore.value)\n",
    "                #get positions of bar dict\n",
    "                pos, bar_width = getPosDictMultiBarChart(ordered_scores,playersSelected)\n",
    "                #separe in sub dict in function of xaxis dropout selected\n",
    "                nbgraphshown, players_scores, N = organizeDictPerxAxisSelected(completableSelected,xaxisCompletableScore.value,players_scores)\n",
    "                pos = organizeDictPosPerDataxaxis(xaxisCompletableScore.value,pos)\n",
    "                with accordionCompletableScore.children[n]:\n",
    "                    clear_output(wait=False)\n",
    "                    #create new fig with custom name in the tab\n",
    "                    name=filename+\"_completable_scores\"\n",
    "                    if nbgraphshown>1:\n",
    "                        name+=\"_\"+str(n+1)+\"_\"+str(nbgraphshown)\n",
    "                    fig = plt.figure(num=name, constrained_layout=True)\n",
    "                    fig.canvas.header_visible = False\n",
    "                    fig.canvas.layout.min_height = '400px'\n",
    "                    figCompletableScore.append(fig)\n",
    "                    # separe in sub dict in function of xaxis dropout selected\n",
    "                    players_scores[n] = reorganiseDictBySubKeys(players_scores[n])\n",
    "                    if len(completableSelected)>0 and len(playersSelected)>0:\n",
    "                        # display multibar with vertical lines\n",
    "                        constructMultiBarWithVerticalLines(players_scores,n,\n",
    "                                                           playersSelected, completableSelected,\n",
    "                                                           pos, bar_width, N)\n",
    "                         #add title and labels to graph\n",
    "                        plt.xlabel(\"Completable\")\n",
    "                        plt.ylabel(\"Score\")\n",
    "                        plt.xticks(rotation=90)\n",
    "                        plt.title(\"Scores of players per completable\")\n",
    "                        plt.show()\n",
    "        accordionCompletableScore.observe(on_selected_index_completable_score_change, 'selected_index')\n",
    "        accordionCompletableScore.selected_index=0\n",
    "    else:\n",
    "        #create new fig with custom name in the tab\n",
    "        name=filename+\"_completable_scores\"\n",
    "        fig = plt.figure(num=name, constrained_layout=True)\n",
    "        fig.canvas.header_visible = False\n",
    "        fig.canvas.layout.min_height = '400px'\n",
    "        figCompletableScore.append(fig)\n",
    "        #display no data to fill vis\n",
    "        noDataToFillVis(100)\n",
    "        #add title and labels to graph\n",
    "        plt.xlabel(\"Completable\")\n",
    "        plt.ylabel(\"Score\")\n",
    "        plt.xticks(rotation=90)\n",
    "        plt.title(\"Scores of players per completable\")\n",
    "        plt.show()\n",
    "    with outputCompletableScoreUpdate:\n",
    "        clear_output(wait=False)"
   ]
  }
 ],
 "metadata": {
  "kernelspec": {
   "display_name": "Python 3",
   "language": "python",
   "name": "python3"
  },
  "language_info": {
   "codemirror_mode": {
    "name": "ipython",
    "version": 3
   },
   "file_extension": ".py",
   "mimetype": "text/x-python",
   "name": "python",
   "nbconvert_exporter": "python",
   "pygments_lexer": "ipython3",
   "version": "3.7.6"
  }
 },
 "nbformat": 4,
 "nbformat_minor": 4
}
