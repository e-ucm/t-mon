{
 "cells": [
  {
   "cell_type": "code",
   "execution_count": null,
   "outputs": [],
   "source": [
    "%run vis/xAPISG-noDataToFillVisualization.ipynb # notebook to create the visualisation with a message NoDataToFill"
   ],
   "metadata": {
    "collapsed": false,
    "pycharm": {
     "name": "#%%\n"
    }
   }
  },
  {
   "cell_type": "markdown",
   "metadata": {
    "pycharm": {
     "name": "#%% md\n"
    }
   },
   "source": [
    "***vis_completables_scores* function**:\n",
    "* Input: players_info dictionary \n",
    "* Displays bar chart showing the score achieved by players in the different completables"
   ]
  },
  {
   "cell_type": "code",
   "execution_count": null,
   "outputs": [],
   "source": [
    "def vis_completables_scores (players_info):\n",
    "    completables=set()\n",
    "    for player in players_info.keys():\n",
    "        if players_info[player][\"completables_scores\"] != []:\n",
    "            completables = completables.union(players_info[player][\"completables_scores\"].keys())\n",
    "    completables = list(completables)\n",
    "\n",
    "    # scores of each player per completable\n",
    "    players_scores = []\n",
    "    for player in players_info.keys():\n",
    "        if players_info[player][\"completables_scores\"] != []:\n",
    "            player_scores = []\n",
    "            for c in completables:\n",
    "                if c in players_info[player][\"completables_scores\"].keys():\n",
    "                    height = players_info[player][\"completables_scores\"][c]\n",
    "                else:\n",
    "                    height = 0\n",
    "                player_scores.append(height)\n",
    "            players_scores.append(player_scores)\n",
    "            \n",
    "    # bar chart showing the score achieved by players in the different completables\n",
    "\n",
    "    n_groups = len(completables)\n",
    "    index = np.arange(n_groups)\n",
    "    bar_width = 0.2\n",
    "    opacity = 0.8\n",
    "    if n_groups>0:\n",
    "        for i in range(len(players_scores)):\n",
    "            if len(players_scores[i])>0 :\n",
    "                plt.bar(index+(i*bar_width), players_scores[i], bar_width, \n",
    "                        label=list(players_info.keys())[i], \n",
    "                        tick_label=completables)\n",
    "        plt.legend(loc='center left', bbox_to_anchor=(1, 0.5))\n",
    "    else:\n",
    "        noDataToFillVis(100)\n",
    "    plt.xlabel(\"Completable\")\n",
    "    plt.ylabel(\"Score\")\n",
    "    plt.xticks(rotation=90)\n",
    "    plt.title(\"Scores of players per completable\")\n",
    "    plt.show()"
   ],
   "metadata": {
    "collapsed": false,
    "pycharm": {
     "name": "#%%\n"
    }
   }
  },
  {
   "cell_type": "code",
   "execution_count": 1,
   "metadata": {},
   "outputs": [],
   "source": [
    "def vis_completables_scores (players_info):\n",
    "    completables=set()\n",
    "    for player in players_info.keys():\n",
    "        if players_info[player][\"completables_scores\"] != []:\n",
    "            completables = completables.union(players_info[player][\"completables_scores\"].keys())\n",
    "    completables = list(completables)\n",
    "\n",
    "    # scores of each player per completable\n",
    "    players_scores = []\n",
    "    for player in players_info.keys():\n",
    "        if players_info[player][\"completables_scores\"] != []:\n",
    "            player_scores = []\n",
    "            for c in completables:\n",
    "                if c in players_info[player][\"completables_scores\"].keys():\n",
    "                    height = players_info[player][\"completables_scores\"][c]\n",
    "                else:\n",
    "                    height = 0\n",
    "                player_scores.append(height)\n",
    "            players_scores.append(player_scores)\n",
    "            \n",
    "    # bar chart showing the score achieved by players in the different completables\n",
    "\n",
    "    n_groups = len(completables)\n",
    "    index = np.arange(n_groups)\n",
    "    bar_width = 0.2\n",
    "    opacity = 0.8\n",
    "    if n_groups>0:\n",
    "        for i in range(len(players_scores)):\n",
    "            if len(players_scores[i])>0 :\n",
    "                plt.bar(index+(i*bar_width), players_scores[i], bar_width, \n",
    "                        label=list(players_info.keys())[i], \n",
    "                        tick_label=completables)\n",
    "        plt.legend(loc='center left', bbox_to_anchor=(1, 0.5))\n",
    "    else:\n",
    "        noDataToFillVis(100)\n",
    "    plt.xlabel(\"Completable\")\n",
    "    plt.ylabel(\"Score\")\n",
    "    plt.xticks(rotation=90)\n",
    "    plt.title(\"Scores of players per completable\")\n",
    "    plt.show()"
   ]
  }
 ],
 "metadata": {
  "kernelspec": {
   "display_name": "Python 3",
   "language": "python",
   "name": "python3"
  },
  "language_info": {
   "codemirror_mode": {
    "name": "ipython",
    "version": 3
   },
   "file_extension": ".py",
   "mimetype": "text/x-python",
   "name": "python",
   "nbconvert_exporter": "python",
   "pygments_lexer": "ipython3",
   "version": "3.7.6"
  },
  "pycharm": {
   "stem_cell": {
    "cell_type": "raw",
    "source": [],
    "metadata": {
     "collapsed": false
    }
   }
  }
 },
 "nbformat": 4,
 "nbformat_minor": 4
}