{
 "cells": [
  {
   "cell_type": "markdown",
   "source": [
    "***vis_items_action_type_times* function**:\n",
    "* Input: players_info dictionary\n",
    "* Displays bar chart showing for each item the number of each action type by players"
   ],
   "metadata": {
    "collapsed": false
   }
  },
  {
   "cell_type": "code",
   "execution_count": 3,
   "outputs": [],
   "source": [
    "def vis_items_action_type_interacted_times(players_info):\n",
    "    # find full list of items\n",
    "    items=set()\n",
    "    for player in players_info.keys():\n",
    "        for type in players_info[player][\"action_type_interaction\"].keys():\n",
    "            if players_info[player][\"action_type_interaction\"][type] != {}:                \n",
    "                items = items.union(players_info[player][\"action_type_interaction\"][type].keys())\n",
    "    items = list(items)\n",
    "    #print(items)\n",
    "\n",
    "    # nber of item actiontype per player\n",
    "    nbitems={}\n",
    "    for item in items:\n",
    "        nbitems[item]={}\n",
    "        for player in players_info.keys():\n",
    "            nb=0\n",
    "            for type in players_info[player][\"action_type_interaction\"].keys():\n",
    "                if item in players_info[player][\"action_type_interaction\"][type].keys():\n",
    "                    for action_type in players_info[player][\"action_type_interaction\"][type][item]:\n",
    "                        if not action_type in nbitems[item].keys():\n",
    "                            nbitems[item][action_type]={}\n",
    "                        if not player in nbitems[item][action_type].keys():\n",
    "                            nbitems[item][action_type][player]=0\n",
    "                        nbitems[item][action_type][player]+=len(players_info[player][\"action_type_interaction\"][type][item][action_type])\n",
    "    #pprint.pprint(nbitems)\n",
    "    ## Multiple bar chart showing the items selected for each personn.\n",
    "    number_of_plots = len(nbitems)\n",
    "    xfigsize=len(players_info.keys())\n",
    "    yfigsize=number_of_plots*5\n",
    "    #print(xfigsize)\n",
    "    #print(yfigsize)\n",
    "    if xfigsize!=0 and number_of_plots>1:\n",
    "        fig, axs = plt.subplots(number_of_plots, figsize=(xfigsize,yfigsize), sharex=True)\n",
    "        i = 0\n",
    "        for item in nbitems.keys():\n",
    "            j=0\n",
    "            for action_type in nbitems[item].keys():\n",
    "                if j==0:\n",
    "                    axs[i].bar(range(len(nbitems[item][action_type])), \n",
    "                               nbitems[item][action_type].values(),\n",
    "                               label=action_type,\n",
    "                               tick_label=list(nbitems[item][action_type].keys()))\n",
    "                else: \n",
    "                    axs[i].bar(range(len(nbitems[item][action_type])), \n",
    "                               nbitems[item][action_type].values(),\n",
    "                               tick_label=list(nbitems[item][action_type].keys()),\n",
    "                               label=action_type,\n",
    "                               bottom=nbitems[item][last_action_type].values())\n",
    "                last_action_type=action_type\n",
    "            axs[i].set_title('Interaction with '+item+\" by action_type\",fontsize=yfigsize)\n",
    "            i += 1\n",
    "        # Hide x labels and tick labels for top plots and y ticks for right plots.\n",
    "        for ax in axs.flat:\n",
    "            ax.label_outer()\n",
    "            ax.legend()\n",
    "            for tick in ax.yaxis.get_majorticklabels():\n",
    "                tick.set_fontsize(yfigsize)\n",
    "        plt.xticks(rotation=90, fontsize=yfigsize)\n",
    "        plt.show()\n",
    "        "
   ],
   "metadata": {
    "collapsed": false,
    "pycharm": {
     "name": "#%%\n",
     "is_executing": false
    }
   }
  },
  {
   "cell_type": "code",
   "execution_count": null,
   "outputs": [],
   "source": [
    "\n"
   ],
   "metadata": {
    "collapsed": false,
    "pycharm": {
     "name": "#%%\n"
    }
   }
  }
 ],
 "metadata": {
  "kernelspec": {
   "display_name": "Python 3",
   "language": "python",
   "name": "python3"
  },
  "language_info": {
   "codemirror_mode": {
    "name": "ipython",
    "version": 2
   },
   "file_extension": ".py",
   "mimetype": "text/x-python",
   "name": "python",
   "nbconvert_exporter": "python",
   "pygments_lexer": "ipython2",
   "version": "2.7.6"
  },
  "pycharm": {
   "stem_cell": {
    "cell_type": "raw",
    "source": [],
    "metadata": {
     "collapsed": false
    }
   }
  }
 },
 "nbformat": 4,
 "nbformat_minor": 0
}