{
 "cells": [
  {
   "cell_type": "code",
   "execution_count": null,
   "outputs": [],
   "source": [
    "%run vis/xAPISG-noDataToFillVisualization.ipynb # notebook to create the visualisation with a message NoDataToFill\n",
    "%run vis/helpersFunctions/MultiBarMultiColor.ipynb"
   ],
   "metadata": {
    "collapsed": false,
    "pycharm": {
     "name": "#%%\n"
    }
   }
  },
  {
   "cell_type": "markdown",
   "source": [
    "***vis_items_action_type_interacted_times_interact* function** :\n",
    "* Output: the outputActionTypeItem in a list to be display in a VBox\n",
    "* outputActionTypeItem : displays bar chart showing for each item the number of each action type by players"
   ],
   "metadata": {
    "collapsed": false
   }
  },
  {
   "cell_type": "code",
   "execution_count": null,
   "outputs": [],
   "source": [
    "def vis_items_action_type_interacted_times_interact():\n",
    "    def display_multi_bar(change):\n",
    "        with outputActionTypeItem:\n",
    "            clear_output(wait=False)\n",
    "            vis_items_action_type_interacted_times()\n",
    "            clear_output(wait=True)\n",
    "    display_multi_bar(None)\n",
    "    return [outputActionTypeItemUpdate, outputActionTypeItem]"
   ],
   "metadata": {
    "collapsed": false,
    "pycharm": {
     "name": "#%%\n"
    }
   }
  },
  {
   "cell_type": "markdown",
   "source": [
    "***vis_items_action_type_times* function** displays bar chart showing for each item the number of each action type by players"
   ],
   "metadata": {
    "collapsed": false
   }
  },
  {
   "cell_type": "code",
   "execution_count": 3,
   "outputs": [],
   "source": [
    "def vis_items_action_type_interacted_times():\n",
    "    #get all players and items selected\n",
    "    playersSelected=checkboxesPlayersSelected.get_selected_options()\n",
    "    items=getSublistSelectedFromUnionListSelected(item_interaction_action_type_list, checkboxesItemInteractedSelected.get_selected_options())\n",
    "    if len(playersSelected)>0 and len(items)>0:\n",
    "        accordionBarChartActionTypeItem=widgets.Accordion(children=[widgets.Output() for i in items],\n",
    "                                                selected_index = None)\n",
    "        for i in range(len(items)):\n",
    "            accordionBarChartActionTypeItem.set_title(i, items[i])\n",
    "        display(accordionBarChartActionTypeItem)\n",
    "        def on_selected_index_action_type_change(change):\n",
    "            #close and clear previous fig of actions type\n",
    "            for fig in figActionTypeItem:\n",
    "                plt.close(fig=fig)\n",
    "            figActionTypeItem.clear()\n",
    "            index=change['new']\n",
    "            if index!=None:\n",
    "                #get all players and items selected\n",
    "                playersSelected=checkboxesPlayersSelected.get_selected_options()\n",
    "                items=getSublistSelectedFromUnionListSelected(item_interaction_action_type_list, checkboxesItemInteractedSelected.get_selected_options())\n",
    "                item=items[index]\n",
    "                # nber of items actiontype per player\n",
    "                nbitems=constructDictWithKeyAndSubKey(players_info, playersSelected, item, \"action_type_interaction\", True)\n",
    "                # Multiple bar chart showing the items selected separated by action type for each personn.\n",
    "                with accordionBarChartActionTypeItem.children[index]:\n",
    "                    #create new fig with custom name in the tab\n",
    "                    name=os.path.splitext(filename)[0]+\"_interaction_with_item_by_action_type_\"+item\n",
    "                    fig = plt.figure(num=name, constrained_layout=True)\n",
    "                    fig.canvas.header_visible = False\n",
    "                    fig.canvas.layout.min_height = '400px'\n",
    "                    figActionTypeItem.append(fig)\n",
    "                    title=\"Interaction with item by action_type\"+item\n",
    "                    multiBarSuperposed(nbitems[item],item, title, \"Players\", \"Number of interactions\")\n",
    "        accordionBarChartActionTypeItem.observe(on_selected_index_action_type_change, 'selected_index')\n",
    "    else:\n",
    "        #close and clear previous fig of actions type\n",
    "        for fig in figActionTypeItem:\n",
    "            plt.close(fig=fig)\n",
    "        figActionTypeItem.clear()\n",
    "        name=os.path.splitext(filename)[0]+\"_interaction_with_item_by_action_type\"\n",
    "        fig = plt.figure(num=name, constrained_layout=True)\n",
    "        fig.canvas.header_visible = False\n",
    "        fig.canvas.layout.min_height = '400px'\n",
    "        figActionTypeItem.append(fig)\n",
    "        noDataToFillVis(10)\n",
    "        plt.title(\"Interaction with item by action_type\")\n",
    "        plt.xlabel(\"Players\")\n",
    "        plt.ylabel(\"Number of interactions\")\n",
    "        plt.show()\n",
    "    with outputActionTypeItemUpdate:\n",
    "         clear_output(wait=False)"
   ],
   "metadata": {
    "collapsed": false,
    "pycharm": {
     "name": "#%%\n",
     "is_executing": false
    }
   }
  }
 ],
 "metadata": {
  "kernelspec": {
   "display_name": "Python 3",
   "language": "python",
   "name": "python3"
  },
  "language_info": {
   "codemirror_mode": {
    "name": "ipython",
    "version": 2
   },
   "file_extension": ".py",
   "mimetype": "text/x-python",
   "name": "python",
   "nbconvert_exporter": "python",
   "pygments_lexer": "ipython2",
   "version": "2.7.6"
  }
 },
 "nbformat": 4,
 "nbformat_minor": 0
}