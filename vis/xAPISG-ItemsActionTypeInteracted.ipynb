{
 "cells": [
  {
   "cell_type": "code",
   "execution_count": null,
   "outputs": [],
   "source": [
    "%run vis/xAPISG-noDataToFillVisualization.ipynb # notebook to create the visualisation with a message NoDataToFill"
   ],
   "metadata": {
    "collapsed": false,
    "pycharm": {
     "name": "#%%\n"
    }
   }
  },
  {
   "cell_type": "markdown",
   "source": [
    "***vis_items_action_type_times* function**:\n",
    "* Input: players_info dictionary\n",
    "* Displays bar chart showing for each item the number of each action type by players"
   ],
   "metadata": {
    "collapsed": false
   }
  },
  {
   "cell_type": "code",
   "execution_count": 3,
   "outputs": [],
   "source": [
    "def vis_items_action_type_interacted_times(players_info):\n",
    "    items=find_full_list_of_items(players_info)\n",
    "    # nber of items actiontype per player\n",
    "    nbitems=constructDictWithKeyAndSubKey(players_info, items, \"action_type_interaction\", True)\n",
    "    ## Multiple bar chart showing the items selected separated by action type for each personn.\n",
    "    if len(players_info.keys())!=0 and len(nbitems)>0:\n",
    "        multiBarMultiColor(nbitems, \"Interaction with item by action_tyme \", \"Players\", \"Numbers of interaction\")\n",
    "    else:\n",
    "        noDataToFillVis(10)\n",
    "        plt.title(\"Interaction with item by action_tyme\")\n",
    "        plt.xlabel(\"Players\")\n",
    "        plt.ylabel(\"Numbers of interaction\")\n",
    "        plt.show()\n",
    "        "
   ],
   "metadata": {
    "collapsed": false,
    "pycharm": {
     "name": "#%%\n",
     "is_executing": false
    }
   }
  },
  {
   "cell_type": "markdown",
   "source": [
    "***find_full_list_of_items* function**:\n",
    "* Input: players_info dictionary\n",
    "* Output : the list with all the values to extract"
   ],
   "metadata": {
    "collapsed": false,
    "pycharm": {
     "name": "#%% md\n"
    }
   }
  },
  {
   "cell_type": "code",
   "execution_count": null,
   "outputs": [],
   "source": [
    "def find_full_list_of_items(players_info):\n",
    "    # find full list of items\n",
    "    items=set()\n",
    "    for player in players_info.keys():\n",
    "        for type in players_info[player][\"action_type_interaction\"].keys():\n",
    "            if players_info[player][\"action_type_interaction\"][type] != {}:                \n",
    "                items = items.union(players_info[player][\"action_type_interaction\"][type].keys())\n",
    "    items = list(items)\n",
    "    return items\n"
   ],
   "metadata": {
    "collapsed": false,
    "pycharm": {
     "name": "#%%\n"
    }
   }
  }
 ],
 "metadata": {
  "kernelspec": {
   "display_name": "Python 3",
   "language": "python",
   "name": "python3"
  },
  "language_info": {
   "codemirror_mode": {
    "name": "ipython",
    "version": 2
   },
   "file_extension": ".py",
   "mimetype": "text/x-python",
   "name": "python",
   "nbconvert_exporter": "python",
   "pygments_lexer": "ipython2",
   "version": "2.7.6"
  },
  "pycharm": {
   "stem_cell": {
    "cell_type": "raw",
    "source": [],
    "metadata": {
     "collapsed": false
    }
   }
  }
 },
 "nbformat": 4,
 "nbformat_minor": 0
}