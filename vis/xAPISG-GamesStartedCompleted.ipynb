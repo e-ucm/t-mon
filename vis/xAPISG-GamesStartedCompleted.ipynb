{
 "cells": [
  {
   "cell_type": "code",
   "execution_count": null,
   "metadata": {
    "collapsed": false,
    "pycharm": {
     "name": "#%%\n"
    }
   },
   "outputs": [],
   "source": [
    "%run vis/xAPISG-noDataToFillVisualization.ipynb # notebook to create the visualisation with a message NoDataToFill"
   ]
  },
  {
   "cell_type": "markdown",
   "metadata": {
    "collapsed": false,
    "pycharm": {
     "name": "#%% md\n"
    }
   },
   "source": [
    "***vis_games_started_completed* function**:\n",
    "* Output: the outputGameStartCompleted in a list to be display in a VBox\n",
    "* outputGameStartCompleted : the pie chart of games started and completed"
   ]
  },
  {
   "cell_type": "code",
   "execution_count": null,
   "metadata": {
    "collapsed": false,
    "pycharm": {
     "name": "#%%\n"
    }
   },
   "outputs": [],
   "source": [
    "def vis_games_started_completed():\n",
    "    with outputGameStartCompleted:\n",
    "        clear_output(wait=False)\n",
    "        construct_vis_games_started_completed()\n",
    "        clear_output(wait=True)\n",
    "    return [outputGameStartCompletedUpdate, outputGameStartCompleted]"
   ]
  },
  {
   "cell_type": "markdown",
   "metadata": {
    "collapsed": false
   },
   "source": [
    "***construct_vis_games_started_completed* function**:\n",
    "\n",
    "Output : Displays pie chart of games started and completed"
   ]
  },
  {
   "cell_type": "code",
   "execution_count": null,
   "metadata": {
    "collapsed": false,
    "pycharm": {
     "name": "#%%\n"
    }
   },
   "outputs": [],
   "source": [
    "def construct_vis_games_started_completed():\n",
    "    #close and clear previous fig of gameStartAndComplete\n",
    "    for fig in figGameStartedCompleted:\n",
    "        plt.close(fig=fig)\n",
    "    figGameStartedCompleted.clear()\n",
    "    #get all players selected\n",
    "    playersSelected=checkboxesPlayersSelected.get_selected_options()\n",
    "    # count of games started and completed\n",
    "    games_started = 0\n",
    "    games_completed = 0\n",
    "    #counter of games started and completed\n",
    "    for key in playersSelected:\n",
    "        if players_info[key][\"game_started\"]:\n",
    "            if players_info[key][\"game_completed\"]:\n",
    "                games_completed +=1\n",
    "            else:\n",
    "                games_started += 1\n",
    "    # pie chart of games started vs completed\n",
    "    #label of the pie chart\n",
    "    labels = 'Started', 'Completed'\n",
    "    sizes = [games_started, games_completed]\n",
    "    #create fig with custom name in the tab of games started and completed fig\n",
    "    name=filename+\"_games_started_and_completed\"\n",
    "    fig = plt.figure(num=name, constrained_layout=True)\n",
    "    fig.canvas.header_visible = False\n",
    "    fig.canvas.layout.min_height = '400px'\n",
    "    figGameStartedCompleted.append(fig)\n",
    "    if games_started!=0 or games_completed!=0: #if we have data\n",
    "        #display pie chart\n",
    "        plt.pie(sizes, labels=labels, autopct='%1.1f%%', startangle=90)\n",
    "        plt.legend(loc='center left', bbox_to_anchor=(1, 0.5))\n",
    "        plt.axis('equal')\n",
    "    else:\n",
    "        #display No data to fill vis\n",
    "        noDataToFillVis(10)\n",
    "        plt.xlim(0,1)\n",
    "    plt.title(\"Games started and completed\")\n",
    "    plt.show()\n",
    "    with outputGameStartCompletedUpdate:\n",
    "        clear_output(wait=False)"
   ]
  }
 ],
 "metadata": {
  "kernelspec": {
   "display_name": "Python 3",
   "language": "python",
   "name": "python3"
  },
  "language_info": {
   "codemirror_mode": {
    "name": "ipython",
    "version": 3
   },
   "file_extension": ".py",
   "mimetype": "text/x-python",
   "name": "python",
   "nbconvert_exporter": "python",
   "pygments_lexer": "ipython3",
   "version": "3.7.6"
  }
 },
 "nbformat": 4,
 "nbformat_minor": 0
}
