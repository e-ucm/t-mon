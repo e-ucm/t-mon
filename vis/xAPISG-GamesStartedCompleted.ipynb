{
 "cells": [
  {
   "cell_type": "code",
   "execution_count": null,
   "outputs": [],
   "source": [
    "%run vis/xAPISG-noDataToFillVisualization.ipynb # notebook to create the visualisation with a message NoDataToFill"
   ],
   "metadata": {
    "collapsed": false,
    "pycharm": {
     "name": "#%%\n"
    }
   }
  },
  {
   "cell_type": "markdown",
   "metadata": {
    "pycharm": {
     "name": "#%% md\n"
    }
   },
   "source": [
    "***vis_games_started_completed* function**:\n",
    "* Input: players_info dictionary\n",
    "* Displays pie chart of games started and completed"
   ]
  },
  {
   "cell_type": "code",
   "execution_count": null,
   "outputs": [],
   "source": [
    "def vis_games_started_completed (players_info):\n",
    "    # count of games started and completed\n",
    "    games_started = 0\n",
    "    games_completed = 0\n",
    "\n",
    "    for key in players_info.keys():\n",
    "        if players_info[key][\"game_started\"]:\n",
    "            if players_info[key][\"game_completed\"]:\n",
    "                games_completed +=1\n",
    "            else:\n",
    "                games_started += 1\n",
    "            \n",
    "    # pie chart of games started vs completed\n",
    "    labels = 'Started', 'Completed'\n",
    "    sizes = [games_started, games_completed]\n",
    "    if games_started!=0 or games_completed!=0:   \n",
    "        plt.pie(sizes, labels=labels, autopct='%1.1f%%', startangle=90)\n",
    "        plt.legend(loc='center left', bbox_to_anchor=(1, 0.5))\n",
    "        plt.axis('equal')\n",
    "    else:\n",
    "        noDataToFillVis(10)\n",
    "        plt.xlim(0,1)\n",
    "    plt.title(\"Games started and completed\")\n",
    "    plt.show()"
   ],
   "metadata": {
    "collapsed": false,
    "pycharm": {
     "name": "#%%\n"
    }
   }
  },
  {
   "cell_type": "code",
   "execution_count": 1,
   "metadata": {},
   "outputs": [],
   "source": [
    "def vis_games_started_completed (players_info):\n",
    "    # count of games started and completed\n",
    "    games_started = 0\n",
    "    games_completed = 0\n",
    "\n",
    "    for key in players_info.keys():\n",
    "        if players_info[key][\"game_started\"]:\n",
    "            if players_info[key][\"game_completed\"]:\n",
    "                games_completed +=1\n",
    "            else:\n",
    "                games_started += 1\n",
    "            \n",
    "    # pie chart of games started vs completed\n",
    "    labels = 'Started', 'Completed'\n",
    "    sizes = [games_started, games_completed]\n",
    "    if games_started!=0 or games_completed!=0:   \n",
    "        plt.pie(sizes, labels=labels, autopct='%1.1f%%', startangle=90)\n",
    "        plt.legend(loc='center left', bbox_to_anchor=(1, 0.5))\n",
    "        plt.axis('equal')\n",
    "    else:\n",
    "        noDataToFillVis(10)\n",
    "        plt.xlim(0,1)\n",
    "    plt.title(\"Games started and completed\")\n",
    "    plt.show()"
   ]
  }
 ],
 "metadata": {
  "kernelspec": {
   "display_name": "Python 3",
   "language": "python",
   "name": "python3"
  },
  "language_info": {
   "codemirror_mode": {
    "name": "ipython",
    "version": 3
   },
   "file_extension": ".py",
   "mimetype": "text/x-python",
   "name": "python",
   "nbconvert_exporter": "python",
   "pygments_lexer": "ipython3",
   "version": "3.7.6"
  },
  "pycharm": {
   "stem_cell": {
    "cell_type": "raw",
    "source": [],
    "metadata": {
     "collapsed": false
    }
   }
  }
 },
 "nbformat": 4,
 "nbformat_minor": 4
}