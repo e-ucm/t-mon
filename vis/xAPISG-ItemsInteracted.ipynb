{
 "cells": [
  {
   "cell_type": "code",
   "execution_count": 0,
   "outputs": [],
   "source": [
    "%run vis/xAPISG-noDataToFillVisualization.ipynb # notebook to create the visualisation with a message NoDataToFill\n",
    "%run vis/helpersFunctions/OrderGraphValuesAndSelectDataByXaxis.ipynb"
   ],
   "metadata": {
    "collapsed": false,
    "pycharm": {
     "name": "#%%\n"
    }
   }
  },
  {
   "cell_type": "markdown",
   "source": [
    "Selectors :\n",
    "   * orderItemBarChart : dropdown value indicating how to order xlabel : alphabetically or by y value (hight to low or low to hight)"
   ],
   "metadata": {
    "collapsed": false
   }
  },
  {
   "cell_type": "code",
   "execution_count": null,
   "outputs": [],
   "source": [
    "#constructing a dropdown to order for alphabetic keys or for values\n",
    "orderItemBarChart=widgets.Dropdown(options=[('alphabetic',0),('value from highest to lowest',1),('value from lowest to highest',-1)],\n",
    "                               description='Order',\n",
    "                               disabled=False)"
   ],
   "metadata": {
    "collapsed": false,
    "pycharm": {
     "name": "#%%\n"
    }
   }
  },
  {
   "cell_type": "markdown",
   "source": [
    "***vis_items_interacted_times_interact* function** :\n",
    " * Output : the widgets selector and the outputBarChartItem in a list to be display in a VBox\n",
    " * outputBarChartItem : displays bar chart showing for each item the number of use by players"
   ],
   "metadata": {
    "collapsed": false
   }
  },
  {
   "cell_type": "code",
   "execution_count": null,
   "outputs": [],
   "source": [
    "def vis_items_interacted_times_interact():\n",
    "    def display_item_bar_chart(change):\n",
    "        with outputBarChartItem:\n",
    "            clear_output(wait=False)\n",
    "            vis_items_interacted_times()\n",
    "            clear_output(wait=True)\n",
    "    orderItemBarChart.observe(display_item_bar_chart, 'value')\n",
    "    display_item_bar_chart(None)\n",
    "    return [orderItemBarChart, outputBarChartItemUpdate, outputBarChartItem]"
   ],
   "metadata": {
    "collapsed": false,
    "pycharm": {
     "name": "#%%\n"
    }
   }
  },
  {
   "cell_type": "markdown",
   "source": [
    "***vis_items_interacted_times_heatMap_interacted* function** :\n",
    "* Output : the outputHeatMapItem in a list to be display in a VBox\n",
    "* outputHeatMapItem: displays heatMap showing for each item the number of use by players"
   ],
   "metadata": {
    "collapsed": false
   }
  },
  {
   "cell_type": "code",
   "execution_count": null,
   "outputs": [],
   "source": [
    "def vis_items_interacted_times_heatmap_interacted():\n",
    "    def display_item_heatmap(change):\n",
    "        with outputHeatMapItem:\n",
    "            clear_output(wait=False)\n",
    "            vis_items_interacted_times_heatMap()\n",
    "            clear_output(wait=True)\n",
    "    display_item_heatmap(None)\n",
    "    return [outputHeatMapItemUpdate, outputHeatMapItem]"
   ],
   "metadata": {
    "collapsed": false,
    "pycharm": {
     "name": "#%%\n"
    }
   }
  },
  {
   "cell_type": "markdown",
   "source": [
    "***vis_items_interacted_function_time_interacted* function** :\n",
    "* Output : the outputBubbleChartItem in a list to be display in a VBox\n",
    "* outputBubbleChartItem: display a bubble chart showing a bubble in function of the average of players has interacted with the item in a certain period of time."
   ],
   "metadata": {
    "collapsed": false
   }
  },
  {
   "cell_type": "code",
   "execution_count": null,
   "outputs": [],
   "source": [
    "def vis_items_interacted_function_time_interacted():\n",
    "    def display_item_bubble_chart(change):\n",
    "        with outputBubbleChartItem:\n",
    "            clear_output(wait=False)\n",
    "            vis_items_interacted_function_time()\n",
    "            clear_output(wait=True)\n",
    "    display_item_bubble_chart(None)\n",
    "    return [outputBubbleChartItemUpdate, outputBubbleChartItem]"
   ],
   "metadata": {
    "collapsed": false,
    "pycharm": {
     "name": "#%%\n"
    }
   }
  },
  {
   "cell_type": "markdown",
   "source": [
    "***vis_items_interacted_times* function** displays bar chart showing for each item the number of use by players"
   ],
   "metadata": {
    "collapsed": false
   }
  },
  {
   "cell_type": "code",
   "execution_count": 2,
   "outputs": [],
   "source": [
    "%run vis/helpersFunctions/MultiBarSeparated.ipynb\n",
    "def vis_items_interacted_times():\n",
    "    #get all players and items selected\n",
    "    items=getSublistSelectedFromUnionListSelected(\n",
    "        item_interaction_list,\n",
    "        checkboxesItemInteractedSelected.get_selected_options()\n",
    "    )\n",
    "    playersSelected=checkboxesPlayersSelected.get_selected_options()\n",
    "    if len(items)>0 and len(playersSelected)>0:\n",
    "        accordionBarChartItem=widgets.Accordion(children=[widgets.Output() for i in items],\n",
    "                                                selected_index = None)\n",
    "        for i in range(len(items)):\n",
    "            accordionBarChartItem.set_title(i, items[i])\n",
    "        display(accordionBarChartItem)\n",
    "        def on_selected_index_change_item_bar_chart(change):\n",
    "            #close and clear previous fig of items interactions\n",
    "            for fig in figBarChartItem:\n",
    "                plt.close(fig=fig)\n",
    "            figBarChartItem.clear()\n",
    "            index=change['new']\n",
    "            if index!=None:\n",
    "                #get all players and items selected\n",
    "                items=getSublistSelectedFromUnionListSelected(\n",
    "                    item_interaction_list,\n",
    "                    checkboxesItemInteractedSelected.get_selected_options()\n",
    "                )\n",
    "                item=items[index]\n",
    "                playersSelected=checkboxesPlayersSelected.get_selected_options()\n",
    "                nbitem=constructSimpleTab(playersSelected, item, \"interactions\", True)\n",
    "                nbitem=orderDict(nbitem,orderItemBarChart.value)\n",
    "                # Simple bar chart showing the item selected for each person.\n",
    "                with accordionBarChartItem.children[index]:\n",
    "                    clear_output(wait=False)\n",
    "                    #create new fig with custom name in the tab\n",
    "                    name=os.path.splitext(filename)[0]+\"_interaction_with_item_\"+item\n",
    "                    fig = plt.figure(num=name, constrained_layout=True)\n",
    "                    fig.canvas.header_visible = False\n",
    "                    fig.canvas.layout.min_height = '400px'\n",
    "                    figBarChartItem.append(fig)\n",
    "                    displayEachBar(nbitem, item, \"Interaction with item \", \"Players\", \"Number of interactions\")\n",
    "        accordionBarChartItem.observe(on_selected_index_change_item_bar_chart,'selected_index')\n",
    "    else:\n",
    "        #close and clear previous fig of items interactions\n",
    "        for fig in figBarChartItem:\n",
    "            plt.close(fig=fig)\n",
    "        figBarChartItem.clear()\n",
    "        #create new fig with custom name in the tab\n",
    "        name=os.path.splitext(filename)[0]+\"_interaction_with_item\"\n",
    "        fig = plt.figure(num=name, constrained_layout=True)\n",
    "        fig.canvas.header_visible = False\n",
    "        fig.canvas.layout.min_height = '400px'\n",
    "        figBarChartItem.append(fig)\n",
    "        noDataToFillVis(10)\n",
    "        plt.title(\"Interaction with item\")\n",
    "        plt.xlabel(\"Players\")\n",
    "        plt.ylabel(\"Number of interactions\")\n",
    "        plt.show()\n",
    "    with outputBarChartItemUpdate:\n",
    "        clear_output(wait=False)"
   ],
   "metadata": {
    "collapsed": false,
    "pycharm": {
     "name": "#%%\n",
     "is_executing": false
    }
   }
  },
  {
   "cell_type": "markdown",
   "source": [
    "***vis_items_interacted_times_heatMap* function** displays heatMap showing for each item the number of use by players"
   ],
   "metadata": {
    "collapsed": false
   }
  },
  {
   "cell_type": "code",
   "execution_count": null,
   "outputs": [],
   "source": [
    "%run vis/helpersFunctions/HeatMap.ipynb\n",
    "def vis_items_interacted_times_heatMap():\n",
    "    #close and clear previous fig of items interactions\n",
    "    for fig in figHeatMapItem:\n",
    "        plt.close(fig=fig)\n",
    "    figHeatMapItem.clear()\n",
    "    #get all players and items selected\n",
    "    label_players=checkboxesPlayersSelected.get_selected_options()\n",
    "    label_items=getSublistSelectedFromUnionListSelected(item_interaction_list, checkboxesItemInteractedSelected.get_selected_options())\n",
    "    nbitems=constructHeatMap(players_info, label_players, label_items, \"interactions\", True)\n",
    "    ## Now use the heatmap function to plot the results\n",
    "    if len(label_players)>0 and len(label_items)>0:\n",
    "        heatMap(nbitems, label_players, label_items,\n",
    "                figHeatMapItem, \"_HeatMap_interaction_with_item_by_players\")\n",
    "    else:\n",
    "        #create new fig with custom name in the tab\n",
    "        name=os.path.splitext(filename)[0]+\"_HeatMap_interaction_with_item_by_players\"\n",
    "        fig = plt.figure(num=name, constrained_layout=True)\n",
    "        fig.canvas.header_visible = False\n",
    "        fig.canvas.layout.min_height = '400px'\n",
    "        figHeatMapItem.append(fig)\n",
    "        noDataToFillVis(10)\n",
    "    plt.xlabel(\"Players\")\n",
    "    plt.ylabel(\"Items\")\n",
    "    plt.title(\"Heatmap showing interaction with item by players\")\n",
    "    plt.show()\n",
    "    with outputHeatMapItemUpdate:\n",
    "        clear_output(wait=False)"
   ],
   "metadata": {
    "collapsed": false,
    "pycharm": {
     "name": "#%%\n"
    }
   }
  },
  {
   "cell_type": "markdown",
   "source": [
    "***vis_items_interacted_function_time* function** display a bubble chart showing a bubble in function of the average of players has interacted with the item in a certain period of time."
   ],
   "metadata": {
    "collapsed": false
   }
  },
  {
   "cell_type": "code",
   "execution_count": null,
   "outputs": [],
   "source": [
    "%run vis/helpersFunctions/bubbleChartFunctionTime.ipynb\n",
    "def vis_items_interacted_function_time():\n",
    "    #close and clear previous fig of items interactions\n",
    "    for fig in figBubbleChartItem:\n",
    "        plt.close(fig=fig)\n",
    "    figBubbleChartItem.clear()\n",
    "    #get all players and items selected\n",
    "    playersSelected=checkboxesPlayersSelected.get_selected_options()\n",
    "    items=getSublistSelectedFromUnionListSelected(item_interaction_list, checkboxesItemInteractedSelected.get_selected_options())\n",
    "    players_times_interacted={}\n",
    "    for item in items:\n",
    "        for player in playersSelected:\n",
    "            for type in players_info[player][\"interactions\"].keys():\n",
    "                if item in players_info[player][\"interactions\"][type].keys():\n",
    "                    for time in players_info[player][\"interactions\"][type][item]:\n",
    "                        if item not in players_times_interacted.keys():\n",
    "                            players_times_interacted[item]={}\n",
    "                        players_times_interacted[item][time]=player\n",
    "    #create new fig with custom name in the tab\n",
    "    name=os.path.splitext(filename)[0]+\"_bubbleChart_item_interacted_function_time_by_all_players\"\n",
    "    fig = plt.figure(num=name, constrained_layout=True)\n",
    "    fig.canvas.header_visible = False\n",
    "    fig.canvas.layout.min_height = '400px'\n",
    "    figBubbleChartItem.append(fig)\n",
    "    if len(items)>0 and len(playersSelected)>0:\n",
    "        constructAndDisplayBubbleChart(items,players_times_interacted)\n",
    "    else:\n",
    "        noDataToFillVis(10)\n",
    "    font=10\n",
    "    plt.xlabel(\"Time\", fontsize=font)\n",
    "    plt.ylabel(\"Items\", fontsize=font)\n",
    "    plt.title(\"Item interacted in function of time by all players\")\n",
    "    plt.show()\n",
    "    with outputBubbleChartItemUpdate:\n",
    "        clear_output(wait=False)"
   ],
   "metadata": {
    "collapsed": false,
    "pycharm": {
     "name": "#%%\n"
    }
   }
  }
 ],
 "metadata": {
  "kernelspec": {
   "display_name": "Python 3",
   "language": "python",
   "name": "python3"
  },
  "language_info": {
   "codemirror_mode": {
    "name": "ipython",
    "version": 2
   },
   "file_extension": ".py",
   "mimetype": "text/x-python",
   "name": "python",
   "nbconvert_exporter": "python",
   "pygments_lexer": "ipython2",
   "version": "2.7.6"
  }
 },
 "nbformat": 4,
 "nbformat_minor": 0
}