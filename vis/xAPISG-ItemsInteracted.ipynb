{
 "cells": [
  {
   "cell_type": "markdown",
   "source": [
    "***vis_items_times* function**:\n",
    "* Input: players_info dictionary\n",
    "* Displays bar chart showing for each item the number of use by players"
   ],
   "metadata": {
    "collapsed": false
   }
  },
  {
   "cell_type": "code",
   "execution_count": 2,
   "outputs": [],
   "source": [
    "def vis_items_interacted_times(players_info):\n",
    "    items= find_list_item(players_info)\n",
    "    nbitems={}\n",
    "    for item in items:\n",
    "        nbitems[item]={}\n",
    "        #pprint.pprint(players_info[player][\"interactions\"])\n",
    "        for player in players_info.keys():\n",
    "            nb=0\n",
    "            for type in players_info[player][\"interactions\"].keys():\n",
    "                for i in players_info[player][\"interactions\"][type].keys():\n",
    "                    if item==i:\n",
    "                        nb+=len(players_info[player][\"interactions\"][type][item])\n",
    "            nbitems[item][player]=nb   \n",
    "    # Multiple bar chart showing the items selected for each personn.\n",
    "    number_of_plots = len(nbitems)\n",
    "    xfigsize=len(players_info.keys())\n",
    "    yfigsize=number_of_plots*6\n",
    "    #print(xfigsize)\n",
    "    #print(yfigsize)\n",
    "    if number_of_plots==1:\n",
    "        for item in nbitems.keys():\n",
    "            plt.bar(range(len(nbitems[item])), \n",
    "                          nbitems[item].values(),\n",
    "                           tick_label=list(nbitems[item].keys()))\n",
    "        plt.show()\n",
    "    elif xfigsize!=0 and number_of_plots>1:\n",
    "        fig, axs = plt.subplots(number_of_plots, figsize=(xfigsize,yfigsize), sharex=True)\n",
    "        i = 0\n",
    "        for item in nbitems.keys():\n",
    "            if len(nbitems[item])>0:\n",
    "                axs[i].bar(range(len(nbitems[item])), \n",
    "                           nbitems[item].values(),\n",
    "                           tick_label=list(nbitems[item].keys()))\n",
    "                axs[i].set_title(\"Interaction with \"+item,fontsize=50)\n",
    "                i += 1\n",
    "        # Hide x labels and tick labels for top plots and y ticks for right plots.\n",
    "        for ax in axs.flat:\n",
    "            ax.label_outer()\n",
    "            for tick in ax.yaxis.get_majorticklabels():\n",
    "                tick.set_fontsize(35)\n",
    "        plt.xticks(rotation=90, fontsize=45)\n",
    "        plt.tight_layout(pad=0.4, w_pad=0.5, h_pad=1.0)\n",
    "        plt.show()\n",
    "\n",
    "def vis_items_interacted_times_heatMap(players_info):\n",
    "    label_items=find_list_item(players_info)\n",
    "    nbitems=[]\n",
    "    label_players=list(players_info.keys())\n",
    "    i=0\n",
    "    for item in label_items:\n",
    "        nbitems.insert(i,[])\n",
    "        #pprint.pprint(players_info[player][\"interactions\"])\n",
    "        j=0\n",
    "        for player in players_info.keys():\n",
    "            nb=0\n",
    "            for type in players_info[player][\"interactions\"].keys():\n",
    "                for ittem in players_info[player][\"interactions\"][type].keys():\n",
    "                    if item==ittem:\n",
    "                        nb+=len(players_info[player][\"interactions\"][type][item])\n",
    "            nbitems[i].insert(j,nb)\n",
    "            j+=1\n",
    "        nbitems[i]=list(nbitems[i])\n",
    "        i+=1\n",
    "    #print(nbitems)\n",
    "    #print(label_items)\n",
    "    #print(label_players)\n",
    "    ## Now use the seaborn heatmap function to plot the results\n",
    "    fig, ax = plt.subplots(figsize=(len(label_players)*3,len(label_items)*2))\n",
    "    im = ax.imshow(nbitems, cmap='cool', interpolation='nearest')\n",
    "    cbar=plt.colorbar(im)\n",
    "    cbar.ax.tick_params(labelsize=len(label_items))\n",
    "    # We want to show all ticks...\n",
    "    ax.set_xticks(np.arange(len(label_players)))\n",
    "    ax.set_yticks(np.arange(len(label_items)))\n",
    "    # ... and label them with the respective list entries\n",
    "    ax.set_xticklabels(label_players, fontsize=len(label_items))\n",
    "    ax.set_yticklabels(label_items, fontsize=len(label_items))\n",
    "    \n",
    "    # Rotate the tick labels and set their alignment.\n",
    "    plt.setp(ax.get_xticklabels(), rotation=45, ha=\"right\",\n",
    "         rotation_mode=\"anchor\")\n",
    "    plt.show()\n",
    "\n",
    "\n",
    "def find_list_item(players_info): \n",
    "    # find full list of items\n",
    "    items=set()\n",
    "    for player in players_info.keys():\n",
    "        for type in players_info[player][\"interactions\"].keys():\n",
    "            if players_info[player][\"interactions\"][type] != {}:                \n",
    "                items = items.union(players_info[player][\"interactions\"][type].keys())\n",
    "    items = list(items)\n",
    "    #print(items)\n",
    "    return items"
   ],
   "metadata": {
    "collapsed": false,
    "pycharm": {
     "name": "#%%\n",
     "is_executing": false
    }
   }
  },
  {
   "cell_type": "code",
   "execution_count": null,
   "outputs": [],
   "source": [
    "\n"
   ],
   "metadata": {
    "collapsed": false,
    "pycharm": {
     "name": "#%%\n"
    }
   }
  }
 ],
 "metadata": {
  "kernelspec": {
   "display_name": "Python 3",
   "language": "python",
   "name": "python3"
  },
  "language_info": {
   "codemirror_mode": {
    "name": "ipython",
    "version": 2
   },
   "file_extension": ".py",
   "mimetype": "text/x-python",
   "name": "python",
   "nbconvert_exporter": "python",
   "pygments_lexer": "ipython2",
   "version": "2.7.6"
  },
  "pycharm": {
   "stem_cell": {
    "cell_type": "raw",
    "source": [],
    "metadata": {
     "collapsed": false
    }
   }
  }
 },
 "nbformat": 4,
 "nbformat_minor": 0
}