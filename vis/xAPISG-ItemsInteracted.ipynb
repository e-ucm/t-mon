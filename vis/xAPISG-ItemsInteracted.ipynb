{
 "cells": [
  {
   "cell_type": "markdown",
   "source": [
    "***vis_items_times* function**:\n",
    "* Input: players_info dictionary\n",
    "* Displays bar chart showing for each item the number of use by players"
   ],
   "metadata": {
    "collapsed": false
   }
  },
  {
   "cell_type": "code",
   "execution_count": 2,
   "outputs": [],
   "source": [
    "def vis_items_interacted_times(players_info):\n",
    "    items= find_list_item(players_info)\n",
    "    nbitems={}\n",
    "    for item in items:\n",
    "        nbitems[item]={}\n",
    "        #pprint.pprint(players_info[player][\"interactions\"])\n",
    "        for player in players_info.keys():\n",
    "            nb=0\n",
    "            for type in players_info[player][\"interactions\"].keys():\n",
    "                for i in players_info[player][\"interactions\"][type].keys():\n",
    "                    if item==i:\n",
    "                        nb+=len(players_info[player][\"interactions\"][type][item])\n",
    "            nbitems[item][player]=nb   \n",
    "    # Multiple bar chart showing the items selected for each personn.\n",
    "    number_of_plots = len(nbitems)\n",
    "    if number_of_plots>0:\n",
    "        for item in nbitems.keys():\n",
    "            plt.bar(range(len(nbitems[item])), \n",
    "                      nbitems[item].values(),\n",
    "                       tick_label=list(nbitems[item].keys()))\n",
    "            plt.title(\"Interaction with item\"+ item)#,fontsize=50)\n",
    "            plt.xlabel(\"Players\")\n",
    "            plt.ylabel(\"Numbers of interaction\")\n",
    "            plt.xticks(rotation=90)\n",
    "            plt.show()\n",
    "    else:\n",
    "        plt.text(0.5, 5, \n",
    "              \"There is no data to fill the visualization.\",\n",
    "                fontsize=10,\n",
    "                ha='center')\n",
    "        plt.ylim(0,10)\n",
    "        plt.gca().axes.xaxis.set_ticklabels([])\n",
    "        plt.gca().axes.yaxis.set_ticklabels([])\n",
    "        plt.title(\"Interaction with item\")\n",
    "        plt.xlabel(\"Players\")\n",
    "        plt.ylabel(\"Numbers of interaction\")\n",
    "        plt.show()\n",
    "\n",
    "def vis_items_interacted_times_heatMap(players_info):\n",
    "    label_items=find_list_item(players_info)\n",
    "    nbitems=[]\n",
    "    label_players=list(players_info.keys())\n",
    "    i=0\n",
    "    for item in label_items:\n",
    "        nbitems.insert(i,[])\n",
    "        #pprint.pprint(players_info[player][\"interactions\"])\n",
    "        j=0\n",
    "        for player in players_info.keys():\n",
    "            nb=0\n",
    "            for type in players_info[player][\"interactions\"].keys():\n",
    "                for ittem in players_info[player][\"interactions\"][type].keys():\n",
    "                    if item==ittem:\n",
    "                        nb+=len(players_info[player][\"interactions\"][type][item])\n",
    "            nbitems[i].insert(j,nb)\n",
    "            j+=1\n",
    "        nbitems[i]=list(nbitems[i])\n",
    "        i+=1\n",
    "    ## Now use the heatmap function to plot the results\n",
    "    xsize=len(label_players)\n",
    "    ysize=len(label_items)\n",
    "    if xsize>0 and ysize>0:\n",
    "        fig, ax = plt.subplots(figsize=(xsize*3,ysize*2))\n",
    "        im = ax.imshow(nbitems, cmap='cool', interpolation='nearest')\n",
    "        cbar=plt.colorbar(im)\n",
    "        cbar.ax.tick_params(labelsize=len(label_items))\n",
    "        # We want to show all ticks...\n",
    "        ax.set_xticks(np.arange(len(label_players)))\n",
    "        ax.set_yticks(np.arange(len(label_items)))\n",
    "        # ... and label them with the respective list entries\n",
    "        ax.set_xticklabels(label_players, fontsize=len(label_items))\n",
    "        ax.set_yticklabels(label_items, fontsize=len(label_items))\n",
    "            # Rotate the tick labels and set their alignment.\n",
    "        plt.setp(ax.get_xticklabels(), rotation=45, ha=\"right\",\n",
    "         rotation_mode=\"anchor\")\n",
    "        font=len(label_items)\n",
    "    else:\n",
    "        plt.text(0.5, 5, \n",
    "          \"There is no data to fill the visualization.\",\n",
    "          fontsize=10,\n",
    "          ha='center')\n",
    "        plt.ylim(0,10)\n",
    "        font=10\n",
    "        plt.gca().axes.xaxis.set_ticklabels([])\n",
    "        plt.gca().axes.yaxis.set_ticklabels([])\n",
    "    plt.xlabel(\"Players\", fontsize=font)\n",
    "    plt.ylabel(\"Items\", fontsize=font)\n",
    "    plt.title(\"Heatmap showing interaction with item by players\", fontsize=font*1.5)\n",
    "    plt.show()\n",
    "\n",
    "\n",
    "def find_list_item(players_info): \n",
    "    # find full list of items\n",
    "    items=set()\n",
    "    for player in players_info.keys():\n",
    "        for type in players_info[player][\"interactions\"].keys():\n",
    "            if players_info[player][\"interactions\"][type] != {}:                \n",
    "                items = items.union(players_info[player][\"interactions\"][type].keys())\n",
    "    items = list(items)\n",
    "    #print(items)\n",
    "    return items"
   ],
   "metadata": {
    "collapsed": false,
    "pycharm": {
     "name": "#%%\n",
     "is_executing": false
    }
   }
  },
  {
   "cell_type": "code",
   "execution_count": null,
   "outputs": [],
   "source": [
    "\n"
   ],
   "metadata": {
    "collapsed": false,
    "pycharm": {
     "name": "#%%\n"
    }
   }
  }
 ],
 "metadata": {
  "kernelspec": {
   "display_name": "Python 3",
   "language": "python",
   "name": "python3"
  },
  "language_info": {
   "codemirror_mode": {
    "name": "ipython",
    "version": 2
   },
   "file_extension": ".py",
   "mimetype": "text/x-python",
   "name": "python",
   "nbconvert_exporter": "python",
   "pygments_lexer": "ipython2",
   "version": "2.7.6"
  },
  "pycharm": {
   "stem_cell": {
    "cell_type": "raw",
    "source": [],
    "metadata": {
     "collapsed": false
    }
   }
  }
 },
 "nbformat": 4,
 "nbformat_minor": 0
}