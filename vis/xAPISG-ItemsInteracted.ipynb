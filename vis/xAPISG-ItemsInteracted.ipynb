{
 "cells": [
  {
   "cell_type": "markdown",
   "source": [
    "***vis_items_times* function**:\n",
    "* Input: players_info dictionary\n",
    "* Displays bar chart showing for each item the number of use by players"
   ],
   "metadata": {
    "collapsed": false
   }
  },
  {
   "cell_type": "code",
   "execution_count": 2,
   "outputs": [],
   "source": [
    "def vis_items_interacted_times(players_info):\n",
    "    items= find_list_item(players_info)\n",
    "    nbitems=constructMultiTab(players_info, items, \"interactions\", True)\n",
    "    # Multiple bar chart showing the items selected for each personn.\n",
    "    if len(nbitems)>0:\n",
    "        multiBarSeparated(nbitems, \"Interaction with item \", \"Players\", \"Numbers of interaction\")\n",
    "    else:\n",
    "        plt.text(0.5, 5, \n",
    "              \"There is no data to fill the visualization.\",\n",
    "                fontsize=10,\n",
    "                ha='center')\n",
    "        plt.ylim(0,10)\n",
    "        plt.gca().axes.xaxis.set_ticklabels([])\n",
    "        plt.gca().axes.yaxis.set_ticklabels([])\n",
    "        plt.title(\"Interaction with item\")\n",
    "        plt.xlabel(\"Players\")\n",
    "        plt.ylabel(\"Numbers of interaction\")\n",
    "        plt.show()\n",
    "\n",
    "def vis_items_interacted_times_heatMap(players_info):\n",
    "    label_items=find_list_item(players_info)\n",
    "    label_players=list(players_info.keys())\n",
    "    nbitems=constructHeatMap(players_info, label_items, \"interactions\", True)\n",
    "    ## Now use the heatmap function to plot the results\n",
    "    if len(label_players)>0 and len(label_items)>0:\n",
    "        HeatMap(nbitems, label_players, label_items)\n",
    "        font=len(label_items)\n",
    "    else:\n",
    "        plt.text(0.5, 5, \n",
    "          \"There is no data to fill the visualization.\",\n",
    "          fontsize=10,\n",
    "          ha='center')\n",
    "        plt.ylim(0,10)\n",
    "        plt.gca().axes.xaxis.set_ticklabels([])\n",
    "        plt.gca().axes.yaxis.set_ticklabels([])\n",
    "        font=10\n",
    "    plt.xlabel(\"Players\", fontsize=font)\n",
    "    plt.ylabel(\"Items\", fontsize=font)\n",
    "    plt.title(\"Heatmap showing interaction with item by players\", fontsize=font*1.5)\n",
    "    plt.show()\n",
    "\n",
    "\n",
    "def find_list_item(players_info): \n",
    "    # find full list of items\n",
    "    items=set()\n",
    "    for player in players_info.keys():\n",
    "        for type in players_info[player][\"interactions\"].keys():\n",
    "            if players_info[player][\"interactions\"][type] != {}:                \n",
    "                items = items.union(players_info[player][\"interactions\"][type].keys())\n",
    "    items = list(items)\n",
    "    #print(items)\n",
    "    return items"
   ],
   "metadata": {
    "collapsed": false,
    "pycharm": {
     "name": "#%%\n",
     "is_executing": false
    }
   }
  },
  {
   "cell_type": "code",
   "execution_count": null,
   "outputs": [],
   "source": [
    "\n"
   ],
   "metadata": {
    "collapsed": false,
    "pycharm": {
     "name": "#%%\n"
    }
   }
  }
 ],
 "metadata": {
  "kernelspec": {
   "display_name": "Python 3",
   "language": "python",
   "name": "python3"
  },
  "language_info": {
   "codemirror_mode": {
    "name": "ipython",
    "version": 2
   },
   "file_extension": ".py",
   "mimetype": "text/x-python",
   "name": "python",
   "nbconvert_exporter": "python",
   "pygments_lexer": "ipython2",
   "version": "2.7.6"
  },
  "pycharm": {
   "stem_cell": {
    "cell_type": "raw",
    "source": [],
    "metadata": {
     "collapsed": false
    }
   }
  }
 },
 "nbformat": 4,
 "nbformat_minor": 0
}