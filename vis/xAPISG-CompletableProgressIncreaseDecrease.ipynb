{
 "cells": [
  {
   "cell_type": "code",
   "execution_count": null,
   "metadata": {
    "collapsed": true,
    "pycharm": {
     "name": "#%%\n"
    }
   },
   "outputs": [],
   "source": [
    "%run vis/xAPISG-noDataToFillVisualization.ipynb # notebook to create the visualisation with a message NoDataToFill\n",
    "%run vis/helpersFunctions/TimeLineChart.ipynb"
   ]
  },
  {
   "cell_type": "markdown",
   "metadata": {
    "collapsed": false
   },
   "source": [
    "Selectors :\n",
    "   * absoluteToRelativeCompletableProgress : checkboxe (T/F) value to display the line chart per relative time"
   ]
  },
  {
   "cell_type": "code",
   "execution_count": null,
   "metadata": {
    "collapsed": false,
    "pycharm": {
     "name": "#%%\n"
    }
   },
   "outputs": [],
   "source": [
    "#constructing a checkboxe to view chart per relative time\n",
    "absoluteToRelativeCompletableProgress=widgets.Checkbox(value=False,\n",
    "                                        description='View in relative time')"
   ]
  },
  {
   "cell_type": "markdown",
   "metadata": {
    "collapsed": false
   },
   "source": [
    "***vis_completables_progress_increase_decrease* function**:\n",
    "* Output : the outputCompletableProgress in a list to be display in a VBox\n",
    "* outputCompletableProgressIncreaseDecrease : display a points/line chart showing for each player in function of time the progress increase or decrease of different completables of the game"
   ]
  },
  {
   "cell_type": "code",
   "execution_count": null,
   "metadata": {
    "collapsed": false,
    "pycharm": {
     "name": "#%%\n"
    }
   },
   "outputs": [],
   "source": [
    "def vis_completables_progress_increase_decrease():\n",
    "    def display_completable_progress_increase_decrease(change):\n",
    "        with outputCompletableProgressIncreaseDecrease:\n",
    "            clear_output(wait=False)\n",
    "            getProgressPlayerIncreaseDecreasePerCompletable()\n",
    "            clear_output(wait=True)\n",
    "    absoluteToRelativeCompletableProgress.observe(display_completable_progress_increase_decrease,'value')\n",
    "    display_completable_progress_increase_decrease(None)\n",
    "    return [absoluteToRelativeCompletableProgress, outputCompletableProgressIncreaseDecreaseUpdate, outputCompletableProgressIncreaseDecrease]"
   ]
  },
  {
   "cell_type": "markdown",
   "metadata": {
    "collapsed": false
   },
   "source": [
    "***getProgressPlayerIncreaseDecreasePerCompletable* function**:\n",
    "Output : displays a points/line chart showing for each player in function of time the progress increase or decrease of different completables of the game"
   ]
  },
  {
   "cell_type": "code",
   "execution_count": null,
   "metadata": {
    "collapsed": false,
    "pycharm": {
     "name": "#%%\n"
    }
   },
   "outputs": [],
   "source": [
    "def getProgressPlayerIncreaseDecreasePerCompletable():\n",
    "    playersSelected=checkboxesPlayersSelected.get_selected_options()\n",
    "    completableSelectedProgress=\\\n",
    "        getSublistSelectedFromUnionListSelected(completables_increase_decrease_list,\n",
    "                                                checkboxesCompletableSelected.get_selected_options())\n",
    "    if len(completableSelectedProgress)>0 and len(playersSelected)>0:\n",
    "        accordionCompletableProgressIncreaseDecrease=\\\n",
    "            widgets.Accordion(children=[widgets.Output() for i in range(len(completableSelectedProgress))],\n",
    "                              selected_index=None)\n",
    "        i=0\n",
    "        for completable in completableSelectedProgress:\n",
    "            accordionCompletableProgressIncreaseDecrease.set_title(i, completable)\n",
    "            i+=1\n",
    "        display(accordionCompletableProgressIncreaseDecrease)\n",
    "        def on_selected_index_completable_progress_increase_decrease_change(change):\n",
    "            index=change['new']\n",
    "            if index!=None:\n",
    "                #close and clear previous fig of completable progress\n",
    "                for fig in figCompletableProgressIncreaseDecrease:\n",
    "                    plt.close(fig=fig)\n",
    "                figCompletableProgressIncreaseDecrease.clear()\n",
    "                playersSelected=checkboxesPlayersSelected.get_selected_options()\n",
    "                completableSelectedProgress=\\\n",
    "                    getSublistSelectedFromUnionListSelected(completables_increase_decrease_list,\n",
    "                                                            checkboxesCompletableSelected.get_selected_options())\n",
    "                completable=completableSelectedProgress[index]\n",
    "                with accordionCompletableProgressIncreaseDecrease.children[index]:\n",
    "                    clear_output(wait=False)\n",
    "                    #create new fig with custom name in the tab\n",
    "                    name=name=filename+\"_completable_progress_increase_decrease_\"+completable\n",
    "                    fig = plt.figure(num=name, constrained_layout=True)\n",
    "                    fig.canvas.header_visible = False\n",
    "                    fig.canvas.layout.min_height = '400px'\n",
    "                    figCompletableProgressIncreaseDecrease.append(fig)\n",
    "                    completableProgressIncreaseDecrease={}\n",
    "                    for player in playersSelected:\n",
    "                        if completable in players_info[player][\"completables_progress\"].keys():\n",
    "                            completableProgressIncreaseDecrease[player]={}\n",
    "                            for tabValTime in players_info[player][\"completables_progress\"][completable]:\n",
    "                                completableProgressIncreaseDecrease[player][tabValTime[1]]=tabValTime[0]\n",
    "                            completableProgressIncreaseDecrease[player]=dict(sorted(completableProgressIncreaseDecrease[player].items(), key=lambda t: t[0]))\n",
    "                            i=0\n",
    "                            for key,value in completableProgressIncreaseDecrease[player].items():\n",
    "                                if i==0:\n",
    "                                    previousval=value\n",
    "                                else:\n",
    "                                    previousval+=value\n",
    "                                    completableProgressIncreaseDecrease[player][key]=previousval\n",
    "                                i+=1\n",
    "                    for player in completableProgressIncreaseDecrease.keys():\n",
    "                        # one line chart per player showing progress over time\n",
    "                        y = list(completableProgressIncreaseDecrease[player].values())\n",
    "                        if absoluteToRelativeCompletableProgress.value:\n",
    "                            x = absoluteToRelativeTime(list(completableProgressIncreaseDecrease[player].keys()))\n",
    "                        else:\n",
    "                            locator=mdates.AutoDateLocator()                            \n",
    "                            plt.gca().xaxis.set_major_formatter(mdates.AutoDateFormatter(locator))\n",
    "                            plt.gca().xaxis.set_major_locator(locator)\n",
    "                            x = list(completableProgressIncreaseDecrease[player].keys())\n",
    "                        plt.scatter(x,y, label=player)\n",
    "                        plt.plot(x,y)\n",
    "                    #legend graph and give a date format\n",
    "                    plt.legend(loc='center left', bbox_to_anchor=(1, 0.5))\n",
    "                    #orient xticks\n",
    "                    plt.xticks(rotation=45, ha=\"right\")\n",
    "                    #display title and labels\n",
    "                    if absoluteToRelativeCompletableProgress.value:\n",
    "                        plt.xlabel('Time (in minutes)')\n",
    "                    else:\n",
    "                        plt.xlabel('Date')\n",
    "                    plt.ylabel(\"Progress increase/decrease\")\n",
    "                    plt.title(\"Progress increase/decrease of players for \"+completable)\n",
    "        plt.show()\n",
    "        accordionCompletableProgressIncreaseDecrease.observe(on_selected_index_completable_progress_increase_decrease_change, 'selected_index')\n",
    "        accordionCompletableProgressIncreaseDecrease.selected_index=0\n",
    "    else:\n",
    "        #create new fig with custom name in the tab\n",
    "        name=name=filename+\"_completable_progress_increase_decrease\"\n",
    "        fig = plt.figure(num=name, constrained_layout=True)\n",
    "        fig.canvas.header_visible = False\n",
    "        fig.canvas.layout.min_height = '400px'\n",
    "        figCompletableProgressIncreaseDecrease.append(fig)\n",
    "        noDataToFillVis(10)\n",
    "        #display title and labels\n",
    "        plt.xlabel(\"Time\")\n",
    "        plt.ylabel(\"Progress of this completable\")\n",
    "        plt.title(\"Progress increase/decrease of players per completable\")\n",
    "        plt.show()\n",
    "    with outputCompletableProgressIncreaseDecreaseUpdate:\n",
    "        clear_output(wait=False)\n"
   ]
  }
 ],
 "metadata": {
  "kernelspec": {
   "display_name": "Python 3",
   "language": "python",
   "name": "python3"
  },
  "language_info": {
   "codemirror_mode": {
    "name": "ipython",
    "version": 2
   },
   "file_extension": ".py",
   "mimetype": "text/x-python",
   "name": "python",
   "nbconvert_exporter": "python",
   "pygments_lexer": "ipython2",
   "version": "2.7.6"
  }
 },
 "nbformat": 4,
 "nbformat_minor": 0
}
