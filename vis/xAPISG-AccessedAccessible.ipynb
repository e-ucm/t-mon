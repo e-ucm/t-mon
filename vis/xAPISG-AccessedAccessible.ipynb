{
 "cells": [
  {
   "cell_type": "code",
   "execution_count": null,
   "metadata": {
    "collapsed": false,
    "pycharm": {
     "name": "#%%\n"
    }
   },
   "outputs": [],
   "source": [
    "%run vis/xAPISG-noDataToFillVisualization.ipynb # notebook to create the visualisation with a message NoDataToFill%%%run vis/helpersFunctions/OrderGraphValuesAndSelectDataByXaxis.ipynb\n",
    "%run vis/helpersFunctions/OrderGraphValuesAndSelectDataByXaxis.ipynb"
   ]
  },
  {
   "cell_type": "markdown",
   "metadata": {
    "collapsed": false
   },
   "source": [
    "Selectors :\n",
    "* orderAccessibleBarChart : dropdown value indicating how to order xlabel : alphabetically or by y value (hight to low or low to hight)"
   ]
  },
  {
   "cell_type": "code",
   "execution_count": null,
   "metadata": {
    "collapsed": false,
    "pycharm": {
     "name": "#%%\n"
    }
   },
   "outputs": [],
   "source": [
    "#constructing a dropdown to order for alphabetic keys or for values\n",
    "orderAccessibleBarChart=widgets.Dropdown(options=[('alphabetic',0),('value from highest to lowest',1),('value from lowest to highest',-1)],\n",
    "                                description='Order',\n",
    "                                disabled=False)"
   ]
  },
  {
   "cell_type": "markdown",
   "metadata": {
    "collapsed": false
   },
   "source": [
    "***vis_accessibles_times_interacted* function** :\n",
    "* Output : the widgets selector and the outputBarChartAccessible in a list to be display in a VBox\n",
    "* outputBarChartAccessible : display bar chart showing for each accessed the number of accessibles by players"
   ]
  },
  {
   "cell_type": "code",
   "execution_count": null,
   "metadata": {
    "collapsed": false,
    "pycharm": {
     "name": "#%%\n"
    }
   },
   "outputs": [],
   "source": [
    "def vis_accessibles_times_interacted():\n",
    "    def display_accessible_bar_chart(change):\n",
    "        with outputBarChartAccessible:\n",
    "            clear_output(wait=False)\n",
    "            vis_accessibles_times()\n",
    "            clear_output(wait=True)\n",
    "    orderAccessibleBarChart.observe(display_accessible_bar_chart, 'value')\n",
    "    display_accessible_bar_chart(None)\n",
    "    return [orderAccessibleBarChart, outputBarChartAccessibleUpdate, outputBarChartAccessible]"
   ]
  },
  {
   "cell_type": "markdown",
   "metadata": {
    "collapsed": false
   },
   "source": [
    "***vis_accessibles_times_heatMap* function** :\n",
    "* output: the outputHeatMapAccessible in a list to be display in a VBox\n",
    "* outputHeatMapAccessible : display heatmap showing for each accessed the number of accessibles by players"
   ]
  },
  {
   "cell_type": "code",
   "execution_count": null,
   "metadata": {
    "collapsed": false,
    "pycharm": {
     "name": "#%%\n"
    }
   },
   "outputs": [],
   "source": [
    "def vis_accessibles_times_heatMap_interacted():\n",
    "    def display_accessible_heatmap(change):\n",
    "        with outputHeatMapAccessible:\n",
    "            clear_output(wait=False)\n",
    "            vis_accessibles_times_heatMap()\n",
    "            clear_output(wait=True)\n",
    "    display_accessible_heatmap(None)\n",
    "    return [outputHeatMapAccessibleUpdate, outputHeatMapAccessible]"
   ]
  },
  {
   "cell_type": "markdown",
   "metadata": {
    "collapsed": false
   },
   "source": [
    "***vis_accessibles_function_time* function** :\n",
    "* output:the outputBubbleChartAccessible in a list to be display in a VBox\n",
    "* outputBubbleChartAccessible : display a bubble chart showing a bubble in function of the average of players has accessed this accessible in a certain period of time."
   ]
  },
  {
   "cell_type": "code",
   "execution_count": null,
   "metadata": {
    "collapsed": false,
    "pycharm": {
     "name": "#%%\n"
    }
   },
   "outputs": [],
   "source": [
    "def vis_accessibles_function_time_interacted():\n",
    "    def display_accessible_bubble_chart(change):\n",
    "        with outputBubbleChartAccessible:\n",
    "            clear_output(wait=False)\n",
    "            vis_accessibles_function_time()\n",
    "            clear_output(wait=True)\n",
    "    display_accessible_bubble_chart(None)\n",
    "    return [outputBubbleChartAccessibleUpdate, outputBubbleChartAccessible]"
   ]
  },
  {
   "cell_type": "markdown",
   "metadata": {
    "collapsed": true,
    "pycharm": {
     "name": "#%% md\n"
    }
   },
   "source": [
    "***vis_accessibles_times* function** displays bar chart showing for each accessed the number of accessibles by players"
   ]
  },
  {
   "cell_type": "code",
   "execution_count": null,
   "metadata": {
    "collapsed": false,
    "pycharm": {
     "name": "#%%\n"
    }
   },
   "outputs": [],
   "source": [
    "%run vis/helpersFunctions/MultiBarSeparated.ipynb\n",
    "def vis_accessibles_times():\n",
    "    #get all players and accessibles selected\n",
    "    playersSelected=checkboxesPlayersSelected.get_selected_options()\n",
    "    accessibles=checkboxesAccessibleSelected.get_selected_options()\n",
    "    if len(accessibles)>0 and len(playersSelected)>0:\n",
    "        accordionBarChartAccessible=widgets.Accordion(children=[widgets.Output() for i in accessibles],\n",
    "                                                selected_index = None)\n",
    "        for i in range(len(accessibles)):\n",
    "            accordionBarChartAccessible.set_title(i, accessibles[i])\n",
    "        display(accordionBarChartAccessible)\n",
    "        def on_selected_index_change_accessible_bar_chart(change):\n",
    "            #close and clear previous fig of accessible\n",
    "            for fig in figBarChartAccessible:\n",
    "                plt.close(fig=fig)\n",
    "            figBarChartAccessible.clear()\n",
    "            index=change['new']\n",
    "            if index!=None:\n",
    "                #get all players and accessibles selected\n",
    "                playersSelected=checkboxesPlayersSelected.get_selected_options()\n",
    "                accessibles=checkboxesAccessibleSelected.get_selected_options()\n",
    "                accessible=accessibles[index]\n",
    "                nbaccessible=constructSimpleTab(playersSelected, accessible, \"accessible\")\n",
    "                with accordionBarChartAccessible.children[index]:\n",
    "                    print(accessible)\n",
    "                nbaccessible=orderDict(nbaccessible,orderAccessibleBarChart.value)\n",
    "                with accordionBarChartAccessible.children[index]:\n",
    "                    print(accessible)\n",
    "                # Simple bar chart showing the item selected for each person.\n",
    "                with accordionBarChartAccessible.children[index]:\n",
    "                    clear_output(wait=False)\n",
    "                    #create new fig with custom name in the tab\n",
    "                    name=filename+\"_accessed_accessible_zone_\"+accessible\n",
    "                    fig = plt.figure(num=name, constrained_layout=True)\n",
    "                    fig.canvas.header_visible = False\n",
    "                    fig.canvas.layout.min_height = '400px'\n",
    "                    figBarChartAccessible.append(fig)\n",
    "                    displayEachBar(nbaccessible, accessible, \"Accessed accessible \", \"Players\", \"Number of accessed\")\n",
    "        accordionBarChartAccessible.observe(on_selected_index_change_accessible_bar_chart,'selected_index')\n",
    "    else:\n",
    "        #close and clear previous fig of accessible\n",
    "        for fig in figBarChartAccessible:\n",
    "            plt.close(fig=fig)\n",
    "        figBarChartAccessible.clear()\n",
    "        #create new fig with custom name in the tab\n",
    "        name=filename+\"_accessed_accessible_zone\"\n",
    "        fig = plt.figure(num=name, constrained_layout=True)\n",
    "        fig.canvas.header_visible = False\n",
    "        fig.canvas.layout.min_height = '400px'\n",
    "        figBarChartAccessible.append(fig)\n",
    "        noDataToFillVis(10)\n",
    "        plt.title(\"Accessed accessible\")\n",
    "        plt.xlabel(\"Players\")\n",
    "        plt.ylabel(\"Number of accessed\")\n",
    "        plt.show()\n",
    "    with outputBarChartAccessibleUpdate:\n",
    "        clear_output(wait=False)"
   ]
  },
  {
   "cell_type": "markdown",
   "metadata": {
    "collapsed": false,
    "pycharm": {
     "name": "#%% md\n"
    }
   },
   "source": [
    "***vis_accessibles_times_heatMap* function** displays heatmap showing for each accessed the number of accessibles by players"
   ]
  },
  {
   "cell_type": "code",
   "execution_count": 1,
   "metadata": {
    "collapsed": false,
    "pycharm": {
     "name": "#%%\n"
    }
   },
   "outputs": [],
   "source": [
    "%run vis/helpersFunctions/HeatMap.ipynb\n",
    "def vis_accessibles_times_heatMap():\n",
    "    #close and clear previous fig of accessible\n",
    "    for fig in figHeatMapAccessible:\n",
    "        plt.close(fig=fig)\n",
    "    figHeatMapAccessible.clear()\n",
    "    #get all players and accessibles selected\n",
    "    label_players=checkboxesPlayersSelected.get_selected_options()\n",
    "    label_accessible=checkboxesAccessibleSelected.get_selected_options()\n",
    "    nbaccessibles=constructHeatMap(players_info, label_players, label_accessible, \"accessible\")\n",
    "    ## Now use the heatmap function to plot the results\n",
    "    if len(label_players)>0 and len(label_accessible)>0:\n",
    "        heatMap(nbaccessibles, label_players, label_accessible,\n",
    "                figHeatMapAccessible, \"_HeatMap_accessed_accessible_by_players\")\n",
    "        font=len(label_accessible)\n",
    "    else:\n",
    "        #create new fig with custom name in the tab\n",
    "       name=filename+\"_HeatMap_accessed_accessible_by_players\"\n",
    "        fig = plt.figure(num=name, constrained_layout=True)\n",
    "        fig.canvas.header_visible = False\n",
    "        fig.canvas.layout.min_height = '400px'\n",
    "        figHeatMapAccessible.append(fig)\n",
    "        noDataToFillVis(10)\n",
    "        font=10\n",
    "    plt.xlabel(\"Players\", fontsize=font)\n",
    "    plt.ylabel(\"Accessibles\", fontsize=font)\n",
    "    plt.title(\"Heatmap showing accessed accesible by players\", fontsize=font*1.5)\n",
    "    plt.show()\n",
    "    with outputHeatMapAccessibleUpdate:\n",
    "        clear_output(wait=False)"
   ]
  },
  {
   "cell_type": "markdown",
   "metadata": {
    "collapsed": false
   },
   "source": [
    "***vis_accessibles_function_time* function** displays a bubble chart showing a bubble in function of the average of players has accessed this accessible in a certain period of time."
   ]
  },
  {
   "cell_type": "code",
   "execution_count": null,
   "metadata": {
    "collapsed": false,
    "pycharm": {
     "name": "#%%\n"
    }
   },
   "outputs": [],
   "source": [
    "%run vis/helpersFunctions/bubbleChartFunctionTime.ipynb\n",
    "def vis_accessibles_function_time():\n",
    "    #close and clear previous fig of accessible\n",
    "    for fig in figBubbleChartAccessible:\n",
    "        plt.close(fig=fig)\n",
    "    figBubbleChartAccessible.clear()\n",
    "    #get all players and accessibles selected\n",
    "    playersSelected=checkboxesPlayersSelected.get_selected_options()\n",
    "    accessibles=checkboxesAccessibleSelected.get_selected_options()\n",
    "    players_times_associated={}\n",
    "    for accessible in accessibles:\n",
    "        for player in players_info.keys():\n",
    "            if accessible in players_info[player][\"accessible\"].keys():\n",
    "                for time in players_info[player][\"accessible\"][accessible]:\n",
    "                    if accessible not in players_times_associated.keys():\n",
    "                        players_times_associated[accessible]={}\n",
    "                    players_times_associated[accessible][time]=player\n",
    "    #create new fig with custom name in the tab\n",
    "   name=filename+\"_bubbleChart_accessibles_function_time_by_all_players\"\n",
    "    fig = plt.figure(num=name, constrained_layout=True)\n",
    "    fig.canvas.header_visible = False\n",
    "    fig.canvas.layout.min_height = '400px'\n",
    "    figBubbleChartAccessible.append(fig)\n",
    "    if len(accessibles)>0 and len(playersSelected)>0:\n",
    "        constructAndDisplayBubbleChart(accessibles,players_times_associated)\n",
    "    else:\n",
    "        noDataToFillVis(10)\n",
    "    font=10\n",
    "    plt.xlabel(\"Time\", fontsize=font)\n",
    "    plt.ylabel(\"accessibles\", fontsize=font)\n",
    "    plt.title(\"Accessibles in function of time by all players\")\n",
    "    plt.show()\n",
    "    with outputBubbleChartAccessibleUpdate:\n",
    "        clear_output(wait=False)"
   ]
  }
 ],
 "metadata": {
  "kernelspec": {
   "display_name": "Python 3",
   "language": "python",
   "name": "python3"
  },
  "language_info": {
   "codemirror_mode": {
    "name": "ipython",
    "version": 2
   },
   "file_extension": ".py",
   "mimetype": "text/x-python",
   "name": "python",
   "nbconvert_exporter": "python",
   "pygments_lexer": "ipython2",
   "version": "2.7.6"
  }
 },
 "nbformat": 4,
 "nbformat_minor": 0
}
