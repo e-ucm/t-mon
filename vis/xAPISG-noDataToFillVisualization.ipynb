{
 "cells": [
  {
   "cell_type": "code",
   "execution_count": null,
   "metadata": {
    "collapsed": true
   },
   "outputs": [],
   "source": [
    "def noDataToFillVis(max, showYLabel=False):\n",
    "    plt.text(0.5, max/2, \n",
    "              \"There is no data to fill the visualization.\",\n",
    "              fontsize=10,\n",
    "              ha='center')\n",
    "    plt.ylim(0,max)\n",
    "    plt.gca().axes.xaxis.set_ticklabels([])\n",
    "    if not showYLabel:\n",
    "        plt.gca().axes.yaxis.set_ticklabels([])\n",
    "    plt.yticks(np.arange(0, max, max/10))"
   ]
  }
 ],
 "metadata": {
  "kernelspec": {
   "display_name": "Python 3",
   "language": "python",
   "name": "python3"
  },
  "language_info": {
   "codemirror_mode": {
    "name": "ipython",
    "version": 2
   },
   "file_extension": ".py",
   "mimetype": "text/x-python",
   "name": "python",
   "nbconvert_exporter": "python",
   "pygments_lexer": "ipython2",
   "version": "2.7.6"
  },
  "pycharm": {
   "stem_cell": {
    "cell_type": "raw",
    "source": [],
    "metadata": {
     "collapsed": false
    }
   }
  }
 },
 "nbformat": 4,
 "nbformat_minor": 0
}