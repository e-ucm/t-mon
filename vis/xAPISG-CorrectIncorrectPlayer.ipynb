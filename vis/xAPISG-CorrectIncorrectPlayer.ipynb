{
 "cells": [
  {
   "cell_type": "code",
   "execution_count": null,
   "outputs": [],
   "source": [
    "%run vis/xAPISG-noDataToFillVisualization.ipynb # notebook to create the visualisation with a message NoDataToFill"
   ],
   "metadata": {
    "collapsed": false,
    "pycharm": {
     "name": "#%%\n"
    }
   }
  },
  {
   "cell_type": "markdown",
   "metadata": {
    "pycharm": {
     "name": "#%% md\n"
    }
   },
   "source": [
    "***vis_correct_incorrect_player* function**:\n",
    "* Input: players_info dictionary\n",
    "* Displays bar chart showing for each user the number of correct and incorrect alternatives selected in multiple-choice questions"
   ]
  },
  {
   "cell_type": "code",
   "execution_count": null,
   "outputs": [],
   "source": [
    "def vis_correct_incorrect_player (players_info):\n",
    "    true_per_player = []\n",
    "    false_per_player = []\n",
    "    total_max=0\n",
    "    for player in players_info.keys():\n",
    "        total_true = 0\n",
    "        total_false = 0\n",
    "        for alt in players_info[player][\"alternatives\"].keys():\n",
    "            _, results = zip(*players_info[player][\"alternatives\"][alt]) # take only T/F result values\n",
    "            total_true += results.count(\"True\") + results.count(True)\n",
    "            total_false += results.count(\"False\") +results.count(False)\n",
    "            if total_true+total_false>total_max:\n",
    "                total_max=total_true+total_false\n",
    "        true_per_player.append(total_true)\n",
    "        false_per_player.append(total_false)\n",
    "        \n",
    "    total_max+=0.5\n",
    "    \n",
    "    # Bar chart showing for each user the number of correct and incorrect alternatives \n",
    "    # selected in multiple-choice questions\n",
    "    N = len(players_info)\n",
    "    ind = np.arange(N)\n",
    "\n",
    "    width = 0.35\n",
    "    if not all_list_nbrep_empty(true_per_player):\n",
    "        if all_list_nbrep_empty(false_per_player):\n",
    "            p = plt.bar(ind, true_per_player, width, color='g', label=\"Correct\")\n",
    "        else:\n",
    "            p1 = plt.bar(ind, false_per_player, width, color='r', label=\"Incorrect\")\n",
    "            p2 = plt.bar(ind, true_per_player, width, color='g', label=\"Correct\", bottom=false_per_player)\n",
    "        plt.legend(loc='center left', bbox_to_anchor=(1, 0.5))\n",
    "        plt.xticks(ind, players_info.keys())\n",
    "        plt.yticks(np.arange(0, total_max, 1))\n",
    "        plt.ylim(0, total_max)\n",
    "    else:\n",
    "        noDataToFillVis(10)\n",
    "    plt.xlabel(\"Player\")\n",
    "    plt.ylabel(\"Number of response\")\n",
    "    plt.xticks(rotation=90)\n",
    "    plt.title(\"Correct and incorrect responses per player\")\n",
    "    plt.show()"
   ],
   "metadata": {
    "collapsed": false,
    "pycharm": {
     "name": "#%%\n"
    }
   }
  },
  {
   "cell_type": "code",
   "execution_count": 1,
   "metadata": {},
   "outputs": [],
   "source": [
    "***all_list_nbrep_empty* function** to see if one of the value of the list is 0\n",
    "Input:\n",
    "* list : the list to analyse\n",
    " \n",
    "Output: \n",
    "* return : boolean > True if any value is equal to 0, false otherwise"
   ]
  },
  {
   "cell_type": "markdown",
   "source": [
    "***all_list_nbrep_empty* function** to see if one of the value of the list is 0\n",
    "Input:\n",
    "* list : the list to analyse\n",
    " \n",
    "Output: \n",
    "* return : boolean > True if any value is equal to 0, false otherwise"
   ],
   "metadata": {
    "collapsed": false
   }
  },
  {
   "cell_type": "code",
   "execution_count": null,
   "outputs": [],
   "source": [
    "def all_list_nbrep_empty(list):\n",
    "    for nbrep in list:\n",
    "        if nbrep!=0:\n",
    "            return False\n",
    "    return True"
   ]
  }
 ],
 "metadata": {
  "kernelspec": {
   "display_name": "Python 3",
   "language": "python",
   "name": "python3"
  },
  "language_info": {
   "codemirror_mode": {
    "name": "ipython",
    "version": 3
   },
   "file_extension": ".py",
   "mimetype": "text/x-python",
   "name": "python",
   "nbconvert_exporter": "python",
   "pygments_lexer": "ipython3",
   "version": "3.7.6"
  },
  "pycharm": {
   "stem_cell": {
    "cell_type": "raw",
    "source": [],
    "metadata": {
     "collapsed": false
    }
   }
  }
 },
 "nbformat": 4,
 "nbformat_minor": 4
}