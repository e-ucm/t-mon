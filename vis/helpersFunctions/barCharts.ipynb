{
 "cells": [
  {
   "cell_type": "markdown",
   "metadata": {
    "collapsed": false,
    "pycharm": {
     "name": "#%% md\n"
    }
   },
   "source": [
    "***get_two_superposed_values_bars* function** to construct a superposed bar chart\n",
    "\n",
    "Input :\n",
    "* ind : the indicator to know where display the superposed bars\n",
    "* list_xticks_labels : the list of x_ticks_labels to display\n",
    "* listUp : the list of values to display up\n",
    "* labelUp : the labels corresponding of the values to the listUp\n",
    "* colorUp : the color to the up bars\n",
    "* listDown : the list of values to display down\n",
    "* labelDown : the labels corresponding of the values to the listDown\n",
    "* colorDown : the color to the down bars"
   ]
  },
  {
   "cell_type": "code",
   "execution_count": null,
   "metadata": {
    "pycharm": {
     "name": "#%%\n"
    }
   },
   "outputs": [],
   "source": [
    "def get_two_superposed_values_bars(ind, list_xticks_labels, listUp, labelUp, colorUp, listDown, labelDown, colorDown):\n",
    "    width = 0.35\n",
    "    maxValue=0\n",
    "    #get max value\n",
    "    for i in range(len(list_xticks_labels)):\n",
    "        temp=listUp[i]+listDown[i]\n",
    "        if temp>maxValue:\n",
    "            maxValue=temp\n",
    "    maxValue+=0.5\n",
    "    if not all_list_nbrep_empty(listUp):\n",
    "        if all_list_nbrep_empty(listDown):\n",
    "            #listUp only\n",
    "            p = plt.bar(ind, listUp, width, color=colorUp, label=labelUp)\n",
    "            add_value_labels(p)\n",
    "        else:\n",
    "            #the two superposed list\n",
    "            p1 = plt.bar(ind, listDown, width, color=colorDown, label=labelDown)\n",
    "            p2 = plt.bar(ind, listUp, width, color=colorUp, label=labelUp,\n",
    "                         bottom=listDown)\n",
    "            add_value_labels(p1, [0 for i in listDown])\n",
    "            add_value_labels(p2, listDown)\n",
    "    else:\n",
    "        #listDown only\n",
    "        p = plt.bar(ind, listDown, width, color=colorDown, label=labelDown)\n",
    "        add_value_labels(p)\n",
    "    plt.xticks(ind, list_xticks_labels)\n",
    "    plt.ylim(0, maxValue)\n",
    "    plt.legend(loc='center left', bbox_to_anchor=(1, 0.5))"
   ]
  },
  {
   "cell_type": "markdown",
   "metadata": {},
   "source": [
    "***all_list_nbrep_empty* function** to see if one of the value of the list is 0\n",
    "Input:\n",
    "* list : the list to analyse\n",
    "\n",
    "Output:\n",
    "* return : boolean > True if any value is equal to 0, false otherwise"
   ]
  },
  {
   "cell_type": "code",
   "execution_count": null,
   "metadata": {
    "pycharm": {
     "name": "#%%\n"
    }
   },
   "outputs": [],
   "source": [
    "def all_list_nbrep_empty(list):\n",
    "    for nbrep in list:\n",
    "        if nbrep!=0:\n",
    "            return False\n",
    "    return True"
   ]
  },
  {
   "cell_type": "markdown",
   "metadata": {
    "collapsed": false,
    "pycharm": {
     "name": "#%% md\n"
    }
   },
   "source": [
    "***get_percentage_bar* function** to construct the bar chart in percentage\n",
    "* list_values_sup_inf : the list of the values to calculate the percentage of those values\n",
    "* list_values_inf : the list of the others values to calculate the percentage\n",
    "* object_list : list of objects"
   ]
  },
  {
   "cell_type": "code",
   "execution_count": null,
   "metadata": {
    "pycharm": {
     "name": "#%%\n"
    }
   },
   "outputs": [],
   "source": [
    "def get_percentage_bar(list_values_sup_inf, list_values_inf, object_list):\n",
    "    N = len(object_list)\n",
    "    ind = np.arange(N)\n",
    "    width = 0.35\n",
    "    percentages=[]\n",
    "    for (x,y) in zip(list_values_sup_inf,list_values_inf):\n",
    "        try:\n",
    "            #calculate percentage\n",
    "            pourcent=x/(x+y)*100\n",
    "        except ZeroDivisionError:\n",
    "            pourcent=0\n",
    "        percentages.append(pourcent)\n",
    "    #display percentage bar\n",
    "    bar=plt.bar(ind, percentages, width, color='b')\n",
    "    plt.xticks(ind, object_list, rotation=90)\n",
    "    plt.ylim(0,100)\n",
    "    # Call the function above. All the magic happens there.\n",
    "    add_value_labels(bar)"
   ]
  },
  {
   "cell_type": "markdown",
   "metadata": {
    "collapsed": false,
    "pycharm": {
     "name": "#%% md\n"
    }
   },
   "source": [
    "***add_value_labels* function** to add labels to the end of each bar in a bar chart.\n",
    "\n",
    "Arguments:\n",
    "* ax (matplotlib.axes.Axes): The matplotlib object containing the axes of the plot to annotate.\n",
    "* bottom : the list to display correcly the values when multibars are superposed\n",
    "* spacing (int): The distance between the labels and the bars."
   ]
  },
  {
   "cell_type": "code",
   "execution_count": null,
   "metadata": {
    "pycharm": {
     "name": "#%%\n"
    }
   },
   "outputs": [],
   "source": [
    "def add_value_labels(ax, bottom=[], spacing=5):\n",
    "    # For each bar: Place a label\n",
    "    i=0\n",
    "    for rect in ax:\n",
    "        # Get X and Y placement of label from rect.\n",
    "        if bottom==[]:\n",
    "            y_value = rect.get_height()\n",
    "        else:\n",
    "            y_value=bottom[i] + (rect.get_height() / 2)\n",
    "            value=rect.get_height()\n",
    "        x_value = rect.get_x() + rect.get_width() / 2\n",
    "\n",
    "        # Number of points between bar and label. Change to your liking.\n",
    "        space = spacing\n",
    "        # Vertical alignment for positive values\n",
    "        va = 'bottom'\n",
    "\n",
    "        # If value of bar is negative: Place label below bar\n",
    "        if y_value < 0:\n",
    "            # Invert space to place label below\n",
    "            space *= -1\n",
    "            # Vertically align label at top\n",
    "            va = 'top'\n",
    "\n",
    "        # Use Y value as label and format number with one decimal place\n",
    "        label = \"{:.1f}\".format(y_value)\n",
    "\n",
    "        # Create annotation\n",
    "        if bottom==[]:\n",
    "            plt.text(x_value, y_value,              # Place label at end of the bar\n",
    "                 label,            # Use `label` as label\n",
    "                 ha='center',                   #align to the center \n",
    "                 va=va)                     # Vertically align label differently for\n",
    "            #                                # positive and negative values.\n",
    "        else:\n",
    "            if value!=0:\n",
    "                plt.text(x_value, y_value,              # Place label at end of the bar\n",
    "                    '%d' % int(value),            # Use `label` as label\n",
    "                    ha='center')                   #align to the center\n",
    "        i+=1"
   ]
  },
  {
   "cell_type": "markdown",
   "metadata": {
    "collapsed": false,
    "pycharm": {
     "name": "#%% md\n"
    }
   },
   "source": [
    "***constructMultiBarWithVerticalLines* function** to construct to multi bars visualisations with vertical lines and centered labels\n",
    "\n",
    "Input:\n",
    "* dict: the dict containing all values to display\n",
    "* n: the number of the graph to display\n",
    "* listkey: the list of the keys to display correctly the xtickslabels\n",
    "* listsubkeys: the list of the subkeys to display in x axis\n",
    "* pos: a tab with all positions of the bars organize by keys and the number of the graph to display\n",
    "* bar_width: the width of the bars\n",
    "* N: total number of multibars"
   ]
  },
  {
   "cell_type": "code",
   "execution_count": null,
   "metadata": {
    "pycharm": {
     "name": "#%%\n"
    }
   },
   "outputs": [],
   "source": [
    "def constructMultiBarWithVerticalLines(dict, n, listkey, listsubkeys, pos, bar_width, N):\n",
    "    maxValue=0\n",
    "    nkey=0\n",
    "    for key in dict[n].keys():\n",
    "        #get max value\n",
    "        for val in dict[n][key].values():\n",
    "            if val>maxValue:\n",
    "                maxValue=val\n",
    "        #add verticals lines\n",
    "        for i in range(len(dict[n][key])):\n",
    "            if i!=0:\n",
    "                plt.axvline(x=i-bar_width/2)\n",
    "        #add bars for key\n",
    "        bar=plt.bar([val-n*N for val in pos[key][n]],\n",
    "                        list(dict[n][key].values()),\n",
    "                        bar_width,\n",
    "                        label=key)\n",
    "        ticks_label=list(dict[n][key].keys())\n",
    "        add_value_labels(bar)\n",
    "        nkey+=1\n",
    "        \n",
    "    # add ~20% more for aesthetics\n",
    "    if maxValue < 1.2:\n",
    "        maxValue += .2\n",
    "    elif maxValue < 5:\n",
    "        maxValue += 1\n",
    "    else:\n",
    "        while (maxValue%5) != 0: maxValue += 1 # ensure roundness\n",
    "        maxValue+=int(maxValue*.2)\n",
    "        \n",
    "    #set value and position for xticks\n",
    "    plt.gca().axes.set_xticks([x+(bar_width*len(listkey)/2) - bar_width/2 for x in range(len(ticks_label))])\n",
    "    plt.gca().axes.set_xticklabels(ticks_label)\n",
    "    plt.legend(loc='center left', bbox_to_anchor=(1, 0.5))\n",
    "    plt.xticks(rotation=90)\n",
    "    plt.ylim((0,maxValue))\n",
    "    if N>len(listsubkeys):\n",
    "        xlmax=len(listsubkeys)\n",
    "    else:\n",
    "        xlmax=N\n",
    "    plt.xlim((-bar_width,N))"
   ]
  },
  {
   "cell_type": "markdown",
   "metadata": {
    "collapsed": false
   },
   "source": [
    "***multiBarSuperposed* function** to construct superposed bars visualisations with centered labels\n",
    "\n",
    "Input :\n",
    "* dictionary : the dict containing all values to display\n",
    "* key: the label value\n",
    "* title : title of the multibar graph\n",
    "* xlabel : labels for the X axis\n",
    "* ylabel : labels for the Y axis"
   ]
  },
  {
   "cell_type": "code",
   "execution_count": null,
   "metadata": {
    "collapsed": false,
    "pycharm": {
     "name": "#%%\n"
    }
   },
   "outputs": [],
   "source": [
    "def multiBarSuperposed(dictionary, key, title, xlabel, ylabel):\n",
    "    j=0\n",
    "    for sub_key in dictionary.keys():\n",
    "        if j==0:\n",
    "            botom=[0 for i in range(0, len(dictionary[sub_key]))]\n",
    "            bar=plt.bar(range(len(dictionary[sub_key])),\n",
    "                       dictionary[sub_key].values(),\n",
    "                       label=sub_key,\n",
    "                       tick_label=list(dictionary[sub_key].keys()))\n",
    "            add_value_labels(bar, botom)\n",
    "            botom=list(dictionary[sub_key].values())\n",
    "        else:\n",
    "            bar=plt.bar(range(len(dictionary[sub_key])),\n",
    "                       dictionary[sub_key].values(),\n",
    "                       label=sub_key,\n",
    "                       tick_label=list(dictionary[sub_key].keys()),\n",
    "                        bottom=botom)\n",
    "            add_value_labels(bar, botom)\n",
    "            temp=botom\n",
    "            l=list(dictionary[sub_key].values())\n",
    "            botom=[temp[i]+l[i] for i in range(0,len(l))]\n",
    "        j+=1\n",
    "    plt.legend(loc='center left', bbox_to_anchor=(1, 0.5))\n",
    "    plt.xticks(rotation=90)\n",
    "    plt.title(title+key)\n",
    "    plt.xlabel(xlabel)\n",
    "    plt.ylabel(ylabel)\n",
    "    plt.show()"
   ]
  },
  {
   "cell_type": "markdown",
   "metadata": {
    "collapsed": false
   },
   "source": [
    "***displayEachBar* function** to construct simple bars visualisations with centered labels\n",
    "\n",
    "Input:\n",
    "* dictionary: the dict containing all values to display\n",
    "* key: the label value\n",
    "* title: title of the multibar graph\n",
    "* xlabel: labels for the X axis\n",
    "* ylabel: labels for the Y axis"
   ]
  },
  {
   "cell_type": "code",
   "execution_count": null,
   "metadata": {
    "collapsed": false,
    "pycharm": {
     "name": "#%%\n"
    }
   },
   "outputs": [],
   "source": [
    "def displayEachBar(dictionary, key, title, xlabel, ylabel):\n",
    "    max=0\n",
    "    for val in dictionary.values():\n",
    "        if val>max:\n",
    "            max=val\n",
    "    max+=1\n",
    "    bar=plt.bar(range(len(dictionary)),\n",
    "            dictionary.values(),\n",
    "            tick_label=list(dictionary.keys()))\n",
    "    add_value_labels(bar)\n",
    "    plt.title(title + key)\n",
    "    plt.xlabel(xlabel)\n",
    "    plt.ylabel(ylabel)\n",
    "    plt.xticks(rotation=90)\n",
    "    plt.ylim(0,max)\n",
    "    plt.show()"
   ]
  }
 ],
 "metadata": {
  "kernelspec": {
   "display_name": "Python 3",
   "language": "python",
   "name": "python3"
  },
  "language_info": {
   "codemirror_mode": {
    "name": "ipython",
    "version": 3
   },
   "file_extension": ".py",
   "mimetype": "text/x-python",
   "name": "python",
   "nbconvert_exporter": "python",
   "pygments_lexer": "ipython3",
   "version": "3.6.10"
  }
 },
 "nbformat": 4,
 "nbformat_minor": 1
}
