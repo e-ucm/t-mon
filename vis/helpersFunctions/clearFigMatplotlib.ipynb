{
 "cells": [
  {
   "cell_type": "markdown",
   "metadata": {
    "collapsed": false
   },
   "source": [
    "Disable auto-scrolling of long output"
   ]
  },
  {
   "cell_type": "code",
   "execution_count": null,
   "metadata": {
    "collapsed": false,
    "pycharm": {
     "name": "#%%\n"
    }
   },
   "outputs": [],
   "source": [
    "%%javascript\n",
    "IPython.OutputArea.auto_scroll_threshold = 9999;"
   ]
  },
  {
   "cell_type": "markdown",
   "metadata": {
    "collapsed": true,
    "pycharm": {
     "name": "#%% md\n"
    }
   },
   "source": [
    "Enabling the matplotlib widgets for Jupyter Notebook"
   ]
  },
  {
   "cell_type": "code",
   "execution_count": null,
   "metadata": {
    "collapsed": false,
    "pycharm": {
     "name": "#%%\n"
    }
   },
   "outputs": [],
   "source": [
    "! jupyter server extension enable --py --sys-prefix widgetsnbextension > /dev/null 2>&1;\n",
    "! jupyter server extension enable ipympl --py --sys-prefix  > /dev/null 2>&1;"
   ]
  },
  {
   "cell_type": "markdown",
   "metadata": {
    "collapsed": false
   },
   "source": [
    "Create all outputs for the figs"
   ]
  },
  {
   "cell_type": "code",
   "execution_count": null,
   "metadata": {
    "collapsed": false,
    "pycharm": {
     "name": "#%%\n"
    }
   },
   "outputs": [],
   "source": [
    "global outputGameStartCompleted,outputVideo, outputPlayerProgress\n",
    "outputGameStartCompleted=widgets.Output()\n",
    "outputVideo=widgets.Output()\n",
    "outputPlayerProgress=widgets.Output()\n",
    "\n",
    "global outputCompletableProgress, outputCompletableScore, outputCompletableTime, outputCompletableProgressIncreaseDecrease\n",
    "outputCompletableProgress=widgets.Output()\n",
    "outputCompletableProgressIncreaseDecrease=widgets.Output()\n",
    "outputCompletableScore=widgets.Output()\n",
    "outputCompletableTime=widgets.Output()\n",
    "\n",
    "global outputAltPerPlayer,outputResPerAlt, outputAlternativeQuestion\n",
    "outputAltPerPlayer=widgets.Output()\n",
    "outputResPerAlt=widgets.Output()\n",
    "outputAlternativeQuestion=widgets.Output()\n",
    "\n",
    "global outputBarChartItem, outputHeatMapItem, outputBubbleChartItem,outputActionTypeItem\n",
    "outputBarChartItem=widgets.Output()\n",
    "outputHeatMapItem=widgets.Output()\n",
    "outputBubbleChartItem=widgets.Output()\n",
    "outputActionTypeItem=widgets.Output()\n",
    "\n",
    "global outputBarChartAccessible, outputHeatMapAccessible, outputBubbleChartAccessible\n",
    "outputBarChartAccessible=widgets.Output()\n",
    "outputHeatMapAccessible=widgets.Output()\n",
    "outputBubbleChartAccessible=widgets.Output()\n",
    "\n",
    "global outputMenu\n",
    "outputMenu=widgets.Output()\n"
   ]
  },
  {
   "cell_type": "markdown",
   "metadata": {
    "collapsed": false
   },
   "source": [
    "Create all outputs for the update message"
   ]
  },
  {
   "cell_type": "code",
   "execution_count": null,
   "metadata": {
    "collapsed": false,
    "pycharm": {
     "name": "#%%\n"
    }
   },
   "outputs": [],
   "source": [
    "global outputGameStartCompletedUpdate,outputVideoUpdate, outputPlayerProgressUpdate\n",
    "outputGameStartCompletedUpdate=widgets.Output()\n",
    "outputVideoUpdate=widgets.Output()\n",
    "outputPlayerProgressUpdate=widgets.Output()\n",
    "\n",
    "global outputCompletableProgressUpdate, outputCompletableScoreUpdate, outputCompletableTimeUpdate, \\\n",
    "    outputCompletableProgressIncreaseDecreaseUpdate\n",
    "outputCompletableProgressUpdate=widgets.Output()\n",
    "outputCompletableScoreUpdate=widgets.Output()\n",
    "outputCompletableTimeUpdate=widgets.Output()\n",
    "outputCompletableProgressIncreaseDecreaseUpdate=widgets.Output()\n",
    "\n",
    "global outputAltPerPlayerUpdate,outputResPerAltUpdate, outputAlternativeQuestionUpdate\n",
    "outputAltPerPlayerUpdate=widgets.Output()\n",
    "outputResPerAltUpdate=widgets.Output()\n",
    "outputAlternativeQuestionUpdate=widgets.Output()\n",
    "\n",
    "global outputBarChartItemUpdate, outputHeatMapItemUpdate, outputBubbleChartItemUpdate,outputActionTypeItemUpdate\n",
    "outputBarChartItemUpdate=widgets.Output()\n",
    "outputHeatMapItemUpdate=widgets.Output()\n",
    "outputBubbleChartItemUpdate=widgets.Output()\n",
    "outputActionTypeItemUpdate=widgets.Output()\n",
    "\n",
    "global outputBarChartAccessibleUpdate, outputHeatMapAccessibleUpdate, outputBubbleChartAccessibleUpdate\n",
    "outputBarChartAccessibleUpdate=widgets.Output()\n",
    "outputHeatMapAccessibleUpdate=widgets.Output()\n",
    "outputBubbleChartAccessibleUpdate=widgets.Output()\n",
    "\n",
    "global outputMenuUpdate\n",
    "outputMenuUpdate=widgets.Output()"
   ]
  },
  {
   "cell_type": "markdown",
   "metadata": {
    "collapsed": false
   },
   "source": [
    "Create all list for figs of matplotlib widgets"
   ]
  },
  {
   "cell_type": "code",
   "execution_count": null,
   "metadata": {
    "collapsed": false,
    "pycharm": {
     "name": "#%%\n"
    }
   },
   "outputs": [],
   "source": [
    "global figGameStartedCompleted, figVideoSkipped, figPlayersProgress\n",
    "figGameStartedCompleted=[]\n",
    "figVideoSkipped=[]\n",
    "figPlayersProgress=[]\n",
    "\n",
    "global figCompletableScore, figCompletableProgress, figCompletableTime, figCompletableProgressIncreaseDecrease\n",
    "figCompletableScore=[]\n",
    "figCompletableProgress=[]\n",
    "figCompletableTime=[]\n",
    "figCompletableProgressIncreaseDecrease=[]\n",
    "\n",
    "global figAltQuestion, figAltPlayer, figResPerAlt\n",
    "figAltQuestion=[]\n",
    "figAltPlayer=[]\n",
    "figResPerAlt=[]\n",
    "\n",
    "global figBubbleChartItem, figHeatMapItem, figBarChartItem, figActionTypeItem\n",
    "figBubbleChartItem=[]\n",
    "figHeatMapItem=[]\n",
    "figBarChartItem=[]\n",
    "figActionTypeItem=[]\n",
    "\n",
    "global figBubbleChartAccessible, figHeatMapAccessible, figBarChartAccessible\n",
    "figBubbleChartAccessible=[]\n",
    "figHeatMapAccessible=[]\n",
    "figBarChartAccessible=[]\n",
    "\n",
    "global figBarChartMenu\n",
    "figBarChartMenu=[]"
   ]
  },
  {
   "cell_type": "markdown",
   "metadata": {
    "collapsed": false,
    "pycharm": {
     "name": "#%% md\n"
    }
   },
   "source": [
    "Clear and close figs"
   ]
  },
  {
   "cell_type": "code",
   "execution_count": 1,
   "metadata": {
    "collapsed": false,
    "pycharm": {
     "name": "#%%\n"
    }
   },
   "outputs": [],
   "source": [
    "def closeFigGameSelected():\n",
    "    #close and clear previous fig of gameStartAndComplete\n",
    "    for fig in figGameStartedCompleted:\n",
    "        plt.close(fig=fig)\n",
    "    figGameStartedCompleted.clear()\n",
    "    with outputGameStartCompleted:\n",
    "        clear_output(wait=False)\n",
    "    with outputGameStartCompletedUpdate:\n",
    "        print(\"Updating visualisation with the current selection of players...\")\n",
    "\n",
    "def closeFigVideos():\n",
    "    #close and clear previous fig of videos\n",
    "    for fig in figVideoSkipped:\n",
    "        plt.close(fig=fig)\n",
    "    figVideoSkipped.clear()\n",
    "    with outputVideo:\n",
    "        clear_output(wait=False)\n",
    "    with outputVideoUpdate:\n",
    "        print(\"Updating visualisation with the current selection of players and videos...\")\n",
    "\n",
    "def closeFigProgress():\n",
    "    #close and clear previous fig of progress players\n",
    "    for fig in figPlayersProgress:\n",
    "        plt.close(fig=fig)\n",
    "    figPlayersProgress.clear()\n",
    "    with outputPlayerProgress:\n",
    "        clear_output(wait=False)\n",
    "    with outputPlayerProgressUpdate:\n",
    "        print(\"Updating visualisation with the current selection of players...\")\n",
    "\n",
    "def closeFigCompletable():\n",
    "    #close and clear previous fig of completable progress\n",
    "    for fig in figCompletableProgress:\n",
    "        plt.close(fig=fig)\n",
    "    figCompletableProgress.clear()\n",
    "    with outputCompletableProgress:\n",
    "        clear_output(wait=False)\n",
    "    with outputCompletableProgressUpdate:\n",
    "        print(\"Updating visualisation with the current selection of players and completables...\")\n",
    "    #close and clear previous fig of completable progress increase/decrease\n",
    "    for fig in figCompletableProgressIncreaseDecrease:\n",
    "        plt.close(fig=fig)\n",
    "    figCompletableProgressIncreaseDecrease.clear()\n",
    "    with outputCompletableProgressIncreaseDecrease:\n",
    "        clear_output(wait=False)\n",
    "    with outputCompletableProgressIncreaseDecreaseUpdate:\n",
    "        print(\"Updating visualisation with the current selection of players and completables...\")\n",
    "    #close and clear previous fig of completable score\n",
    "    for fig in figCompletableScore:\n",
    "        plt.close(fig=fig)\n",
    "    figCompletableScore.clear()\n",
    "    with outputCompletableScore:\n",
    "        clear_output(wait=False)\n",
    "    with outputCompletableScoreUpdate:\n",
    "        print(\"Updating visualisation with the current selection of players and completables...\")\n",
    "    #close and clear previous fig of completable time\n",
    "    for fig in figCompletableTime:\n",
    "        plt.close(fig=fig)\n",
    "    figCompletableTime.clear()\n",
    "    with outputCompletableTime:\n",
    "        clear_output(wait=False)\n",
    "    with outputCompletableTimeUpdate:\n",
    "        print(\"Updating visualisation with the current selection of players and completables...\")\n",
    "\n",
    "def closeFigAlternative():\n",
    "    #close and clear previous fig of alternatives\n",
    "    for fig in figResPerAlt:\n",
    "        plt.close(fig=fig)\n",
    "    figResPerAlt.clear()\n",
    "    with outputResPerAlt:\n",
    "        clear_output(wait=False)\n",
    "    with outputResPerAltUpdate:\n",
    "        print(\"Updating visualisation with the current selection of players and alternatives...\")\n",
    "    for fig in figAltPlayer:\n",
    "        plt.close(fig=fig)\n",
    "    figAltPlayer.clear()\n",
    "    with outputAltPerPlayer:\n",
    "        clear_output(wait=False)\n",
    "    with outputAltPerPlayerUpdate:\n",
    "        print(\"Updating visualisation with the current selection of players and alternatives...\")\n",
    "    for fig in figAltQuestion:\n",
    "        plt.close(fig=fig)\n",
    "    figAltQuestion.clear()\n",
    "    with outputAlternativeQuestion:\n",
    "        clear_output(wait=False)\n",
    "    with outputAlternativeQuestionUpdate:\n",
    "        print(\"Updating visualisation with the current selection of players and alternatives...\")\n",
    "\n",
    "def closeFigInteractions():\n",
    "    #close and clear previous fig of items interactions\n",
    "    for fig in figBarChartItem:\n",
    "        plt.close(fig=fig)\n",
    "    figBarChartItem.clear()\n",
    "    with outputBarChartItem:\n",
    "        clear_output(wait=False)\n",
    "    with outputBarChartItemUpdate:\n",
    "        print(\"Updating visualisation with the current selection of players and items...\")\n",
    "    for fig in figHeatMapItem:\n",
    "        plt.close(fig=fig)\n",
    "    figHeatMapItem.clear()\n",
    "    with outputHeatMapItem:\n",
    "        clear_output(wait=False)\n",
    "    with outputHeatMapItemUpdate:\n",
    "        print(\"Updating visualisation with the current selection of players and items...\")\n",
    "    for fig in figBubbleChartItem:\n",
    "        plt.close(fig=fig)\n",
    "    figBubbleChartItem.clear()\n",
    "    with outputBubbleChartItem:\n",
    "        clear_output(wait=False)\n",
    "    with outputBubbleChartItemUpdate:\n",
    "        print(\"Updating visualisation with the current selection of players and items...\")\n",
    "    #close and clear previous fig of actions type\n",
    "    for fig in figActionTypeItem:\n",
    "        plt.close(fig=fig)\n",
    "    figActionTypeItem.clear()\n",
    "    with outputActionTypeItem:\n",
    "        clear_output(wait=False)\n",
    "    with outputActionTypeItemUpdate:\n",
    "        print(\"Updating visualisation with the current selection of players and items...\")\n",
    "\n",
    "def closeFigAccessibles():\n",
    "    #close and clear previous fig of accessible\n",
    "    for fig in figBarChartAccessible:\n",
    "        plt.close(fig=fig)\n",
    "    figBarChartAccessible.clear()\n",
    "    with outputBarChartAccessible:\n",
    "        clear_output(wait=False)\n",
    "    with outputBarChartAccessibleUpdate:\n",
    "        print(\"Updating visualisation with the current selection of players and accessibles...\")\n",
    "    for fig in figHeatMapAccessible:\n",
    "        plt.close(fig=fig)\n",
    "    figHeatMapAccessible.clear()\n",
    "    with outputHeatMapAccessible:\n",
    "        clear_output(wait=False)\n",
    "    with outputHeatMapAccessibleUpdate:\n",
    "        print(\"Updating visualisation with the current selection of players and accessibles...\")\n",
    "    for fig in figBubbleChartAccessible:\n",
    "        plt.close(fig=fig)\n",
    "    figBubbleChartAccessible.clear()\n",
    "    with outputBubbleChartAccessible:\n",
    "        clear_output(wait=False)\n",
    "    with outputBubbleChartAccessibleUpdate:\n",
    "        print(\"Updating visualisation with the current selection of players and accessibles...\")\n",
    "\n",
    "def closeFigMenus():\n",
    "    #close and clear previous fig of menus\n",
    "    for fig in figBarChartMenu:\n",
    "        plt.close(fig=fig)\n",
    "    figBarChartMenu.clear()\n",
    "    with outputMenu:\n",
    "        clear_output(wait=False)\n",
    "    with outputMenuUpdate:\n",
    "        print(\"Updating visualisation with the current selection of players and menus...\")"
   ]
  }
 ],
 "metadata": {
  "kernelspec": {
   "display_name": "Python 3",
   "language": "python",
   "name": "python3"
  },
  "language_info": {
   "codemirror_mode": {
    "name": "ipython",
    "version": 2
   },
   "file_extension": ".py",
   "mimetype": "text/x-python",
   "name": "python",
   "nbconvert_exporter": "python",
   "pygments_lexer": "ipython2",
   "version": "2.7.6"
  }
 },
 "nbformat": 4,
 "nbformat_minor": 0
}
