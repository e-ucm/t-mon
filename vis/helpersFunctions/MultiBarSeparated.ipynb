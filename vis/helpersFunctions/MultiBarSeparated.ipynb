{
 "cells": [
  {
   "cell_type": "markdown",
   "metadata": {
    "collapsed": false
   },
   "source": [
    "***constructMultiTab* function** to constuct the multilist for the heatmap\n",
    "\n",
    "Input :\n",
    "* players_info : dict with players\n",
    "* playersSelected : players selected\n",
    "* labels : labels for the construction\n",
    "* action : the action to have to search in players_info\n",
    "* typ : boolean if this action is divided in type or not\n",
    "\n",
    "Output:\n",
    "* dictionary: the dictionary with the values for the multibar"
   ]
  },
  {
   "cell_type": "code",
   "execution_count": null,
   "metadata": {
    "collapsed": false,
    "pycharm": {
     "name": "#%%\n"
    }
   },
   "outputs": [],
   "source": [
    "def constructMultiTab(players_info, playersSelected, labels, action, typ=False):\n",
    "    dictionary={}\n",
    "    for label in labels:\n",
    "        dictionary[label]={}\n",
    "        for player in playersSelected:\n",
    "            if typ:\n",
    "                nb=0\n",
    "                for type in players_info[player][action].keys():\n",
    "                    for key in players_info[player][action][type].keys():\n",
    "                        if key==label:\n",
    "                            nb+=len(players_info[player][action][type][label])\n",
    "                dictionary[label][player]=nb\n",
    "            else:\n",
    "                for key in players_info[player][action].keys():\n",
    "                    if key==label:\n",
    "                        dictionary[label][player]=len(players_info[player][action][label])\n",
    "                    else:\n",
    "                        dictionary[label][player]=0\n",
    "    return dictionary"
   ]
  },
  {
   "cell_type": "markdown",
   "metadata": {
    "collapsed": true,
    "pycharm": {
     "name": "#%% md\n"
    }
   },
   "source": [
    "***constructSimpleTab* function** to constuct the dict to the barchart\n",
    "\n",
    "Input :\n",
    "* playersSelected : players selected\n",
    "* label : label for the construction\n",
    "* action : the action to have to search in players_info\n",
    "* typ : boolean if this action is divided in type or not\n",
    "\n",
    "Output:\n",
    "* dictionary: the dictionary with the values for the simplebar"
   ]
  },
  {
   "cell_type": "code",
   "execution_count": null,
   "metadata": {
    "collapsed": false,
    "pycharm": {
     "name": "#%%\n"
    }
   },
   "outputs": [],
   "source": [
    "def constructSimpleTab(playersSelected, label, action, typ=False):\n",
    "    dictionary={}\n",
    "    for player in playersSelected:\n",
    "        if typ:\n",
    "            nb=0\n",
    "            for type in players_info[player][action].keys():\n",
    "                for key in players_info[player][action][type].keys():\n",
    "                    if key==label:\n",
    "                        nb+=len(players_info[player][action][type][label])\n",
    "            dictionary[player]=nb\n",
    "        else:\n",
    "            for key in players_info[player][action].keys():\n",
    "                if key==label:\n",
    "                    dictionary[player]=len(players_info[player][action][label])\n",
    "                else:\n",
    "                    dictionary[player]=0\n",
    "    return dictionary"
   ]
  },
  {
   "cell_type": "markdown",
   "metadata": {
    "collapsed": false
   },
   "source": [
    "***multiBarSeparated* function** to display the multiBar chart\n",
    "\n",
    "Input:\n",
    "* dictionary: the list with all the values\n",
    "* order: selection to order values alphabeticly or per values\n",
    "* title: title of the multibar graph\n",
    "* xlabel: labels for the X axis\n",
    "* ylabel: labels for the Y axis\n",
    "* figtitle: title of the fig for save the barchart\n",
    "\n",
    "Output: display the multiBar chart"
   ]
  },
  {
   "cell_type": "code",
   "execution_count": null,
   "metadata": {
    "collapsed": false,
    "pycharm": {
     "name": "#%%\n"
    }
   },
   "outputs": [],
   "source": [
    "%run vis/helpersFunctions/barCharts.ipynb\n",
    "def multiBarSeparated(dictionary, order,title, xlabel, ylabel, figTab, filetitle):\n",
    "    multiBar={}\n",
    "    for key in dictionary.keys():\n",
    "        dictionary[key]=orderDict(dictionary[key],order)\n",
    "        multiBar[key]=widgets.Output()\n",
    "        #TODO only display the one selected in the accordion\n",
    "        with multiBar[key]:\n",
    "            #create new fig with custom name in the tab\n",
    "            name=name=filename+\"_\"+filetitle+\"_\"+key\n",
    "            fig = plt.figure(num=name, constrained_layout=True)\n",
    "            fig.canvas.header_visible = False\n",
    "            fig.canvas.layout.min_height = '400px'\n",
    "            figTab.append(fig)\n",
    "            displayEachBar(dictionary[key], key, title, xlabel, ylabel)\n",
    "    accordion=widgets.Accordion(list(multiBar.values()))\n",
    "    i=0\n",
    "    for key in multiBar.keys():\n",
    "        accordion.set_title(i, key)\n",
    "        i+=1\n",
    "    return tabs"
   ]
  }
 ],
 "metadata": {
  "kernelspec": {
   "display_name": "Python 3",
   "language": "python",
   "name": "python3"
  },
  "language_info": {
   "codemirror_mode": {
    "name": "ipython",
    "version": 2
   },
   "file_extension": ".py",
   "mimetype": "text/x-python",
   "name": "python",
   "nbconvert_exporter": "python",
   "pygments_lexer": "ipython2",
   "version": "2.7.6"
  }
 },
 "nbformat": 4,
 "nbformat_minor": 0
}
