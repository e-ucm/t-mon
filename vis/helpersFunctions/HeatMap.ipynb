{
 "cells": [
  {
   "cell_type": "markdown",
   "metadata": {
    "collapsed": false,
    "pycharm": {
     "name": "#%% md\n"
    }
   },
   "source": [
    "***constructHeatMap* function** to constuct the multilist for the heatmap\n",
    "\n",
    "Input :\n",
    "* players_info dict with players\n",
    "* playersSelected : the selected players\n",
    "* labels : labels for the construction\n",
    "* action : the action to have to search in players_info\n",
    "* typ : boolean if this action is divided in type or not\n",
    "\n",
    "Output:\n",
    "* multiList: the list with the values for the HeatMap"
   ]
  },
  {
   "cell_type": "code",
   "execution_count": null,
   "metadata": {
    "collapsed": true
   },
   "outputs": [],
   "source": [
    "def constructHeatMap(players_info, playersSelected, labels, action, typ=False):\n",
    "    multiList=[]\n",
    "    i=0\n",
    "    for label in labels:\n",
    "        multiList.insert(i,[])\n",
    "        j=0\n",
    "        for player in playersSelected:\n",
    "            if typ:\n",
    "                nb=0\n",
    "                for type in players_info[player][action].keys():\n",
    "                    if label in players_info[player][action][type].keys():\n",
    "                        nb+=len(players_info[player][action][type][label])\n",
    "                multiList[i].insert(j,nb)\n",
    "                j+=1\n",
    "            else:\n",
    "                if label in players_info[player][action].keys():\n",
    "                    multiList[i].insert(j,len(players_info[player][action][label]))\n",
    "                else:\n",
    "                    multiList[i].insert(j,0)\n",
    "                j+=1\n",
    "        multiList[i]=list(multiList[i])\n",
    "        i+=1\n",
    "    return multiList"
   ]
  },
  {
   "cell_type": "markdown",
   "metadata": {
    "collapsed": false
   },
   "source": [
    "***heatMap* function** to display the heatMap\n",
    "\n",
    "Input :\n",
    "* multiList: the list with the values for the HeatMap\n",
    "* ticksXlabel : labels for the ticks of X axe of the heatmap\n",
    "* ticksYlabel : labels for the ticks of Y axe of the heatmap\n",
    "* figTab : list of fig for this heatmap\n",
    "* figtitle : title of the fig for save the heatmap\n",
    "\n",
    "Output: display the heatmap with a scale of color to the right"
   ]
  },
  {
   "cell_type": "code",
   "execution_count": null,
   "metadata": {
    "collapsed": false,
    "pycharm": {
     "name": "#%%\n"
    }
   },
   "outputs": [],
   "source": [
    "def heatMap(multiTab, ticksXlabel, ticksYlabel, figTab, figtitle):\n",
    "    #create new fig with custom name in the tab\n",
    "    name=filename+figtitle\n",
    "    fig, ax = plt.subplots(num=name, constrained_layout=True, figsize=(len(ticksXlabel)/2, len(ticksYlabel)/2))\n",
    "    fig.canvas.header_visible = False\n",
    "    fig.canvas.layout.min_height = '400px'\n",
    "    figTab.append(fig)\n",
    "    im = ax.imshow(multiTab, cmap='cool', interpolation='nearest')\n",
    "    for i in range(len(ticksYlabel)):\n",
    "        for j in range(len(ticksXlabel)):\n",
    "            text = ax.text(j, i, multiTab[i][j],\n",
    "                       ha=\"center\", va=\"center\", color=\"b\")\n",
    "    cbar=plt.colorbar(im)\n",
    "    # We want to show all ticks...\n",
    "    ax.set_xticks(np.arange(len(ticksXlabel)))\n",
    "    ax.set_yticks(np.arange(len(ticksYlabel)))\n",
    "    # ... and label them with the respective list entries\n",
    "    ax.set_xticklabels(ticksXlabel)\n",
    "    ax.set_yticklabels(ticksYlabel)\n",
    "    # Rotate the tick labels and set their alignment.\n",
    "    plt.setp(ax.get_xticklabels(), rotation=45, ha=\"right\",rotation_mode=\"anchor\")"
   ]
  }
 ],
 "metadata": {
  "kernelspec": {
   "display_name": "Python 3",
   "language": "python",
   "name": "python3"
  },
  "language_info": {
   "codemirror_mode": {
    "name": "ipython",
    "version": 2
   },
   "file_extension": ".py",
   "mimetype": "text/x-python",
   "name": "python",
   "nbconvert_exporter": "python",
   "pygments_lexer": "ipython2",
   "version": "2.7.6"
  }
 },
 "nbformat": 4,
 "nbformat_minor": 0
}
