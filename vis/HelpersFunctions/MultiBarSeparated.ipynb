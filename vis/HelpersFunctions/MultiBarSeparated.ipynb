{
 "cells": [
  {
   "cell_type": "markdown",
   "source": [
    "***constructMultiTab* function** to constuct the multilist for the heatmap\n",
    "\n",
    "Input :\n",
    "* players_info dict with players\n",
    "* labels : labels for the construction\n",
    "* action : the action to have to search in players_info\n",
    "* typ : boolean if this action is divided in type or not\n",
    "\n",
    "Output:\n",
    "* dictionary: the dictionary with the values for the multibar"
   ],
   "metadata": {
    "collapsed": false
   }
  },
  {
   "cell_type": "code",
   "execution_count": null,
   "metadata": {
    "collapsed": true
   },
   "outputs": [],
   "source": [
    "def constructMultiTab(players_info, labels, action, typ=False):\n",
    "    dictionary={}\n",
    "    for label in labels:\n",
    "        dictionary[label]={}\n",
    "        for player in players_info.keys():\n",
    "            if typ:\n",
    "                nb=0\n",
    "                for type in players_info[player][action].keys():\n",
    "                    for key in players_info[player][action][type].keys():\n",
    "                        if key==label:\n",
    "                            nb+=len(players_info[player][action][type][label])\n",
    "                dictionary[label][player]=nb\n",
    "            else:\n",
    "                for key in players_info[player][action].keys():\n",
    "                    if key==label:\n",
    "                        dictionary[label][player]=len(players_info[player][action][label])\n",
    "    return dictionary"
   ]
  },
  {
   "cell_type": "markdown",
   "source": [
    "***multiBarSeparated* function** to display the multiBar chart \n",
    "\n",
    "Input :\n",
    "* dictionary: the list with alls the values \n",
    "* xlabel : labels for the X axe \n",
    "* ylabel : labels for the Y axe\n",
    "\n",
    "Output: display the multiBar chart "
   ],
   "metadata": {
    "collapsed": false,
    "pycharm": {
     "name": "#%% md\n"
    }
   }
  },
  {
   "cell_type": "code",
   "execution_count": null,
   "outputs": [],
   "source": [
    "def multiBarSeparated(dictionary, title, xlabel, ylabel):\n",
    "    for key in dictionary.keys():\n",
    "        plt.bar(range(len(dictionary[key])), \n",
    "                  dictionary[key].values(),\n",
    "                   tick_label=list(dictionary[key].keys()))\n",
    "        plt.title(title + key)\n",
    "        plt.xlabel(xlabel)\n",
    "        plt.ylabel(ylabel)\n",
    "        plt.xticks(rotation=90)\n",
    "        plt.show()"
   ]
  }
 ],
 "metadata": {
  "kernelspec": {
   "display_name": "Python 3",
   "language": "python",
   "name": "python3"
  },
  "language_info": {
   "codemirror_mode": {
    "name": "ipython",
    "version": 2
   },
   "file_extension": ".py",
   "mimetype": "text/x-python",
   "name": "python",
   "nbconvert_exporter": "python",
   "pygments_lexer": "ipython2",
   "version": "2.7.6"
  },
  "pycharm": {
   "stem_cell": {
    "cell_type": "raw",
    "source": [],
    "metadata": {
     "collapsed": false
    }
   }
  }
 },
 "nbformat": 4,
 "nbformat_minor": 0
}