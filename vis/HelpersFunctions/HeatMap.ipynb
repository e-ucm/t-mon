{
 "cells": [
  {
   "cell_type": "markdown",
   "source": [
    "***constructHeatMap* function** to constuct the multilist for the heatmap\n",
    "\n",
    "Input :\n",
    "* players_info dict with players\n",
    "* labels : labels for the construction\n",
    "* action : the action to have to search in players_info\n",
    "* typ : boolean if this action is divided in type or not\n",
    "\n",
    "Output:\n",
    "* multiList: the list with the values for the HeatMap"
   ],
   "metadata": {
    "collapsed": false,
    "pycharm": {
     "name": "#%% md\n"
    }
   }
  },
  {
   "cell_type": "code",
   "execution_count": null,
   "metadata": {
    "collapsed": true
   },
   "outputs": [],
   "source": [
    "def constructHeatMap(players_info, labels, action, typ=False):\n",
    "    multiList=[]\n",
    "    i=0\n",
    "    for label in labels:\n",
    "        multiList.insert(i,[])\n",
    "        j=0\n",
    "        for player in players_info.keys():\n",
    "            if typ:\n",
    "                nb=0\n",
    "                for type in players_info[player][action].keys():\n",
    "                    for key in players_info[player][action][type].keys():\n",
    "                        if label==key:\n",
    "                            nb+=len(players_info[player][action][type][key])\n",
    "                multiList[i].insert(j,nb)\n",
    "            else:\n",
    "                for key in players_info[player][action].keys():\n",
    "                    if label==key:\n",
    "                        multiList[i].insert(j,len(players_info[player][action][key]))\n",
    "            j+=1\n",
    "        multiList[i]=list(multiList[i])\n",
    "        i+=1\n",
    "    return multiList"
   ]
  },
  {
   "cell_type": "markdown",
   "source": [
    "***heatMap* function** to display the heatMap\n",
    "\n",
    "Input :\n",
    "* multiList: the list with the values for the HeatMap\n",
    "* ticksXlabel : labels for the ticks of X axe of the heatmap\n",
    "* ticksYlabel : labels for the ticks of Y axe of the heatmap\n",
    "\n",
    "Output: display the heatmap with a scale of color to the right"
   ],
   "metadata": {
    "collapsed": false
   }
  },
  {
   "cell_type": "code",
   "execution_count": null,
   "outputs": [],
   "source": [
    "def heatMap(multiTab, ticksXlabel, ticksYlabel):\n",
    "    fig, ax = plt.subplots(figsize=(len(ticksXlabel)*3,len(ticksYlabel)*2))\n",
    "    im = ax.imshow(multiTab, cmap='cool', interpolation='nearest')\n",
    "    cbar=plt.colorbar(im)\n",
    "    cbar.ax.tick_params(labelsize=len(ticksYlabel))\n",
    "    # We want to show all ticks...\n",
    "    ax.set_xticks(np.arange(len(ticksXlabel)))\n",
    "    ax.set_yticks(np.arange(len(ticksYlabel)))\n",
    "    # ... and label them with the respective list entries\n",
    "    ax.set_xticklabels(ticksXlabel, fontsize=len(ticksYlabel))\n",
    "    ax.set_yticklabels(ticksYlabel, fontsize=len(ticksYlabel))\n",
    "    # Rotate the tick labels and set their alignment.\n",
    "    plt.setp(ax.get_xticklabels(), rotation=45, ha=\"right\",rotation_mode=\"anchor\")"
   ],
   "metadata": {
    "collapsed": false,
    "pycharm": {
     "name": "#%%\n"
    }
   }
  }
 ],
 "metadata": {
  "kernelspec": {
   "display_name": "Python 3",
   "language": "python",
   "name": "python3"
  },
  "language_info": {
   "codemirror_mode": {
    "name": "ipython",
    "version": 2
   },
   "file_extension": ".py",
   "mimetype": "text/x-python",
   "name": "python",
   "nbconvert_exporter": "python",
   "pygments_lexer": "ipython2",
   "version": "2.7.6"
  },
  "pycharm": {
   "stem_cell": {
    "cell_type": "raw",
    "source": [],
    "metadata": {
     "collapsed": false
    }
   }
  }
 },
 "nbformat": 4,
 "nbformat_minor": 0
}