{
 "cells": [
  {
   "cell_type": "code",
   "execution_count": null,
   "metadata": {
    "collapsed": true
   },
   "outputs": [],
   "source": [
    "def constructHeatMap(players_info, labels, action, typ=False):\n",
    "    multiList=[]\n",
    "    i=0\n",
    "    for label in labels:\n",
    "        multiList.insert(i,[])\n",
    "        j=0\n",
    "        for player in players_info.keys():\n",
    "            if typ:\n",
    "                nb=0\n",
    "                for type in players_info[player][action].keys():\n",
    "                    for key in players_info[player][action][type].keys():\n",
    "                        if label==key:\n",
    "                            nb+=len(players_info[player][action][type][key])\n",
    "                multiList[i].insert(j,nb)\n",
    "            else:\n",
    "                for key in players_info[player][action].keys():\n",
    "                    if label==key:\n",
    "                        multiList[i].insert(j,len(players_info[player][action][key]))\n",
    "            j+=1\n",
    "        multiList[i]=list(multiList[i])\n",
    "        i+=1\n",
    "    return multiList\n",
    "\n",
    "def HeatMap(multiTab, ticksXlabel, ticksYlabel):\n",
    "    fig, ax = plt.subplots(figsize=(len(ticksXlabel)*3,len(ticksYlabel)*2))\n",
    "    im = ax.imshow(multiTab, cmap='cool', interpolation='nearest')\n",
    "    cbar=plt.colorbar(im)\n",
    "    cbar.ax.tick_params(labelsize=len(ticksYlabel))\n",
    "    # We want to show all ticks...\n",
    "    ax.set_xticks(np.arange(len(ticksXlabel)))\n",
    "    ax.set_yticks(np.arange(len(ticksYlabel)))\n",
    "    # ... and label them with the respective list entries\n",
    "    ax.set_xticklabels(ticksXlabel, fontsize=len(ticksYlabel))\n",
    "    ax.set_yticklabels(ticksYlabel, fontsize=len(ticksYlabel))\n",
    "    # Rotate the tick labels and set their alignment.\n",
    "    plt.setp(ax.get_xticklabels(), rotation=45, ha=\"right\",rotation_mode=\"anchor\")"
   ]
  }
 ],
 "metadata": {
  "kernelspec": {
   "display_name": "Python 3",
   "language": "python",
   "name": "python3"
  },
  "language_info": {
   "codemirror_mode": {
    "name": "ipython",
    "version": 2
   },
   "file_extension": ".py",
   "mimetype": "text/x-python",
   "name": "python",
   "nbconvert_exporter": "python",
   "pygments_lexer": "ipython2",
   "version": "2.7.6"
  },
  "pycharm": {
   "stem_cell": {
    "cell_type": "raw",
    "source": [],
    "metadata": {
     "collapsed": false
    }
   }
  }
 },
 "nbformat": 4,
 "nbformat_minor": 0
}