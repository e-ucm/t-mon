{
 "cells": [
  {
   "cell_type": "code",
   "execution_count": null,
   "metadata": {
    "collapsed": true
   },
   "outputs": [],
   "source": [
    "def constructDictWithKeyAndSubKey(players_info, keys, action, typ=False):\n",
    "    dictionnary={}\n",
    "    for key in keys:\n",
    "        dictionnary[key]={}\n",
    "        for player in players_info.keys():\n",
    "            if typ:\n",
    "                for type in players_info[player][action].keys():\n",
    "                    if key in players_info[player][action][type].keys():\n",
    "                        for sub_key in players_info[player][action][type][key]:\n",
    "                            if not sub_key in dictionnary[key].keys():\n",
    "                                dictionnary[key][sub_key]={}\n",
    "                            if not player in dictionnary[key][sub_key].keys():\n",
    "                                dictionnary[key][sub_key][player]=0\n",
    "                            dictionnary[key][sub_key][player]+=len(players_info[player][action][type][key][sub_key])\n",
    "            else: \n",
    "                for sub_key in players_info[player][action][key]:\n",
    "                    if not sub_key in dictionnary[key].keys():\n",
    "                        dictionnary[key][sub_key]={}\n",
    "                    if not player in dictionnary[key][sub_key].keys():\n",
    "                        dictionnary[key][sub_key][player]=0\n",
    "                    dictionnary[key][sub_key][player]+=len(players_info[player][action][key][sub_key])\n",
    "    return dictionnary\n",
    "\n",
    "def multiBarMultiColor(dictionnary, title, xlabel, ylabel):\n",
    "    i = 0\n",
    "    for key in dictionnary.keys():\n",
    "        j=0\n",
    "        for sub_key in dictionnary[key].keys():\n",
    "            if(j==0):\n",
    "                plt.bar(range(len(dictionnary[key][sub_key])), \n",
    "                           dictionnary[key][sub_key].values(),\n",
    "                           label=sub_key,\n",
    "                           tick_label=list(dictionnary[key][sub_key].keys()))\n",
    "                botom=list(dictionnary[key][sub_key].values())\n",
    "            else:\n",
    "                plt.bar(range(len(dictionnary[key][sub_key])), \n",
    "                           dictionnary[key][sub_key].values(),\n",
    "                           label=sub_key,\n",
    "                           tick_label=list(dictionnary[key][sub_key].keys()), \n",
    "                            bottom=botom)\n",
    "                temp=botom\n",
    "                l=list(dictionnary[key][sub_key].values())\n",
    "                botom=[temp[i]+l[i] for i in range(0,min(len(temp),len(l)))]\n",
    "            j+=1\n",
    "        plt.legend(loc='center left', bbox_to_anchor=(1, 0.5))\n",
    "        plt.xticks(rotation=90)\n",
    "        plt.title(title+key)\n",
    "        plt.xlabel(xlabel)\n",
    "        plt.ylabel(ylabel)\n",
    "        plt.show()\n"
   ]
  }
 ],
 "metadata": {
  "kernelspec": {
   "display_name": "Python 3",
   "language": "python",
   "name": "python3"
  },
  "language_info": {
   "codemirror_mode": {
    "name": "ipython",
    "version": 2
   },
   "file_extension": ".py",
   "mimetype": "text/x-python",
   "name": "python",
   "nbconvert_exporter": "python",
   "pygments_lexer": "ipython2",
   "version": "2.7.6"
  },
  "pycharm": {
   "stem_cell": {
    "cell_type": "raw",
    "source": [],
    "metadata": {
     "collapsed": false
    }
   }
  }
 },
 "nbformat": 4,
 "nbformat_minor": 0
}