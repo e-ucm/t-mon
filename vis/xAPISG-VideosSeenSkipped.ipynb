{
 "cells": [
  {
   "cell_type": "code",
   "execution_count": null,
   "metadata": {
    "collapsed": false,
    "pycharm": {
     "is_executing": false,
     "name": "#%%\n"
    }
   },
   "outputs": [],
   "source": [
    "%run vis/xAPISG-noDataToFillVisualization.ipynb # notebook to create the visualisation with a message NoDataToFill\n",
    "%run vis/helpersFunctions/barCharts.ipynb\n",
    "%run vis/helpersFunctions/OrderGraphValuesAndSelectDataByXaxis.ipynb"
   ]
  },
  {
   "cell_type": "markdown",
   "metadata": {
    "collapsed": false,
    "pycharm": {
     "name": "#%% md\n"
    }
   },
   "source": [
    "Selectors :\n",
    "   * xaxisVideo : dropdown value indicating the number of bar per chart (Alls, 5, 25, 50, 10 first, 10 last)\n",
    "   * orderVideo : dropdown value indicating how to order xlabel : alphabetically or by y value (hight to low or low to hight)\n",
    "   * percentageVideoSkipped : checkboxe (T/F) value to display the bar chart in percentage or not\n",
    "   * orderLabelValuesVideo : dropdown value indicating how to order labels : by the sum of the 2 superposed values or by video seen or skipped"
   ]
  },
  {
   "cell_type": "code",
   "execution_count": null,
   "metadata": {
    "collapsed": false,
    "pycharm": {
     "name": "#%%\n"
    }
   },
   "outputs": [],
   "source": [
    "#constructing a dropdown to select how many data we want to see in visualisations for x axis\n",
    "xaxisVideo=widgets.Dropdown(options=[('All data',0),('5 per visualisation',5),('25 per visualisation',25),('50 per visualisation',50),('10 first',-1),('10 last',-2)],\n",
    "                            description='x axis',\n",
    "                            disabled=False)\n",
    "#constructing a dropdown to order for alphabetic keys or for values\n",
    "orderVideo=widgets.Dropdown(options=[('alphabetic',0),('value from highest to lowest',1),('value from lowest to highest',-1)],\n",
    "                            description='Order',\n",
    "                            disabled=False)\n",
    "#constructing a checkboxe to view chart per percentage video skipped\n",
    "percentageVideoSkipped=widgets.Checkbox(value=False,\n",
    "                                        description='Show % per video skipped')\n",
    "#constructing a dropdown value indicating how to order labels : by the sum of the 2 superposed values or by video seen or skipped\n",
    "orderLabelValuesVideo=widgets.Dropdown(options=[(\"Order by all seen and skipped videos values\",0),\n",
    "                                           (\"Order by seens videos values\",\"seen\"),\n",
    "                                           (\"Order by skipped videos values\",\"skipped\")],\n",
    "                                        description='Change order label',\n",
    "                                        disabled=False)"
   ]
  },
  {
   "cell_type": "markdown",
   "metadata": {
    "collapsed": false
   },
   "source": [
    "***vis_videos_seen_skipped* function**:\n",
    "* Output : the widgets selector and the outputVideo in a list to be display in a VBox\n",
    "* outputVideo : display a bar chart showing for each video the total number of times it has been seen and skipped"
   ]
  },
  {
   "cell_type": "code",
   "execution_count": null,
   "metadata": {
    "collapsed": false,
    "pycharm": {
     "name": "#%%\n"
    }
   },
   "outputs": [],
   "source": [
    "def vis_videos_seen_skipped():\n",
    "    def display_video_vis(change):\n",
    "        if orderVideo.value==0 or percentageVideoSkipped.value:\n",
    "            orderLabelValuesVideo.layout=layout_hidden\n",
    "        else:\n",
    "            orderLabelValuesVideo.layout=layout_visible\n",
    "        with outputVideo:\n",
    "            clear_output(wait=False)\n",
    "            construct_graph_video()\n",
    "            clear_output(wait=True)\n",
    "    xaxisVideo.observe(display_video_vis, 'value')\n",
    "    orderVideo.observe(display_video_vis, 'value')\n",
    "    percentageVideoSkipped.observe(display_video_vis, 'value')\n",
    "    orderLabelValuesVideo.observe(display_video_vis, 'value')\n",
    "    display_video_vis(None)\n",
    "    return [percentageVideoSkipped, xaxisVideo, orderVideo, orderLabelValuesVideo, outputVideoUpdate, outputVideo]"
   ]
  },
  {
   "cell_type": "markdown",
   "metadata": {
    "collapsed": false
   },
   "source": [
    "***construct_graph_video* function**:\n",
    "\n",
    "Output : Displays bar chart showing for each video the total number of times it has been seen and skipped"
   ]
  },
  {
   "cell_type": "code",
   "execution_count": null,
   "metadata": {
    "collapsed": false,
    "pycharm": {
     "name": "#%%\n"
    }
   },
   "outputs": [],
   "source": [
    "def construct_graph_video():\n",
    "    #get all players and videos selected\n",
    "    playersSelected=checkboxesPlayersSelected.get_selected_options()\n",
    "    videosSelected=checkboxesVideoSelected.get_selected_options()\n",
    "    if len(videosSelected)>0 and len(playersSelected)>0:\n",
    "        if xaxisVideo.value in [0,-1,-2]:\n",
    "            nbgraph=1\n",
    "        else:\n",
    "            div=len(videosSelected)/xaxisVideo.value\n",
    "            nbgraph=math.ceil(div)\n",
    "        accordionVideo=widgets.Accordion(children=[widgets.Output() for i in range(nbgraph)],\n",
    "                                         selected_index=None)\n",
    "        if nbgraph>1:\n",
    "            for i in range(nbgraph):\n",
    "                accordionVideo.set_title(i, str(i+1)+\"/\"+str(nbgraph))\n",
    "        display(accordionVideo)\n",
    "        def on_selected_index_video_change(change):\n",
    "            n=change['new']\n",
    "            if n!=None:\n",
    "                #close and clear previous fig of videos\n",
    "                for fig in figVideoSkipped:\n",
    "                    plt.close(fig=fig)\n",
    "                figVideoSkipped.clear()\n",
    "                #get all players and videos selected\n",
    "                playersSelected=checkboxesPlayersSelected.get_selected_options()\n",
    "                videosSelected=checkboxesVideoSelected.get_selected_options()\n",
    "                #dict with seen and skipped video\n",
    "                videos_seen = {}\n",
    "                videos_skipped = {}\n",
    "                for player in playersSelected:\n",
    "                    # videos seen\n",
    "                    for video_seen in players_info[player][\"videos_seen\"]:\n",
    "                        if video_seen in videosSelected:\n",
    "                            if video_seen in videos_seen.keys():\n",
    "                                videos_seen[video_seen] += 1\n",
    "                            else:\n",
    "                                videos_seen[video_seen] = 1\n",
    "                            if video_seen not in videos_skipped.keys():\n",
    "                                videos_skipped[video_seen] = 0\n",
    "                    # videos skipped\n",
    "                    for video_skipped in players_info[player][\"videos_skipped\"]:\n",
    "                        if video_skipped in videosSelected:\n",
    "                            if video_skipped in videos_skipped.keys():\n",
    "                                videos_skipped[video_skipped] += 1\n",
    "                            else:\n",
    "                                videos_skipped[video_skipped] = 1\n",
    "                            if video_skipped not in videos_seen.keys():\n",
    "                                videos_seen[video_skipped] = 0\n",
    "                            else:\n",
    "                                videos_seen[video_skipped] -= 1\n",
    "                #reorganize all in a dictionary\n",
    "                videosseenskipped={}\n",
    "                for video in videosSelected:\n",
    "                    if video in videos_seen.keys():\n",
    "                        videosseenskipped[video]={\"seen\":videos_seen[video],\"skipped\":videos_skipped[video]}\n",
    "                    else:\n",
    "                        videosseenskipped[video]={\"seen\":0,\"skipped\":0}\n",
    "                #define order of labels values\n",
    "                if orderLabelValuesVideo.value==0:\n",
    "                    lambdafunc=lambda item:item[1][\"seen\"]+item[1][\"skipped\"]\n",
    "                else:\n",
    "                    lambdafunc=lambda item:item[1][orderLabelValuesVideo.value]\n",
    "                if percentageVideoSkipped.value:\n",
    "                    lambdafunc=lambda item:item[1][\"skipped\"]/(item[1][\"seen\"]+item[1][\"skipped\"])\n",
    "                #order alls values\n",
    "                videosseenskipped = orderDict(videosseenskipped,orderVideo.value,lambdafunc)\n",
    "                #separe in sub dict in function of xaxis dropout selected\n",
    "                nbgraphshown, videosseenskipped,N = organizeDictPerxAxisSelected(videos_seen,xaxisVideo.value, videosseenskipped)\n",
    "                # Bar chart showing for each video\n",
    "                # the total number of times it has been seen and skipped\n",
    "                #get value for video seen and skipped\n",
    "                v_seen=[videosseenskipped[n][video][\"seen\"] for video in videosseenskipped[n].keys()]\n",
    "                v_skipped=[videosseenskipped[n][video][\"skipped\"] for video in videosseenskipped[n].keys()]\n",
    "                v_list=[video for video in videosseenskipped[n].keys()]\n",
    "                #create output for this graph\n",
    "                with accordionVideo.children[n]:\n",
    "                    clear_output(wait=False)\n",
    "                    #create new fig with custom name in the tab\n",
    "                    name=filename+\"_videos_seen_skipped\"\n",
    "                    if percentageVideoSkipped.value:\n",
    "                        name+=\"_percentage_skipped\"\n",
    "                    if nbgraphshown>1:\n",
    "                        name+=\"_\"+str(n+1)+\"_\"+str(nbgraphshown)\n",
    "                    fig=plt.figure(num=name, constrained_layout=True)\n",
    "                    fig.canvas.header_visible = False\n",
    "                    fig.canvas.layout.min_height = '400px'\n",
    "                    figVideoSkipped.append(fig)\n",
    "                    #display graph\n",
    "                    if percentageVideoSkipped.value:\n",
    "                        #display percentage bar\n",
    "                        get_percentage_bar(v_skipped, v_seen, v_list)\n",
    "                        plt.ylabel(\"Percentage of videos skipped\")\n",
    "                    else:\n",
    "                        #display superposed graph\n",
    "                        if n<nbgraphshown-1:\n",
    "                            ind = np.arange(N)\n",
    "                        else:\n",
    "                            ind= np.arange(len(v_list))\n",
    "                        get_two_superposed_values_bars(ind,v_list,\n",
    "                                                        v_seen, \"Seen\",'orange',\n",
    "                                                        v_skipped, \"Seen but skipped\",'lightblue')\n",
    "                    #orient xticks\n",
    "                    plt.xticks(rotation=45, ha=\"right\")\n",
    "                    #add xlabel and title\n",
    "                    plt.xlabel(\"Video\")\n",
    "                    plt.title(\"Videos seen and skipped by players\")\n",
    "                    plt.show()\n",
    "        accordionVideo.observe(on_selected_index_video_change, 'selected_index')\n",
    "        accordionVideo.selected_index=0\n",
    "    else:\n",
    "        #create new fig with custom name in the tab\n",
    "        name=filename+\"_videos_seen_skipped\"\n",
    "        if percentageVideoSkipped.value:\n",
    "            name+=\"_percentage_skipped\"\n",
    "        fig=plt.figure(num=name, constrained_layout=True)\n",
    "        fig.canvas.header_visible = False\n",
    "        fig.canvas.layout.min_height = '400px'\n",
    "        figVideoSkipped.append(fig)\n",
    "        noDataToFillVis(10)\n",
    "        #orient xticks\n",
    "        plt.xticks(rotation=45, ha=\"right\")\n",
    "        #add xlabel and title\n",
    "        plt.xlabel(\"Video\")\n",
    "        if percentageVideoSkipped.value:\n",
    "            plt.ylabel(\"Percentage of videos skipped\")\n",
    "        else:\n",
    "            plt.ylabel(\"Number of times\")\n",
    "        plt.title(\"Videos seen and skipped by players\")\n",
    "        plt.show()\n",
    "    with outputVideoUpdate:\n",
    "        clear_output(wait=False)"
   ]
  }
 ],
 "metadata": {
  "kernelspec": {
   "display_name": "Python 3",
   "language": "python",
   "name": "python3"
  },
  "language_info": {
   "codemirror_mode": {
    "name": "ipython",
    "version": 3
   },
   "file_extension": ".py",
   "mimetype": "text/x-python",
   "name": "python",
   "nbconvert_exporter": "python",
   "pygments_lexer": "ipython3",
   "version": "3.7.6"
  }
 },
 "nbformat": 4,
 "nbformat_minor": 4
}
