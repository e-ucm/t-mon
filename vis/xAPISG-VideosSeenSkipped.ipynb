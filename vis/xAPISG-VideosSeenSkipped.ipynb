{
 "cells": [
  {
   "cell_type": "code",
   "execution_count": null,
   "outputs": [],
   "source": [
    "%run vis/xAPISG-noDataToFillVisualization.ipynb # notebook to create the visualisation with a message NoDataToFill"
   ],
   "metadata": {
    "collapsed": false,
    "pycharm": {
     "name": "#%%\n"
    }
   }
  },
  {
   "cell_type": "markdown",
   "source": [
    "***vis_videos_seen_skipped* function**:\n",
    "* Input: players_info dictionary\n",
    "* Displays bar chart showing for each video the total number of times it has been seen and skipped"
   ],
   "metadata": {
    "collapsed": false
   }
  },
  {
   "cell_type": "code",
   "execution_count": null,
   "outputs": [],
   "source": [
    "def vis_videos_seen_skipped (players_info):\n",
    "    videos_seen = {}\n",
    "    videos_skipped = {}\n",
    "\n",
    "    for player in players_info.keys():\n",
    "        # videos seen\n",
    "        for video_seen in players_info[player][\"videos_seen\"]:\n",
    "            if video_seen in videos_seen.keys():\n",
    "                videos_seen[video_seen] += 1\n",
    "            else:\n",
    "                videos_seen[video_seen] = 1\n",
    "            if video_seen not in videos_skipped.keys():\n",
    "                videos_skipped[video_seen] = 0\n",
    "        # videos skipped\n",
    "        for video_skipped in players_info[player][\"videos_skipped\"]:\n",
    "            if video_skipped in videos_skipped.keys():\n",
    "                videos_skipped[video_skipped] += 1\n",
    "            else:\n",
    "                videos_skipped[video_skipped] = 1\n",
    "            if video_skipped not in videos_seen.keys():\n",
    "                videos_seen[video_skipped] = 0\n",
    "            else:\n",
    "                videos_seen[video_skipped] -= 1\n",
    "                \n",
    "    # Bar chart showing for each video\n",
    "    # the total number of times it has been seen and skipped\n",
    "    N = len(videos_seen)\n",
    "    if N>0:\n",
    "        ind = np.arange(N)\n",
    "        width = 0.35\n",
    "        list_seen=list(videos_seen.values())\n",
    "        list_skipped=list(videos_skipped.values())\n",
    "        max=0\n",
    "        for i in range(len(list_seen)):\n",
    "            temp=list_seen[i]+list_skipped[i]\n",
    "            if temp>max:\n",
    "                max=temp\n",
    "        max+=0.5\n",
    "        p1 = plt.bar(ind, list_seen, width, color='orange', label='Seen')\n",
    "        p2 = plt.bar(ind, list_skipped, width, color='lightblue', label='Seen but skipped', bottom=list_seen)\n",
    "        plt.xticks(ind, videos_seen.keys(),rotation=90)\n",
    "        plt.legend(loc='center left', bbox_to_anchor=(1, 0.5))\n",
    "        plt.ylim(0,max)\n",
    "    else:\n",
    "        noDataToFillVis(10)\n",
    "    plt.xticks(rotation=45, ha=\"right\")\n",
    "    plt.xlabel(\"Video\")\n",
    "    plt.ylabel(\"Number of times\")\n",
    "    plt.title(\"Videos seen and skipped by players\")\n",
    "    plt.show()"
   ],
   "metadata": {
    "collapsed": false,
    "pycharm": {
     "name": "#%%\n"
    }
   }
  }
 ],
 "metadata": {
  "kernelspec": {
   "display_name": "Python 3",
   "language": "python",
   "name": "python3"
  },
  "language_info": {
   "codemirror_mode": {
    "name": "ipython",
    "version": 3
   },
   "file_extension": ".py",
   "mimetype": "text/x-python",
   "name": "python",
   "nbconvert_exporter": "python",
   "pygments_lexer": "ipython3",
   "version": "3.7.6"
  },
  "pycharm": {
   "stem_cell": {
    "cell_type": "raw",
    "source": [],
    "metadata": {
     "collapsed": false
    }
   }
  }
 },
 "nbformat": 4,
 "nbformat_minor": 4
}