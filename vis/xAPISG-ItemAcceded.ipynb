{
 "cells": [
  {
   "cell_type": "markdown",
   "source": [
    "***vis_items_times* function**:\n",
    "* Input: players_info dictionary\n",
    "* Displays bar chart showing for each item the number of use by players"
   ],
   "metadata": {
    "collapsed": false
   }
  },
  {
   "cell_type": "code",
   "execution_count": 3,
   "outputs": [],
   "source": [
    "def vis_items_times(players_info):\n",
    "    # find full list of items\n",
    "    items=set()\n",
    "    for player in players_info.keys():\n",
    "        for type in players_info[player][\"interactions\"].keys():\n",
    "            if players_info[player][\"interactions\"][type] != {}:                \n",
    "                items = items.union(players_info[player][\"interactions\"][type].keys())\n",
    "    items = list(items)\n",
    "\n",
    "    # nber of item per player\n",
    "    nbitems={}\n",
    "    for player in players_info.keys():\n",
    "        nbitems[player]={}\n",
    "        for i in items:\n",
    "            nb=0\n",
    "            if type in players_info[player][\"interactions\"].keys():\n",
    "                for item in players_info[player][\"interactions\"][type].keys():\n",
    "                    if item==i:\n",
    "                        nb+=len(players_info[player][\"interactions\"][type][item])\n",
    "            nbitems[player][i]=nb\n",
    "    print(nbitems)\n",
    "\n",
    "    \n",
    "    # Multiple bar chart showing the items selected for each personn.\n",
    "    number_of_plots = len(nbitems)\n",
    "    xfigsize=len(items)\n",
    "    yfigsize=len(players_info.keys())*5\n",
    "    print(xfigsize)\n",
    "    print(yfigsize)\n",
    "    if xfigsize!=0:\n",
    "        fig, axs = plt.subplots(number_of_plots, figsize=(xfigsize,yfigsize), sharex=True)\n",
    "        i = 0\n",
    "        for pers in nbitems.keys():\n",
    "            if len(nbitems[pers])>0:\n",
    "                axs[i].bar(range(len(nbitems[pers])), \n",
    "                           nbitems[pers].values(),\n",
    "                           tick_label=list(nbitems[pers].keys()))\n",
    "                axs[i].set_title('Item selected by '+pers,fontsize=50)\n",
    "                i += 1\n",
    "        # Hide x labels and tick labels for top plots and y ticks for right plots.\n",
    "        for ax in axs.flat:\n",
    "            ax.label_outer()\n",
    "            for tick in ax.yaxis.get_majorticklabels():\n",
    "                tick.set_fontsize(35)\n",
    "        plt.xticks(rotation=90, fontsize=45)\n",
    "        plt.tight_layout(pad=0.4, w_pad=0.5, h_pad=1.0)\n",
    "        plt.show()\n"
   ],
   "metadata": {
    "collapsed": false,
    "pycharm": {
     "name": "#%%\n",
     "is_executing": false
    }
   }
  },
  {
   "cell_type": "code",
   "execution_count": null,
   "outputs": [],
   "source": [
    "\n"
   ],
   "metadata": {
    "collapsed": false,
    "pycharm": {
     "name": "#%%\n"
    }
   }
  }
 ],
 "metadata": {
  "kernelspec": {
   "display_name": "Python 3",
   "language": "python",
   "name": "python3"
  },
  "language_info": {
   "codemirror_mode": {
    "name": "ipython",
    "version": 2
   },
   "file_extension": ".py",
   "mimetype": "text/x-python",
   "name": "python",
   "nbconvert_exporter": "python",
   "pygments_lexer": "ipython2",
   "version": "2.7.6"
  },
  "pycharm": {
   "stem_cell": {
    "cell_type": "raw",
    "source": [],
    "metadata": {
     "collapsed": false
    }
   }
  }
 },
 "nbformat": 4,
 "nbformat_minor": 0
}