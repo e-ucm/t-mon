{
 "cells": [
  {
   "cell_type": "code",
   "execution_count": null,
   "outputs": [],
   "source": [
    "%run vis/xAPISG-noDataToFillVisualization.ipynb # notebook to create the visualisation with a message NoDataToFill"
   ],
   "metadata": {
    "collapsed": false,
    "pycharm": {
     "name": "#%%\n"
    }
   }
  },
  {
   "cell_type": "markdown",
   "metadata": {},
   "source": [
    "***vis_players_progress* function**:\n",
    "* Input: players_info dictionary\n",
    "* Displays line chart showing progress over time for each player"
   ]
  },
  {
   "cell_type": "code",
   "execution_count": 1,
   "metadata": {},
   "outputs": [],
   "source": [
    "def vis_players_progress (players_info):\n",
    "    empty=True\n",
    "    for player in players_info.keys():\n",
    "        if players_info[player][\"game_progress_per_time\"] != []:\n",
    "            progress_time = list(zip(*players_info[player][\"game_progress_per_time\"]))\n",
    "            y = [i*100 for i in progress_time[0]]\n",
    "            x = progress_time[1]\n",
    "            plt.plot(x,y, label=player) # one line chart per player showing progress over time\n",
    "            empty=False\n",
    "    if not empty:\n",
    "        plt.legend(loc='center left', bbox_to_anchor=(1, 0.5))\n",
    "        plt.gca().xaxis.set_major_formatter(mdates.DateFormatter('%H:%M:%S %d-%m-%y'))\n",
    "        plt.gca().xaxis.set_major_locator(mdates.MinuteLocator(interval=5))\n",
    "        plt.yticks(np.arange(0,101,10))\n",
    "    else:\n",
    "        noDataToFillVis(100)\n",
    "    plt.xticks(rotation=45, ha=\"right\")\n",
    "    plt.title(\"Progress (in %) of players by time\")\n",
    "    plt.ylabel('Progress (in %)')\n",
    "    plt.xlabel('Date')\n",
    "    plt.show()"
   ]
  }
 ],
 "metadata": {
  "kernelspec": {
   "display_name": "Python 3",
   "language": "python",
   "name": "python3"
  },
  "language_info": {
   "codemirror_mode": {
    "name": "ipython",
    "version": 3
   },
   "file_extension": ".py",
   "mimetype": "text/x-python",
   "name": "python",
   "nbconvert_exporter": "python",
   "pygments_lexer": "ipython3",
   "version": "3.7.6"
  }
 },
 "nbformat": 4,
 "nbformat_minor": 4
}
