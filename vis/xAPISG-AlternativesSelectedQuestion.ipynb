{
 "cells": [
  {
   "cell_type": "code",
   "execution_count": null,
   "metadata": {
    "collapsed": false,
    "pycharm": {
     "name": "#%%\n"
    }
   },
   "outputs": [],
   "source": [
    "%run vis/xAPISG-noDataToFillVisualization.ipynb # notebook to create the visualisation with a message NoDataToFill\n",
    "%run vis/helpersFunctions/barCharts.ipynb\n",
    "%run vis/helpersFunctions/OrderGraphValuesAndSelectDataByXaxis.ipynb"
   ]
  },
  {
   "cell_type": "markdown",
   "metadata": {
    "pycharm": {
     "name": "#%% md\n"
    }
   },
   "source": [
    "***vis_alternatives_selected_question* function**:\n",
    "* Output : the widgets selector and the outputAlternativeQuestion in a list to be display in a VBox\n",
    "* outputAlternativeQuestion : display a bar chart showing the alternatives selcted in each multiple-choice question"
   ]
  },
  {
   "cell_type": "code",
   "execution_count": null,
   "metadata": {
    "collapsed": false,
    "pycharm": {
     "name": "#%%\n"
    }
   },
   "outputs": [],
   "source": [
    "def vis_alternatives_selected_question():\n",
    "    #constructing a dropdown to order for alphabetic keys or for values\n",
    "    orderAlternative=widgets.Dropdown(options=[('alphabetic',0),('value from highest to lowest',1),('value from lowest to highest',-1)],\n",
    "                                description='Order',\n",
    "                                disabled=False)\n",
    "    def display_alternatives_selected_question(change):\n",
    "        with outputAlternativeQuestion:\n",
    "            clear_output(wait=False)\n",
    "            alternatives_selected_question(orderAlternative.value)\n",
    "            clear_output(wait=True)\n",
    "    orderAlternative.observe(display_alternatives_selected_question, 'value')\n",
    "    display_alternatives_selected_question(None)\n",
    "    return [orderAlternative, outputAlternativeQuestionUpdate, outputAlternativeQuestion]"
   ]
  },
  {
   "cell_type": "markdown",
   "metadata": {
    "collapsed": false
   },
   "source": [
    "***alternatives_selected_question* function**:\n",
    "\n",
    "Input:\n",
    "   * order : dropdown value indicating how to order xlabel : alphabetically or by y value (hight to low or low to hight)\n",
    "\n",
    "Output : Displays bar chart showing the alternatives selcted in each multiple-choice question"
   ]
  },
  {
   "cell_type": "code",
   "execution_count": null,
   "metadata": {
    "collapsed": false,
    "pycharm": {
     "name": "#%%\n"
    }
   },
   "outputs": [],
   "source": [
    "def alternatives_selected_question(order):\n",
    "    #close and clear previous fig of altenatives\n",
    "    for fig in figResPerAlt:\n",
    "        plt.close(fig=fig)\n",
    "    figResPerAlt.clear()\n",
    "    playersSelected=checkboxesPlayersSelected.get_selected_options()\n",
    "    alternatives_list_selected=checkboxesAlternativeSelected.get_selected_options()\n",
    "    if len(alternatives_list_selected)>0 and len(playersSelected)>0:\n",
    "        accordion_alternatives=widgets.Accordion(children=[widgets.Output() for key in alternatives_list_selected],\n",
    "                                                 selected_index=None)\n",
    "        i=0\n",
    "        for alternative in alternatives_list_selected:\n",
    "            accordion_alternatives.set_title(i, \"Responses selected to question \"+ alternative)\n",
    "            i+=1\n",
    "        display(accordion_alternatives)\n",
    "        def on_selected_index_alternative_change(change):\n",
    "            new=change['new']\n",
    "            if new!=None:\n",
    "                #close and clear previous fig of altenatives\n",
    "                for fig in figResPerAlt:\n",
    "                    plt.close(fig=fig)\n",
    "                figResPerAlt.clear()\n",
    "                #get all players and alternatives selected\n",
    "                playersSelected=checkboxesPlayersSelected.get_selected_options()\n",
    "                alternatives_list_selected=checkboxesAlternativeSelected.get_selected_options()\n",
    "                alt=alternatives_list_selected[new]\n",
    "                # responses per alternative\n",
    "                selected_per_alternative = {}\n",
    "                total_max=[]\n",
    "                i=0\n",
    "                selected = []\n",
    "                total_max.insert(i, 0)\n",
    "                for player in playersSelected:\n",
    "                    if alt in players_info[player][\"alternatives\"].keys():\n",
    "                        alternative, _ = zip(*players_info[player][\"alternatives\"][alt])\n",
    "                        alternative=list(alternative)\n",
    "                        selected.extend(alternative)\n",
    "                selected_per_alternative[alt] = Counter(selected)\n",
    "                for res in selected_per_alternative[alt].values():\n",
    "                    if res>total_max[i]:\n",
    "                        total_max[i]=res\n",
    "                total_max[i]+=0.5\n",
    "                i+=1\n",
    "                #Good answer per alternative\n",
    "                goodAnswer=[]\n",
    "                for player in players_info.keys():\n",
    "                    if alt in players_info[player][\"alternatives\"].keys():\n",
    "                        for (answer, success) in players_info[player][\"alternatives\"][alt]:\n",
    "                            if success in ['True', True]:\n",
    "                                goodAnswer.append(answer)\n",
    "                #order alls values\n",
    "                selected_per_alternative = orderDictByDictValues(selected_per_alternative,order)\n",
    "                with accordion_alternatives.children[new]:\n",
    "                    clear_output(wait=False)\n",
    "                    #create new fig with custom name in the tab\n",
    "                    name=filename+\"_selected_answers_per_questions_\"+str(alt)\n",
    "                    fig = plt.figure(num=name, constrained_layout=True)\n",
    "                    fig.canvas.header_visible = False\n",
    "                    fig.canvas.layout.min_height = '400px'\n",
    "                    figResPerAlt.append(fig)\n",
    "                    #display bar chart\n",
    "                    barlist=plt.bar(range(len(selected_per_alternative[alt])),\n",
    "                           selected_per_alternative[alt].values(),\n",
    "                           tick_label=list(selected_per_alternative[alt].keys()))\n",
    "                    add_value_labels(barlist)\n",
    "                    plt.title('Responses selected to question '+alt)\n",
    "                    j=0\n",
    "                    for answer in selected_per_alternative[alt].keys():\n",
    "                        if answer in goodAnswer:\n",
    "                            barlist[j].set_color('g')\n",
    "                        else:\n",
    "                            barlist[j].set_color('r')\n",
    "                        j+=1\n",
    "                    plt.yticks(np.arange(0, total_max[0], 1))\n",
    "                    plt.ylim(0,total_max[0])\n",
    "                    #add axes labels and title\n",
    "                    plt.xlabel(\"Responses selected\")\n",
    "                    plt.ylabel(\"Number of responses\")\n",
    "                    #orient xticks\n",
    "                    plt.xticks(rotation=90)\n",
    "                    plt.show()\n",
    "        accordion_alternatives.observe(on_selected_index_alternative_change, 'selected_index')\n",
    "    else:\n",
    "        #create new fig with custom name in the tab\n",
    "        name=filename+\"_selected_answers_per_questions\"\n",
    "        fig = plt.figure(num=name, constrained_layout=True)\n",
    "        figResPerAlt.append(fig)\n",
    "        #display no data to fill vis\n",
    "        noDataToFillVis(100)\n",
    "        #add axes labels and title\n",
    "        plt.title(\"Responses selected to question\")\n",
    "        plt.xlabel(\"Responses selected\")\n",
    "        plt.ylabel(\"Number of responses\")\n",
    "        plt.show()\n",
    "    with outputAlternativeQuestionUpdate:\n",
    "        clear_output(wait=False)"
   ]
  }
 ],
 "metadata": {
  "kernelspec": {
   "display_name": "Python 3",
   "language": "python",
   "name": "python3"
  },
  "language_info": {
   "codemirror_mode": {
    "name": "ipython",
    "version": 3
   },
   "file_extension": ".py",
   "mimetype": "text/x-python",
   "name": "python",
   "nbconvert_exporter": "python",
   "pygments_lexer": "ipython3",
   "version": "3.7.6"
  }
 },
 "nbformat": 4,
 "nbformat_minor": 4
}
