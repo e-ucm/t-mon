{
 "cells": [
  {
   "cell_type": "code",
   "execution_count": null,
   "metadata": {
    "collapsed": true
   },
   "outputs": [],
   "source": [
    "%run vis/xAPISG-noDataToFillVisualization.ipynb # notebook to create the visualisation with a message NoDataToFill\n",
    "%run vis/helpersFunctions/barCharts.ipynb\n",
    "%run vis/helpersFunctions/OrderGraphValuesAndSelectDataByXaxis.ipynb"
   ]
  },
  {
   "cell_type": "markdown",
   "metadata": {
    "collapsed": false
   },
   "source": [
    "Selectors :\n",
    "   * percentagePerAlternative : checkboxe (T/F) value to display the bar chart in percentage or not\n",
    "   * xaxisAlternativeResAlt : dropdown value indicating the number of bar per chart (Alls, 5, 25, 50, 10 first, 10 last)\n",
    "   * orderAlternativeResAlt : dropdown value indicating how to order xlabel : alphabetically or by y value (hight to low or low to hight)\n",
    "   * orderLabelValuesAlternativeResAlt : dropdown value indicating how to order labels : by the sum of the 2 superposed values or by true or false response"
   ]
  },
  {
   "cell_type": "code",
   "execution_count": null,
   "metadata": {
    "collapsed": false,
    "pycharm": {
     "name": "#%%\n"
    }
   },
   "outputs": [],
   "source": [
    "#constructing a dropdown to select how many data we want to see in visualisations for x axis\n",
    "xaxisAlternativeResAlt=widgets.Dropdown(options=[('All data',0),('5 per visualisation',5),('25 per visualisation',25),('50 per visualisation',50),('10 first',-1),('10 last',-2)],\n",
    "                            description='x axe',\n",
    "                            disabled=False)\n",
    "\n",
    "#constructing a dropdown to order for alphabetic keys or for values\n",
    "orderAlternativeResAlt=widgets.Dropdown(options=[('alphabetic',0),('value from highest to lowest',1),('value from lowest to highest',-1)],\n",
    "                            description='Order',\n",
    "                            disabled=False)\n",
    "\n",
    "#constructing a checkboxe to view chart per percentage per alternative\n",
    "percentageAlternativeResAlt=widgets.Checkbox(value=False,\n",
    "                                        description='Show % per alternative')\n",
    "\n",
    "#constructing a dropdown value indicating how to order labels : by the sum of the 2 superposed values or by true or false response\n",
    "orderLabelValuesAlternativeResAlt=widgets.Dropdown(options=[(\"Order by all true and false responses values\",0),\n",
    "                                                (\"Order by true responses values\",\"true\"),\n",
    "                                                (\"Order by false responses values\",\"false\")],\n",
    "                                        description='Change order label',\n",
    "                                        disabled=False)"
   ]
  },
  {
   "cell_type": "markdown",
   "metadata": {
    "collapsed": false
   },
   "source": [
    "***vis_correct_incorrect_question* function**:\n",
    "* Output : the widgets selector and the outputResPerAlt in a list to be display in a VBox\n",
    "* outputResPerAlt : a bar chart showing the total number of correct and incorrect alternatives selected by players in each multiple-choice question"
   ]
  },
  {
   "cell_type": "code",
   "execution_count": null,
   "metadata": {
    "collapsed": false,
    "pycharm": {
     "is_executing": false,
     "name": "#%%\n"
    }
   },
   "outputs": [],
   "source": [
    "def vis_correct_incorrect_question():\n",
    "    def display_correct_incorrect_question(change):\n",
    "        if orderAlternativeResAlt.value==0 or percentageAlternativeResAlt.value:\n",
    "            orderLabelValuesAlternativeResAlt.layout=layout_hidden\n",
    "        else:\n",
    "            orderLabelValuesAlternativeResAlt.layout=layout_visible\n",
    "        with outputResPerAlt:\n",
    "            clear_output(wait=False)\n",
    "            correct_incorrect_question()\n",
    "            clear_output(wait=True)\n",
    "    xaxisAlternativeResAlt.observe(display_correct_incorrect_question, 'value')\n",
    "    orderAlternativeResAlt.observe(display_correct_incorrect_question, 'value')\n",
    "    percentageAlternativeResAlt.observe(display_correct_incorrect_question, 'value')\n",
    "    orderLabelValuesAlternativeResAlt.observe(display_correct_incorrect_question, 'value')\n",
    "    display_correct_incorrect_question(None)\n",
    "    return [percentageAlternativeResAlt,\n",
    "            xaxisAlternativeResAlt,\n",
    "            orderAlternativeResAlt,\n",
    "            orderLabelValuesAlternativeResAlt,\n",
    "            outputResPerAltUpdate,\n",
    "            outputResPerAlt]"
   ]
  },
  {
   "cell_type": "markdown",
   "metadata": {
    "collapsed": false
   },
   "source": [
    "***correct_incorrect_question* function**:\n",
    "\n",
    "Output :  Displays bar chart showing for each user the number of correct and incorrect alternatives selected in multiple-choice questions"
   ]
  },
  {
   "cell_type": "code",
   "execution_count": null,
   "metadata": {
    "collapsed": false,
    "pycharm": {
     "name": "#%%\n"
    }
   },
   "outputs": [],
   "source": [
    "def correct_incorrect_question():\n",
    "    #get all players and alternatives selected\n",
    "    playersSelected=checkboxesPlayersSelected.get_selected_options()\n",
    "    alternatives_list_selected=checkboxesAlternativeSelected.get_selected_options()\n",
    "    if len(alternatives_list_selected)>0 and len(playersSelected)>0:\n",
    "        if xaxisAlternativeResAlt.value in [0,-1,-2]:\n",
    "            nbgraph=1\n",
    "        else:\n",
    "            div=len(alternatives_list_selected)/xaxisAlternativeResAlt.value\n",
    "            nbgraph=math.ceil(div)\n",
    "        accordionResPerQuestion=widgets.Accordion(children=[widgets.Output() for i in range(nbgraph)],\n",
    "                                         selected_index=None)\n",
    "        if nbgraph>1:\n",
    "            for i in range(nbgraph):\n",
    "                accordionResPerQuestion.set_title(i, str(i+1)+\"/\"+str(nbgraph))\n",
    "        display(accordionResPerQuestion)\n",
    "        def on_selected_index_ResPerQuestion_change(change):\n",
    "            n=change['new']\n",
    "            if n!=None:\n",
    "                #close and clear previous fig of alternatives\n",
    "                for fig in figAltQuestion:\n",
    "                    plt.close(fig=fig)\n",
    "                figAltQuestion.clear()\n",
    "                #get all players and alternatives selected\n",
    "                playersSelected=checkboxesPlayersSelected.get_selected_options()\n",
    "                alternatives_list_selected=checkboxesAlternativeSelected.get_selected_options()\n",
    "                # alternatives correct and incorrect responses\n",
    "                true_false_per_alternative = {}\n",
    "                alt_max=0\n",
    "                if len(alternatives_list_selected)>0:\n",
    "                    for alt in alternatives_list_selected:\n",
    "                        true_false_per_alternative[alt] = {}\n",
    "                        alt_true = 0\n",
    "                        alt_false = 0\n",
    "                        for player in playersSelected:\n",
    "                            if alt in players_info[player][\"alternatives\"].keys():\n",
    "                                _, results = zip(*players_info[player][\"alternatives\"][alt])\n",
    "                                alt_true += results.count(\"True\") +results.count(True)\n",
    "                                alt_false += results.count(\"False\") +results.count(False)\n",
    "                                if alt_true+alt_false>alt_max:\n",
    "                                    alt_max=alt_true+alt_false\n",
    "                        true_false_per_alternative[alt][\"true\"]=alt_true\n",
    "                        true_false_per_alternative[alt][\"false\"]=alt_false\n",
    "                    alt_max+=0.5\n",
    "                #define order of labels values\n",
    "                if orderLabelValuesAlternativeResAlt.value==0:\n",
    "                    lambdafunc=lambda item:item[1][\"true\"]+item[1][\"false\"]\n",
    "                else:\n",
    "                    lambdafunc=lambda item:item[1][orderLabelValuesAlternativeResAlt.value]\n",
    "                if percentageAlternativeResAlt.value:\n",
    "                    lambdafunc=lambda item:item[1][\"true\"]/(item[1][\"true\"]+item[1][\"false\"])\n",
    "                #order alls values\n",
    "                true_false_per_alternative = orderDict(true_false_per_alternative,orderAlternativeResAlt.value,lambdafunc)\n",
    "                #separe in sub dict in  function of xaxis dropout selected\n",
    "                nbgraphshown, true_false_per_alternative,N = organizeDictPerxAxisSelected(playersSelected,xaxisAlternativeResAlt.value, true_false_per_alternative)\n",
    "                with accordionResPerQuestion.children[n]:\n",
    "                    #get value for true and false answer for this graph\n",
    "                    true_per_alternative=[true_false_per_alternative[n][alt][\"true\"] for alt in true_false_per_alternative[n].keys()]\n",
    "                    false_per_alternative=[true_false_per_alternative[n][alt][\"false\"] for alt in true_false_per_alternative[n].keys()]\n",
    "                    list_alt=[alt for alt in true_false_per_alternative[n].keys()]\n",
    "                    if n<nbgraphshown-1:\n",
    "                        ind = np.arange(N)\n",
    "                    else:\n",
    "                        ind = np.arange(len(list_alt))\n",
    "                    #create new fig with custom name in the tab\n",
    "                    name=filename+ \"_correct_incorrect_per_question\"\n",
    "                    if nbgraphshown>1:\n",
    "                        name+=\"_\"+str(n+1)+\"_\"+str(nbgraphshown)\n",
    "                    fig = plt.figure(num=name, constrained_layout=True)\n",
    "                    fig.canvas.header_visible = False\n",
    "                    fig.canvas.layout.min_height = '400px'\n",
    "                    figAltQuestion.append(fig)\n",
    "                    #display graph\n",
    "                    if percentageAlternativeResAlt.value:\n",
    "                        # Bar chart showing the total percentage of incorrect alternatives\n",
    "                        # selected by players in each multiple-choice question\n",
    "                        get_percentage_bar(true_per_alternative,false_per_alternative,list_alt)\n",
    "                        ylabel=\"Percentage of good responses\"\n",
    "                        title=\"Percentage of good responses per alternative\"\n",
    "                    else:\n",
    "                        # Bar chart showing the total number of correct and incorrect alternatives\n",
    "                        # selected by players in each multiple-choice question\n",
    "                        get_two_superposed_values_bars(ind,list_alt,\n",
    "                                       true_per_alternative, \"Correct\",'g',\n",
    "                                       false_per_alternative, \"Incorrect\",'r')\n",
    "                        ylabel=\"Number of responses\"\n",
    "                        title=\"Number of correct and incorrect responses per alternative\"\n",
    "                    #add axes labels and title\n",
    "                    plt.xlabel(\"Alternative\")\n",
    "                    plt.ylabel(ylabel)\n",
    "                    plt.title(title)\n",
    "                    #orient xticks\n",
    "                    plt.xticks(rotation=90)\n",
    "                    plt.show()\n",
    "        accordionResPerQuestion.observe(on_selected_index_ResPerQuestion_change, 'selected_index')\n",
    "        accordionResPerQuestion.selected_index=0\n",
    "    else:\n",
    "        #create new fig with custom name in the tab\n",
    "        name=filename+ \"_correct_incorrect_per_question\"\n",
    "        fig = plt.figure(num=name, constrained_layout=True)\n",
    "        fig.canvas.header_visible = False\n",
    "        fig.canvas.layout.min_height = '400px'\n",
    "        figAltQuestion.append(fig)\n",
    "        #display no data to fill vis\n",
    "        noDataToFillVis(10)\n",
    "        if percentageAlternativeResAlt.value:\n",
    "            ylabel=\"Percentage of good responses\"\n",
    "            title=\"Percentage of good responses per alternative\"\n",
    "        else:\n",
    "            ylabel=\"Number of responses\"\n",
    "            title=\"Number of correct and incorrect responses per alternative\"\n",
    "        #add axes labels and title\n",
    "        plt.xlabel(\"Alternative\")\n",
    "        plt.ylabel(ylabel)\n",
    "        plt.title(title)\n",
    "        plt.show()\n",
    "    with outputResPerAltUpdate:\n",
    "        clear_output(wait=False)"
   ]
  }
 ],
 "metadata": {
  "kernelspec": {
   "display_name": "Python 3",
   "language": "python",
   "name": "python3"
  },
  "language_info": {
   "codemirror_mode": {
    "name": "ipython",
    "version": 2
   },
   "file_extension": ".py",
   "mimetype": "text/x-python",
   "name": "python",
   "nbconvert_exporter": "python",
   "pygments_lexer": "ipython2",
   "version": "2.7.6"
  }
 },
 "nbformat": 4,
 "nbformat_minor": 0
}
