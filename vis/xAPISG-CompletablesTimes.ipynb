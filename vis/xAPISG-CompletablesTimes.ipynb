{
 "cells": [
  {
   "cell_type": "code",
   "execution_count": null,
   "metadata": {
    "collapsed": false,
    "pycharm": {
     "name": "#%%\n"
    }
   },
   "outputs": [],
   "source": [
    "%run vis/xAPISG-noDataToFillVisualization.ipynb # notebook to create the visualisation with a message NoDataToFill\n",
    "%run vis/helpersFunctions/OrderGraphValuesAndSelectDataByXaxis.ipynb\n",
    "%run vis/helpersFunctions/barCharts.ipynb"
   ]
  },
  {
   "cell_type": "markdown",
   "metadata": {
    "collapsed": false,
    "pycharm": {
     "name": "#%% md\n"
    }
   },
   "source": [
    "Selectors :\n",
    "   * xaxisCompletableTime : dropdown value indicating the number of bar per chart (Alls, 5, 25, 50, 10 first, 10 last)"
   ]
  },
  {
   "cell_type": "code",
   "execution_count": null,
   "metadata": {
    "collapsed": false,
    "pycharm": {
     "name": "#%%\n"
    }
   },
   "outputs": [],
   "source": [
    "#constructing a dropdown to select how many data we want to see in visualisations for x axis\n",
    "xaxisCompletableTime=widgets.Dropdown(options=[('All data',0),('5 per visualisation',5),('25 per visualisation',25),('50 per visualisation',50),('10 first',-1),('10 last',-2)],\n",
    "              description='x axis',\n",
    "              disabled=False)"
   ]
  },
  {
   "cell_type": "markdown",
   "metadata": {
    "pycharm": {
     "name": "#%% md\n"
    }
   },
   "source": [
    "***vis_completables_times* function**:\n",
    "* Output : the widgets selector and the outputCompletableTime in a list to be display in a VBox\n",
    "* outputCompletableTime : a bar chart showing for each completable the maximum, minimum and mean time of completion by players"
   ]
  },
  {
   "cell_type": "code",
   "execution_count": null,
   "metadata": {
    "collapsed": false,
    "pycharm": {
     "name": "#%%\n"
    }
   },
   "outputs": [],
   "source": [
    "outputCompletableTime=widgets.Output()\n",
    "def vis_completables_times():\n",
    "\n",
    "    def display_completable_time(change):\n",
    "        with outputCompletableTime:\n",
    "            clear_output(wait=False)\n",
    "            construct_completable_time_bar_chart()\n",
    "            clear_output(wait=True)\n",
    "    xaxisCompletableTime.observe(display_completable_time,'value')\n",
    "    display_completable_time(None)\n",
    "    return [xaxisCompletableTime, outputCompletableTimeUpdate, outputCompletableTime]"
   ]
  },
  {
   "cell_type": "markdown",
   "metadata": {
    "collapsed": false
   },
   "source": [
    "***vis_completables_times* function**:\n",
    "Output : Displays bar chart showing for each completable the maximum, minimum and mean time of completion by players"
   ]
  },
  {
   "cell_type": "code",
   "execution_count": null,
   "metadata": {
    "collapsed": false,
    "pycharm": {
     "name": "#%%\n"
    }
   },
   "outputs": [],
   "source": [
    "def construct_completable_time_bar_chart():\n",
    "    #get all players selected\n",
    "    playersSelected=checkboxesPlayersSelected.get_selected_options()\n",
    "    completablesSelectedCompletableTime=getSublistSelectedFromUnionListSelected(completables_times_list, checkboxesCompletableSelected.get_selected_options())\n",
    "    if len(completablesSelectedCompletableTime)>0 and len(playersSelected)>0:\n",
    "        if xaxisCompletableTime.value in [0,-1,-2]:\n",
    "            nbgraph=1\n",
    "        else:\n",
    "            div=len(completablesSelectedCompletableTime)/xaxisCompletableTime.value\n",
    "            nbgraph=math.ceil(div)\n",
    "        accordionCompletableTime=widgets.Accordion(children=[widgets.Output() for i in range(nbgraph)],\n",
    "                                         selected_index=None)\n",
    "        if nbgraph>1:\n",
    "            for i in range(nbgraph):\n",
    "                accordionCompletableTime.set_title(i, str(i+1)+\"/\"+str(nbgraph))\n",
    "        display(accordionCompletableTime)\n",
    "        def on_selected_index_completable_score_change(change):\n",
    "            n=change['new']\n",
    "            if n!=None:\n",
    "                #close and clear previous fig of completable time\n",
    "                for fig in figCompletableTime:\n",
    "                    plt.close(fig=fig)\n",
    "                figCompletableTime.clear()\n",
    "                #get all players selected\n",
    "                playersSelected=checkboxesPlayersSelected.get_selected_options()\n",
    "                completablesSelectedCompletableTime=getSublistSelectedFromUnionListSelected(completables_times_list, checkboxesCompletableSelected.get_selected_options())\n",
    "                # max, min time per completable\n",
    "                max_times = []\n",
    "                min_times = []\n",
    "                for c in completablesSelectedCompletableTime:\n",
    "                    maximum = 0\n",
    "                    minimum = float('Inf')\n",
    "                    for player in playersSelected:\n",
    "                        if c in players_info[player][\"completables_times\"].keys():\n",
    "                            times = players_info[player][\"completables_times\"][c]\n",
    "                            try:\n",
    "                                if len(times)==2:\n",
    "                                    end_time = times[1]\n",
    "                                    start_time = times[0]\n",
    "                                    raw_total_time = end_time-start_time\n",
    "                                    total_time = raw_total_time.days*24*60+raw_total_time.seconds/60.0 # minutes\n",
    "                                    # update values\n",
    "                                    if total_time > maximum:\n",
    "                                        maximum = total_time\n",
    "                                    if total_time < minimum:\n",
    "                                        minimum = total_time\n",
    "                            except:\n",
    "                                pass\n",
    "                    if minimum==float('Inf'):\n",
    "                        minimum=maximum\n",
    "                    max_times.append(maximum)\n",
    "                    min_times.append(minimum)\n",
    "                N=len(completablesSelectedCompletableTime)\n",
    "                # separe in sub dict in function of xaxisCompletableTime dropout value selected\n",
    "                if xaxisCompletableTime.value==0:  #getAllDataInAListOfList\n",
    "                    completablesSelectedCompletableTime=[completablesSelectedCompletableTime]\n",
    "                    min_times=[min_times]\n",
    "                    max_times=[max_times]\n",
    "                    nbgraphshown=1\n",
    "                elif xaxisCompletableTime.value==-1:  #getnbFirstData\n",
    "                    nb=10\n",
    "                    nbgraphshown=1\n",
    "                    completablesSelectedCompletableTime=[completablesSelectedCompletableTime[:nb]]\n",
    "                    max_times=[max_times[:nb]]\n",
    "                    min_times=[min_times[:nb]]\n",
    "                    if N>nb:\n",
    "                        N=nb\n",
    "                elif xaxisCompletableTime.value==-2:  #getnbLastData\n",
    "                    nb=10\n",
    "                    nbgraphshown=1\n",
    "                    completablesSelectedCompletableTime=[completablesSelectedCompletableTime[-nb:]]\n",
    "                    max_times=[max_times[-nb:]]\n",
    "                    min_times=[min_times[-nb:]]\n",
    "                    if N>nb:\n",
    "                        N=nb\n",
    "                else:   #getxaxisDataSeparatedInListOfLists\n",
    "                    completablesSelectedCompletableTime=separateListToSubListEachXvalues(completablesSelectedCompletableTime,xaxisCompletableTime.value)\n",
    "                    max_times=separateListToSubListEachXvalues(max_times, xaxisCompletableTime.value)\n",
    "                    min_times=separateListToSubListEachXvalues(min_times, xaxisCompletableTime.value)\n",
    "                    N=xaxisCompletableTime.value\n",
    "                    nbgraphshown=len(max_times)\n",
    "                # Bar chart showing for each completable the maximum, minimum and mean time of completion by players.\n",
    "                with accordionCompletableTime.children[n]:\n",
    "                    #create new fig with custom name in the tab\n",
    "                    name=filename+ \"_completable_time\"\n",
    "                    if nbgraphshown>1:\n",
    "                        name+=\"_\"+str(n+1)+\"_\"+str(nbgraphshown)\n",
    "                    fig=plt.figure(num=name, constrained_layout=True)\n",
    "                    fig.canvas.header_visible = False\n",
    "                    fig.canvas.layout.min_height = '400px'\n",
    "                    figCompletableTime.append(fig)\n",
    "                    if len(completablesSelectedCompletableTime)>0 and len(playersSelected)>0:\n",
    "                        # display multibar min max\n",
    "                        if n<nbgraphshown-1:\n",
    "                            index = np.arange(N)\n",
    "                        else:\n",
    "                            index = np.arange(len(completablesSelectedCompletableTime[n]))\n",
    "                        bar_width = 0.35\n",
    "                        times=[max_times,min_times]\n",
    "                        labels=['max', 'min']\n",
    "                        max=0\n",
    "                        for t in times[0][n]:\n",
    "                            if t>max:\n",
    "                                max=t\n",
    "                        max+=5\n",
    "                        for i in range(len(labels)):\n",
    "                            # display bar\n",
    "                            bar=plt.bar(index+i*bar_width, times[i][n], bar_width,\n",
    "                                    label=labels[i],\n",
    "                                    tick_label=completablesSelectedCompletableTime[n])\n",
    "                            ticks_label=completablesSelectedCompletableTime[n]\n",
    "                            add_value_labels(bar)\n",
    "                        plt.ylim(0,max)\n",
    "                        # display legend at a location\n",
    "                        plt.legend(loc='center left', bbox_to_anchor=(1, 0.5))\n",
    "                        plt.gca().axes.set_xticks([x+bar_width/2 for x in range(len(ticks_label))])\n",
    "                        plt.gca().axes.set_xticklabels(ticks_label)\n",
    "                #add title and labels to graph\n",
    "                plt.xlabel(\"Completable\")\n",
    "                plt.ylabel(\"Completion time (in minutes)\")\n",
    "                plt.xticks(rotation=90)\n",
    "                plt.title(\"Max and min completion times per completable\")\n",
    "                plt.show()\n",
    "        accordionCompletableTime.observe(on_selected_index_completable_score_change,'selected_index')\n",
    "        accordionCompletableTime.selected_index=0\n",
    "    else:\n",
    "        #create new fig with custom name in the tab\n",
    "        name=filename+ \"_completable_time\"\n",
    "        fig=plt.figure(num=name, constrained_layout=True)\n",
    "        fig.canvas.header_visible = False\n",
    "        fig.canvas.layout.min_height = '400px'\n",
    "        figCompletableTime.append(fig)\n",
    "        #display no data to fill vis\n",
    "        noDataToFillVis(100)\n",
    "        #add title and labels to graph\n",
    "        plt.xlabel(\"Completable\")\n",
    "        plt.ylabel(\"Completion time (in minutes)\")\n",
    "        plt.xticks(rotation=90)\n",
    "        plt.title(\"Max and min completion times per completable\")\n",
    "        plt.show()\n",
    "    with outputCompletableTimeUpdate:\n",
    "        clear_output(wait=False)"
   ]
  }
 ],
 "metadata": {
  "kernelspec": {
   "display_name": "Python 3",
   "language": "python",
   "name": "python3"
  },
  "language_info": {
   "codemirror_mode": {
    "name": "ipython",
    "version": 3
   },
   "file_extension": ".py",
   "mimetype": "text/x-python",
   "name": "python",
   "nbconvert_exporter": "python",
   "pygments_lexer": "ipython3",
   "version": "3.7.6"
  }
 },
 "nbformat": 4,
 "nbformat_minor": 4
}
