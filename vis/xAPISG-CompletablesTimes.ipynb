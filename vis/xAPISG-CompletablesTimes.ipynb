{
 "cells": [
  {
   "cell_type": "code",
   "execution_count": null,
   "outputs": [],
   "source": [
    "%run vis/xAPISG-noDataToFillVisualization.ipynb # notebook to create the visualisation with a message NoDataToFill"
   ],
   "metadata": {
    "collapsed": false,
    "pycharm": {
     "name": "#%%\n"
    }
   }
  },
  {
   "cell_type": "markdown",
   "metadata": {
    "pycharm": {
     "name": "#%% md\n"
    }
   },
   "source": [
    "***vis_completables_times* function**:\n",
    "* Input: players_info dictionary\n",
    "* Displays bar chart showing for each completable the maximum, minimum and mean time of completion by players"
   ]
  },
  {
   "cell_type": "code",
   "execution_count": null,
   "outputs": [],
   "source": [
    "def vis_completables_times(players_info):\n",
    "    # find full list of completables\n",
    "    completables=set()\n",
    "    for player in players_info.keys():\n",
    "        if players_info[player][\"completables_times\"] != []:\n",
    "            completables = completables.union(players_info[player][\"completables_times\"].keys())\n",
    "    completables = list(completables)\n",
    "\n",
    "    # max, min time per completable\n",
    "    max_times = []\n",
    "    min_times = []\n",
    "    for c in completables:\n",
    "        maximum = 0\n",
    "        minimum = float('Inf')\n",
    "        for player in players_info.keys():\n",
    "            if c in players_info[player][\"completables_times\"].keys():\n",
    "                times = players_info[player][\"completables_times\"][c]\n",
    "                if len(times)==2:\n",
    "                    end_time = times[1]\n",
    "                    start_time = times[0]\n",
    "                    raw_total_time = end_time-start_time\n",
    "                    total_time = raw_total_time.days*24*60+raw_total_time.seconds/60.0 # minutes\n",
    "                    # update values\n",
    "                    if total_time > maximum:\n",
    "                        maximum = total_time\n",
    "                    if total_time < minimum:\n",
    "                        minimum = total_time\n",
    "        max_times.append(maximum)\n",
    "        min_times.append(minimum)\n",
    "        \n",
    "        \n",
    "    # Bar chart showing for each completable the maximum, minimum and mean time of completion by players.\n",
    "    n_groups = len(completables)\n",
    "    if n_groups>0:\n",
    "        fig, ax = plt.subplots()\n",
    "        index = np.arange(n_groups)\n",
    "        bar_width = 0.35\n",
    "    \n",
    "        times=[max_times,min_times]\n",
    "        labels=['max', 'min']\n",
    "\n",
    "        for i in range(len(labels)):\n",
    "            plt.bar(index+i*bar_width, times[i], bar_width, \n",
    "                    label=labels[i], \n",
    "                    tick_label=completables)    \n",
    "        plt.legend(loc='center left', bbox_to_anchor=(1, 0.5))\n",
    "\n",
    "    else:\n",
    "        noDataToFillVis(100)\n",
    "    plt.xlabel(\"Completable\")\n",
    "    plt.ylabel(\"Completion time\")\n",
    "    plt.xticks(rotation=90)\n",
    "    plt.title(\"Max and min completion times per completable\")\n",
    "    plt.show()"
   ],
   "metadata": {
    "collapsed": false,
    "pycharm": {
     "name": "#%%\n"
    }
   }
  },
  {
   "cell_type": "code",
   "execution_count": 1,
   "metadata": {},
   "outputs": [],
   "source": [
    "def vis_completables_times(players_info):\n",
    "    # find full list of completables\n",
    "    completables=set()\n",
    "    for player in players_info.keys():\n",
    "        if players_info[player][\"completables_times\"] != []:\n",
    "            completables = completables.union(players_info[player][\"completables_times\"].keys())\n",
    "    completables = list(completables)\n",
    "\n",
    "    # max, min time per completable\n",
    "    max_times = []\n",
    "    min_times = []\n",
    "    for c in completables:\n",
    "        maximum = 0\n",
    "        minimum = float('Inf')\n",
    "        for player in players_info.keys():\n",
    "            if c in players_info[player][\"completables_times\"].keys():\n",
    "                times = players_info[player][\"completables_times\"][c]\n",
    "                if len(times)==2:\n",
    "                    end_time = times[1]\n",
    "                    start_time = times[0]\n",
    "                    raw_total_time = end_time-start_time\n",
    "                    total_time = raw_total_time.days*24*60+raw_total_time.seconds/60.0 # minutes\n",
    "                    # update values\n",
    "                    if total_time > maximum:\n",
    "                        maximum = total_time\n",
    "                    if total_time < minimum:\n",
    "                        minimum = total_time\n",
    "        max_times.append(maximum)\n",
    "        min_times.append(minimum)\n",
    "        \n",
    "        \n",
    "    # Bar chart showing for each completable the maximum, minimum and mean time of completion by players.\n",
    "    n_groups = len(completables)\n",
    "    if n_groups>0:\n",
    "        fig, ax = plt.subplots()\n",
    "        index = np.arange(n_groups)\n",
    "        bar_width = 0.35\n",
    "    \n",
    "        times=[max_times,min_times]\n",
    "        labels=['max', 'min']\n",
    "\n",
    "        for i in range(len(labels)):\n",
    "            plt.bar(index+i*bar_width, times[i], bar_width, \n",
    "                    label=labels[i], \n",
    "                    tick_label=completables)    \n",
    "        plt.legend(loc='center left', bbox_to_anchor=(1, 0.5))\n",
    "\n",
    "    else:\n",
    "        noDataToFillVis(100)\n",
    "    plt.xlabel(\"Completable\")\n",
    "    plt.ylabel(\"Completion time\")\n",
    "    plt.xticks(rotation=90)\n",
    "    plt.title(\"Max and min completion times per completable\")\n",
    "    plt.show()"
   ]
  }
 ],
 "metadata": {
  "kernelspec": {
   "display_name": "Python 3",
   "language": "python",
   "name": "python3"
  },
  "language_info": {
   "codemirror_mode": {
    "name": "ipython",
    "version": 3
   },
   "file_extension": ".py",
   "mimetype": "text/x-python",
   "name": "python",
   "nbconvert_exporter": "python",
   "pygments_lexer": "ipython3",
   "version": "3.7.6"
  },
  "pycharm": {
   "stem_cell": {
    "cell_type": "raw",
    "source": [],
    "metadata": {
     "collapsed": false
    }
   }
  }
 },
 "nbformat": 4,
 "nbformat_minor": 4
}