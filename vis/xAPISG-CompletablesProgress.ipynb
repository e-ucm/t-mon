{
 "cells": [
  {
   "cell_type": "code",
   "execution_count": null,
   "metadata": {
    "collapsed": false,
    "pycharm": {
     "name": "#%%\n"
    }
   },
   "outputs": [],
   "source": [
    "%run vis/xAPISG-noDataToFillVisualization.ipynb # notebook to create the visualisation with a message NoDataToFill\n",
    "%run vis/helpersFunctions/OrderGraphValuesAndSelectDataByXaxis.ipynb\n",
    "%run vis/helpersFunctions/barCharts.ipynb"
   ]
  },
  {
   "cell_type": "markdown",
   "metadata": {
    "collapsed": false
   },
   "source": [
    "Selectors :\n",
    "   * xaxisCompletableProgress : dropdown value indicating the number of bar per chart (Alls, 5, 25, 50, 10 first, 10 last)\n",
    "   * orderCompletableProgress : dropdown value indicating how to order xlabel : alphabetically or by y value (hight to low or low to hight)"
   ]
  },
  {
   "cell_type": "code",
   "execution_count": null,
   "metadata": {
    "collapsed": false,
    "pycharm": {
     "name": "#%%\n"
    }
   },
   "outputs": [],
   "source": [
    "#constructing a dropdown to select how many data we want to see in visualisations for x axis\n",
    "xaxisCompletableProgress=widgets.Dropdown(options=[('All data',0),('5 per visualisation',5),('25 per visualisation',25),('50 per visualisation',50),('10 first',-1),('10 last',-2)],\n",
    "          description='x axis',\n",
    "          disabled=False)\n",
    "#constructing a dropdown to order for alphabetic keys or for values\n",
    "orderCompletableProgress=widgets.Dropdown(options=[('alphabetic',0),('value from highest to lowest',1),('value from lowest to highest',-1)],\n",
    "          description='Order',\n",
    "          disabled=False)"
   ]
  },
  {
   "cell_type": "markdown",
   "metadata": {
    "pycharm": {
     "name": "#%% md\n"
    }
   },
   "source": [
    "***vis_completables_progress* function**:\n",
    "* Output : the widgets selector and the outputCompletableProgress in a list to be display in a VBox\n",
    "* outputCompletableProgress : display a bar chart showing for each player the progress achieved in the different completables of the game as well as in the total game"
   ]
  },
  {
   "cell_type": "code",
   "execution_count": null,
   "metadata": {
    "collapsed": false,
    "pycharm": {
     "name": "#%%\n"
    }
   },
   "outputs": [],
   "source": [
    "def vis_completables_progress():\n",
    "    def display_completable_progress(change):\n",
    "        with outputCompletableProgress:\n",
    "            clear_output(wait=False)\n",
    "            getProgressPlayerPerCompletable()\n",
    "            clear_output(wait=True)\n",
    "    xaxisCompletableProgress.observe(display_completable_progress,'value')\n",
    "    orderCompletableProgress.observe(display_completable_progress,'value')\n",
    "    display_completable_progress(None)\n",
    "    return [xaxisCompletableProgress, orderCompletableProgress, outputCompletableProgressUpdate, outputCompletableProgress]"
   ]
  },
  {
   "cell_type": "markdown",
   "metadata": {
    "collapsed": false,
    "pycharm": {
     "name": "#%% md\n"
    }
   },
   "source": [
    "***getProgressPlayerPerCompletable* function**:\n",
    "Output : Displays bar chart showing for each player the progress achieved in the different completables of the game as well as in the total game"
   ]
  },
  {
   "cell_type": "code",
   "execution_count": null,
   "metadata": {
    "collapsed": false,
    "pycharm": {
     "name": "#%%\n"
    }
   },
   "outputs": [],
   "source": [
    "def getProgressPlayerPerCompletable():\n",
    "    playersSelected=checkboxesPlayersSelected.get_selected_options()\n",
    "    completableSelectedProgress=getSublistSelectedFromUnionListSelected(completable_progress_list, checkboxesCompletableSelected.get_selected_options())\n",
    "    if len(completableSelectedProgress)>0 and len(playersSelected)>0:\n",
    "        if xaxisCompletableProgress.value in [0,-1,-2]:\n",
    "            nbgraph=1\n",
    "        else:\n",
    "            div=len(completableSelectedProgress)/xaxisCompletableProgress.value\n",
    "            nbgraph=math.ceil(div)\n",
    "        accordionCompletableProgress=widgets.Accordion(children=[widgets.Output() for i in range(nbgraph)],\n",
    "                                         selected_index=None)\n",
    "        if nbgraph>1:\n",
    "            for i in range(nbgraph):\n",
    "                accordionCompletableProgress.set_title(i, str(i+1)+\"/\"+str(nbgraph))\n",
    "        display(accordionCompletableProgress)\n",
    "        def on_selected_index_completable_progress_change(change):\n",
    "            n=change['new']\n",
    "            if n!=None:\n",
    "                #close and clear previous fig of completable progress\n",
    "                for fig in figCompletableProgress:\n",
    "                    plt.close(fig=fig)\n",
    "                figCompletableProgress.clear()\n",
    "                #get all players and completables selected\n",
    "                playersSelected=checkboxesPlayersSelected.get_selected_options()\n",
    "                completableSelectedProgress=getSublistSelectedFromUnionListSelected(completable_progress_list, checkboxesCompletableSelected.get_selected_options())\n",
    "                # get progress values\n",
    "                completab={}\n",
    "                for player in playersSelected:\n",
    "                    if not player in completab.keys():\n",
    "                        completab[player]={}\n",
    "                    if players_info[player][\"completables_progress\"] != {}:\n",
    "                        for c in completableSelectedProgress:\n",
    "                            if c in players_info[player][\"completables_progress\"].keys():\n",
    "                                temp=players_info[player][\"completables_progress\"][c]\n",
    "                                completab[player][c]=temp[len(temp)-1][0]\n",
    "                            else:\n",
    "                                completab[player][c]=0\n",
    "                # progress of each player per completable\n",
    "                players_progress = {}\n",
    "                for player in completab.keys():\n",
    "                    for c in completableSelectedProgress:\n",
    "                        if not c in players_progress.keys():\n",
    "                            players_progress[c] = {}\n",
    "                        if c in completab[player].keys():\n",
    "                            players_progress[c][player] = completab[player][c]*100\n",
    "                        else:\n",
    "                            players_progress[c][player] = 0\n",
    "                #order alls values\n",
    "                ordered_progress = orderDictByDictValues(players_progress,orderCompletableProgress.value)\n",
    "                #get positions of bar dict\n",
    "                pos, bar_width = getPosDictMultiBarChart(ordered_progress,playersSelected)\n",
    "                #separe in sub dict in function of xaxis dropout selected\n",
    "                nbgraphshown, players_progress,N = organizeDictPerxAxisSelected(completableSelectedProgress,\n",
    "                                                                                xaxisCompletableProgress.value,\n",
    "                                                                                players_progress)\n",
    "                # separe positions of bars in sub dict in function of xaxis dropout selected\n",
    "                pos = organizeDictPosPerDataxaxis(xaxisCompletableProgress.value,pos)\n",
    "                with accordionCompletableProgress.children[n]:\n",
    "                    #create new fig with custom name in the tab\n",
    "                    name=filename+ \"_completable_progress\"\n",
    "                    if nbgraphshown>1:\n",
    "                        name+=\"_\"+str(n+1)+\"_\"+str(nbgraphshown)\n",
    "                    fig = plt.figure(num=name, constrained_layout=True)\n",
    "                    fig.canvas.header_visible = False\n",
    "                    fig.canvas.layout.min_height = '400px'\n",
    "                    figCompletableProgress.append(fig)\n",
    "                    # separe in sub dict in function of xaxis dropout selected\n",
    "                    players_progress[n] = reorganiseDictBySubKeys(players_progress[n])\n",
    "                    # display multibar with vertical lines\n",
    "                    constructMultiBarWithVerticalLines(players_progress,n,\n",
    "                                                       playersSelected,\n",
    "                                                       completableSelectedProgress,\n",
    "                                                       pos, bar_width, N)\n",
    "                    #display title and labels\n",
    "                    plt.xlabel(\"Completable\")\n",
    "                    plt.ylabel(\"Progress (in %)\")\n",
    "                    plt.title(\"Progress of players per completable (in %)\")\n",
    "                    plt.show()\n",
    "        accordionCompletableProgress.observe(on_selected_index_completable_progress_change, 'selected_index')\n",
    "        accordionCompletableProgress.selected_index=0\n",
    "    else:\n",
    "        #create new fig with custom name in the tab\n",
    "        name=filename+ \"_completable_progress\"\n",
    "        fig = plt.figure(num=name, constrained_layout=True)\n",
    "        fig.canvas.header_visible = False\n",
    "        fig.canvas.layout.min_height = '400px'\n",
    "        figCompletableProgress.append(fig)\n",
    "        noDataToFillVis(100, True)\n",
    "        #display title and labels\n",
    "        plt.xlabel(\"Completable\")\n",
    "        plt.ylabel(\"Progress (in %)\")\n",
    "        plt.title(\"Progress of players per completable (in %)\")\n",
    "        plt.show()\n",
    "    with outputCompletableProgressUpdate:\n",
    "        clear_output(wait=False)"
   ]
  }
 ],
 "metadata": {
  "kernelspec": {
   "display_name": "Python 3",
   "language": "python",
   "name": "python3"
  },
  "language_info": {
   "codemirror_mode": {
    "name": "ipython",
    "version": 3
   },
   "file_extension": ".py",
   "mimetype": "text/x-python",
   "name": "python",
   "nbconvert_exporter": "python",
   "pygments_lexer": "ipython3",
   "version": "3.7.6"
  }
 },
 "nbformat": 4,
 "nbformat_minor": 4
}
