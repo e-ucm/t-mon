{
 "cells": [
  {
   "cell_type": "markdown",
   "metadata": {},
   "source": [
    "***vis_completables_progress* function**:\n",
    "* Input: players_info dictionary \n",
    "* Displays bar chart showing for each player the progress achieved in the different completables of the game as well as in the total game"
   ]
  },
  {
   "cell_type": "code",
   "execution_count": 1,
   "metadata": {},
   "outputs": [],
   "source": [
    "def vis_completables_progress (players_info):\n",
    "    # find full list of completables\n",
    "    completables=set()\n",
    "    for player in players_info.keys():\n",
    "        if players_info[player][\"completables_progress\"] != []:\n",
    "            completables = completables.union(players_info[player][\"completables_progress\"].keys())\n",
    "    completables = list(completables)\n",
    "\n",
    "    # progress of each player per completable\n",
    "    players_progress = []\n",
    "    for player in players_info.keys():\n",
    "        if players_info[player][\"completables_progress\"] != []:\n",
    "            player_progress = []\n",
    "            for c in completables:\n",
    "                if c in players_info[player][\"completables_progress\"].keys():\n",
    "                    temph=players_info[player][\"completables_progress\"][c]\n",
    "                    if temph>=0 and temph<=1:\n",
    "                        height = temph*100\n",
    "                    else:\n",
    "                        height=0\n",
    "                else:\n",
    "                    height = 0\n",
    "                player_progress.append(height)\n",
    "            players_progress.append(player_progress)\n",
    "    \n",
    "    # Bar chart showing for each player the progress achieved in the different completables of the game as well as in the total game.\n",
    "    n_groups = len(completables)\n",
    "\n",
    "    fig, ax = plt.subplots()\n",
    "    index = np.arange(n_groups)\n",
    "    bar_width = 0.2\n",
    "    if n_groups>0:\n",
    "        for i in range(len(players_progress)):\n",
    "            if len(players_progress[i])>0:\n",
    "                plt.bar(index+i*bar_width, players_progress[i], bar_width, \n",
    "                        label=list(players_info.keys())[i], \n",
    "                        tick_label=completables)        \n",
    "        plt.legend(loc='center left', bbox_to_anchor=(1, 0.5))\n",
    "        plt.xticks(rotation=90)\n",
    "    else:\n",
    "        plt.text(0.5, 50, \n",
    "              \"There is no data to fill the visualization.\",\n",
    "              fontsize=10,\n",
    "              ha='center')\n",
    "        plt.gca().axes.xaxis.set_ticklabels([])\n",
    "    plt.xlabel(\"Completable\")\n",
    "    plt.ylabel(\"Progress (in %)\")\n",
    "    plt.ylim((0,100))\n",
    "    plt.title(\"Progress of players per completable (in %)\")\n",
    "    plt.show()\n",
    "        "
   ]
  }
 ],
 "metadata": {
  "kernelspec": {
   "display_name": "Python 3",
   "language": "python",
   "name": "python3"
  },
  "language_info": {
   "codemirror_mode": {
    "name": "ipython",
    "version": 3
   },
   "file_extension": ".py",
   "mimetype": "text/x-python",
   "name": "python",
   "nbconvert_exporter": "python",
   "pygments_lexer": "ipython3",
   "version": "3.7.6"
  },
  "pycharm": {
   "stem_cell": {
    "cell_type": "raw",
    "source": [],
    "metadata": {
     "collapsed": false
    }
   }
  }
 },
 "nbformat": 4,
 "nbformat_minor": 4
}