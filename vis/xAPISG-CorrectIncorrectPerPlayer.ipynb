{
 "cells": [
  {
   "cell_type": "code",
   "execution_count": null,
   "metadata": {
    "collapsed": true
   },
   "outputs": [],
   "source": [
    "    %run vis/xAPISG-noDataToFillVisualization.ipynb # notebook to create the visualisation with a message NoDataToFill\n",
    "%run vis/helpersFunctions/barCharts.ipynb\n",
    "%run vis/helpersFunctions/OrderGraphValuesAndSelectDataByXaxis.ipynb"
   ]
  },
  {
   "cell_type": "markdown",
   "metadata": {
    "collapsed": false,
    "pycharm": {
     "name": "#%% md\n"
    }
   },
   "source": [
    "Selectors :\n",
    "   * percentageAlternativeResPlayer : checkboxe (T/F) value to display the bar chart in percentage or not\n",
    "   * xaxisAlternativeResPlayer : dropdown value indicating the number of bar per chart (Alls, 5, 25, 50, 10 first, 10 last)\n",
    "   * orderAlternativeResPlayer : dropdown value indicating how to order xlabel : alphabetically or by y value (hight to low or low to hight)\n",
    "   * orderLabelValuesAlternativeResPlayer : dropdown value indicating how to order labels : by the sum of the 2 superposed values or by true or false response"
   ]
  },
  {
   "cell_type": "code",
   "execution_count": null,
   "metadata": {
    "collapsed": false,
    "pycharm": {
     "name": "#%%\n"
    }
   },
   "outputs": [],
   "source": [
    "#constructing a dropdown to select how many data we want to see in visualisations for x axis\n",
    "xaxisAlternativeResPlayer=widgets.Dropdown(options=[('All data',0),('5 per visualisation',5),('25 per visualisation',25),('50 per visualisation',50),('10 first',-1),('10 last',-2)],\n",
    "                            description='x axe',\n",
    "                            disabled=False)\n",
    "#constructing a dropdown to order for alphabetic keys or for values\n",
    "orderAlternativeResPlayer=widgets.Dropdown(options=[('alphabetic',0),('value from highest to lowest',1),('value from lowest to highest',-1)],\n",
    "                            description='Order',\n",
    "                            disabled=False)\n",
    "#constructing a checkboxe to view chart per percentage per player\n",
    "percentageAlternativeResPlayer=widgets.Checkbox(value=False,\n",
    "                                        description='Show % per player')\n",
    "#constructing a dropdown value indicating how to order labels : by the sum of the 2 superposed values or by true or false response\n",
    "orderLabelValuesAlternativeResPlayer=widgets.Dropdown(options=[(\"Order by all true and false responses values\",0),\n",
    "                                                (\"Order by true responses values\",\"true\"),\n",
    "                                                (\"Order by false responses values\",\"false\")],\n",
    "                                        description='Change order label',\n",
    "                                        disabled=False)\n"
   ]
  },
  {
   "cell_type": "markdown",
   "metadata": {
    "collapsed": false
   },
   "source": [
    "***vis_correct_incorrect_player* function**:\n",
    "* Output : the widgets selector and the outputAltPerPlayer in a list to be display in a VBox\n",
    "* outputAltPerPlayer : a bar chart showing for each user the number of correct and incorrect alternatives selected in multiple-choice questions"
   ]
  },
  {
   "cell_type": "code",
   "execution_count": 1,
   "metadata": {
    "collapsed": false,
    "pycharm": {
     "is_executing": false,
     "name": "#%%\n"
    }
   },
   "outputs": [],
   "source": [
    "def vis_correct_incorrect_player():\n",
    "    def display_correct_incorrect_player(change):\n",
    "        if orderAlternativeResPlayer.value==0 or percentageAlternativeResPlayer.value:\n",
    "            orderLabelValuesAlternativeResPlayer.layout=layout_hidden\n",
    "        else:\n",
    "            orderLabelValuesAlternativeResPlayer.layout=layout_visible\n",
    "        with outputAltPerPlayer:\n",
    "            clear_output(wait=False)\n",
    "            construct_correct_incorrect_player()\n",
    "            clear_output(wait=True)\n",
    "    xaxisAlternativeResPlayer.observe(display_correct_incorrect_player, 'value')\n",
    "    orderAlternativeResPlayer.observe(display_correct_incorrect_player, 'value')\n",
    "    percentageAlternativeResPlayer.observe(display_correct_incorrect_player, 'value')\n",
    "    orderLabelValuesAlternativeResPlayer.observe(display_correct_incorrect_player, 'value')\n",
    "    display_correct_incorrect_player(None)\n",
    "    return [percentageAlternativeResPlayer,\n",
    "            xaxisAlternativeResPlayer,\n",
    "            orderAlternativeResPlayer,\n",
    "            orderLabelValuesAlternativeResPlayer,\n",
    "            outputAltPerPlayerUpdate,\n",
    "            outputAltPerPlayer]\n"
   ]
  },
  {
   "cell_type": "markdown",
   "metadata": {
    "collapsed": false
   },
   "source": [
    "***construct_correct_incorrect_player* function**:\n",
    "\n",
    "Output :  Displays bar chart showing for each user the number of correct and incorrect alternatives selected in multiple-choice questions"
   ]
  },
  {
   "cell_type": "code",
   "execution_count": null,
   "metadata": {
    "collapsed": false,
    "pycharm": {
     "name": "#%%\n"
    }
   },
   "outputs": [],
   "source": [
    "def construct_correct_incorrect_player():\n",
    "    #get all players and alternatives selected\n",
    "    playersSelected=checkboxesPlayersSelected.get_selected_options()\n",
    "    alternatives_list_selected=checkboxesAlternativeSelected.get_selected_options()\n",
    "    if len(alternatives_list_selected)>0 and len(playersSelected)>0:\n",
    "        if xaxisAlternativeResPlayer.value in [0,-1,-2]:\n",
    "            nbgraph=1\n",
    "        else:\n",
    "            div=len(playersSelected)/xaxisAlternativeResPlayer.value\n",
    "            nbgraph=math.ceil(div)\n",
    "        accordionResPerPlayer=widgets.Accordion(children=[widgets.Output() for i in range(nbgraph)],\n",
    "                                         selected_index=None)\n",
    "        if nbgraph>1:\n",
    "            for i in range(nbgraph):\n",
    "                accordionResPerPlayer.set_title(i, str(i+1)+\"/\"+str(nbgraph))\n",
    "        display(accordionResPerPlayer)\n",
    "        def on_selected_index_ResPerPlayer_change(change):\n",
    "            n=change['new']\n",
    "            if n!=None:\n",
    "                #close and clear previous fig of alternatives\n",
    "                for fig in figAltPlayer:\n",
    "                    plt.close(fig=fig)\n",
    "                figAltPlayer.clear()\n",
    "                #get all players and alternatives selected\n",
    "                playersSelected=checkboxesPlayersSelected.get_selected_options()\n",
    "                alternatives_list_selected=checkboxesAlternativeSelected.get_selected_options()\n",
    "                true_false_per_player = {}\n",
    "                total_max=0\n",
    "                for player in playersSelected:\n",
    "                    true_false_per_player[player]={}\n",
    "                    if len(players_info[player][\"alternatives\"].keys())>0:\n",
    "                        total_true = 0\n",
    "                        total_false = 0\n",
    "                        for alt in alternatives_list_selected:\n",
    "                            if alt in players_info[player][\"alternatives\"].keys():\n",
    "                                _, results = zip(*players_info[player][\"alternatives\"][alt]) # take only T/F result values\n",
    "                                total_true += results.count(\"True\") + results.count(True)\n",
    "                                total_false += results.count(\"False\") + results.count(False)\n",
    "                                if total_true+total_false>total_max:\n",
    "                                    total_max=total_true+total_false\n",
    "                        true_false_per_player[player][\"true\"]=total_true\n",
    "                        true_false_per_player[player][\"false\"]=total_false\n",
    "                    else:\n",
    "                        true_false_per_player[player][\"true\"]=0\n",
    "                        true_false_per_player[player][\"false\"]=0\n",
    "                total_max+=0.5\n",
    "                #define order of labels values\n",
    "                if orderLabelValuesAlternativeResPlayer.value==0:\n",
    "                    lambdafunc=lambda item:item[1][\"true\"]+item[1][\"false\"]\n",
    "                else:\n",
    "                    lambdafunc=lambda item:item[1][orderLabelValuesAlternativeResPlayer.value]\n",
    "                if percentageAlternativeResPlayer.value:\n",
    "                    lambdafunc=lambda item:item[1][\"true\"]/(item[1][\"true\"]+item[1][\"false\"])\n",
    "                #order alls values\n",
    "                true_false_per_player = orderDict(true_false_per_player,orderAlternativeResPlayer.value,lambdafunc)\n",
    "                #separe in sub dict in  function of xaxis dropout selected\n",
    "                nbgraphshown, true_false_per_player,N = organizeDictPerxAxisSelected(playersSelected,xaxisAlternativeResPlayer.value, true_false_per_player)\n",
    "                with accordionResPerPlayer.children[n]:\n",
    "                    if len(alternatives_list_selected)>0 and len(playersSelected)>0:\n",
    "                        #get value for true and false answer for this graph\n",
    "                        true_per_player=[true_false_per_player[n][player][\"true\"] for player in true_false_per_player[n].keys()]\n",
    "                        false_per_player=[true_false_per_player[n][player][\"false\"] for player in true_false_per_player[n].keys()]\n",
    "                        list_player=[player for player in true_false_per_player[n].keys()]\n",
    "                        if n<nbgraphshown-1:\n",
    "                            ind = np.arange(N)\n",
    "                        else:\n",
    "                            ind = np.arange(len(list_player))\n",
    "                    #create new fig with custom name in the tab\n",
    "                    name=filename+ \"_correct_incorrect_per_player\"\n",
    "                    if nbgraphshown>1:\n",
    "                        name+=\"_\"+str(n+1)+\"_\"+str(nbgraphshown)\n",
    "                    fig = plt.figure(num=name, constrained_layout=True)\n",
    "                    fig.canvas.header_visible = False\n",
    "                    fig.canvas.layout.min_height = '400px'\n",
    "                    figAltPlayer.append(fig)\n",
    "                    #display graph\n",
    "                    if percentageAlternativeResPlayer.value:\n",
    "                        # Bar chart showing for each user the percentage of incorrect alternatives\n",
    "                        # selected in multiple-choice questions\n",
    "                        get_percentage_bar(true_per_player,false_per_player, list_player)\n",
    "                        ylabel=\"percentage of good responses\"\n",
    "                        title=\"Percentage of good responses per player\"\n",
    "                    else:\n",
    "                        # Bar chart showing for each user the number of correct and incorrect alternatives\n",
    "                        # selected in multiple-choice questions\n",
    "                        get_two_superposed_values_bars(ind,list_player,\n",
    "                                                       true_per_player, \"Correct\",'g',\n",
    "                                                       false_per_player, \"Incorrect\",'r')\n",
    "                        ylabel=\"Number of responses\"\n",
    "                        title=\"Correct and incorrect responses per player\"\n",
    "                    #add axes labels and title\n",
    "                    plt.ylabel(ylabel)\n",
    "                    plt.xlabel(\"Player\")\n",
    "                    #orient xticks\n",
    "                    plt.xticks(rotation=90)\n",
    "                    plt.title(title)\n",
    "                    plt.show()\n",
    "        accordionResPerPlayer.observe(on_selected_index_ResPerPlayer_change, 'selected_index')\n",
    "        accordionResPerPlayer.selected_index=0\n",
    "    else:\n",
    "        #create new fig with custom name in the tab\n",
    "        name=filename+ \"_correct_incorrect_per_player\"\n",
    "        fig = plt.figure(num=name, constrained_layout=True)\n",
    "        fig.canvas.header_visible = False\n",
    "        fig.canvas.layout.min_height = '400px'\n",
    "        figAltQuestion.append(fig)\n",
    "        #display no data to fill vis\n",
    "        noDataToFillVis(10)\n",
    "        if percentageAlternativeResPlayer.value:\n",
    "            ylabel=\"Percentage of good responses\"\n",
    "            title=\"Percentage of good responses per player\"\n",
    "        else:\n",
    "            ylabel=\"Number of responses\"\n",
    "            title=\"Number of correct and incorrect responses per player\"\n",
    "        #add axes labels and title\n",
    "        plt.xlabel(\"Player\")\n",
    "        plt.ylabel(ylabel)\n",
    "        plt.title(title)\n",
    "        plt.show()\n",
    "    with outputAltPerPlayerUpdate:\n",
    "        clear_output(wait=False)"
   ]
  }
 ],
 "metadata": {
  "kernelspec": {
   "display_name": "Python 3",
   "language": "python",
   "name": "python3"
  },
  "language_info": {
   "codemirror_mode": {
    "name": "ipython",
    "version": 2
   },
   "file_extension": ".py",
   "mimetype": "text/x-python",
   "name": "python",
   "nbconvert_exporter": "python",
   "pygments_lexer": "ipython2",
   "version": "2.7.6"
  }
 },
 "nbformat": 4,
 "nbformat_minor": 0
}
