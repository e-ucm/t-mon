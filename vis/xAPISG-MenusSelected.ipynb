{
 "cells": [
  {
   "cell_type": "markdown",
   "metadata": {
    "collapsed": true,
    "pycharm": {
     "name": "#%% md\n"
    }
   },
   "source": [
    "***vis_menu_selected* function**:\n",
    "* Input: players_info dictionary\n",
    "* Displays bar chart showing for each menu the number of time each player select an option"
   ]
  },
  {
   "cell_type": "code",
   "execution_count": 2,
   "outputs": [],
   "source": [
    "def vis_menu_selected(players_info):\n",
    "    # find full list of menus\n",
    "    menus=set()\n",
    "    for player in players_info.keys():           \n",
    "        menus = menus.union(players_info[player][\"selected_menus\"].keys())\n",
    "    menus = list(menus)\n",
    "    \n",
    "    nbmenus={}\n",
    "    for menu in menus:\n",
    "            for player in players_info.keys():\n",
    "                if menu in players_info[player][\"selected_menus\"].keys():\n",
    "                    if not menu in nbmenus.keys():\n",
    "                        nbmenus[menu]={}\n",
    "                    for selection in players_info[player][\"selected_menus\"][menu]:\n",
    "                        if not player in nbmenus[menu].keys():\n",
    "                            nbmenus[menu][player]={}\n",
    "                        if not selection in nbmenus[menu][player].keys():\n",
    "                            nbmenus[menu][player][selection]=0\n",
    "                        nbmenus[menu][player][selection]+=len(players_info[player][\"selected_menus\"][menu][selection])\n",
    "    #pprint.pprint(nbmenus)\n",
    "    \n",
    "    # Multiple bar chart showing the response selected in a menu for each personn.\n",
    "    number_of_plots = len(menus)\n",
    "    xfigsize=len(players_info.keys())\n",
    "    if xfigsize!=0 and number_of_plots>1:\n",
    "        for menu in menus:\n",
    "            pd.DataFrame(nbmenus[menu]).plot(kind='bar',title=\"response selected for each person in menu \"+menu)\n",
    "        plt.xticks(rotation=90)\n",
    "        plt.show()"
   ],
   "metadata": {
    "collapsed": false,
    "pycharm": {
     "name": "#%%\n",
     "is_executing": false
    }
   }
  },
  {
   "cell_type": "markdown",
   "source": [],
   "metadata": {
    "collapsed": false,
    "pycharm": {
     "name": "#%% md"
    }
   }
  }
 ],
 "metadata": {
  "kernelspec": {
   "display_name": "Python 3",
   "language": "python",
   "name": "python3"
  },
  "language_info": {
   "codemirror_mode": {
    "name": "ipython",
    "version": 2
   },
   "file_extension": ".py",
   "mimetype": "text/x-python",
   "name": "python",
   "nbconvert_exporter": "python",
   "pygments_lexer": "ipython2",
   "version": "2.7.6"
  },
  "pycharm": {
   "stem_cell": {
    "cell_type": "raw",
    "source": [],
    "metadata": {
     "collapsed": false
    }
   }
  }
 },
 "nbformat": 4,
 "nbformat_minor": 0
}