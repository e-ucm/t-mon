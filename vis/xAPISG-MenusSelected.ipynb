{
 "cells": [
  {
   "cell_type": "markdown",
   "metadata": {
    "collapsed": true,
    "pycharm": {
     "name": "#%% md\n"
    }
   },
   "source": [
    "***vis_menu_selected_interactive* function**\n",
    "* output : the outputMenu in a list to be display in a VBox\n",
    "* outputMenu : display bar chart showing for each menu the number of time each player select an option"
   ]
  },
  {
   "cell_type": "code",
   "execution_count": 2,
   "metadata": {
    "pycharm": {
     "is_executing": false,
     "name": "#%%\n"
    }
   },
   "outputs": [],
   "source": [
    "def vis_menu_selected_interactive():\n",
    "    def display_selected_menu(change):\n",
    "        with outputMenu:\n",
    "            clear_output(wait=False)\n",
    "            vis_menu_selected()\n",
    "            clear_output(wait=True)\n",
    "    display_selected_menu(None)\n",
    "    return [outputMenuUpdate, outputMenu]"
   ]
  },
  {
   "cell_type": "markdown",
   "metadata": {},
   "source": [
    "***vis_menu_selected* function** displays bar chart showing for each menu the number of time each player select an option"
   ]
  },
  {
   "cell_type": "code",
   "execution_count": null,
   "metadata": {
    "pycharm": {
     "name": "#%%\n"
    }
   },
   "outputs": [],
   "source": [
    "%run vis/helpersFunctions/barCharts.ipynb\n",
    "def vis_menu_selected():\n",
    "    #get all players and menus selected\n",
    "    playersSelected=checkboxesPlayersSelected.get_selected_options()\n",
    "    menus=checkboxesSelectedmenus.get_selected_options()\n",
    "    if len(playersSelected)>0 and len(menus)>0:\n",
    "        accordionMenu=widgets.Accordion(children=[widgets.Output() for i in menus],\n",
    "                                                selected_index = None)\n",
    "        for i in range(len(menus)):\n",
    "            accordionMenu.set_title(i, menus[i])\n",
    "        display(accordionMenu)\n",
    "        def on_selected_index_menu_change(change):\n",
    "            #close and clear previous fig of menus\n",
    "            for fig in figBarChartMenu:\n",
    "                plt.close(fig=fig)\n",
    "            figBarChartMenu.clear()\n",
    "            index=change['new']\n",
    "            if index!=None:\n",
    "                #get all players and menus selected\n",
    "                playersSelected=checkboxesPlayersSelected.get_selected_options()\n",
    "                menus=checkboxesSelectedmenus.get_selected_options()\n",
    "                menu=menus[index]\n",
    "                nbmenus={}\n",
    "                for player in playersSelected:\n",
    "                    if menu in players_info[player][\"selected_menus\"].keys():\n",
    "                        if not menu in nbmenus.keys():\n",
    "                            nbmenus[menu]={}\n",
    "                        for selection in players_info[player][\"selected_menus\"][menu]:\n",
    "                            if not player in nbmenus[menu].keys():\n",
    "                                nbmenus[menu][player]={}\n",
    "                            if not selection in nbmenus[menu][player].keys():\n",
    "                                nbmenus[menu][player][selection]=0\n",
    "                            nbmenus[menu][player][selection]+=len(players_info[player][\"selected_menus\"][menu][selection])\n",
    "                with accordionMenu.children[index]:\n",
    "                    clear_output(wait=False)\n",
    "                    #create new fig with custom name in the tab\n",
    "                    name=filename+\"_response_selected_for_each_person_in_menu_\"+menu\n",
    "                    fig, ax = plt.subplots(1, num=name, constrained_layout=True)\n",
    "                    fig.canvas.header_visible = False\n",
    "                    fig.canvas.layout.min_height = '400px'\n",
    "                    figBarChartMenu.append(fig)\n",
    "                    max=0\n",
    "                    for player in nbmenus[menu].keys():\n",
    "                        for selection in nbmenus[menu][player].keys():\n",
    "                            temp=nbmenus[menu][player][selection]\n",
    "                            if temp>max:\n",
    "                                max=temp\n",
    "                    max+=0.5\n",
    "                    bar=pd.DataFrame(nbmenus[menu]).plot(kind='bar', ax=ax, title=\"Response selected for each person in menu \"+menu)\n",
    "                    add_value_labels(bar.patches)\n",
    "                    plt.xticks(rotation=90)\n",
    "                    plt.ylim(0,max)\n",
    "                    plt.show()\n",
    "        accordionMenu.observe(on_selected_index_menu_change, 'selected_index')\n",
    "    else:\n",
    "        name=filename+\"_response_selected_for_each_person_in_menu\"\n",
    "        fig = plt.figure(num=name, constrained_layout=True)\n",
    "        fig.canvas.header_visible = False\n",
    "        fig.canvas.layout.min_height = '400px'\n",
    "        figBarChartMenu.append(fig)\n",
    "        noDataToFillVis(10)\n",
    "        plt.ylabel(\"Number of times\")\n",
    "        plt.xlabel(\"Option selected\")\n",
    "        plt.title(\"Response selected for each person in menu\")\n",
    "        plt.show()\n",
    "    with outputMenuUpdate:\n",
    "        clear_output(wait=False)"
   ]
  }
 ],
 "metadata": {
  "kernelspec": {
   "display_name": "Python 3",
   "language": "python",
   "name": "python3"
  },
  "language_info": {
   "codemirror_mode": {
    "name": "ipython",
    "version": 3
   },
   "file_extension": ".py",
   "mimetype": "text/x-python",
   "name": "python",
   "nbconvert_exporter": "python",
   "pygments_lexer": "ipython3",
   "version": "3.7.6"
  }
 },
 "nbformat": 4,
 "nbformat_minor": 1
}
