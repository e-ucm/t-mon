{
 "cells": [
  {
   "cell_type": "markdown",
   "source": [
    "***vis_accessibles_times* function**:\n",
    "* Input: players_info dictionary\n",
    "* Displays bar chart showing for each accessed the number of accessibles by players"
   ],
   "metadata": {
    "collapsed": false
   }
  },
  {
   "cell_type": "code",
   "execution_count": 2,
   "outputs": [],
   "source": [
    "def vis_accessibles_times(players_info):\n",
    "    accessibles=find_list_accessible(players_info)\n",
    "    # nber of timme the player acces to a zoner\n",
    "    nbaccessibles={}\n",
    "    for accessible in accessibles:\n",
    "        nbaccessibles[accessible]={}\n",
    "        for player in players_info.keys():\n",
    "            if accessible in players_info[player][\"accessible\"].keys():\n",
    "                nbaccessibles[accessible][player]=len(players_info[player][\"accessible\"][accessible])\n",
    "    #print(nbaccessibles)\n",
    "   \n",
    "    ## Multiple bar chart showing the accessible acessed for each personn.\n",
    "    number_of_plots = len(accessibles)\n",
    "    xfigsize=len(players_info.keys())\n",
    "    yfigsize=number_of_plots*10\n",
    "    if number_of_plots==1:\n",
    "        for accessible in nbaccessibles:\n",
    "            plt.bar(range(len(nbaccessibles[accessible])), \n",
    "                          nbaccessibles[accessible].values(),\n",
    "                           tick_label=list(nbaccessibles[accessible].keys()))\n",
    "        plt.show()\n",
    "    elif xfigsize!=0 and number_of_plots>1:\n",
    "        fig, axs = plt.subplots(number_of_plots, figsize=(xfigsize,yfigsize), sharex=True)\n",
    "        i = 0\n",
    "        for accessible in nbaccessibles.keys():\n",
    "            if len(nbaccessibles[accessible])>0:\n",
    "                axs[i].bar(range(len(nbaccessibles[accessible])), \n",
    "                           nbaccessibles[accessible].values(),\n",
    "                           tick_label=list(nbaccessibles[accessible].keys()))\n",
    "                axs[i].set_title('Accessed area'+accessible,fontsize=50)\n",
    "                i += 1\n",
    "        # Hide x labels and tick labels for top plots and y ticks for right plots.\n",
    "        for ax in axs.flat:\n",
    "            ax.label_outer()\n",
    "            for tick in ax.yaxis.get_majorticklabels():\n",
    "                tick.set_fontsize(35)\n",
    "        plt.xticks(rotation=90, fontsize=45)\n",
    "        plt.tight_layout(pad=0.4, w_pad=0.5, h_pad=1.0)\n",
    "        plt.show()\n",
    "   \n",
    "def vis_accessibles_times_headmap(players_info):\n",
    "    label_accessible=find_list_accessible(players_info)\n",
    "    nbaccessibles=[]\n",
    "    label_players=list(players_info.keys())\n",
    "    i=0\n",
    "    for accessible in label_accessible:\n",
    "        nbaccessibles.insert(i,[])\n",
    "        j=0\n",
    "        for player in players_info.keys():\n",
    "            nb=0\n",
    "            if accessible in players_info[player][\"accessible\"].keys():\n",
    "                nbaccessibles[i].insert(j,int(len(players_info[player][\"accessible\"][accessible])))\n",
    "            else:\n",
    "                nbaccessibles[i].insert(j,0)\n",
    "            j+=1\n",
    "        i+=1\n",
    "    #nbaccessibles=np.array(nbaccessibles)\n",
    "    #print(nbaccessibles)\n",
    "    #print(nbaccessibles.dtype)\n",
    "    #print(label_accessible)\n",
    "    #print(label_players)\n",
    "    ## Now use the seaborn heatmap function to plot the results\n",
    "    fig, ax = plt.subplots(figsize=(len(label_players)*3,len(label_accessible)*2))\n",
    "    im = ax.imshow(nbaccessibles, cmap='cool', interpolation='nearest')\n",
    "    cbar=plt.colorbar(im)\n",
    "    cbar.ax.tick_params(labelsize=len(label_accessible)*3)\n",
    "    # We want to show all ticks...\n",
    "    ax.set_xticks(np.arange(len(label_players)))\n",
    "    ax.set_yticks(np.arange(len(label_accessible)))\n",
    "    # ... and label them with the respective list entries\n",
    "    ax.set_xticklabels(label_players, fontsize=len(label_accessible)*3)\n",
    "    ax.set_yticklabels(label_accessible, fontsize=len(label_accessible)*3)\n",
    "    \n",
    "    # Rotate the tick labels and set their alignment.\n",
    "    plt.setp(ax.get_xticklabels(), rotation=45, ha=\"right\",\n",
    "         rotation_mode=\"anchor\")\n",
    "    plt.show()\n",
    "        \n",
    "def find_list_accessible(players_info): \n",
    "    # find full list of accessibles\n",
    "    accessibles=set()\n",
    "    for player in players_info.keys():\n",
    "        if players_info[player][\"accessible\"] != {}:                \n",
    "            accessibles = accessibles.union(players_info[player][\"accessible\"].keys())\n",
    "    accessibles = list(accessibles)\n",
    "    #print(items)\n",
    "    return accessibles"
   ],
   "metadata": {
    "collapsed": false,
    "pycharm": {
     "name": "#%%\n",
     "is_executing": false
    }
   }
  },
  {
   "cell_type": "code",
   "execution_count": 1,
   "outputs": [],
   "source": [
    "\n"
   ],
   "metadata": {
    "collapsed": false,
    "pycharm": {
     "name": "#%%\n",
     "is_executing": false
    }
   }
  }
 ],
 "metadata": {
  "kernelspec": {
   "display_name": "Python 3",
   "language": "python",
   "name": "python3"
  },
  "language_info": {
   "codemirror_mode": {
    "name": "ipython",
    "version": 2
   },
   "file_extension": ".py",
   "mimetype": "text/x-python",
   "name": "python",
   "nbconvert_exporter": "python",
   "pygments_lexer": "ipython2",
   "version": "2.7.6"
  },
  "pycharm": {
   "stem_cell": {
    "cell_type": "raw",
    "source": [],
    "metadata": {
     "collapsed": false
    }
   }
  }
 },
 "nbformat": 4,
 "nbformat_minor": 0
}