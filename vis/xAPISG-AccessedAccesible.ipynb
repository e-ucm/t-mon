{
 "cells": [
  {
   "cell_type": "markdown",
   "source": [
    "***vis_accessibles_times* function**:\n",
    "* Input: players_info dictionary\n",
    "* Displays bar chart showing for each accessed the number of accessibles by players"
   ],
   "metadata": {
    "collapsed": false
   }
  },
  {
   "cell_type": "code",
   "execution_count": null,
   "outputs": [],
   "source": [
    "def vis_accessibles_times(players_info):\n",
    "    # find full list of items\n",
    "    accessibles=set()\n",
    "    for player in players_info.keys():\n",
    "        if players_info[player][\"accessible\"] != {}:                \n",
    "            accessibles = accessibles.union(players_info[player][\"accessible\"].keys())\n",
    "    accessibles = list(accessibles)\n",
    "    #print(items)\n",
    "\n",
    "    # nber of item per player\n",
    "    nbaccessibles={}\n",
    "    for accessible in accessibles:\n",
    "        nbaccessibles[accessible]={}\n",
    "        for player in players_info.keys():\n",
    "            if accessible in players_info[player][\"accessible\"].keys():\n",
    "                nbaccessibles[accessible][player]=len(players_info[player][\"accessible\"][accessible])\n",
    "    print(nbaccessibles)\n",
    "   \n",
    "    ## Multiple bar chart showing the accessible acessed for each personn.\n",
    "    number_of_plots = len(accessibles)\n",
    "    xfigsize=len(players_info.keys())\n",
    "    yfigsize=number_of_plots*10\n",
    "    #if number_of_plots==1:\n",
    "    #    for player in nbitems:\n",
    "    #        plt.bar(range(len(nbitems[player])), \n",
    "    #                      nbitems[player].values(),\n",
    "    #                       tick_label=list(nbitems[player].keys()))\n",
    "    #    plt.show()\n",
    "    #elif xfigsize!=0 and number_of_plots>1:\n",
    "    fig, axs = plt.subplots(number_of_plots, figsize=(xfigsize,yfigsize), sharex=True)\n",
    "    i = 0\n",
    "    for accessible in nbaccessibles.keys():\n",
    "        if len(nbaccessibles[accessible])>0:\n",
    "            axs[i].bar(range(len(nbaccessibles[accessible])), \n",
    "                       nbaccessibles[accessible].values(),\n",
    "                       tick_label=list(nbaccessibles[accessible].keys()))\n",
    "            axs[i].set_title('Accessed area'+accessible,fontsize=50)\n",
    "            i += 1\n",
    "    # Hide x labels and tick labels for top plots and y ticks for right plots.\n",
    "    for ax in axs.flat:\n",
    "        ax.label_outer()\n",
    "        for tick in ax.yaxis.get_majorticklabels():\n",
    "            tick.set_fontsize(35)\n",
    "    plt.xticks(rotation=90, fontsize=45)\n",
    "    plt.tight_layout(pad=0.4, w_pad=0.5, h_pad=1.0)\n",
    "    plt.show()"
   ],
   "metadata": {
    "collapsed": false,
    "pycharm": {
     "name": "#%%\n"
    }
   }
  },
  {
   "cell_type": "code",
   "execution_count": null,
   "metadata": {
    "collapsed": true
   },
   "outputs": [],
   "source": [
    "\n"
   ]
  }
 ],
 "metadata": {
  "kernelspec": {
   "display_name": "Python 3",
   "language": "python",
   "name": "python3"
  },
  "language_info": {
   "codemirror_mode": {
    "name": "ipython",
    "version": 2
   },
   "file_extension": ".py",
   "mimetype": "text/x-python",
   "name": "python",
   "nbconvert_exporter": "python",
   "pygments_lexer": "ipython2",
   "version": "2.7.6"
  },
  "pycharm": {
   "stem_cell": {
    "cell_type": "raw",
    "source": [],
    "metadata": {
     "collapsed": false
    }
   }
  }
 },
 "nbformat": 4,
 "nbformat_minor": 0
}