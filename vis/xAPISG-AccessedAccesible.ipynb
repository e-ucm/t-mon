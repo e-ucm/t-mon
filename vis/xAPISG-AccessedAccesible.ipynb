{
 "cells": [
  {
   "cell_type": "markdown",
   "source": [
    "***vis_accessibles_times* function**:\n",
    "* Input: players_info dictionary\n",
    "* Displays bar chart showing for each accessed the number of accessibles by players"
   ],
   "metadata": {
    "collapsed": false
   }
  },
  {
   "cell_type": "code",
   "execution_count": 2,
   "outputs": [],
   "source": [
    "def vis_accessibles_times(players_info):\n",
    "    accessibles=find_list_accessible(players_info)\n",
    "    # nber of time the player acces to a zone\n",
    "    nbaccessibles=constructMultiTab(players_info, accessibles, \"accessible\")\n",
    "    # Multiple bar chart showing the items selected for each personn.\n",
    "    if len(nbitems)>0:\n",
    "        multiBarSeparated(nbitems, \"Accessed accessible \", \"Players\", \"Numbers of accessed\")\n",
    "    else:\n",
    "        noDataToFillVis(10)\n",
    "        plt.title(\"Accessed accessible\")\n",
    "        plt.xlabel(\"Players\")\n",
    "        plt.ylabel(\"Numbers of accessed\")\n",
    "        plt.show()"
   ],
   "metadata": {
    "collapsed": false,
    "pycharm": {
     "name": "#%%\n",
     "is_executing": false
    }
   }
  },
  {
   "cell_type": "markdown",
   "source": [
    "***vis_accessibles_times_heatMap* function**:\n",
    "* Input: players_info dictionary\n",
    "* Displays heatmap showing for each accessed the number of accessibles by players"
   ],
   "metadata": {
    "collapsed": false
   }
  },
  {
   "cell_type": "code",
   "execution_count": null,
   "outputs": [],
   "source": [
    "def vis_accessibles_times_heatMap(players_info):\n",
    "    label_accessible=find_list_accessible(players_info)\n",
    "    label_players=list(players_info.keys())\n",
    "    nbaccessibles=constructHeatMap(players_info, label_accessible, \"accessible\", True)\n",
    "    ## Now use the heatmap function to plot the results\n",
    "    if len(label_players)>0 and len(label_accessible)>0:\n",
    "        heatMap(nbaccessibles, label_players, label_accessible)\n",
    "        font=len(label_accessible)\n",
    "    else:\n",
    "        noDataToFillVis(10)\n",
    "        font=10\n",
    "    plt.xlabel(\"Players\", fontsize=font)\n",
    "    plt.ylabel(\"Accessibles\", fontsize=font)\n",
    "    plt.title(\"Heatmap showing accessed accesible by players\", fontsize=font*1.5)\n",
    "    plt.show()"
   ],
   "metadata": {
    "collapsed": false,
    "pycharm": {
     "name": "#%%\n"
    }
   }
  },
  {
   "cell_type": "markdown",
   "source": [
    "***find_list_accessible* function**:\n",
    "* Input: players_info dictionary\n",
    "* Output : list of accessibles "
   ],
   "metadata": {
    "collapsed": false
   }
  },
  {
   "cell_type": "code",
   "execution_count": null,
   "outputs": [],
   "source": [
    "def find_list_accessible(players_info): \n",
    "    # find full list of accessibles\n",
    "    accessibles=set()\n",
    "    for player in players_info.keys():\n",
    "        if players_info[player][\"accessible\"] != {}:                \n",
    "            accessibles = accessibles.union(players_info[player][\"accessible\"].keys())\n",
    "    accessibles = list(accessibles)\n",
    "    #print(items)\n",
    "    return accessibles\n",
    "\n"
   ],
   "metadata": {
    "collapsed": false,
    "pycharm": {
     "name": "#%%      \n"
    }
   }
  }
 ],
 "metadata": {
  "kernelspec": {
   "display_name": "Python 3",
   "language": "python",
   "name": "python3"
  },
  "language_info": {
   "codemirror_mode": {
    "name": "ipython",
    "version": 2
   },
   "file_extension": ".py",
   "mimetype": "text/x-python",
   "name": "python",
   "nbconvert_exporter": "python",
   "pygments_lexer": "ipython2",
   "version": "2.7.6"
  },
  "pycharm": {
   "stem_cell": {
    "cell_type": "raw",
    "source": [],
    "metadata": {
     "collapsed": false
    }
   }
  }
 },
 "nbformat": 4,
 "nbformat_minor": 0
}